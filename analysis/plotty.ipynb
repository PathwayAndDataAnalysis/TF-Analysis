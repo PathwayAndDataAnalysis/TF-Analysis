{
 "cells": [
  {
   "cell_type": "code",
   "execution_count": 37,
   "metadata": {
    "collapsed": true,
    "ExecuteTime": {
     "end_time": "2023-07-27T20:54:50.166082008Z",
     "start_time": "2023-07-27T20:54:50.158281302Z"
    }
   },
   "outputs": [],
   "source": [
    "import pandas as pd\n",
    "import numpy as np\n",
    "import matplotlib.pyplot as plt\n",
    "import statsmodels.stats.multitest as smm\n",
    "from matplotlib.backends.backend_pdf import PdfPages\n"
   ]
  },
  {
   "cell_type": "code",
   "execution_count": 38,
   "outputs": [],
   "source": [
    "def run_bh(pValDf):\n",
    "    pValDf = np.abs(pValDf)\n",
    "    adjustedPVals = pd.DataFrame(columns=pValDf.columns, index=pValDf.index)\n",
    "    actRej = pd.DataFrame(columns=pValDf.columns, index=pValDf.index)\n",
    "\n",
    "    for (tf, pVals) in pValDf.items():\n",
    "        pVals = pVals.dropna()\n",
    "        pV_df = pd.DataFrame(index=pVals.index, columns=['pVal'], data=pVals.values)\n",
    "        pV_df.sort_values(by='pVal', inplace=True)\n",
    "\n",
    "        reject, adj_p_val = smm.fdrcorrection(pV_df['pVal'].values, method='i', is_sorted=True, alpha=0.1)\n",
    "        pV_df[tf] = adj_p_val\n",
    "\n",
    "        adjustedPVals.loc[pV_df.index.values, tf] = pV_df[tf].values\n",
    "        actRej.loc[pV_df.index.values, tf] = reject\n",
    "\n",
    "    return adjustedPVals, actRej"
   ],
   "metadata": {
    "collapsed": false,
    "ExecuteTime": {
     "end_time": "2023-07-27T20:54:50.733316461Z",
     "start_time": "2023-07-27T20:54:50.727393556Z"
    }
   }
  },
  {
   "cell_type": "code",
   "execution_count": 39,
   "outputs": [],
   "source": [
    "p_val_file = 'data/p-values_1000000_v2_shuffle.tsv'\n",
    "\n",
    "pval_df = pd.read_csv(p_val_file, sep='\\t', index_col=0)\n",
    "adjP, acptRej = run_bh(pval_df)\n",
    "\n",
    "acptRej.replace(True, 1, inplace=True)\n",
    "acptRej.replace(False, 0, inplace=True)"
   ],
   "metadata": {
    "collapsed": false,
    "ExecuteTime": {
     "end_time": "2023-07-27T20:54:51.641142063Z",
     "start_time": "2023-07-27T20:54:51.403439813Z"
    }
   }
  },
  {
   "cell_type": "code",
   "execution_count": 12,
   "outputs": [],
   "source": [],
   "metadata": {
    "collapsed": false,
    "ExecuteTime": {
     "end_time": "2023-07-27T20:26:35.594446809Z",
     "start_time": "2023-07-27T20:26:35.556145391Z"
    }
   }
  },
  {
   "cell_type": "code",
   "execution_count": 84,
   "outputs": [
    {
     "name": "stderr",
     "output_type": "stream",
     "text": [
      "/tmp/ipykernel_795298/3159585925.py:23: RuntimeWarning: More than 20 figures have been opened. Figures created through the pyplot interface (`matplotlib.pyplot.figure`) are retained until explicitly closed and may consume too much memory. (To control this warning, see the rcParam `figure.max_open_warning`). Consider using `matplotlib.pyplot.close()`.\n",
      "  plt.figure(figsize=(10, 10))\n"
     ]
    }
   ],
   "source": [
    "p_value_file = 'data/p-values_10000.tsv'\n",
    "umap_file = 'data/_umap.tsv'\n",
    "dest_file = 'data/plots10k.pdf'\n",
    "\n",
    "p_value_df = pd.read_csv(p_value_file, sep='\\t', index_col=0)\n",
    "\n",
    "adjP, acptRej = run_bh(p_value_df)\n",
    "umap_df = pd.read_csv(umap_file, sep='\\t', index_col=0)\n",
    "\n",
    "figures = []\n",
    "\n",
    "# Sort columns of acptRej by number of True values\n",
    "acptRej = acptRej[acptRej.sum().sort_values(ascending=False).index]\n",
    "\n",
    "acptRej.replace(True, -1, inplace=True)\n",
    "acptRej.replace(False, 1, inplace=True)\n",
    "acptRej.replace(np.nan, 0, inplace=True)\n",
    "\n",
    "count = 0\n",
    "\n",
    "# Run loop through columns and index of acptRej\n",
    "for (tft, cells) in acptRej.items():\n",
    "    plt.figure(figsize=(10, 10))\n",
    "    # plt.style.use('seaborn-whitegrid')\n",
    "\n",
    "    # Count number of 1s and -1s in cells\n",
    "    total_cell = cells.count() - cells[cells == 0].count()\n",
    "\n",
    "    plt.title(\n",
    "        tft + ', Total cells: ' + str(total_cell) + ', Activated cells: ' + str(cells[cells == 1].count()))\n",
    "    plt.xlabel('UMAP1')\n",
    "    plt.ylabel('UMAP2')\n",
    "\n",
    "    cell_coord = umap_df.merge(cells, left_index=True, right_index=True)\n",
    "    cell_coord['p-value'] = p_value_df[tft]\n",
    "    cell_coord['logp-value'] = cell_coord['p-value'].apply(lambda x: np.sign(x) * -np.log(np.abs(x)))\n",
    "    # cell_coord['logp-value'].replace(np.nan, 0, inplace=True)\n",
    "\n",
    "    plt.scatter(x=cell_coord['UMAP1'], y=cell_coord['UMAP2'], c=cell_coord['logp-value'], cmap='coolwarm', s=1)\n",
    "    plt.colorbar()\n",
    "\n",
    "    figures.append(plt.gcf())\n",
    "\n",
    "    count += 1\n",
    "    if count == 50:\n",
    "        break\n",
    "\n",
    "with PdfPages(dest_file) as pdf:\n",
    "    for fig in figures:\n",
    "        pdf.savefig(fig)\n",
    "\n",
    "plt.close('all')"
   ],
   "metadata": {
    "collapsed": false,
    "ExecuteTime": {
     "end_time": "2023-07-27T17:44:21.738677916Z",
     "start_time": "2023-07-27T17:43:50.275830377Z"
    }
   }
  },
  {
   "cell_type": "code",
   "execution_count": 78,
   "outputs": [
    {
     "data": {
      "text/plain": "midpoint_AAACCTGCACCCAGTG-1       NaN\nmidpoint_AAACCTGCAGCTTAAC-1    0.6616\nmidpoint_AAACCTGGTGTGCGTC-1    0.8900\nmidpoint_AAACCTGGTTGAACTC-1    0.9664\nmidpoint_AAACGGGAGGATGGTC-1    0.4132\n                                ...  \ntumor_TTTCCTCGTATGCTTG-1       0.0316\ntumor_TTTGCGCCACGGTTTA-1       0.0288\ntumor_TTTGGTTCAGCCTGTG-1       0.0540\ntumor_TTTGGTTCAGTGAGTG-1       0.0288\ntumor_TTTGGTTGTGCAACTT-1       0.0344\nName: A2M, Length: 4797, dtype: float64"
     },
     "execution_count": 78,
     "metadata": {},
     "output_type": "execute_result"
    }
   ],
   "source": [
    "a2m = p_value_df['A2M']\n",
    "a2m"
   ],
   "metadata": {
    "collapsed": false,
    "ExecuteTime": {
     "end_time": "2023-07-27T16:16:43.774239854Z",
     "start_time": "2023-07-27T16:16:43.733078077Z"
    }
   }
  },
  {
   "cell_type": "code",
   "execution_count": 79,
   "outputs": [
    {
     "data": {
      "text/plain": "midpoint_AAACCTGCAGCTTAAC-1    0.6616\nmidpoint_AAACCTGGTGTGCGTC-1    0.8900\nmidpoint_AAACCTGGTTGAACTC-1    0.9664\nmidpoint_AAACGGGAGGATGGTC-1    0.4132\nmidpoint_AAACGGGAGGGCTCTC-1    0.4737\n                                ...  \ntumor_TTTCCTCGTATGCTTG-1       0.0316\ntumor_TTTGCGCCACGGTTTA-1       0.0288\ntumor_TTTGGTTCAGCCTGTG-1       0.0540\ntumor_TTTGGTTCAGTGAGTG-1       0.0288\ntumor_TTTGGTTGTGCAACTT-1       0.0344\nName: A2M, Length: 3073, dtype: float64"
     },
     "execution_count": 79,
     "metadata": {},
     "output_type": "execute_result"
    }
   ],
   "source": [
    "a2m = a2m.dropna()\n",
    "a2m"
   ],
   "metadata": {
    "collapsed": false,
    "ExecuteTime": {
     "end_time": "2023-07-27T16:17:38.124179325Z",
     "start_time": "2023-07-27T16:17:38.103842394Z"
    }
   }
  },
  {
   "cell_type": "code",
   "execution_count": 16,
   "outputs": [
    {
     "data": {
      "text/plain": "[0.0005,\n 0.0015,\n 0.0025,\n 0.0035,\n 0.0045,\n 0.0055,\n 0.0065,\n 0.0075,\n 0.0085,\n 0.0095,\n 0.0105,\n 0.0115,\n 0.0125,\n 0.0135,\n 0.0145,\n 0.0155,\n 0.0165,\n 0.0175,\n 0.0185,\n 0.0195,\n 0.0205,\n 0.0215,\n 0.0225,\n 0.0235,\n 0.0245,\n 0.0255,\n 0.0265,\n 0.0275,\n 0.0285,\n 0.0295,\n 0.0305,\n 0.0315,\n 0.0325,\n 0.0335,\n 0.0345,\n 0.0355,\n 0.0365,\n 0.0375,\n 0.0385,\n 0.0395,\n 0.0405,\n 0.0415,\n 0.0425,\n 0.0435,\n 0.0445,\n 0.0455,\n 0.0465,\n 0.0475,\n 0.0485,\n 0.0495,\n 0.0505,\n 0.0515,\n 0.0525,\n 0.0535,\n 0.0545,\n 0.0555,\n 0.0565,\n 0.0575,\n 0.0585,\n 0.0595,\n 0.0605,\n 0.0615,\n 0.0625,\n 0.0635,\n 0.0645,\n 0.0655,\n 0.0665,\n 0.0675,\n 0.0685,\n 0.0695,\n 0.0705,\n 0.0715,\n 0.0725,\n 0.0735,\n 0.0745,\n 0.0755,\n 0.0765,\n 0.0775,\n 0.0785,\n 0.0795,\n 0.0805,\n 0.0815,\n 0.0825,\n 0.0835,\n 0.0845,\n 0.0855,\n 0.0865,\n 0.0875,\n 0.0885,\n 0.0895,\n 0.0905,\n 0.0915,\n 0.0925,\n 0.0935,\n 0.0945,\n 0.0955,\n 0.0965,\n 0.0975,\n 0.0985,\n 0.0995,\n 0.1005,\n 0.1015,\n 0.1025,\n 0.1035,\n 0.1045,\n 0.1055,\n 0.1065,\n 0.1075,\n 0.1085,\n 0.1095,\n 0.1105,\n 0.1115,\n 0.1125,\n 0.1135,\n 0.1145,\n 0.1155,\n 0.1165,\n 0.1175,\n 0.1185,\n 0.1195,\n 0.1205,\n 0.1215,\n 0.1225,\n 0.1235,\n 0.1245,\n 0.1255,\n 0.1265,\n 0.1275,\n 0.1285,\n 0.1295,\n 0.1305,\n 0.1315,\n 0.1325,\n 0.1335,\n 0.1345,\n 0.1355,\n 0.1365,\n 0.1375,\n 0.1385,\n 0.1395,\n 0.1405,\n 0.1415,\n 0.1425,\n 0.1435,\n 0.1445,\n 0.1455,\n 0.1465,\n 0.1475,\n 0.1485,\n 0.1495,\n 0.1505,\n 0.1515,\n 0.1525,\n 0.1535,\n 0.1545,\n 0.1555,\n 0.1565,\n 0.1575,\n 0.1585,\n 0.1595,\n 0.1605,\n 0.1615,\n 0.1625,\n 0.1635,\n 0.1645,\n 0.1655,\n 0.1665,\n 0.1675,\n 0.1685,\n 0.1695,\n 0.1705,\n 0.1715,\n 0.1725,\n 0.1735,\n 0.1745,\n 0.1755,\n 0.1765,\n 0.1775,\n 0.1785,\n 0.1795,\n 0.1805,\n 0.1815,\n 0.1825,\n 0.1835,\n 0.1845,\n 0.1855,\n 0.1865,\n 0.1875,\n 0.1885,\n 0.1895,\n 0.1905,\n 0.1915,\n 0.1925,\n 0.1935,\n 0.1945,\n 0.1955,\n 0.1965,\n 0.1975,\n 0.1985,\n 0.1995,\n 0.2005,\n 0.2015,\n 0.2025,\n 0.2035,\n 0.2045,\n 0.2055,\n 0.2065,\n 0.2075,\n 0.2085,\n 0.2095,\n 0.2105,\n 0.2115,\n 0.2125,\n 0.2135,\n 0.2145,\n 0.2155,\n 0.2165,\n 0.2175,\n 0.2185,\n 0.2195,\n 0.2205,\n 0.2215,\n 0.2225,\n 0.2235,\n 0.2245,\n 0.2255,\n 0.2265,\n 0.2275,\n 0.2285,\n 0.2295,\n 0.2305,\n 0.2315,\n 0.2325,\n 0.2335,\n 0.2345,\n 0.2355,\n 0.2365,\n 0.2375,\n 0.2385,\n 0.2395,\n 0.2405,\n 0.2415,\n 0.2425,\n 0.2435,\n 0.2445,\n 0.2455,\n 0.2465,\n 0.2475,\n 0.2485,\n 0.2495,\n 0.2505,\n 0.2515,\n 0.2525,\n 0.2535,\n 0.2545,\n 0.2555,\n 0.2565,\n 0.2575,\n 0.2585,\n 0.2595,\n 0.2605,\n 0.2615,\n 0.2625,\n 0.2635,\n 0.2645,\n 0.2655,\n 0.2665,\n 0.2675,\n 0.2685,\n 0.2695,\n 0.2705,\n 0.2715,\n 0.2725,\n 0.2735,\n 0.2745,\n 0.2755,\n 0.2765,\n 0.2775,\n 0.2785,\n 0.2795,\n 0.2805,\n 0.2815,\n 0.2825,\n 0.2835,\n 0.2845,\n 0.2855,\n 0.2865,\n 0.2875,\n 0.2885,\n 0.2895,\n 0.2905,\n 0.2915,\n 0.2925,\n 0.2935,\n 0.2945,\n 0.2955,\n 0.2965,\n 0.2975,\n 0.2985,\n 0.2995,\n 0.3005,\n 0.3015,\n 0.3025,\n 0.3035,\n 0.3045,\n 0.3055,\n 0.3065,\n 0.3075,\n 0.3085,\n 0.3095,\n 0.3105,\n 0.3115,\n 0.3125,\n 0.3135,\n 0.3145,\n 0.3155,\n 0.3165,\n 0.3175,\n 0.3185,\n 0.3195,\n 0.3205,\n 0.3215,\n 0.3225,\n 0.3235,\n 0.3245,\n 0.3255,\n 0.3265,\n 0.3275,\n 0.3285,\n 0.3295,\n 0.3305,\n 0.3315,\n 0.3325,\n 0.3335,\n 0.3345,\n 0.3355,\n 0.3365,\n 0.3375,\n 0.3385,\n 0.3395,\n 0.3405,\n 0.3415,\n 0.3425,\n 0.3435,\n 0.3445,\n 0.3455,\n 0.3465,\n 0.3475,\n 0.3485,\n 0.3495,\n 0.3505,\n 0.3515,\n 0.3525,\n 0.3535,\n 0.3545,\n 0.3555,\n 0.3565,\n 0.3575,\n 0.3585,\n 0.3595,\n 0.3605,\n 0.3615,\n 0.3625,\n 0.3635,\n 0.3645,\n 0.3655,\n 0.3665,\n 0.3675,\n 0.3685,\n 0.3695,\n 0.3705,\n 0.3715,\n 0.3725,\n 0.3735,\n 0.3745,\n 0.3755,\n 0.3765,\n 0.3775,\n 0.3785,\n 0.3795,\n 0.3805,\n 0.3815,\n 0.3825,\n 0.3835,\n 0.3845,\n 0.3855,\n 0.3865,\n 0.3875,\n 0.3885,\n 0.3895,\n 0.3905,\n 0.3915,\n 0.3925,\n 0.3935,\n 0.3945,\n 0.3955,\n 0.3965,\n 0.3975,\n 0.3985,\n 0.3995,\n 0.4005,\n 0.4015,\n 0.4025,\n 0.4035,\n 0.4045,\n 0.4055,\n 0.4065,\n 0.4075,\n 0.4085,\n 0.4095,\n 0.4105,\n 0.4115,\n 0.4125,\n 0.4135,\n 0.4145,\n 0.4155,\n 0.4165,\n 0.4175,\n 0.4185,\n 0.4195,\n 0.4205,\n 0.4215,\n 0.4225,\n 0.4235,\n 0.4245,\n 0.4255,\n 0.4265,\n 0.4275,\n 0.4285,\n 0.4295,\n 0.4305,\n 0.4315,\n 0.4325,\n 0.4335,\n 0.4345,\n 0.4355,\n 0.4365,\n 0.4375,\n 0.4385,\n 0.4395,\n 0.4405,\n 0.4415,\n 0.4425,\n 0.4435,\n 0.4445,\n 0.4455,\n 0.4465,\n 0.4475,\n 0.4485,\n 0.4495,\n 0.4505,\n 0.4515,\n 0.4525,\n 0.4535,\n 0.4545,\n 0.4555,\n 0.4565,\n 0.4575,\n 0.4585,\n 0.4595,\n 0.4605,\n 0.4615,\n 0.4625,\n 0.4635,\n 0.4645,\n 0.4655,\n 0.4665,\n 0.4675,\n 0.4685,\n 0.4695,\n 0.4705,\n 0.4715,\n 0.4725,\n 0.4735,\n 0.4745,\n 0.4755,\n 0.4765,\n 0.4775,\n 0.4785,\n 0.4795,\n 0.4805,\n 0.4815,\n 0.4825,\n 0.4835,\n 0.4845,\n 0.4855,\n 0.4865,\n 0.4875,\n 0.4885,\n 0.4895,\n 0.4905,\n 0.4915,\n 0.4925,\n 0.4935,\n 0.4945,\n 0.4955,\n 0.4965,\n 0.4975,\n 0.4985,\n 0.4995,\n 0.5005,\n 0.5015,\n 0.5025,\n 0.5035,\n 0.5045,\n 0.5055,\n 0.5065,\n 0.5075,\n 0.5085,\n 0.5095,\n 0.5105,\n 0.5115,\n 0.5125,\n 0.5135,\n 0.5145,\n 0.5155,\n 0.5165,\n 0.5175,\n 0.5185,\n 0.5195,\n 0.5205,\n 0.5215,\n 0.5225,\n 0.5235,\n 0.5245,\n 0.5255,\n 0.5265,\n 0.5275,\n 0.5285,\n 0.5295,\n 0.5305,\n 0.5315,\n 0.5325,\n 0.5335,\n 0.5345,\n 0.5355,\n 0.5365,\n 0.5375,\n 0.5385,\n 0.5395,\n 0.5405,\n 0.5415,\n 0.5425,\n 0.5435,\n 0.5445,\n 0.5455,\n 0.5465,\n 0.5475,\n 0.5485,\n 0.5495,\n 0.5505,\n 0.5515,\n 0.5525,\n 0.5535,\n 0.5545,\n 0.5555,\n 0.5565,\n 0.5575,\n 0.5585,\n 0.5595,\n 0.5605,\n 0.5615,\n 0.5625,\n 0.5635,\n 0.5645,\n 0.5655,\n 0.5665,\n 0.5675,\n 0.5685,\n 0.5695,\n 0.5705,\n 0.5715,\n 0.5725,\n 0.5735,\n 0.5745,\n 0.5755,\n 0.5765,\n 0.5775,\n 0.5785,\n 0.5795,\n 0.5805,\n 0.5815,\n 0.5825,\n 0.5835,\n 0.5845,\n 0.5855,\n 0.5865,\n 0.5875,\n 0.5885,\n 0.5895,\n 0.5905,\n 0.5915,\n 0.5925,\n 0.5935,\n 0.5945,\n 0.5955,\n 0.5965,\n 0.5975,\n 0.5985,\n 0.5995,\n 0.6005,\n 0.6015,\n 0.6025,\n 0.6035,\n 0.6045,\n 0.6055,\n 0.6065,\n 0.6075,\n 0.6085,\n 0.6095,\n 0.6105,\n 0.6115,\n 0.6125,\n 0.6135,\n 0.6145,\n 0.6155,\n 0.6165,\n 0.6175,\n 0.6185,\n 0.6195,\n 0.6205,\n 0.6215,\n 0.6225,\n 0.6235,\n 0.6245,\n 0.6255,\n 0.6265,\n 0.6275,\n 0.6285,\n 0.6295,\n 0.6305,\n 0.6315,\n 0.6325,\n 0.6335,\n 0.6345,\n 0.6355,\n 0.6365,\n 0.6375,\n 0.6385,\n 0.6395,\n 0.6405,\n 0.6415,\n 0.6425,\n 0.6435,\n 0.6445,\n 0.6455,\n 0.6465,\n 0.6475,\n 0.6485,\n 0.6495,\n 0.6505,\n 0.6515,\n 0.6525,\n 0.6535,\n 0.6545,\n 0.6555,\n 0.6565,\n 0.6575,\n 0.6585,\n 0.6595,\n 0.6605,\n 0.6615,\n 0.6625,\n 0.6635,\n 0.6645,\n 0.6655,\n 0.6665,\n 0.6675,\n 0.6685,\n 0.6695,\n 0.6705,\n 0.6715,\n 0.6725,\n 0.6735,\n 0.6745,\n 0.6755,\n 0.6765,\n 0.6775,\n 0.6785,\n 0.6795,\n 0.6805,\n 0.6815,\n 0.6825,\n 0.6835,\n 0.6845,\n 0.6855,\n 0.6865,\n 0.6875,\n 0.6885,\n 0.6895,\n 0.6905,\n 0.6915,\n 0.6925,\n 0.6935,\n 0.6945,\n 0.6955,\n 0.6965,\n 0.6975,\n 0.6985,\n 0.6995,\n 0.7005,\n 0.7015,\n 0.7025,\n 0.7035,\n 0.7045,\n 0.7055,\n 0.7065,\n 0.7075,\n 0.7085,\n 0.7095,\n 0.7105,\n 0.7115,\n 0.7125,\n 0.7135,\n 0.7145,\n 0.7155,\n 0.7165,\n 0.7175,\n 0.7185,\n 0.7195,\n 0.7205,\n 0.7215,\n 0.7225,\n 0.7235,\n 0.7245,\n 0.7255,\n 0.7265,\n 0.7275,\n 0.7285,\n 0.7295,\n 0.7305,\n 0.7315,\n 0.7325,\n 0.7335,\n 0.7345,\n 0.7355,\n 0.7365,\n 0.7375,\n 0.7385,\n 0.7395,\n 0.7405,\n 0.7415,\n 0.7425,\n 0.7435,\n 0.7445,\n 0.7455,\n 0.7465,\n 0.7475,\n 0.7485,\n 0.7495,\n 0.7505,\n 0.7515,\n 0.7525,\n 0.7535,\n 0.7545,\n 0.7555,\n 0.7565,\n 0.7575,\n 0.7585,\n 0.7595,\n 0.7605,\n 0.7615,\n 0.7625,\n 0.7635,\n 0.7645,\n 0.7655,\n 0.7665,\n 0.7675,\n 0.7685,\n 0.7695,\n 0.7705,\n 0.7715,\n 0.7725,\n 0.7735,\n 0.7745,\n 0.7755,\n 0.7765,\n 0.7775,\n 0.7785,\n 0.7795,\n 0.7805,\n 0.7815,\n 0.7825,\n 0.7835,\n 0.7845,\n 0.7855,\n 0.7865,\n 0.7875,\n 0.7885,\n 0.7895,\n 0.7905,\n 0.7915,\n 0.7925,\n 0.7935,\n 0.7945,\n 0.7955,\n 0.7965,\n 0.7975,\n 0.7985,\n 0.7995,\n 0.8005,\n 0.8015,\n 0.8025,\n 0.8035,\n 0.8045,\n 0.8055,\n 0.8065,\n 0.8075,\n 0.8085,\n 0.8095,\n 0.8105,\n 0.8115,\n 0.8125,\n 0.8135,\n 0.8145,\n 0.8155,\n 0.8165,\n 0.8175,\n 0.8185,\n 0.8195,\n 0.8205,\n 0.8215,\n 0.8225,\n 0.8235,\n 0.8245,\n 0.8255,\n 0.8265,\n 0.8275,\n 0.8285,\n 0.8295,\n 0.8305,\n 0.8315,\n 0.8325,\n 0.8335,\n 0.8345,\n 0.8355,\n 0.8365,\n 0.8375,\n 0.8385,\n 0.8395,\n 0.8405,\n 0.8415,\n 0.8425,\n 0.8435,\n 0.8445,\n 0.8455,\n 0.8465,\n 0.8475,\n 0.8485,\n 0.8495,\n 0.8505,\n 0.8515,\n 0.8525,\n 0.8535,\n 0.8545,\n 0.8555,\n 0.8565,\n 0.8575,\n 0.8585,\n 0.8595,\n 0.8605,\n 0.8615,\n 0.8625,\n 0.8635,\n 0.8645,\n 0.8655,\n 0.8665,\n 0.8675,\n 0.8685,\n 0.8695,\n 0.8705,\n 0.8715,\n 0.8725,\n 0.8735,\n 0.8745,\n 0.8755,\n 0.8765,\n 0.8775,\n 0.8785,\n 0.8795,\n 0.8805,\n 0.8815,\n 0.8825,\n 0.8835,\n 0.8845,\n 0.8855,\n 0.8865,\n 0.8875,\n 0.8885,\n 0.8895,\n 0.8905,\n 0.8915,\n 0.8925,\n 0.8935,\n 0.8945,\n 0.8955,\n 0.8965,\n 0.8975,\n 0.8985,\n 0.8995,\n 0.9005,\n 0.9015,\n 0.9025,\n 0.9035,\n 0.9045,\n 0.9055,\n 0.9065,\n 0.9075,\n 0.9085,\n 0.9095,\n 0.9105,\n 0.9115,\n 0.9125,\n 0.9135,\n 0.9145,\n 0.9155,\n 0.9165,\n 0.9175,\n 0.9185,\n 0.9195,\n 0.9205,\n 0.9215,\n 0.9225,\n 0.9235,\n 0.9245,\n 0.9255,\n 0.9265,\n 0.9275,\n 0.9285,\n 0.9295,\n 0.9305,\n 0.9315,\n 0.9325,\n 0.9335,\n 0.9345,\n 0.9355,\n 0.9365,\n 0.9375,\n 0.9385,\n 0.9395,\n 0.9405,\n 0.9415,\n 0.9425,\n 0.9435,\n 0.9445,\n 0.9455,\n 0.9465,\n 0.9475,\n 0.9485,\n 0.9495,\n 0.9505,\n 0.9515,\n 0.9525,\n 0.9535,\n 0.9545,\n 0.9555,\n 0.9565,\n 0.9575,\n 0.9585,\n 0.9595,\n 0.9605,\n 0.9615,\n 0.9625,\n 0.9635,\n 0.9645,\n 0.9655,\n 0.9665,\n 0.9675,\n 0.9685,\n 0.9695,\n 0.9705,\n 0.9715,\n 0.9725,\n 0.9735,\n 0.9745,\n 0.9755,\n 0.9765,\n 0.9775,\n 0.9785,\n 0.9795,\n 0.9805,\n 0.9815,\n 0.9825,\n 0.9835,\n 0.9845,\n 0.9855,\n 0.9865,\n 0.9875,\n 0.9885,\n 0.9895,\n 0.9905,\n 0.9915,\n 0.9925,\n 0.9935,\n 0.9945,\n 0.9955,\n 0.9965,\n 0.9975,\n 0.9985,\n 0.9995]"
     },
     "execution_count": 16,
     "metadata": {},
     "output_type": "execute_result"
    }
   ],
   "source": [
    "n = 1_000\n",
    "ranks = [(i + 0.5) / n for i in range(0, n)]\n",
    "ranks\n"
   ],
   "metadata": {
    "collapsed": false,
    "ExecuteTime": {
     "end_time": "2023-07-27T20:30:44.566947749Z",
     "start_time": "2023-07-27T20:30:44.554913361Z"
    }
   }
  },
  {
   "cell_type": "code",
   "execution_count": 32,
   "outputs": [
    {
     "name": "stdout",
     "output_type": "stream",
     "text": [
      "10\n",
      "5\n"
     ]
    }
   ],
   "source": [
    "ls = [0, 1, 2, 3, 4, 5, 5, 5, 5, 5, 6, 7, 8, 9]\n",
    "print(np.searchsorted(ls, 5.5))\n",
    "print(np.searchsorted(ls, 5))"
   ],
   "metadata": {
    "collapsed": false,
    "ExecuteTime": {
     "end_time": "2023-07-27T20:44:06.206370624Z",
     "start_time": "2023-07-27T20:44:06.195163382Z"
    }
   }
  },
  {
   "cell_type": "code",
   "execution_count": null,
   "outputs": [],
   "source": [],
   "metadata": {
    "collapsed": false
   }
  }
 ],
 "metadata": {
  "kernelspec": {
   "display_name": "Python 3",
   "language": "python",
   "name": "python3"
  },
  "language_info": {
   "codemirror_mode": {
    "name": "ipython",
    "version": 2
   },
   "file_extension": ".py",
   "mimetype": "text/x-python",
   "name": "python",
   "nbconvert_exporter": "python",
   "pygments_lexer": "ipython2",
   "version": "2.7.6"
  }
 },
 "nbformat": 4,
 "nbformat_minor": 0
}
