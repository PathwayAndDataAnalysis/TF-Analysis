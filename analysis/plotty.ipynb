{
 "cells": [
  {
   "cell_type": "code",
   "execution_count": 24,
   "metadata": {
    "collapsed": true,
    "ExecuteTime": {
     "end_time": "2023-07-28T20:32:41.592191079Z",
     "start_time": "2023-07-28T20:32:41.575240233Z"
    }
   },
   "outputs": [],
   "source": [
    "import pandas as pd\n",
    "import numpy as np\n",
    "import matplotlib.pyplot as plt\n",
    "import statsmodels.stats.multitest as smm\n",
    "from matplotlib.backends.backend_pdf import PdfPages\n"
   ]
  },
  {
   "cell_type": "code",
   "execution_count": 25,
   "outputs": [],
   "source": [
    "# Run Benjamini-Hochberg procedure for each TF\n",
    "# It is using fdrcorrection from statsmodels.stats.multitest\n",
    "def run_bh(pValDf):\n",
    "    pValDf = np.abs(pValDf)\n",
    "    adjustedPVals = pd.DataFrame(columns=pValDf.columns, index=pValDf.index)\n",
    "    actRej = pd.DataFrame(columns=pValDf.columns, index=pValDf.index)\n",
    "\n",
    "    for (tf, pVals) in pValDf.items():\n",
    "        pVals = pVals.dropna()\n",
    "        pV_df = pd.DataFrame(index=pVals.index, columns=['pVal'], data=pVals.values)\n",
    "        pV_df.sort_values(by='pVal', inplace=True)\n",
    "\n",
    "        reject, adj_p_val = smm.fdrcorrection(pV_df['pVal'].values, method='i', is_sorted=True, alpha=0.1)\n",
    "        pV_df[tf] = adj_p_val\n",
    "\n",
    "        adjustedPVals.loc[pV_df.index.values, tf] = pV_df[tf].values\n",
    "        actRej.loc[pV_df.index.values, tf] = reject\n",
    "\n",
    "    return adjustedPVals, actRej"
   ],
   "metadata": {
    "collapsed": false,
    "ExecuteTime": {
     "end_time": "2023-07-28T20:32:43.337132392Z",
     "start_time": "2023-07-28T20:32:43.320686055Z"
    }
   }
  },
  {
   "cell_type": "code",
   "execution_count": 28,
   "outputs": [],
   "source": [
    "def run_all_bh(p_value_file):\n",
    "    pval_df = pd.read_csv(p_value_file, sep='\\t', index_col=0)\n",
    "\n",
    "    # Flatten all values in pval_df including nan values\n",
    "    pval = np.abs(pval_df).values.flatten()\n",
    "    pval_n = pval[~np.isnan(pval)]\n",
    "\n",
    "    # Run Benjamini-Hochberg procedure\n",
    "    reject, adj_pval = smm.fdrcorrection(pval_n, method='i', is_sorted=False, alpha=0.1)\n",
    "\n",
    "    # create series from pval\n",
    "    pval_series = pd.Series(np.zeros(pval_df.shape[0] * pval_df.shape[1]))\n",
    "    pval_series.replace(0, np.nan, inplace=True)\n",
    "    count = 0\n",
    "    for i in range(len(pval)):\n",
    "        if not np.isnan(pval[i]):\n",
    "            pval_series[i] = reject[count]\n",
    "            count += 1\n",
    "\n",
    "    pval_series = pval_series.values.reshape(pval_df.shape)\n",
    "    reject_df = pd.DataFrame(index=pval_df.index, columns=pval_df.columns, data=pval_series)\n",
    "    return reject_df"
   ],
   "metadata": {
    "collapsed": false,
    "ExecuteTime": {
     "end_time": "2023-07-28T20:35:24.868380290Z",
     "start_time": "2023-07-28T20:35:24.831967655Z"
    }
   }
  },
  {
   "cell_type": "code",
   "execution_count": 60,
   "outputs": [],
   "source": [
    "# # Run Benjamini-Hochberg procedure for each TF\n",
    "# # It is using multipletests from statsmodels.stats.multitest\n",
    "# def run_bh_m(pValDf):\n",
    "#     pValDf = np.abs(pValDf)\n",
    "#     adjustedPVals = pd.DataFrame(columns=pValDf.columns, index=pValDf.index)\n",
    "#     actRej = pd.DataFrame(columns=pValDf.columns, index=pValDf.index)\n",
    "# \n",
    "#     for (tf, pVals) in pValDf.items():\n",
    "#         pVals = pVals.dropna()\n",
    "#         pV_df = pd.DataFrame(index=pVals.index, columns=['pVal'], data=pVals.values)\n",
    "#         pV_df.sort_values(by='pVal', inplace=True)\n",
    "# \n",
    "#         reject, adj_p_val, _, _ = smm.multipletests(pV_df['pVal'].values, method='fdr_bh', alpha=0.1, is_sorted=True)\n",
    "#         pV_df[tf] = adj_p_val\n",
    "# \n",
    "#         adjustedPVals.loc[pV_df.index.values, tf] = pV_df[tf].values\n",
    "#         actRej.loc[pV_df.index.values, tf] = reject\n",
    "# \n",
    "#     return adjustedPVals, actRej"
   ],
   "metadata": {
    "collapsed": false,
    "ExecuteTime": {
     "end_time": "2023-07-28T15:29:24.732974006Z",
     "start_time": "2023-07-28T15:29:24.717225543Z"
    }
   }
  },
  {
   "cell_type": "code",
   "execution_count": 19,
   "outputs": [
    {
     "name": "stdout",
     "output_type": "stream",
     "text": [
      " Number of True are: 2524\n"
     ]
    }
   ],
   "source": [
    "# p_val_file = 'data/simulated_pval_v2_no_shuffle.tsv'\n",
    "# \n",
    "# pval_df = pd.read_csv(p_val_file, sep='\\t', index_col=0)\n",
    "# adjP, acptRej = run_bh(pval_df)\n",
    "# \n",
    "# acptRej.replace(True, 1, inplace=True)\n",
    "# acptRej.replace(False, 0, inplace=True)\n",
    "# \n",
    "# # Sum all values of acptRej\n",
    "# count = acptRej.sum().sum()\n",
    "# print(f\" Number of True are: {count}\")"
   ],
   "metadata": {
    "collapsed": false,
    "ExecuteTime": {
     "end_time": "2023-07-28T20:22:55.760774196Z",
     "start_time": "2023-07-28T20:22:55.443407172Z"
    }
   }
  },
  {
   "cell_type": "code",
   "execution_count": 1,
   "outputs": [],
   "source": [
    "# p_val_file = 'data/p-values_1000000_v2_shuffle.tsv'\n",
    "# \n",
    "# pval_df = pd.read_csv(p_val_file, sep='\\t', index_col=0)\n",
    "# adjP, acptRej = run_bh_m(pval_df)\n",
    "# \n",
    "# acptRej.replace(True, 1, inplace=True)\n",
    "# acptRej.replace(False, 0, inplace=True)\n",
    "# \n",
    "# # Sum all values of acptRej\n",
    "# count = acptRej.sum().sum()\n",
    "# print(f\" Number of True are: {count}\")"
   ],
   "metadata": {
    "collapsed": false,
    "ExecuteTime": {
     "end_time": "2023-07-28T18:14:41.232636015Z",
     "start_time": "2023-07-28T18:14:41.205766671Z"
    }
   }
  },
  {
   "cell_type": "code",
   "execution_count": 21,
   "outputs": [
    {
     "name": "stdout",
     "output_type": "stream",
     "text": [
      " Number of True are: 1064\n"
     ]
    }
   ],
   "source": [
    "# # Run Benjamini-Hochberg procedure for all TFs together\n",
    "# p_val_file = 'data/simulated_pval_v2_no_shuffle.tsv'\n",
    "# pval_df = pd.read_csv(p_val_file, sep='\\t', index_col=0)\n",
    "# pval_df = np.abs(pval_df)\n",
    "# \n",
    "# # Reshape pval_df to a 1D array\n",
    "# pvals = pval_df.stack().reset_index()\n",
    "# pvals.columns = ['cell', 'tf', 'pval']\n",
    "# \n",
    "# # Run Benjamini-Hochberg procedure\n",
    "# reject, adj_p_val = smm.fdrcorrection(pvals['pval'].values, method='i', alpha=0.1, is_sorted=False)\n",
    "# \n",
    "# # Reshape reject to a 2D array original shape\n",
    "# reject = reject.reshape(pval_df.shape)\n",
    "# reject_df = pd.DataFrame(index=pval_df.index, columns=pval_df.columns, data=reject)\n",
    "# reject_df.replace(True, 1, inplace=True)\n",
    "# reject_df.replace(False, 0, inplace=True)\n",
    "# \n",
    "# # Sum all values of acptRej\n",
    "# count = reject_df.sum().sum()\n",
    "# print(f\" Number of True are: {count}\")"
   ],
   "metadata": {
    "collapsed": false,
    "ExecuteTime": {
     "end_time": "2023-07-28T20:23:25.206671859Z",
     "start_time": "2023-07-28T20:23:25.121305708Z"
    }
   }
  },
  {
   "cell_type": "code",
   "execution_count": null,
   "outputs": [],
   "source": [],
   "metadata": {
    "collapsed": false
   }
  },
  {
   "cell_type": "code",
   "execution_count": null,
   "outputs": [],
   "source": [],
   "metadata": {
    "collapsed": false
   }
  },
  {
   "cell_type": "code",
   "execution_count": null,
   "outputs": [],
   "source": [],
   "metadata": {
    "collapsed": false
   }
  },
  {
   "cell_type": "code",
   "execution_count": null,
   "outputs": [],
   "source": [],
   "metadata": {
    "collapsed": false
   }
  },
  {
   "cell_type": "code",
   "execution_count": null,
   "outputs": [],
   "source": [],
   "metadata": {
    "collapsed": false
   }
  },
  {
   "cell_type": "markdown",
   "source": [
    "## Plot UMAP using p-values and Benjamini-Hochberg procedure"
   ],
   "metadata": {
    "collapsed": false
   }
  },
  {
   "cell_type": "code",
   "execution_count": 18,
   "outputs": [
    {
     "name": "stderr",
     "output_type": "stream",
     "text": [
      "/tmp/ipykernel_26523/3982756744.py:24: MatplotlibDeprecationWarning: The seaborn styles shipped by Matplotlib are deprecated since 3.6, as they no longer correspond to the styles shipped by seaborn. However, they will remain available as 'seaborn-v0_8-<style>'. Alternatively, directly use the seaborn API instead.\n",
      "  plt.style.use('seaborn-whitegrid')\n",
      "/tmp/ipykernel_26523/3982756744.py:24: MatplotlibDeprecationWarning: The seaborn styles shipped by Matplotlib are deprecated since 3.6, as they no longer correspond to the styles shipped by seaborn. However, they will remain available as 'seaborn-v0_8-<style>'. Alternatively, directly use the seaborn API instead.\n",
      "  plt.style.use('seaborn-whitegrid')\n",
      "/tmp/ipykernel_26523/3982756744.py:24: MatplotlibDeprecationWarning: The seaborn styles shipped by Matplotlib are deprecated since 3.6, as they no longer correspond to the styles shipped by seaborn. However, they will remain available as 'seaborn-v0_8-<style>'. Alternatively, directly use the seaborn API instead.\n",
      "  plt.style.use('seaborn-whitegrid')\n"
     ]
    }
   ],
   "source": [
    "p_value_file = 'data/5knormalized_pval_1m.tsv'\n",
    "umap_file = 'data/_umap.tsv'\n",
    "dest_file = 'data/plots1m.pdf'\n",
    "\n",
    "p_value_df = pd.read_csv(p_value_file, sep='\\t', index_col=0)\n",
    "\n",
    "adjPVal, acptRej = run_bh(p_value_df)\n",
    "umap_df = pd.read_csv(umap_file, sep='\\t', index_col=0)\n",
    "\n",
    "figures = []\n",
    "\n",
    "# Sort columns of acptRej by number of True values\n",
    "acptRej = acptRej[acptRej.sum().sort_values(ascending=False).index]\n",
    "\n",
    "# acptRej.replace(True, -1, inplace=True)\n",
    "# acptRej.replace(False, 1, inplace=True)\n",
    "# acptRej.replace(np.nan, 0, inplace=True)\n",
    "\n",
    "count = 0\n",
    "\n",
    "# Run loop through columns and index of acptRej\n",
    "for (tft, cells) in acptRej.items():\n",
    "    plt.figure(figsize=(10, 10))\n",
    "    plt.style.use('seaborn-whitegrid')\n",
    "\n",
    "    # Count number of 1s and -1s in cells\n",
    "    # total_cell = cells.count() - cells[cells == 0].count()\n",
    "    # \n",
    "    # plt.title(tft + ', Total cells: ' + str(total_cell) + ', Activated cells: ' + str(cells[cells == 1].count()))\n",
    "    plt.title(tft)\n",
    "    plt.xlabel('UMAP1')\n",
    "    plt.ylabel('UMAP2')\n",
    "\n",
    "    cell_coord = umap_df.merge(cells, left_index=True, right_index=True)\n",
    "    cell_coord['p-value'] = p_value_df[tft]\n",
    "    cell_coord['logp-value'] = cell_coord['p-value'].apply(lambda x: np.sign(x) * -np.log(np.abs(x)))\n",
    "\n",
    "    # change logp-value if cell_coord tf if False\n",
    "    cell_coord['logp-value'] = cell_coord.apply(lambda x: x['logp-value'] if x[tft] == True else 0, axis=1)\n",
    "    # Remove rows \n",
    "\n",
    "    plt.scatter(x=cell_coord['UMAP1'], y=cell_coord['UMAP2'], c=cell_coord['logp-value'], cmap='coolwarm', s=1)\n",
    "    plt.colorbar()\n",
    "\n",
    "    figures.append(plt.gcf())\n",
    "\n",
    "    count += 1\n",
    "    if count == 3:\n",
    "        break\n",
    "\n",
    "with PdfPages(dest_file) as pdf:\n",
    "    for fig in figures:\n",
    "        pdf.savefig(fig)\n",
    "\n",
    "plt.close('all')"
   ],
   "metadata": {
    "collapsed": false,
    "ExecuteTime": {
     "end_time": "2023-07-28T20:09:35.066714438Z",
     "start_time": "2023-07-28T20:09:29.290484095Z"
    }
   }
  },
  {
   "cell_type": "code",
   "execution_count": 3,
   "outputs": [],
   "source": [],
   "metadata": {
    "collapsed": false,
    "ExecuteTime": {
     "end_time": "2023-07-28T19:26:37.478148040Z",
     "start_time": "2023-07-28T19:26:37.466594525Z"
    }
   }
  },
  {
   "cell_type": "code",
   "execution_count": null,
   "outputs": [],
   "source": [],
   "metadata": {
    "collapsed": false
   }
  },
  {
   "cell_type": "code",
   "execution_count": null,
   "outputs": [],
   "source": [],
   "metadata": {
    "collapsed": false
   }
  },
  {
   "cell_type": "code",
   "execution_count": null,
   "outputs": [],
   "source": [],
   "metadata": {
    "collapsed": false
   }
  },
  {
   "cell_type": "code",
   "execution_count": 27,
   "outputs": [],
   "source": [
    "def run_bh(p_value_file):\n",
    "    pValDf = pd.read_csv(p_value_file, sep='\\t', index_col=0)\n",
    "    pValDf = np.abs(pValDf)\n",
    "\n",
    "    adjustedPVals = pd.DataFrame(columns=pValDf.columns, index=pValDf.index)\n",
    "    actRej = pd.DataFrame(columns=pValDf.columns, index=pValDf.index)\n",
    "\n",
    "    for (tf, pVals) in pValDf.items():\n",
    "        pVals = pVals.dropna()\n",
    "        pV_df = pd.DataFrame(index=pVals.index, columns=['pVal'], data=pVals.values)\n",
    "        pV_df.sort_values(by='pVal', inplace=True)\n",
    "\n",
    "        reject, adj_p_val = smm.fdrcorrection(pV_df['pVal'].values, method='i', is_sorted=True, alpha=0.1)\n",
    "        pV_df[tf] = adj_p_val\n",
    "\n",
    "        # Insert pV_df into adjustedPVals by column by index\n",
    "        adjustedPVals.loc[pV_df.index.values, tf] = pV_df[tf].values\n",
    "        actRej.loc[pV_df.index.values, tf] = reject\n",
    "\n",
    "    return adjustedPVals, actRej"
   ],
   "metadata": {
    "collapsed": false,
    "ExecuteTime": {
     "end_time": "2023-07-28T20:34:44.235411333Z",
     "start_time": "2023-07-28T20:34:44.195723233Z"
    }
   }
  },
  {
   "cell_type": "code",
   "execution_count": 35,
   "outputs": [
    {
     "name": "stdout",
     "output_type": "stream",
     "text": [
      "608.0\n"
     ]
    }
   ],
   "source": [
    "p_value_file = 'data/5knormalized_pval_1m.tsv'\n",
    "\n",
    "reject = run_all_bh(p_value_file)\n",
    "reject.replace(True, 1, inplace=True)\n",
    "reject.replace(False, 0, inplace=True)\n",
    "reject.replace(np.nan, 0, inplace=True)\n",
    "\n",
    "print(reject.sum().sum())\n",
    "\n",
    "hashFX0 = reject.sum(axis=0).to_frame()\n",
    "hashFX1 = reject.sum(axis=1).to_frame()\n"
   ],
   "metadata": {
    "collapsed": false,
    "ExecuteTime": {
     "end_time": "2023-07-28T20:42:06.773192704Z",
     "start_time": "2023-07-28T20:41:36.937234851Z"
    }
   }
  },
  {
   "cell_type": "code",
   "execution_count": 34,
   "outputs": [
    {
     "name": "stdout",
     "output_type": "stream",
     "text": [
      " Number of True are: 10194.0\n"
     ]
    }
   ],
   "source": [
    "p_value_file = 'data/5knormalized_pval_1m.tsv'\n",
    "adjP, acptRej = run_bh(p_value_file)\n",
    "\n",
    "acptRej.replace(True, 1, inplace=True)\n",
    "acptRej.replace(False, 0, inplace=True)\n",
    "acptRej.replace(np.nan, 0, inplace=True)\n",
    "\n",
    "count = acptRej.sum().sum()\n",
    "print(f\" Number of True are: {count}\")\n",
    "\n",
    "hashX0 = acptRej.sum(axis=0).to_frame()\n",
    "hashX1 = acptRej.sum(axis=1).to_frame()\n"
   ],
   "metadata": {
    "collapsed": false,
    "ExecuteTime": {
     "end_time": "2023-07-28T20:41:22.153807062Z",
     "start_time": "2023-07-28T20:41:15.932794740Z"
    }
   }
  },
  {
   "cell_type": "code",
   "execution_count": null,
   "outputs": [],
   "source": [],
   "metadata": {
    "collapsed": false
   }
  }
 ],
 "metadata": {
  "kernelspec": {
   "display_name": "Python 3",
   "language": "python",
   "name": "python3"
  },
  "language_info": {
   "codemirror_mode": {
    "name": "ipython",
    "version": 2
   },
   "file_extension": ".py",
   "mimetype": "text/x-python",
   "name": "python",
   "nbconvert_exporter": "python",
   "pygments_lexer": "ipython2",
   "version": "2.7.6"
  }
 },
 "nbformat": 4,
 "nbformat_minor": 0
}
