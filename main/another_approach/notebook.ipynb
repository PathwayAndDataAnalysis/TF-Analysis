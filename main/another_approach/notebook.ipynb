{
 "cells": [
  {
   "cell_type": "code",
   "execution_count": 2,
   "metadata": {
    "collapsed": true,
    "ExecuteTime": {
     "end_time": "2023-07-20T14:25:39.848062205Z",
     "start_time": "2023-07-20T14:25:39.213401260Z"
    }
   },
   "outputs": [],
   "source": [
    "import pandas as pd\n",
    "import numpy as np\n",
    "from scipy.stats import zscore\n",
    "from joblib import Parallel, delayed\n",
    "from timeit import default_timer as timer"
   ]
  },
  {
   "cell_type": "code",
   "execution_count": 3,
   "metadata": {
    "collapsed": false,
    "ExecuteTime": {
     "end_time": "2023-07-20T14:25:42.662365623Z",
     "start_time": "2023-07-20T14:25:39.852556603Z"
    }
   },
   "outputs": [
    {
     "name": "stdout",
     "output_type": "stream",
     "text": [
      "Files read complete...\n"
     ]
    }
   ],
   "source": [
    "cp_file = '../../data/causal-priors.txt'\n",
    "sde_file = '../../data/mouse_to_human_normalized5k.tsv'\n",
    "\n",
    "cpo_df = pd.read_csv(cp_file, sep='\\t', header=None, usecols=[0, 1, 2], names=['symbol', 'action', 'targetSymbol'])\n",
    "cpo_df = cpo_df[cpo_df['action'].isin(['upregulates-expression', 'downregulates-expression'])]\n",
    "cpo_df.reset_index(drop=True, inplace=True)\n",
    "cpo_df['isUp'] = np.where(cpo_df['action'] == 'upregulates-expression', 1, -1)\n",
    "cpo_df.drop(['action'], axis=1, inplace=True)\n",
    "\n",
    "sde_df = pd.read_csv(sde_file, sep='\\t', header=0, index_col=0).T\n",
    "sde_df.replace(0, np.nan, inplace=True)\n",
    "sde_df = pd.DataFrame(zscore(sde_df, nan_policy='omit'), index=sde_df.index, columns=sde_df.columns)\n",
    "print(\"Files read complete...\")"
   ]
  },
  {
   "cell_type": "code",
   "execution_count": 4,
   "metadata": {
    "collapsed": false,
    "ExecuteTime": {
     "end_time": "2023-07-20T14:25:42.731554569Z",
     "start_time": "2023-07-20T14:25:42.668088709Z"
    }
   },
   "outputs": [
    {
     "data": {
      "text/plain": "  symbol targetSymbol  isUp\n0   XBP1         TPP1     1\n1   KLF5        CXCR4     1\n2   ATF3         SELE    -1\n3    MYC       EIF4G1     1\n4   LDHA        HIF1A     1",
      "text/html": "<div>\n<style scoped>\n    .dataframe tbody tr th:only-of-type {\n        vertical-align: middle;\n    }\n\n    .dataframe tbody tr th {\n        vertical-align: top;\n    }\n\n    .dataframe thead th {\n        text-align: right;\n    }\n</style>\n<table border=\"1\" class=\"dataframe\">\n  <thead>\n    <tr style=\"text-align: right;\">\n      <th></th>\n      <th>symbol</th>\n      <th>targetSymbol</th>\n      <th>isUp</th>\n    </tr>\n  </thead>\n  <tbody>\n    <tr>\n      <th>0</th>\n      <td>XBP1</td>\n      <td>TPP1</td>\n      <td>1</td>\n    </tr>\n    <tr>\n      <th>1</th>\n      <td>KLF5</td>\n      <td>CXCR4</td>\n      <td>1</td>\n    </tr>\n    <tr>\n      <th>2</th>\n      <td>ATF3</td>\n      <td>SELE</td>\n      <td>-1</td>\n    </tr>\n    <tr>\n      <th>3</th>\n      <td>MYC</td>\n      <td>EIF4G1</td>\n      <td>1</td>\n    </tr>\n    <tr>\n      <th>4</th>\n      <td>LDHA</td>\n      <td>HIF1A</td>\n      <td>1</td>\n    </tr>\n  </tbody>\n</table>\n</div>"
     },
     "execution_count": 4,
     "metadata": {},
     "output_type": "execute_result"
    }
   ],
   "source": [
    "# There may be some targetSymbols in cpo_df which are not present in sde_df\n",
    "# Now remove those rows from cpo_df\n",
    "cpo_df = cpo_df[cpo_df['targetSymbol'].isin(sde_df.columns)]\n",
    "cpo_df.reset_index(drop=True, inplace=True)\n",
    "cpo_df.head()"
   ]
  },
  {
   "cell_type": "code",
   "execution_count": 5,
   "metadata": {
    "collapsed": false,
    "ExecuteTime": {
     "end_time": "2023-07-20T14:25:42.770925561Z",
     "start_time": "2023-07-20T14:25:42.707006426Z"
    }
   },
   "outputs": [
    {
     "data": {
      "text/plain": "  symbol                      upDownList  \\\n0    A2M                             [1]   \n1   AATF                        [-1, -1]   \n2  ABCA1                  [1, 1, -1, -1]   \n3  ABCA3                 [1, 1, 1, 1, 1]   \n4  ABCB1  [1, 1, 1, 1, 1, 1, 1, 1, 1, 1]   \n\n                                          targetList  upDownCount  \n0                                            [STAT3]            1  \n1                                      [BAX, CTNNB1]            2  \n2                       [NR1H2, NR1H3, GLI2, SREBF2]            4  \n3              [SREBF1, GATA6, FOXA2, NFATC3, CEBPA]            5  \n4  [SP1, RELB, RELA, TCF7L2, FOXO1, EGR1, CEBPB, ...           10  ",
      "text/html": "<div>\n<style scoped>\n    .dataframe tbody tr th:only-of-type {\n        vertical-align: middle;\n    }\n\n    .dataframe tbody tr th {\n        vertical-align: top;\n    }\n\n    .dataframe thead th {\n        text-align: right;\n    }\n</style>\n<table border=\"1\" class=\"dataframe\">\n  <thead>\n    <tr style=\"text-align: right;\">\n      <th></th>\n      <th>symbol</th>\n      <th>upDownList</th>\n      <th>targetList</th>\n      <th>upDownCount</th>\n    </tr>\n  </thead>\n  <tbody>\n    <tr>\n      <th>0</th>\n      <td>A2M</td>\n      <td>[1]</td>\n      <td>[STAT3]</td>\n      <td>1</td>\n    </tr>\n    <tr>\n      <th>1</th>\n      <td>AATF</td>\n      <td>[-1, -1]</td>\n      <td>[BAX, CTNNB1]</td>\n      <td>2</td>\n    </tr>\n    <tr>\n      <th>2</th>\n      <td>ABCA1</td>\n      <td>[1, 1, -1, -1]</td>\n      <td>[NR1H2, NR1H3, GLI2, SREBF2]</td>\n      <td>4</td>\n    </tr>\n    <tr>\n      <th>3</th>\n      <td>ABCA3</td>\n      <td>[1, 1, 1, 1, 1]</td>\n      <td>[SREBF1, GATA6, FOXA2, NFATC3, CEBPA]</td>\n      <td>5</td>\n    </tr>\n    <tr>\n      <th>4</th>\n      <td>ABCB1</td>\n      <td>[1, 1, 1, 1, 1, 1, 1, 1, 1, 1]</td>\n      <td>[SP1, RELB, RELA, TCF7L2, FOXO1, EGR1, CEBPB, ...</td>\n      <td>10</td>\n    </tr>\n  </tbody>\n</table>\n</div>"
     },
     "execution_count": 5,
     "metadata": {},
     "output_type": "execute_result"
    }
   ],
   "source": [
    "cpo_grouped_df = cpo_df.groupby('symbol')['isUp'].apply(list).reset_index(name='upDownList')\n",
    "cpo_grouped_df['targetList'] = cpo_df.groupby('symbol')['targetSymbol'].apply(list).reset_index(name='targetList')[\n",
    "    'targetList']\n",
    "cpo_grouped_df['upDownCount'] = cpo_grouped_df['upDownList'].apply(lambda x: len(x))\n",
    "max_target = np.max(cpo_grouped_df['upDownCount'])\n",
    "cpo_grouped_df.head()"
   ]
  },
  {
   "cell_type": "markdown",
   "metadata": {
    "collapsed": false
   },
   "source": [
    "### 1. Generating distribution using cumulative sum"
   ]
  },
  {
   "cell_type": "code",
   "execution_count": 27,
   "metadata": {
    "ExecuteTime": {
     "end_time": "2023-07-18T21:21:14.306371530Z",
     "start_time": "2023-07-18T21:21:14.225724235Z"
    },
    "collapsed": false
   },
   "outputs": [],
   "source": [
    "# n = 10_000\n",
    "# ranks = [(i + 0.5) / n for i in range(1, n)]\n",
    "#\n",
    "# # Generate Distribution\n",
    "# iters = 10_000\n",
    "#\n",
    "# distribution = np.zeros((max_target, iters))\n",
    "#\n",
    "# # Took 13 seconds for 10,000 iterations\n",
    "# for i in range(iters):\n",
    "#     cs = np.random.choice(ranks, max_target, replace=False).cumsum()\n",
    "#     for target in range(1, max_target + 1):\n",
    "#         amr = cs[target - 1] / target\n",
    "#         distribution[target - 1, i] = np.min([amr, 1 - amr])\n",
    "#\n",
    "# distribution = np.sort(distribution, axis=1)\n",
    "# distribution\n",
    "#\n",
    "#\n",
    "# # Took multiple minutes for 10,000 iterations\n",
    "# # for target in range(1, max_target + 1):\n",
    "# #     arr = np.zeros(iters)\n",
    "# #     for i in range(iters):\n",
    "# #         amr = np.mean(np.random.choice(ranks, target, replace=False))\n",
    "# #         imr = 1 - amr\n",
    "# #         arr[i] = np.min([amr, imr])\n",
    "# #     distribution[target - 1] = np.sort(arr)\n",
    "# #\n",
    "# # distribution"
   ]
  },
  {
   "cell_type": "code",
   "execution_count": 28,
   "metadata": {
    "ExecuteTime": {
     "end_time": "2023-07-18T21:21:14.306788698Z",
     "start_time": "2023-07-18T21:21:14.226444957Z"
    },
    "collapsed": false
   },
   "outputs": [],
   "source": [
    "# # Another way to generate distribution\n",
    "# n = 10_000\n",
    "# iters = 1000\n",
    "# distribution = np.zeros((max_target, iters))\n",
    "#\n",
    "# for target in range(1, max_target + 1):\n",
    "#     arr = np.zeros(iters)\n",
    "#     for i in range(iters):\n",
    "#         amr = (np.mean(np.random.choice(n, target, replace=False)) + 0.5) / n\n",
    "#         imr = 1 - amr\n",
    "#         arr[i] = np.min([amr, imr])\n",
    "#     distribution[target - 1] = arr\n",
    "#\n",
    "# distribution"
   ]
  },
  {
   "cell_type": "code",
   "execution_count": 29,
   "metadata": {
    "ExecuteTime": {
     "end_time": "2023-07-18T21:21:14.306951817Z",
     "start_time": "2023-07-18T21:21:14.226748280Z"
    },
    "collapsed": false
   },
   "outputs": [],
   "source": [
    "# # Another way to generate distribution\n",
    "# n = 10_000\n",
    "# distribution = []\n",
    "# iters = 1000\n",
    "# max_target = 218\n",
    "#\n",
    "# # Took 21 seconds to run\n",
    "# for target in range(1, max_target + 1):\n",
    "#     arr = []\n",
    "#     for i in range(iters):\n",
    "#         amr = (np.mean(np.random.choice(n, target, replace=False)) + 0.5) / n\n",
    "#         imr = 1 - amr\n",
    "#         arr.append(np.min([amr, imr]))\n",
    "#     distribution.append(arr)\n",
    "#\n",
    "# distribution = np.array(distribution)\n",
    "# distribution"
   ]
  },
  {
   "cell_type": "markdown",
   "metadata": {
    "collapsed": false
   },
   "source": [
    "### 2. Generating Distribution Using parallel processing"
   ]
  },
  {
   "cell_type": "code",
   "execution_count": 30,
   "metadata": {
    "ExecuteTime": {
     "end_time": "2023-07-18T21:21:14.307055796Z",
     "start_time": "2023-07-18T21:21:14.226990816Z"
    },
    "collapsed": false
   },
   "outputs": [],
   "source": [
    "# n = 10_000\n",
    "# ranks = [(i + 0.5) / n for i in range(1, n)]\n",
    "# iters = 10_000\n",
    "#\n",
    "#\n",
    "# # Worker function that each process will run\n",
    "# # Took 1 min 46 seconds for 10,000 iterations\n",
    "# def worker(target):\n",
    "#     arr = np.zeros(iters)\n",
    "#     for i in range(iters):\n",
    "#         amr = np.mean(np.random.choice(ranks, target, replace=False))\n",
    "#         imr = 1 - amr\n",
    "#         arr[i] = np.min([amr, imr])\n",
    "#     return np.sort(arr)\n",
    "#\n",
    "#\n",
    "# distribution = Parallel(n_jobs=-1)(delayed(worker)(target) for target in range(1, max_target + 1))\n",
    "#\n",
    "# distribution = np.array(distribution)\n",
    "# distribution"
   ]
  },
  {
   "cell_type": "markdown",
   "metadata": {
    "collapsed": false
   },
   "source": [
    "### 3. Can we combine both methods? Let's try"
   ]
  },
  {
   "cell_type": "code",
   "execution_count": 33,
   "metadata": {
    "collapsed": false,
    "ExecuteTime": {
     "end_time": "2023-07-19T19:47:35.453193449Z",
     "start_time": "2023-07-19T19:21:22.627456861Z"
    }
   },
   "outputs": [
    {
     "data": {
      "text/plain": "array([[5.00000000e-05, 5.00000000e-05, 5.00000000e-05, ...,\n        4.99950000e-01, 4.99950000e-01, 4.99950000e-01],\n       [4.00000000e-04, 4.50000000e-04, 5.00000000e-04, ...,\n        5.00000000e-01, 5.00000000e-01, 5.00000000e-01],\n       [2.15000000e-03, 2.41666667e-03, 2.95000000e-03, ...,\n        4.99983333e-01, 4.99983333e-01, 4.99983333e-01],\n       ...,\n       [3.81577315e-01, 3.98413426e-01, 4.01097685e-01, ...,\n        5.00000000e-01, 5.00000000e-01, 5.00000000e-01],\n       [3.80010369e-01, 3.96728802e-01, 4.02132949e-01, ...,\n        4.99999770e-01, 4.99999770e-01, 4.99999770e-01],\n       [3.82460550e-01, 3.95795872e-01, 4.01472018e-01, ...,\n        5.00000000e-01, 5.00000000e-01, 5.00000000e-01]])"
     },
     "execution_count": 33,
     "metadata": {},
     "output_type": "execute_result"
    }
   ],
   "source": [
    "n = 10_000\n",
    "ranks = [(i + 0.5) / n for i in range(1, n)]\n",
    "iters = 1_0000_000\n",
    "\n",
    "\n",
    "def worker(iter):\n",
    "    arr = np.zeros(max_target)\n",
    "    cs = np.random.choice(ranks, max_target, replace=False).cumsum()\n",
    "    for target in range(1, max_target + 1):\n",
    "        amr = cs[target - 1] / target\n",
    "        arr[target - 1] = np.min([amr, 1 - amr])\n",
    "    return arr\n",
    "\n",
    "\n",
    "distribution = Parallel(n_jobs=-1)(delayed(worker)(iter) for iter in range(iters))\n",
    "# 1M x 218\n",
    "\n",
    "# Transpose distribution\n",
    "distribution = np.array(distribution).T\n",
    "distribution = np.sort(distribution, axis=1)\n",
    "distribution"
   ]
  },
  {
   "cell_type": "code",
   "execution_count": 34,
   "metadata": {
    "collapsed": false,
    "ExecuteTime": {
     "end_time": "2023-07-19T19:49:30.982062430Z",
     "start_time": "2023-07-19T19:47:48.642500157Z"
    }
   },
   "outputs": [],
   "source": [
    "# Save distribution\n",
    "# np.save('data/distribution.npy', distribution)\n",
    "\n",
    "# save to compressed npy file\n",
    "np.savez_compressed('data/distribution10m.npz', distribution=distribution)"
   ]
  },
  {
   "cell_type": "code",
   "execution_count": 29,
   "metadata": {
    "collapsed": false,
    "ExecuteTime": {
     "end_time": "2023-07-20T18:43:43.129611206Z",
     "start_time": "2023-07-20T18:43:24.077057914Z"
    }
   },
   "outputs": [
    {
     "data": {
      "text/plain": "array([[5.00000000e-05, 5.00000000e-05, 5.00000000e-05, ...,\n        4.99950000e-01, 4.99950000e-01, 4.99950000e-01],\n       [4.00000000e-04, 4.50000000e-04, 5.00000000e-04, ...,\n        5.00000000e-01, 5.00000000e-01, 5.00000000e-01],\n       [2.15000000e-03, 2.41666667e-03, 2.95000000e-03, ...,\n        4.99983333e-01, 4.99983333e-01, 4.99983333e-01],\n       ...,\n       [3.81577315e-01, 3.98413426e-01, 4.01097685e-01, ...,\n        5.00000000e-01, 5.00000000e-01, 5.00000000e-01],\n       [3.80010369e-01, 3.96728802e-01, 4.02132949e-01, ...,\n        4.99999770e-01, 4.99999770e-01, 4.99999770e-01],\n       [3.82460550e-01, 3.95795872e-01, 4.01472018e-01, ...,\n        5.00000000e-01, 5.00000000e-01, 5.00000000e-01]])"
     },
     "execution_count": 29,
     "metadata": {},
     "output_type": "execute_result"
    }
   ],
   "source": [
    "# load npz file to numpy array\n",
    "distribution = np.load('data/distribution10m.npz')['distribution']\n",
    "distribution"
   ]
  },
  {
   "cell_type": "markdown",
   "metadata": {
    "collapsed": false
   },
   "source": [
    "### For each cell in single cell data"
   ]
  },
  {
   "cell_type": "code",
   "execution_count": 30,
   "metadata": {
    "collapsed": false,
    "ExecuteTime": {
     "end_time": "2023-07-20T18:44:20.733816129Z",
     "start_time": "2023-07-20T18:44:11.830094729Z"
    }
   },
   "outputs": [
    {
     "name": "stdout",
     "output_type": "stream",
     "text": [
      "Cell number: 1 Time taken:  0.2665394659998128 seconds\n",
      "Cell number: 2 Time taken:  0.4558009820029838 seconds\n",
      "Cell number: 3 Time taken:  0.6704007819935214 seconds\n",
      "Cell number: 4 Time taken:  0.5990080229967134 seconds\n",
      "Cell number: 5 Time taken:  0.41570452200539876 seconds\n",
      "Cell number: 6 Time taken:  0.35773616000369657 seconds\n",
      "Cell number: 7 Time taken:  0.40069341100752354 seconds\n",
      "Cell number: 8 Time taken:  0.29970367001078557 seconds\n",
      "Cell number: 9 Time taken:  0.47062886599451303 seconds\n",
      "Cell number: 10 Time taken:  0.7087949150009081 seconds\n",
      "Cell number: 11 Time taken:  0.3247533549874788 seconds\n",
      "Cell number: 12 Time taken:  0.5457412560062949 seconds\n",
      "Cell number: 13 Time taken:  0.472177855001064 seconds\n",
      "Cell number: 14 Time taken:  0.2011762030015234 seconds\n",
      "Cell number: 15 Time taken:  0.3339941669983091 seconds\n",
      "Cell number: 16 Time taken:  0.4219153719895985 seconds\n",
      "Cell number: 17 Time taken:  0.7402857730048709 seconds\n",
      "Cell number: 18 Time taken:  0.4548004079988459 seconds\n",
      "Cell number: 19 Time taken:  0.2746531910088379 seconds\n",
      "Cell number: 20 Time taken:  0.3399708069919143 seconds\n"
     ]
    },
    {
     "ename": "KeyboardInterrupt",
     "evalue": "",
     "output_type": "error",
     "traceback": [
      "\u001B[0;31m---------------------------------------------------------------------------\u001B[0m",
      "\u001B[0;31mKeyboardInterrupt\u001B[0m                         Traceback (most recent call last)",
      "\u001B[0;32m/tmp/ipykernel_104875/2437403814.py\u001B[0m in \u001B[0;36m<module>\u001B[0;34m\u001B[0m\n\u001B[1;32m     26\u001B[0m     \u001B[0mcpo_df_c\u001B[0m\u001B[0;34m.\u001B[0m\u001B[0mreset_index\u001B[0m\u001B[0;34m(\u001B[0m\u001B[0mdrop\u001B[0m\u001B[0;34m=\u001B[0m\u001B[0;32mTrue\u001B[0m\u001B[0;34m,\u001B[0m \u001B[0minplace\u001B[0m\u001B[0;34m=\u001B[0m\u001B[0;32mTrue\u001B[0m\u001B[0;34m)\u001B[0m\u001B[0;34m\u001B[0m\u001B[0;34m\u001B[0m\u001B[0m\n\u001B[1;32m     27\u001B[0m \u001B[0;34m\u001B[0m\u001B[0m\n\u001B[0;32m---> 28\u001B[0;31m     cpo_df_c['pos_rs'] = cpo_df_c.apply(\n\u001B[0m\u001B[1;32m     29\u001B[0m         \u001B[0;32mlambda\u001B[0m \u001B[0mx\u001B[0m\u001B[0;34m:\u001B[0m\u001B[0;34m\u001B[0m\u001B[0;34m\u001B[0m\u001B[0m\n\u001B[1;32m     30\u001B[0m         \u001B[0mcell\u001B[0m\u001B[0;34m.\u001B[0m\u001B[0mloc\u001B[0m\u001B[0;34m[\u001B[0m\u001B[0mcell\u001B[0m\u001B[0;34m[\u001B[0m\u001B[0;34m'symbol'\u001B[0m\u001B[0;34m]\u001B[0m \u001B[0;34m==\u001B[0m \u001B[0mx\u001B[0m\u001B[0;34m[\u001B[0m\u001B[0;34m'targetSymbol'\u001B[0m\u001B[0;34m]\u001B[0m\u001B[0;34m,\u001B[0m \u001B[0;34m'acti_rank'\u001B[0m\u001B[0;34m]\u001B[0m\u001B[0;34m.\u001B[0m\u001B[0mvalues\u001B[0m\u001B[0;34m[\u001B[0m\u001B[0;36m0\u001B[0m\u001B[0;34m]\u001B[0m\u001B[0;34m\u001B[0m\u001B[0;34m\u001B[0m\u001B[0m\n",
      "\u001B[0;32m~/anaconda3/lib/python3.9/site-packages/pandas/core/frame.py\u001B[0m in \u001B[0;36mapply\u001B[0;34m(self, func, axis, raw, result_type, args, **kwargs)\u001B[0m\n\u001B[1;32m   8738\u001B[0m             \u001B[0mkwargs\u001B[0m\u001B[0;34m=\u001B[0m\u001B[0mkwargs\u001B[0m\u001B[0;34m,\u001B[0m\u001B[0;34m\u001B[0m\u001B[0;34m\u001B[0m\u001B[0m\n\u001B[1;32m   8739\u001B[0m         )\n\u001B[0;32m-> 8740\u001B[0;31m         \u001B[0;32mreturn\u001B[0m \u001B[0mop\u001B[0m\u001B[0;34m.\u001B[0m\u001B[0mapply\u001B[0m\u001B[0;34m(\u001B[0m\u001B[0;34m)\u001B[0m\u001B[0;34m\u001B[0m\u001B[0;34m\u001B[0m\u001B[0m\n\u001B[0m\u001B[1;32m   8741\u001B[0m \u001B[0;34m\u001B[0m\u001B[0m\n\u001B[1;32m   8742\u001B[0m     def applymap(\n",
      "\u001B[0;32m~/anaconda3/lib/python3.9/site-packages/pandas/core/apply.py\u001B[0m in \u001B[0;36mapply\u001B[0;34m(self)\u001B[0m\n\u001B[1;32m    686\u001B[0m             \u001B[0;32mreturn\u001B[0m \u001B[0mself\u001B[0m\u001B[0;34m.\u001B[0m\u001B[0mapply_raw\u001B[0m\u001B[0;34m(\u001B[0m\u001B[0;34m)\u001B[0m\u001B[0;34m\u001B[0m\u001B[0;34m\u001B[0m\u001B[0m\n\u001B[1;32m    687\u001B[0m \u001B[0;34m\u001B[0m\u001B[0m\n\u001B[0;32m--> 688\u001B[0;31m         \u001B[0;32mreturn\u001B[0m \u001B[0mself\u001B[0m\u001B[0;34m.\u001B[0m\u001B[0mapply_standard\u001B[0m\u001B[0;34m(\u001B[0m\u001B[0;34m)\u001B[0m\u001B[0;34m\u001B[0m\u001B[0;34m\u001B[0m\u001B[0m\n\u001B[0m\u001B[1;32m    689\u001B[0m \u001B[0;34m\u001B[0m\u001B[0m\n\u001B[1;32m    690\u001B[0m     \u001B[0;32mdef\u001B[0m \u001B[0magg\u001B[0m\u001B[0;34m(\u001B[0m\u001B[0mself\u001B[0m\u001B[0;34m)\u001B[0m\u001B[0;34m:\u001B[0m\u001B[0;34m\u001B[0m\u001B[0;34m\u001B[0m\u001B[0m\n",
      "\u001B[0;32m~/anaconda3/lib/python3.9/site-packages/pandas/core/apply.py\u001B[0m in \u001B[0;36mapply_standard\u001B[0;34m(self)\u001B[0m\n\u001B[1;32m    810\u001B[0m \u001B[0;34m\u001B[0m\u001B[0m\n\u001B[1;32m    811\u001B[0m     \u001B[0;32mdef\u001B[0m \u001B[0mapply_standard\u001B[0m\u001B[0;34m(\u001B[0m\u001B[0mself\u001B[0m\u001B[0;34m)\u001B[0m\u001B[0;34m:\u001B[0m\u001B[0;34m\u001B[0m\u001B[0;34m\u001B[0m\u001B[0m\n\u001B[0;32m--> 812\u001B[0;31m         \u001B[0mresults\u001B[0m\u001B[0;34m,\u001B[0m \u001B[0mres_index\u001B[0m \u001B[0;34m=\u001B[0m \u001B[0mself\u001B[0m\u001B[0;34m.\u001B[0m\u001B[0mapply_series_generator\u001B[0m\u001B[0;34m(\u001B[0m\u001B[0;34m)\u001B[0m\u001B[0;34m\u001B[0m\u001B[0;34m\u001B[0m\u001B[0m\n\u001B[0m\u001B[1;32m    813\u001B[0m \u001B[0;34m\u001B[0m\u001B[0m\n\u001B[1;32m    814\u001B[0m         \u001B[0;31m# wrap results\u001B[0m\u001B[0;34m\u001B[0m\u001B[0;34m\u001B[0m\u001B[0m\n",
      "\u001B[0;32m~/anaconda3/lib/python3.9/site-packages/pandas/core/apply.py\u001B[0m in \u001B[0;36mapply_series_generator\u001B[0;34m(self)\u001B[0m\n\u001B[1;32m    826\u001B[0m             \u001B[0;32mfor\u001B[0m \u001B[0mi\u001B[0m\u001B[0;34m,\u001B[0m \u001B[0mv\u001B[0m \u001B[0;32min\u001B[0m \u001B[0menumerate\u001B[0m\u001B[0;34m(\u001B[0m\u001B[0mseries_gen\u001B[0m\u001B[0;34m)\u001B[0m\u001B[0;34m:\u001B[0m\u001B[0;34m\u001B[0m\u001B[0;34m\u001B[0m\u001B[0m\n\u001B[1;32m    827\u001B[0m                 \u001B[0;31m# ignore SettingWithCopy here in case the user mutates\u001B[0m\u001B[0;34m\u001B[0m\u001B[0;34m\u001B[0m\u001B[0m\n\u001B[0;32m--> 828\u001B[0;31m                 \u001B[0mresults\u001B[0m\u001B[0;34m[\u001B[0m\u001B[0mi\u001B[0m\u001B[0;34m]\u001B[0m \u001B[0;34m=\u001B[0m \u001B[0mself\u001B[0m\u001B[0;34m.\u001B[0m\u001B[0mf\u001B[0m\u001B[0;34m(\u001B[0m\u001B[0mv\u001B[0m\u001B[0;34m)\u001B[0m\u001B[0;34m\u001B[0m\u001B[0;34m\u001B[0m\u001B[0m\n\u001B[0m\u001B[1;32m    829\u001B[0m                 \u001B[0;32mif\u001B[0m \u001B[0misinstance\u001B[0m\u001B[0;34m(\u001B[0m\u001B[0mresults\u001B[0m\u001B[0;34m[\u001B[0m\u001B[0mi\u001B[0m\u001B[0;34m]\u001B[0m\u001B[0;34m,\u001B[0m \u001B[0mABCSeries\u001B[0m\u001B[0;34m)\u001B[0m\u001B[0;34m:\u001B[0m\u001B[0;34m\u001B[0m\u001B[0;34m\u001B[0m\u001B[0m\n\u001B[1;32m    830\u001B[0m                     \u001B[0;31m# If we have a view on v, we need to make a copy because\u001B[0m\u001B[0;34m\u001B[0m\u001B[0;34m\u001B[0m\u001B[0m\n",
      "\u001B[0;32m/tmp/ipykernel_104875/2437403814.py\u001B[0m in \u001B[0;36m<lambda>\u001B[0;34m(x)\u001B[0m\n\u001B[1;32m     31\u001B[0m         \u001B[0;32mif\u001B[0m \u001B[0mx\u001B[0m\u001B[0;34m[\u001B[0m\u001B[0;34m'isUp'\u001B[0m\u001B[0;34m]\u001B[0m \u001B[0;34m==\u001B[0m \u001B[0;36m1\u001B[0m\u001B[0;34m\u001B[0m\u001B[0;34m\u001B[0m\u001B[0m\n\u001B[1;32m     32\u001B[0m         \u001B[0;32melse\u001B[0m\u001B[0;34m\u001B[0m\u001B[0;34m\u001B[0m\u001B[0m\n\u001B[0;32m---> 33\u001B[0;31m         \u001B[0mcell\u001B[0m\u001B[0;34m.\u001B[0m\u001B[0mloc\u001B[0m\u001B[0;34m[\u001B[0m\u001B[0mcell\u001B[0m\u001B[0;34m[\u001B[0m\u001B[0;34m'symbol'\u001B[0m\u001B[0;34m]\u001B[0m \u001B[0;34m==\u001B[0m \u001B[0mx\u001B[0m\u001B[0;34m[\u001B[0m\u001B[0;34m'targetSymbol'\u001B[0m\u001B[0;34m]\u001B[0m\u001B[0;34m,\u001B[0m \u001B[0;34m'inhi_rank'\u001B[0m\u001B[0;34m]\u001B[0m\u001B[0;34m.\u001B[0m\u001B[0mvalues\u001B[0m\u001B[0;34m[\u001B[0m\u001B[0;36m0\u001B[0m\u001B[0;34m]\u001B[0m\u001B[0;34m,\u001B[0m\u001B[0;34m\u001B[0m\u001B[0;34m\u001B[0m\u001B[0m\n\u001B[0m\u001B[1;32m     34\u001B[0m         \u001B[0maxis\u001B[0m\u001B[0;34m=\u001B[0m\u001B[0;36m1\u001B[0m\u001B[0;34m\u001B[0m\u001B[0;34m\u001B[0m\u001B[0m\n\u001B[1;32m     35\u001B[0m     )\n",
      "\u001B[0;32m~/anaconda3/lib/python3.9/site-packages/pandas/core/indexing.py\u001B[0m in \u001B[0;36m__getitem__\u001B[0;34m(self, key)\u001B[0m\n\u001B[1;32m    919\u001B[0m         \u001B[0;32mif\u001B[0m \u001B[0mtype\u001B[0m\u001B[0;34m(\u001B[0m\u001B[0mkey\u001B[0m\u001B[0;34m)\u001B[0m \u001B[0;32mis\u001B[0m \u001B[0mtuple\u001B[0m\u001B[0;34m:\u001B[0m\u001B[0;34m\u001B[0m\u001B[0;34m\u001B[0m\u001B[0m\n\u001B[1;32m    920\u001B[0m             \u001B[0mkey\u001B[0m \u001B[0;34m=\u001B[0m \u001B[0mtuple\u001B[0m\u001B[0;34m(\u001B[0m\u001B[0mlist\u001B[0m\u001B[0;34m(\u001B[0m\u001B[0mx\u001B[0m\u001B[0;34m)\u001B[0m \u001B[0;32mif\u001B[0m \u001B[0mis_iterator\u001B[0m\u001B[0;34m(\u001B[0m\u001B[0mx\u001B[0m\u001B[0;34m)\u001B[0m \u001B[0;32melse\u001B[0m \u001B[0mx\u001B[0m \u001B[0;32mfor\u001B[0m \u001B[0mx\u001B[0m \u001B[0;32min\u001B[0m \u001B[0mkey\u001B[0m\u001B[0;34m)\u001B[0m\u001B[0;34m\u001B[0m\u001B[0;34m\u001B[0m\u001B[0m\n\u001B[0;32m--> 921\u001B[0;31m             \u001B[0mkey\u001B[0m \u001B[0;34m=\u001B[0m \u001B[0mtuple\u001B[0m\u001B[0;34m(\u001B[0m\u001B[0mcom\u001B[0m\u001B[0;34m.\u001B[0m\u001B[0mapply_if_callable\u001B[0m\u001B[0;34m(\u001B[0m\u001B[0mx\u001B[0m\u001B[0;34m,\u001B[0m \u001B[0mself\u001B[0m\u001B[0;34m.\u001B[0m\u001B[0mobj\u001B[0m\u001B[0;34m)\u001B[0m \u001B[0;32mfor\u001B[0m \u001B[0mx\u001B[0m \u001B[0;32min\u001B[0m \u001B[0mkey\u001B[0m\u001B[0;34m)\u001B[0m\u001B[0;34m\u001B[0m\u001B[0;34m\u001B[0m\u001B[0m\n\u001B[0m\u001B[1;32m    922\u001B[0m             \u001B[0;32mif\u001B[0m \u001B[0mself\u001B[0m\u001B[0;34m.\u001B[0m\u001B[0m_is_scalar_access\u001B[0m\u001B[0;34m(\u001B[0m\u001B[0mkey\u001B[0m\u001B[0;34m)\u001B[0m\u001B[0;34m:\u001B[0m\u001B[0;34m\u001B[0m\u001B[0;34m\u001B[0m\u001B[0m\n\u001B[1;32m    923\u001B[0m                 \u001B[0;32mwith\u001B[0m \u001B[0msuppress\u001B[0m\u001B[0;34m(\u001B[0m\u001B[0mKeyError\u001B[0m\u001B[0;34m,\u001B[0m \u001B[0mIndexError\u001B[0m\u001B[0;34m)\u001B[0m\u001B[0;34m:\u001B[0m\u001B[0;34m\u001B[0m\u001B[0;34m\u001B[0m\u001B[0m\n",
      "\u001B[0;32m~/anaconda3/lib/python3.9/site-packages/pandas/core/indexing.py\u001B[0m in \u001B[0;36m<genexpr>\u001B[0;34m(.0)\u001B[0m\n\u001B[1;32m    919\u001B[0m         \u001B[0;32mif\u001B[0m \u001B[0mtype\u001B[0m\u001B[0;34m(\u001B[0m\u001B[0mkey\u001B[0m\u001B[0;34m)\u001B[0m \u001B[0;32mis\u001B[0m \u001B[0mtuple\u001B[0m\u001B[0;34m:\u001B[0m\u001B[0;34m\u001B[0m\u001B[0;34m\u001B[0m\u001B[0m\n\u001B[1;32m    920\u001B[0m             \u001B[0mkey\u001B[0m \u001B[0;34m=\u001B[0m \u001B[0mtuple\u001B[0m\u001B[0;34m(\u001B[0m\u001B[0mlist\u001B[0m\u001B[0;34m(\u001B[0m\u001B[0mx\u001B[0m\u001B[0;34m)\u001B[0m \u001B[0;32mif\u001B[0m \u001B[0mis_iterator\u001B[0m\u001B[0;34m(\u001B[0m\u001B[0mx\u001B[0m\u001B[0;34m)\u001B[0m \u001B[0;32melse\u001B[0m \u001B[0mx\u001B[0m \u001B[0;32mfor\u001B[0m \u001B[0mx\u001B[0m \u001B[0;32min\u001B[0m \u001B[0mkey\u001B[0m\u001B[0;34m)\u001B[0m\u001B[0;34m\u001B[0m\u001B[0;34m\u001B[0m\u001B[0m\n\u001B[0;32m--> 921\u001B[0;31m             \u001B[0mkey\u001B[0m \u001B[0;34m=\u001B[0m \u001B[0mtuple\u001B[0m\u001B[0;34m(\u001B[0m\u001B[0mcom\u001B[0m\u001B[0;34m.\u001B[0m\u001B[0mapply_if_callable\u001B[0m\u001B[0;34m(\u001B[0m\u001B[0mx\u001B[0m\u001B[0;34m,\u001B[0m \u001B[0mself\u001B[0m\u001B[0;34m.\u001B[0m\u001B[0mobj\u001B[0m\u001B[0;34m)\u001B[0m \u001B[0;32mfor\u001B[0m \u001B[0mx\u001B[0m \u001B[0;32min\u001B[0m \u001B[0mkey\u001B[0m\u001B[0;34m)\u001B[0m\u001B[0;34m\u001B[0m\u001B[0;34m\u001B[0m\u001B[0m\n\u001B[0m\u001B[1;32m    922\u001B[0m             \u001B[0;32mif\u001B[0m \u001B[0mself\u001B[0m\u001B[0;34m.\u001B[0m\u001B[0m_is_scalar_access\u001B[0m\u001B[0;34m(\u001B[0m\u001B[0mkey\u001B[0m\u001B[0;34m)\u001B[0m\u001B[0;34m:\u001B[0m\u001B[0;34m\u001B[0m\u001B[0;34m\u001B[0m\u001B[0m\n\u001B[1;32m    923\u001B[0m                 \u001B[0;32mwith\u001B[0m \u001B[0msuppress\u001B[0m\u001B[0;34m(\u001B[0m\u001B[0mKeyError\u001B[0m\u001B[0;34m,\u001B[0m \u001B[0mIndexError\u001B[0m\u001B[0;34m)\u001B[0m\u001B[0;34m:\u001B[0m\u001B[0;34m\u001B[0m\u001B[0;34m\u001B[0m\u001B[0m\n",
      "\u001B[0;32m~/anaconda3/lib/python3.9/site-packages/pandas/core/common.py\u001B[0m in \u001B[0;36mapply_if_callable\u001B[0;34m(maybe_callable, obj, **kwargs)\u001B[0m\n\u001B[1;32m    344\u001B[0m \u001B[0;34m\u001B[0m\u001B[0m\n\u001B[1;32m    345\u001B[0m \u001B[0;34m\u001B[0m\u001B[0m\n\u001B[0;32m--> 346\u001B[0;31m \u001B[0;32mdef\u001B[0m \u001B[0mapply_if_callable\u001B[0m\u001B[0;34m(\u001B[0m\u001B[0mmaybe_callable\u001B[0m\u001B[0;34m,\u001B[0m \u001B[0mobj\u001B[0m\u001B[0;34m,\u001B[0m \u001B[0;34m**\u001B[0m\u001B[0mkwargs\u001B[0m\u001B[0;34m)\u001B[0m\u001B[0;34m:\u001B[0m\u001B[0;34m\u001B[0m\u001B[0;34m\u001B[0m\u001B[0m\n\u001B[0m\u001B[1;32m    347\u001B[0m     \"\"\"\n\u001B[1;32m    348\u001B[0m     \u001B[0mEvaluate\u001B[0m \u001B[0mpossibly\u001B[0m \u001B[0mcallable\u001B[0m \u001B[0minput\u001B[0m \u001B[0musing\u001B[0m \u001B[0mobj\u001B[0m \u001B[0;32mand\u001B[0m \u001B[0mkwargs\u001B[0m \u001B[0;32mif\u001B[0m \u001B[0mit\u001B[0m \u001B[0;32mis\u001B[0m \u001B[0mcallable\u001B[0m\u001B[0;34m,\u001B[0m\u001B[0;34m\u001B[0m\u001B[0;34m\u001B[0m\u001B[0m\n",
      "\u001B[0;31mKeyboardInterrupt\u001B[0m: "
     ]
    }
   ],
   "source": [
    "cpo_df_c_grouped = None\n",
    "iters = 10_000_000\n",
    "# Now Calculate actual RM for each cell\n",
    "\n",
    "# result = pd.DataFrame(columns=cpo_grouped_df['symbol'].values, index=sde_df.index)\n",
    "result = pd.DataFrame(columns=cpo_grouped_df['symbol'].values, index=sde_df.index[:50])\n",
    "cell_count = 0\n",
    "\n",
    "for idx, row in sde_df.head(50).iterrows():\n",
    "    time = timer()\n",
    "    cell = pd.DataFrame(row.index, columns=['symbol'])\n",
    "    cell['zscore'] = row.values\n",
    "    # Remove rows of cell if zscore is nan\n",
    "    cell.dropna(inplace=True)\n",
    "    cell.reset_index(drop=True, inplace=True)\n",
    "    cell.sort_values(by=['zscore'], ascending=[False], inplace=True)\n",
    "    cell.reset_index(drop=True, inplace=True)\n",
    "\n",
    "    cell['acti_rank'] = cell.index\n",
    "    cell['acti_rank'] = (cell['acti_rank'] + 0.5) / len(cell)\n",
    "\n",
    "    cell['inhi_rank'] = 1 - cell['acti_rank']\n",
    "\n",
    "    cpo_df_c = cpo_df.copy()\n",
    "    cpo_df_c = cpo_df_c[cpo_df_c['targetSymbol'].isin(cell['symbol'])]\n",
    "    cpo_df_c.reset_index(drop=True, inplace=True)\n",
    "\n",
    "    cpo_df_c['pos_rs'] = cpo_df_c.apply(\n",
    "        lambda x:\n",
    "        cell.loc[cell['symbol'] == x['targetSymbol'], 'acti_rank'].values[0]\n",
    "        if x['isUp'] == 1\n",
    "        else\n",
    "        cell.loc[cell['symbol'] == x['targetSymbol'], 'inhi_rank'].values[0],\n",
    "        axis=1\n",
    "    )\n",
    "    cpo_df_c['neg_rs'] = 1 - cpo_df_c['pos_rs']\n",
    "\n",
    "    # Group\n",
    "    cpo_df_c_grouped = cpo_df_c.groupby('symbol')['isUp'].apply(list).reset_index(name='upDownList')\n",
    "    cpo_df_c_grouped['targetList'] = cpo_df_c.groupby('symbol')['targetSymbol'].apply(list).reset_index(\n",
    "        name='targetList')['targetList']\n",
    "    cpo_df_c_grouped['upDownCount'] = cpo_df_c_grouped['upDownList'].apply(lambda x: len(x))\n",
    "    cpo_df_c_grouped['pos_rs'] = cpo_df_c.groupby('symbol')['pos_rs'].apply(list).reset_index(name='pos_rs')[\n",
    "        'pos_rs']\n",
    "    cpo_df_c_grouped['neg_rs'] = cpo_df_c.groupby('symbol')['neg_rs'].apply(list).reset_index(name='neg_rs')[\n",
    "        'neg_rs']\n",
    "    cpo_df_c_grouped['rs'] = cpo_df_c_grouped.apply(\n",
    "        lambda x: np.min([np.mean(x['pos_rs']), np.mean(x['neg_rs'])]),\n",
    "        axis=1\n",
    "    )\n",
    "    # if rs is pos_rs then it is up, if rs is neg_rs then it is down. So if rs is neg_rs then we need to multiply it by -1\n",
    "    cpo_df_c_grouped['rs'] = cpo_df_c_grouped.apply(\n",
    "        lambda x: x['rs'] if np.mean(x['pos_rs']) > np.mean(x['neg_rs']) else -1 * x['rs'],\n",
    "        axis=1\n",
    "    )\n",
    "\n",
    "    # Counting how many times the RS is less than the random distribution\n",
    "    for idx1, row1 in cpo_df_c_grouped.iterrows():\n",
    "        target = row1['upDownCount']\n",
    "        rs = row1['rs']\n",
    "        arr = distribution[target - 1]\n",
    "        count = np.searchsorted(arr, rs)\n",
    "        if count == 0:\n",
    "            count = count + 1\n",
    "        if np.sign(rs) == -1:\n",
    "            count = -1 * count\n",
    "        cpo_df_c_grouped.loc[idx1, 'count'] = count\n",
    "        cpo_df_c_grouped.loc[idx1, 'p-value'] = count / iters\n",
    "\n",
    "    # Collect p-values of all cells\n",
    "    result.loc[idx, cpo_df_c_grouped['symbol']] = cpo_df_c_grouped['p-value'].values\n",
    "    cell_count += 1\n",
    "    print(f\"Cell number: {cell_count} Time taken:  {timer() - time} seconds\")\n",
    "\n",
    "# Remove columns if all values are nan\n",
    "result.dropna(axis=1, how='all', inplace=True)\n",
    "result.to_csv('data/result.tsv', sep='\\t')"
   ]
  },
  {
   "cell_type": "code",
   "execution_count": 19,
   "outputs": [
    {
     "data": {
      "text/plain": "(50, 1476)"
     },
     "execution_count": 19,
     "metadata": {},
     "output_type": "execute_result"
    }
   ],
   "source": [
    "result.shape"
   ],
   "metadata": {
    "collapsed": false,
    "ExecuteTime": {
     "end_time": "2023-07-19T18:59:56.511247811Z",
     "start_time": "2023-07-19T18:59:56.503040703Z"
    }
   }
  },
  {
   "cell_type": "markdown",
   "metadata": {
    "collapsed": false
   },
   "source": [
    "### Lets parallelize the above code"
   ]
  },
  {
   "cell_type": "code",
   "execution_count": 31,
   "metadata": {
    "collapsed": false,
    "ExecuteTime": {
     "end_time": "2023-07-20T18:48:57.287757318Z",
     "start_time": "2023-07-20T18:44:32.689356981Z"
    }
   },
   "outputs": [
    {
     "name": "stderr",
     "output_type": "stream",
     "text": [
      "[Parallel(n_jobs=-1)]: Using backend MultiprocessingBackend with 28 concurrent workers.\n",
      "[Parallel(n_jobs=-1)]: Done   5 tasks      | elapsed:    0.7s\n",
      "[Parallel(n_jobs=-1)]: Done  16 tasks      | elapsed:    1.0s\n",
      "[Parallel(n_jobs=-1)]: Done  29 tasks      | elapsed:    1.6s\n",
      "[Parallel(n_jobs=-1)]: Done  42 tasks      | elapsed:    2.2s\n",
      "[Parallel(n_jobs=-1)]: Done  57 tasks      | elapsed:    2.9s\n",
      "[Parallel(n_jobs=-1)]: Done  72 tasks      | elapsed:    3.5s\n",
      "[Parallel(n_jobs=-1)]: Done  89 tasks      | elapsed:    4.2s\n",
      "[Parallel(n_jobs=-1)]: Done 106 tasks      | elapsed:    4.9s\n",
      "[Parallel(n_jobs=-1)]: Done 125 tasks      | elapsed:    5.7s\n",
      "[Parallel(n_jobs=-1)]: Done 144 tasks      | elapsed:    6.5s\n",
      "[Parallel(n_jobs=-1)]: Done 165 tasks      | elapsed:    7.6s\n",
      "[Parallel(n_jobs=-1)]: Done 186 tasks      | elapsed:    8.4s\n",
      "[Parallel(n_jobs=-1)]: Done 209 tasks      | elapsed:    9.3s\n",
      "[Parallel(n_jobs=-1)]: Done 232 tasks      | elapsed:   10.1s\n",
      "[Parallel(n_jobs=-1)]: Done 257 tasks      | elapsed:   11.4s\n",
      "[Parallel(n_jobs=-1)]: Done 282 tasks      | elapsed:   12.6s\n",
      "[Parallel(n_jobs=-1)]: Done 309 tasks      | elapsed:   13.6s\n",
      "[Parallel(n_jobs=-1)]: Done 336 tasks      | elapsed:   14.8s\n",
      "[Parallel(n_jobs=-1)]: Done 365 tasks      | elapsed:   16.0s\n",
      "[Parallel(n_jobs=-1)]: Done 394 tasks      | elapsed:   17.2s\n",
      "[Parallel(n_jobs=-1)]: Done 425 tasks      | elapsed:   18.7s\n",
      "[Parallel(n_jobs=-1)]: Done 456 tasks      | elapsed:   20.0s\n",
      "[Parallel(n_jobs=-1)]: Done 489 tasks      | elapsed:   21.4s\n",
      "[Parallel(n_jobs=-1)]: Done 522 tasks      | elapsed:   22.7s\n",
      "[Parallel(n_jobs=-1)]: Done 557 tasks      | elapsed:   24.1s\n",
      "[Parallel(n_jobs=-1)]: Done 592 tasks      | elapsed:   25.7s\n",
      "[Parallel(n_jobs=-1)]: Done 629 tasks      | elapsed:   27.3s\n",
      "[Parallel(n_jobs=-1)]: Done 666 tasks      | elapsed:   29.0s\n",
      "[Parallel(n_jobs=-1)]: Done 705 tasks      | elapsed:   30.6s\n",
      "[Parallel(n_jobs=-1)]: Done 744 tasks      | elapsed:   32.2s\n",
      "[Parallel(n_jobs=-1)]: Done 785 tasks      | elapsed:   33.9s\n",
      "[Parallel(n_jobs=-1)]: Done 826 tasks      | elapsed:   35.8s\n",
      "[Parallel(n_jobs=-1)]: Done 869 tasks      | elapsed:   37.5s\n",
      "[Parallel(n_jobs=-1)]: Done 912 tasks      | elapsed:   39.7s\n",
      "[Parallel(n_jobs=-1)]: Done 957 tasks      | elapsed:   41.5s\n",
      "[Parallel(n_jobs=-1)]: Done 1002 tasks      | elapsed:   43.6s\n",
      "[Parallel(n_jobs=-1)]: Done 1049 tasks      | elapsed:   45.8s\n",
      "[Parallel(n_jobs=-1)]: Done 1096 tasks      | elapsed:   47.8s\n",
      "[Parallel(n_jobs=-1)]: Done 1145 tasks      | elapsed:   49.8s\n",
      "[Parallel(n_jobs=-1)]: Done 1194 tasks      | elapsed:   52.0s\n",
      "[Parallel(n_jobs=-1)]: Done 1245 tasks      | elapsed:   53.8s\n",
      "[Parallel(n_jobs=-1)]: Done 1296 tasks      | elapsed:   56.5s\n",
      "[Parallel(n_jobs=-1)]: Done 1349 tasks      | elapsed:   58.5s\n",
      "[Parallel(n_jobs=-1)]: Done 1402 tasks      | elapsed:  1.0min\n",
      "[Parallel(n_jobs=-1)]: Done 1457 tasks      | elapsed:  1.1min\n",
      "[Parallel(n_jobs=-1)]: Done 1512 tasks      | elapsed:  1.1min\n",
      "[Parallel(n_jobs=-1)]: Done 1569 tasks      | elapsed:  1.1min\n",
      "[Parallel(n_jobs=-1)]: Done 1626 tasks      | elapsed:  1.2min\n",
      "[Parallel(n_jobs=-1)]: Done 1685 tasks      | elapsed:  1.2min\n",
      "[Parallel(n_jobs=-1)]: Done 1744 tasks      | elapsed:  1.3min\n",
      "[Parallel(n_jobs=-1)]: Done 1805 tasks      | elapsed:  1.3min\n",
      "[Parallel(n_jobs=-1)]: Done 1866 tasks      | elapsed:  1.3min\n",
      "[Parallel(n_jobs=-1)]: Done 1929 tasks      | elapsed:  1.4min\n",
      "[Parallel(n_jobs=-1)]: Done 1992 tasks      | elapsed:  1.4min\n",
      "[Parallel(n_jobs=-1)]: Done 2057 tasks      | elapsed:  1.5min\n",
      "[Parallel(n_jobs=-1)]: Done 2122 tasks      | elapsed:  1.5min\n",
      "[Parallel(n_jobs=-1)]: Done 2189 tasks      | elapsed:  1.6min\n",
      "[Parallel(n_jobs=-1)]: Done 2256 tasks      | elapsed:  1.6min\n",
      "[Parallel(n_jobs=-1)]: Done 2325 tasks      | elapsed:  1.7min\n",
      "[Parallel(n_jobs=-1)]: Done 2394 tasks      | elapsed:  1.7min\n",
      "[Parallel(n_jobs=-1)]: Done 2465 tasks      | elapsed:  1.8min\n",
      "[Parallel(n_jobs=-1)]: Done 2536 tasks      | elapsed:  1.8min\n",
      "[Parallel(n_jobs=-1)]: Done 2609 tasks      | elapsed:  1.9min\n",
      "[Parallel(n_jobs=-1)]: Done 2682 tasks      | elapsed:  1.9min\n",
      "[Parallel(n_jobs=-1)]: Done 2757 tasks      | elapsed:  2.0min\n",
      "[Parallel(n_jobs=-1)]: Done 2832 tasks      | elapsed:  2.1min\n",
      "[Parallel(n_jobs=-1)]: Done 2909 tasks      | elapsed:  2.1min\n",
      "[Parallel(n_jobs=-1)]: Done 2986 tasks      | elapsed:  2.2min\n",
      "[Parallel(n_jobs=-1)]: Done 3065 tasks      | elapsed:  2.2min\n",
      "[Parallel(n_jobs=-1)]: Done 3144 tasks      | elapsed:  2.3min\n",
      "[Parallel(n_jobs=-1)]: Done 3225 tasks      | elapsed:  2.3min\n",
      "[Parallel(n_jobs=-1)]: Done 3306 tasks      | elapsed:  2.4min\n",
      "[Parallel(n_jobs=-1)]: Done 3389 tasks      | elapsed:  2.5min\n",
      "[Parallel(n_jobs=-1)]: Done 3472 tasks      | elapsed:  2.5min\n",
      "[Parallel(n_jobs=-1)]: Done 3557 tasks      | elapsed:  2.6min\n",
      "[Parallel(n_jobs=-1)]: Done 3642 tasks      | elapsed:  2.7min\n",
      "[Parallel(n_jobs=-1)]: Done 3729 tasks      | elapsed:  2.8min\n",
      "[Parallel(n_jobs=-1)]: Done 3816 tasks      | elapsed:  2.9min\n",
      "[Parallel(n_jobs=-1)]: Done 3905 tasks      | elapsed:  3.0min\n",
      "[Parallel(n_jobs=-1)]: Done 3994 tasks      | elapsed:  3.2min\n",
      "[Parallel(n_jobs=-1)]: Done 4085 tasks      | elapsed:  3.3min\n",
      "[Parallel(n_jobs=-1)]: Done 4176 tasks      | elapsed:  3.4min\n",
      "[Parallel(n_jobs=-1)]: Done 4269 tasks      | elapsed:  3.6min\n",
      "[Parallel(n_jobs=-1)]: Done 4362 tasks      | elapsed:  3.7min\n",
      "[Parallel(n_jobs=-1)]: Done 4457 tasks      | elapsed:  3.8min\n",
      "[Parallel(n_jobs=-1)]: Done 4552 tasks      | elapsed:  4.0min\n",
      "[Parallel(n_jobs=-1)]: Done 4649 tasks      | elapsed:  4.1min\n",
      "[Parallel(n_jobs=-1)]: Done 4797 out of 4797 | elapsed:  4.3min finished\n"
     ]
    },
    {
     "data": {
      "text/plain": "                                  A2M          AATF         ABCA1  \\\nmidpoint_AAACCTGCACCCAGTG-1       NaN           NaN           NaN   \nmidpoint_AAACCTGCAGCTTAAC-1  0.677111           NaN           NaN   \nmidpoint_AAACCTGGTGTGCGTC-1  0.893910  2.113175e-01           NaN   \nmidpoint_AAACCTGGTTGAACTC-1  0.974321           NaN -1.000000e-07   \nmidpoint_AAACGGGAGGATGGTC-1  0.466762 -1.000000e-07 -1.000000e-07   \n...                               ...           ...           ...   \ntumor_TTTCCTCGTATGCTTG-1     0.035907 -1.000000e-07  3.919120e-01   \ntumor_TTTGCGCCACGGTTTA-1     0.033517 -1.000000e-07  4.430793e-01   \ntumor_TTTGGTTCAGCCTGTG-1     0.073846  1.728569e-01  1.828797e-01   \ntumor_TTTGGTTCAGTGAGTG-1     0.032517  9.817630e-01 -1.000000e-07   \ntumor_TTTGGTTGTGCAACTT-1     0.041897  2.088322e-01           NaN   \n\n                                    ABCA3         ABCB1         ABCG1  \\\nmidpoint_AAACCTGCACCCAGTG-1 -1.000000e-07 -1.000000e-07           NaN   \nmidpoint_AAACCTGCAGCTTAAC-1           NaN -1.000000e-07           NaN   \nmidpoint_AAACCTGGTGTGCGTC-1 -1.000000e-07  3.052760e-02           NaN   \nmidpoint_AAACCTGGTTGAACTC-1 -1.000000e-07 -1.000000e-07 -1.000000e-07   \nmidpoint_AAACGGGAGGATGGTC-1           NaN  5.493695e-01 -1.000000e-07   \n...                                   ...           ...           ...   \ntumor_TTTCCTCGTATGCTTG-1              NaN -1.000000e-07  2.479063e-01   \ntumor_TTTGCGCCACGGTTTA-1     8.286626e-01 -1.000000e-07  2.595700e-01   \ntumor_TTTGGTTCAGCCTGTG-1     6.590581e-01  1.079600e-03  2.035657e-01   \ntumor_TTTGGTTCAGTGAGTG-1     2.829734e-01  8.013800e-03  6.511015e-01   \ntumor_TTTGGTTGTGCAACTT-1     8.925109e-01  4.359879e-01           NaN   \n\n                                    ABCG5         ABCG8          ABL1  \\\nmidpoint_AAACCTGCACCCAGTG-1           NaN           NaN  5.659419e-01   \nmidpoint_AAACCTGCAGCTTAAC-1           NaN           NaN -1.000000e-07   \nmidpoint_AAACCTGGTGTGCGTC-1           NaN           NaN -1.000000e-07   \nmidpoint_AAACCTGGTTGAACTC-1 -1.000000e-07 -1.000000e-07  9.781122e-01   \nmidpoint_AAACGGGAGGATGGTC-1 -1.000000e-07 -1.000000e-07  2.410608e-01   \n...                                   ...           ...           ...   \ntumor_TTTCCTCGTATGCTTG-1     2.479063e-01  2.479063e-01  4.314475e-01   \ntumor_TTTGCGCCACGGTTTA-1     2.595700e-01  2.595700e-01 -1.000000e-07   \ntumor_TTTGGTTCAGCCTGTG-1     2.035657e-01  2.035657e-01  1.582754e-01   \ntumor_TTTGGTTCAGTGAGTG-1     6.511015e-01  6.511015e-01 -1.000000e-07   \ntumor_TTTGGTTGTGCAACTT-1              NaN           NaN -1.000000e-07   \n\n                                    ACACA  ...        ZNF350        ZNF382  \\\nmidpoint_AAACCTGCACCCAGTG-1           NaN  ...           NaN  1.963683e-01   \nmidpoint_AAACCTGCAGCTTAAC-1           NaN  ...           NaN  5.918660e-01   \nmidpoint_AAACCTGGTGTGCGTC-1           NaN  ...  2.450706e-01 -1.000000e-07   \nmidpoint_AAACCTGGTTGAACTC-1 -1.000000e-07  ...           NaN  6.536430e-02   \nmidpoint_AAACGGGAGGATGGTC-1           NaN  ... -1.000000e-07 -1.000000e-07   \n...                                   ...  ...           ...           ...   \ntumor_TTTCCTCGTATGCTTG-1              NaN  ...  1.192393e-01  7.069640e-02   \ntumor_TTTGCGCCACGGTTTA-1     8.286626e-01  ...  8.395017e-01 -1.000000e-07   \ntumor_TTTGGTTCAGCCTGTG-1              NaN  ... -1.000000e-07 -1.000000e-07   \ntumor_TTTGGTTCAGTGAGTG-1              NaN  ...  1.914890e-02 -1.000000e-07   \ntumor_TTTGGTTGTGCAACTT-1     8.925109e-01  ...  1.089170e-01 -1.000000e-07   \n\n                                   ZNF383       ZNF385A  ZNF444  ZNF467  \\\nmidpoint_AAACCTGCACCCAGTG-1           NaN  4.533515e-01     NaN     NaN   \nmidpoint_AAACCTGCAGCTTAAC-1           NaN -1.000000e-07     NaN     NaN   \nmidpoint_AAACCTGGTGTGCGTC-1 -1.000000e-07 -1.000000e-07     NaN     NaN   \nmidpoint_AAACCTGGTTGAACTC-1  1.842525e-01  2.382358e-01     NaN     NaN   \nmidpoint_AAACGGGAGGATGGTC-1 -1.000000e-07  2.973550e-02     NaN     NaN   \n...                                   ...           ...     ...     ...   \ntumor_TTTCCTCGTATGCTTG-1     3.347581e-01 -1.000000e-07     NaN     NaN   \ntumor_TTTGCGCCACGGTTTA-1     3.628036e-01 -1.000000e-07     NaN     NaN   \ntumor_TTTGGTTCAGCCTGTG-1     7.714933e-01 -1.000000e-07     NaN     NaN   \ntumor_TTTGGTTCAGTGAGTG-1    -1.000000e-07 -1.000000e-07     NaN     NaN   \ntumor_TTTGGTTGTGCAACTT-1    -1.000000e-07 -1.000000e-07     NaN     NaN   \n\n                             ZNF638         ZNF76     ZNRD1           ZYX  \nmidpoint_AAACCTGCACCCAGTG-1     NaN           NaN       NaN           NaN  \nmidpoint_AAACCTGCAGCTTAAC-1     NaN  5.707351e-01       NaN           NaN  \nmidpoint_AAACCTGGTGTGCGTC-1     NaN  5.635126e-01       NaN -1.000000e-07  \nmidpoint_AAACCTGGTTGAACTC-1     NaN -1.000000e-07  0.765877           NaN  \nmidpoint_AAACGGGAGGATGGTC-1     NaN -1.000000e-07       NaN           NaN  \n...                             ...           ...       ...           ...  \ntumor_TTTCCTCGTATGCTTG-1        NaN  3.394855e-01       NaN  4.529453e-01  \ntumor_TTTGCGCCACGGTTTA-1        NaN  2.595700e-01       NaN -1.000000e-07  \ntumor_TTTGGTTCAGCCTGTG-1        NaN -1.000000e-07       NaN           NaN  \ntumor_TTTGGTTCAGTGAGTG-1        NaN  2.394942e-01  0.087613  4.367911e-01  \ntumor_TTTGGTTGTGCAACTT-1        NaN  4.359813e-01       NaN -1.000000e-07  \n\n[4797 rows x 1709 columns]",
      "text/html": "<div>\n<style scoped>\n    .dataframe tbody tr th:only-of-type {\n        vertical-align: middle;\n    }\n\n    .dataframe tbody tr th {\n        vertical-align: top;\n    }\n\n    .dataframe thead th {\n        text-align: right;\n    }\n</style>\n<table border=\"1\" class=\"dataframe\">\n  <thead>\n    <tr style=\"text-align: right;\">\n      <th></th>\n      <th>A2M</th>\n      <th>AATF</th>\n      <th>ABCA1</th>\n      <th>ABCA3</th>\n      <th>ABCB1</th>\n      <th>ABCG1</th>\n      <th>ABCG5</th>\n      <th>ABCG8</th>\n      <th>ABL1</th>\n      <th>ACACA</th>\n      <th>...</th>\n      <th>ZNF350</th>\n      <th>ZNF382</th>\n      <th>ZNF383</th>\n      <th>ZNF385A</th>\n      <th>ZNF444</th>\n      <th>ZNF467</th>\n      <th>ZNF638</th>\n      <th>ZNF76</th>\n      <th>ZNRD1</th>\n      <th>ZYX</th>\n    </tr>\n  </thead>\n  <tbody>\n    <tr>\n      <th>midpoint_AAACCTGCACCCAGTG-1</th>\n      <td>NaN</td>\n      <td>NaN</td>\n      <td>NaN</td>\n      <td>-1.000000e-07</td>\n      <td>-1.000000e-07</td>\n      <td>NaN</td>\n      <td>NaN</td>\n      <td>NaN</td>\n      <td>5.659419e-01</td>\n      <td>NaN</td>\n      <td>...</td>\n      <td>NaN</td>\n      <td>1.963683e-01</td>\n      <td>NaN</td>\n      <td>4.533515e-01</td>\n      <td>NaN</td>\n      <td>NaN</td>\n      <td>NaN</td>\n      <td>NaN</td>\n      <td>NaN</td>\n      <td>NaN</td>\n    </tr>\n    <tr>\n      <th>midpoint_AAACCTGCAGCTTAAC-1</th>\n      <td>0.677111</td>\n      <td>NaN</td>\n      <td>NaN</td>\n      <td>NaN</td>\n      <td>-1.000000e-07</td>\n      <td>NaN</td>\n      <td>NaN</td>\n      <td>NaN</td>\n      <td>-1.000000e-07</td>\n      <td>NaN</td>\n      <td>...</td>\n      <td>NaN</td>\n      <td>5.918660e-01</td>\n      <td>NaN</td>\n      <td>-1.000000e-07</td>\n      <td>NaN</td>\n      <td>NaN</td>\n      <td>NaN</td>\n      <td>5.707351e-01</td>\n      <td>NaN</td>\n      <td>NaN</td>\n    </tr>\n    <tr>\n      <th>midpoint_AAACCTGGTGTGCGTC-1</th>\n      <td>0.893910</td>\n      <td>2.113175e-01</td>\n      <td>NaN</td>\n      <td>-1.000000e-07</td>\n      <td>3.052760e-02</td>\n      <td>NaN</td>\n      <td>NaN</td>\n      <td>NaN</td>\n      <td>-1.000000e-07</td>\n      <td>NaN</td>\n      <td>...</td>\n      <td>2.450706e-01</td>\n      <td>-1.000000e-07</td>\n      <td>-1.000000e-07</td>\n      <td>-1.000000e-07</td>\n      <td>NaN</td>\n      <td>NaN</td>\n      <td>NaN</td>\n      <td>5.635126e-01</td>\n      <td>NaN</td>\n      <td>-1.000000e-07</td>\n    </tr>\n    <tr>\n      <th>midpoint_AAACCTGGTTGAACTC-1</th>\n      <td>0.974321</td>\n      <td>NaN</td>\n      <td>-1.000000e-07</td>\n      <td>-1.000000e-07</td>\n      <td>-1.000000e-07</td>\n      <td>-1.000000e-07</td>\n      <td>-1.000000e-07</td>\n      <td>-1.000000e-07</td>\n      <td>9.781122e-01</td>\n      <td>-1.000000e-07</td>\n      <td>...</td>\n      <td>NaN</td>\n      <td>6.536430e-02</td>\n      <td>1.842525e-01</td>\n      <td>2.382358e-01</td>\n      <td>NaN</td>\n      <td>NaN</td>\n      <td>NaN</td>\n      <td>-1.000000e-07</td>\n      <td>0.765877</td>\n      <td>NaN</td>\n    </tr>\n    <tr>\n      <th>midpoint_AAACGGGAGGATGGTC-1</th>\n      <td>0.466762</td>\n      <td>-1.000000e-07</td>\n      <td>-1.000000e-07</td>\n      <td>NaN</td>\n      <td>5.493695e-01</td>\n      <td>-1.000000e-07</td>\n      <td>-1.000000e-07</td>\n      <td>-1.000000e-07</td>\n      <td>2.410608e-01</td>\n      <td>NaN</td>\n      <td>...</td>\n      <td>-1.000000e-07</td>\n      <td>-1.000000e-07</td>\n      <td>-1.000000e-07</td>\n      <td>2.973550e-02</td>\n      <td>NaN</td>\n      <td>NaN</td>\n      <td>NaN</td>\n      <td>-1.000000e-07</td>\n      <td>NaN</td>\n      <td>NaN</td>\n    </tr>\n    <tr>\n      <th>...</th>\n      <td>...</td>\n      <td>...</td>\n      <td>...</td>\n      <td>...</td>\n      <td>...</td>\n      <td>...</td>\n      <td>...</td>\n      <td>...</td>\n      <td>...</td>\n      <td>...</td>\n      <td>...</td>\n      <td>...</td>\n      <td>...</td>\n      <td>...</td>\n      <td>...</td>\n      <td>...</td>\n      <td>...</td>\n      <td>...</td>\n      <td>...</td>\n      <td>...</td>\n      <td>...</td>\n    </tr>\n    <tr>\n      <th>tumor_TTTCCTCGTATGCTTG-1</th>\n      <td>0.035907</td>\n      <td>-1.000000e-07</td>\n      <td>3.919120e-01</td>\n      <td>NaN</td>\n      <td>-1.000000e-07</td>\n      <td>2.479063e-01</td>\n      <td>2.479063e-01</td>\n      <td>2.479063e-01</td>\n      <td>4.314475e-01</td>\n      <td>NaN</td>\n      <td>...</td>\n      <td>1.192393e-01</td>\n      <td>7.069640e-02</td>\n      <td>3.347581e-01</td>\n      <td>-1.000000e-07</td>\n      <td>NaN</td>\n      <td>NaN</td>\n      <td>NaN</td>\n      <td>3.394855e-01</td>\n      <td>NaN</td>\n      <td>4.529453e-01</td>\n    </tr>\n    <tr>\n      <th>tumor_TTTGCGCCACGGTTTA-1</th>\n      <td>0.033517</td>\n      <td>-1.000000e-07</td>\n      <td>4.430793e-01</td>\n      <td>8.286626e-01</td>\n      <td>-1.000000e-07</td>\n      <td>2.595700e-01</td>\n      <td>2.595700e-01</td>\n      <td>2.595700e-01</td>\n      <td>-1.000000e-07</td>\n      <td>8.286626e-01</td>\n      <td>...</td>\n      <td>8.395017e-01</td>\n      <td>-1.000000e-07</td>\n      <td>3.628036e-01</td>\n      <td>-1.000000e-07</td>\n      <td>NaN</td>\n      <td>NaN</td>\n      <td>NaN</td>\n      <td>2.595700e-01</td>\n      <td>NaN</td>\n      <td>-1.000000e-07</td>\n    </tr>\n    <tr>\n      <th>tumor_TTTGGTTCAGCCTGTG-1</th>\n      <td>0.073846</td>\n      <td>1.728569e-01</td>\n      <td>1.828797e-01</td>\n      <td>6.590581e-01</td>\n      <td>1.079600e-03</td>\n      <td>2.035657e-01</td>\n      <td>2.035657e-01</td>\n      <td>2.035657e-01</td>\n      <td>1.582754e-01</td>\n      <td>NaN</td>\n      <td>...</td>\n      <td>-1.000000e-07</td>\n      <td>-1.000000e-07</td>\n      <td>7.714933e-01</td>\n      <td>-1.000000e-07</td>\n      <td>NaN</td>\n      <td>NaN</td>\n      <td>NaN</td>\n      <td>-1.000000e-07</td>\n      <td>NaN</td>\n      <td>NaN</td>\n    </tr>\n    <tr>\n      <th>tumor_TTTGGTTCAGTGAGTG-1</th>\n      <td>0.032517</td>\n      <td>9.817630e-01</td>\n      <td>-1.000000e-07</td>\n      <td>2.829734e-01</td>\n      <td>8.013800e-03</td>\n      <td>6.511015e-01</td>\n      <td>6.511015e-01</td>\n      <td>6.511015e-01</td>\n      <td>-1.000000e-07</td>\n      <td>NaN</td>\n      <td>...</td>\n      <td>1.914890e-02</td>\n      <td>-1.000000e-07</td>\n      <td>-1.000000e-07</td>\n      <td>-1.000000e-07</td>\n      <td>NaN</td>\n      <td>NaN</td>\n      <td>NaN</td>\n      <td>2.394942e-01</td>\n      <td>0.087613</td>\n      <td>4.367911e-01</td>\n    </tr>\n    <tr>\n      <th>tumor_TTTGGTTGTGCAACTT-1</th>\n      <td>0.041897</td>\n      <td>2.088322e-01</td>\n      <td>NaN</td>\n      <td>8.925109e-01</td>\n      <td>4.359879e-01</td>\n      <td>NaN</td>\n      <td>NaN</td>\n      <td>NaN</td>\n      <td>-1.000000e-07</td>\n      <td>8.925109e-01</td>\n      <td>...</td>\n      <td>1.089170e-01</td>\n      <td>-1.000000e-07</td>\n      <td>-1.000000e-07</td>\n      <td>-1.000000e-07</td>\n      <td>NaN</td>\n      <td>NaN</td>\n      <td>NaN</td>\n      <td>4.359813e-01</td>\n      <td>NaN</td>\n      <td>-1.000000e-07</td>\n    </tr>\n  </tbody>\n</table>\n<p>4797 rows × 1709 columns</p>\n</div>"
     },
     "execution_count": 31,
     "metadata": {},
     "output_type": "execute_result"
    }
   ],
   "source": [
    "iters = 10_000_000\n",
    "\n",
    "result = pd.DataFrame(columns=cpo_grouped_df['symbol'].values, index=sde_df.index)\n",
    "\n",
    "\n",
    "def cell_worker(row, idx):\n",
    "    # time = timer()\n",
    "    cell = pd.DataFrame({'symbol': row.index, 'zscore': row.values})\n",
    "    # Remove rows of cell if zscore is nan\n",
    "    cell.dropna(inplace=True)\n",
    "    cell.reset_index(drop=True, inplace=True)\n",
    "    cell.sort_values(by=['zscore'], ascending=[False], inplace=True)\n",
    "    cell.reset_index(drop=True, inplace=True)\n",
    "\n",
    "    cell['acti_rank'] = cell.index\n",
    "    cell['acti_rank'] = (cell['acti_rank'] + 0.5) / len(cell)\n",
    "    cell['inhi_rank'] = 1 - cell['acti_rank']\n",
    "\n",
    "    cpo_df_c = cpo_df.copy()\n",
    "    cpo_df_c = cpo_df_c[cpo_df_c['targetSymbol'].isin(cell['symbol'])]\n",
    "    cpo_df_c.reset_index(drop=True, inplace=True)\n",
    "\n",
    "    cpo_df_c['pos_rs'] = cpo_df_c.apply(\n",
    "        lambda x:\n",
    "        cell.loc[cell['symbol'] == x['targetSymbol'], 'acti_rank'].values[0]\n",
    "        if x['isUp'] == 1\n",
    "        else\n",
    "        cell.loc[cell['symbol'] == x['targetSymbol'], 'inhi_rank'].values[0],\n",
    "        axis=1\n",
    "    )\n",
    "    cpo_df_c['neg_rs'] = 1 - cpo_df_c['pos_rs']\n",
    "\n",
    "    # Group\n",
    "    cpo_df_c_grouped = cpo_df_c.groupby('symbol')['isUp'].apply(list).reset_index(name='upDownList')\n",
    "    cpo_df_c_grouped['targetList'] = \\\n",
    "        cpo_df_c.groupby('symbol')['targetSymbol'].apply(list).reset_index(name='targetList')['targetList']\n",
    "    cpo_df_c_grouped['upDownCount'] = cpo_df_c_grouped['upDownList'].apply(lambda x: len(x))\n",
    "    cpo_df_c_grouped['pos_rs'] = cpo_df_c.groupby('symbol')['pos_rs'].apply(list).reset_index(name='pos_rs')['pos_rs']\n",
    "    cpo_df_c_grouped['neg_rs'] = cpo_df_c.groupby('symbol')['neg_rs'].apply(list).reset_index(name='neg_rs')['neg_rs']\n",
    "    cpo_df_c_grouped['rs'] = cpo_df_c_grouped.apply(\n",
    "        lambda x: np.min([np.mean(x['pos_rs']), np.mean(x['neg_rs'])]), axis=1\n",
    "    )\n",
    "    # if rs is pos_rs then it is up, if rs is neg_rs then it is down. So if rs is neg_rs then we need to multiply it by -1\n",
    "    cpo_df_c_grouped['rs'] = cpo_df_c_grouped.apply(\n",
    "        lambda x: x['rs'] if np.mean(x['pos_rs']) > np.mean(x['neg_rs']) else -1 * x['rs'], axis=1\n",
    "    )\n",
    "\n",
    "    # Counting how many times the RS is less than the random distribution\n",
    "    for idx1, row1 in cpo_df_c_grouped.iterrows():\n",
    "        arr = distribution[row1['upDownCount'] - 1]\n",
    "        rs_count = np.searchsorted(arr, row1['rs'])\n",
    "        if rs_count == 0:\n",
    "            rs_count = rs_count + 1\n",
    "        if np.sign(row1['rs']) == -1:\n",
    "            rs_count = -1 * rs_count\n",
    "        cpo_df_c_grouped.loc[idx1, 'count'] = rs_count\n",
    "        cpo_df_c_grouped.loc[idx1, 'p-value'] = rs_count / iters\n",
    "\n",
    "    result.loc[idx, cpo_df_c_grouped['symbol']] = cpo_df_c_grouped['p-value'].values\n",
    "    return result.loc[idx].values\n",
    "\n",
    "\n",
    "parallel = Parallel(n_jobs=-1, verbose=10, backend=\"multiprocessing\")\n",
    "output = parallel(delayed(cell_worker)(row, idx) for idx, row in sde_df.iterrows())\n",
    "output = pd.DataFrame(output, columns=cpo_grouped_df['symbol'].values, index=sde_df.index)\n",
    "output.dropna(axis=1, how='all', inplace=True)\n",
    "output.to_csv('data/output_parallel.tsv', sep='\\t')\n",
    "\n",
    "output"
   ]
  },
  {
   "cell_type": "code",
   "execution_count": 32,
   "outputs": [
    {
     "data": {
      "text/plain": "(4797, 1709)"
     },
     "execution_count": 32,
     "metadata": {},
     "output_type": "execute_result"
    }
   ],
   "source": [
    "output.shape"
   ],
   "metadata": {
    "collapsed": false,
    "ExecuteTime": {
     "end_time": "2023-07-20T19:00:12.869100471Z",
     "start_time": "2023-07-20T19:00:12.780866643Z"
    }
   }
  },
  {
   "cell_type": "markdown",
   "source": [
    "---"
   ],
   "metadata": {
    "collapsed": false
   }
  },
  {
   "cell_type": "code",
   "execution_count": 35,
   "metadata": {
    "collapsed": false,
    "ExecuteTime": {
     "end_time": "2023-07-20T19:01:00.042926596Z",
     "start_time": "2023-07-20T19:00:58.022167082Z"
    }
   },
   "outputs": [
    {
     "data": {
      "text/plain": "<Figure size 432x288 with 1 Axes>",
      "image/png": "[encoded data removed]"
     },
     "metadata": {
      "needs_background": "light"
     },
     "output_type": "display_data"
    }
   ],
   "source": [
    "import matplotlib.pyplot as plt\n",
    "\n",
    "t1 = distribution[210]\n",
    "\n",
    "# bins and count from plt.hist\n",
    "count, bins, ignored = plt.hist(t1, bins=1000)\n",
    "plt.show()"
   ]
  },
  {
   "cell_type": "code",
   "execution_count": null,
   "outputs": [],
   "source": [],
   "metadata": {
    "collapsed": false
   }
  }
 ],
 "metadata": {
  "kernelspec": {
   "display_name": "Python 3",
   "language": "python",
   "name": "python3"
  },
  "language_info": {
   "codemirror_mode": {
    "name": "ipython",
    "version": 2
   },
   "file_extension": ".py",
   "mimetype": "text/x-python",
   "name": "python",
   "nbconvert_exporter": "python",
   "pygments_lexer": "ipython2",
   "version": "2.7.6"
  }
 },
 "nbformat": 4,
 "nbformat_minor": 0
}
