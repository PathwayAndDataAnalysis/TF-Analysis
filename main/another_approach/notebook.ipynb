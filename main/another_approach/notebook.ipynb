{
 "cells": [
  {
   "cell_type": "code",
   "execution_count": 1,
   "metadata": {
    "collapsed": true,
    "ExecuteTime": {
     "end_time": "2023-07-14T23:33:13.342938Z",
     "start_time": "2023-07-14T23:33:10.951875Z"
    }
   },
   "outputs": [],
   "source": [
    "import pandas as pd\n",
    "import numpy as np\n",
    "from scipy.stats import zscore"
   ]
  },
  {
   "cell_type": "code",
   "execution_count": 2,
   "outputs": [
    {
     "name": "stdout",
     "output_type": "stream",
     "text": [
      "Files read complete...\n"
     ]
    }
   ],
   "source": [
    "cp_file = '../../data/causal-priors.txt'\n",
    "sde_file = '../../data/mouse_to_human_normalized5k.tsv'\n",
    "\n",
    "cpo_df = pd.read_csv(cp_file, sep='\\t', header=None, usecols=[0, 1, 2], names=['symbol', 'action', 'targetSymbol'])\n",
    "cpo_df = cpo_df[cpo_df['action'].isin(['upregulates-expression', 'downregulates-expression'])]\n",
    "cpo_df.reset_index(drop=True, inplace=True)\n",
    "cpo_df['isUp'] = np.where(cpo_df['action'] == 'upregulates-expression', 1, -1)\n",
    "cpo_df.drop(['action'], axis=1, inplace=True)\n",
    "\n",
    "sde_df = pd.read_csv(sde_file, sep='\\t', header=0, index_col=0).T\n",
    "sde_df.replace(0, np.nan, inplace=True)\n",
    "sde_df = pd.DataFrame(zscore(sde_df, nan_policy='omit'), index=sde_df.index, columns=sde_df.columns)\n",
    "print(\"Files read complete...\")"
   ],
   "metadata": {
    "collapsed": false,
    "ExecuteTime": {
     "end_time": "2023-07-14T23:33:34.136298Z",
     "start_time": "2023-07-14T23:33:32.674046Z"
    }
   }
  },
  {
   "cell_type": "code",
   "execution_count": 3,
   "outputs": [
    {
     "data": {
      "text/plain": "  symbol targetSymbol  isUp\n0    MAK         KLK3     1\n1   XBP1         TPP1     1\n2   KLF5        CXCR4     1\n3   ATF3         SELE    -1\n4    MYC       EIF4G1     1",
      "text/html": "<div>\n<style scoped>\n    .dataframe tbody tr th:only-of-type {\n        vertical-align: middle;\n    }\n\n    .dataframe tbody tr th {\n        vertical-align: top;\n    }\n\n    .dataframe thead th {\n        text-align: right;\n    }\n</style>\n<table border=\"1\" class=\"dataframe\">\n  <thead>\n    <tr style=\"text-align: right;\">\n      <th></th>\n      <th>symbol</th>\n      <th>targetSymbol</th>\n      <th>isUp</th>\n    </tr>\n  </thead>\n  <tbody>\n    <tr>\n      <th>0</th>\n      <td>MAK</td>\n      <td>KLK3</td>\n      <td>1</td>\n    </tr>\n    <tr>\n      <th>1</th>\n      <td>XBP1</td>\n      <td>TPP1</td>\n      <td>1</td>\n    </tr>\n    <tr>\n      <th>2</th>\n      <td>KLF5</td>\n      <td>CXCR4</td>\n      <td>1</td>\n    </tr>\n    <tr>\n      <th>3</th>\n      <td>ATF3</td>\n      <td>SELE</td>\n      <td>-1</td>\n    </tr>\n    <tr>\n      <th>4</th>\n      <td>MYC</td>\n      <td>EIF4G1</td>\n      <td>1</td>\n    </tr>\n  </tbody>\n</table>\n</div>"
     },
     "execution_count": 3,
     "metadata": {},
     "output_type": "execute_result"
    }
   ],
   "source": [
    "cpo_df.head()"
   ],
   "metadata": {
    "collapsed": false,
    "ExecuteTime": {
     "end_time": "2023-07-14T23:33:51.210117Z",
     "start_time": "2023-07-14T23:33:51.187145Z"
    }
   }
  },
  {
   "cell_type": "code",
   "execution_count": 4,
   "outputs": [
    {
     "data": {
      "text/plain": "  symbol targetSymbol  isUp\n0   XBP1         TPP1     1\n1   KLF5        CXCR4     1\n2   ATF3         SELE    -1\n3    MYC       EIF4G1     1\n4   LDHA        HIF1A     1",
      "text/html": "<div>\n<style scoped>\n    .dataframe tbody tr th:only-of-type {\n        vertical-align: middle;\n    }\n\n    .dataframe tbody tr th {\n        vertical-align: top;\n    }\n\n    .dataframe thead th {\n        text-align: right;\n    }\n</style>\n<table border=\"1\" class=\"dataframe\">\n  <thead>\n    <tr style=\"text-align: right;\">\n      <th></th>\n      <th>symbol</th>\n      <th>targetSymbol</th>\n      <th>isUp</th>\n    </tr>\n  </thead>\n  <tbody>\n    <tr>\n      <th>0</th>\n      <td>XBP1</td>\n      <td>TPP1</td>\n      <td>1</td>\n    </tr>\n    <tr>\n      <th>1</th>\n      <td>KLF5</td>\n      <td>CXCR4</td>\n      <td>1</td>\n    </tr>\n    <tr>\n      <th>2</th>\n      <td>ATF3</td>\n      <td>SELE</td>\n      <td>-1</td>\n    </tr>\n    <tr>\n      <th>3</th>\n      <td>MYC</td>\n      <td>EIF4G1</td>\n      <td>1</td>\n    </tr>\n    <tr>\n      <th>4</th>\n      <td>LDHA</td>\n      <td>HIF1A</td>\n      <td>1</td>\n    </tr>\n  </tbody>\n</table>\n</div>"
     },
     "execution_count": 4,
     "metadata": {},
     "output_type": "execute_result"
    }
   ],
   "source": [
    "# There may be some targetSymbols in cpo_df which are not present in sde_df\n",
    "# Now remove those rows from cpo_df\n",
    "cpo_df = cpo_df[cpo_df['targetSymbol'].isin(sde_df.columns)]\n",
    "cpo_df.reset_index(drop=True, inplace=True)\n",
    "cpo_df.head()"
   ],
   "metadata": {
    "collapsed": false,
    "ExecuteTime": {
     "end_time": "2023-07-14T23:33:52.758430Z",
     "start_time": "2023-07-14T23:33:52.742127Z"
    }
   }
  },
  {
   "cell_type": "code",
   "execution_count": 5,
   "outputs": [
    {
     "data": {
      "text/plain": "array(['TPP1', 'CXCR4', 'SELE', ..., 'WNT11', 'DGKA', 'IER2'],\n      dtype=object)"
     },
     "execution_count": 5,
     "metadata": {},
     "output_type": "execute_result"
    }
   ],
   "source": [
    "cpo_df['targetSymbol'].unique()"
   ],
   "metadata": {
    "collapsed": false,
    "ExecuteTime": {
     "end_time": "2023-07-14T23:33:54.595433Z",
     "start_time": "2023-07-14T23:33:54.580030Z"
    }
   }
  },
  {
   "cell_type": "code",
   "execution_count": 6,
   "outputs": [
    {
     "data": {
      "text/plain": "array(['XBP1', 'KLF5', 'ATF3', ..., 'L1CAM', 'RCN1', 'ZNF383'],\n      dtype=object)"
     },
     "execution_count": 6,
     "metadata": {},
     "output_type": "execute_result"
    }
   ],
   "source": [
    "cpo_df['symbol'].unique()"
   ],
   "metadata": {
    "collapsed": false,
    "ExecuteTime": {
     "end_time": "2023-07-14T23:33:59.300598Z",
     "start_time": "2023-07-14T23:33:59.284394Z"
    }
   }
  },
  {
   "cell_type": "code",
   "execution_count": 7,
   "outputs": [
    {
     "data": {
      "text/plain": "  symbol                      upDownList  \\\n0    A2M                             [1]   \n1   AATF                        [-1, -1]   \n2  ABCA1                  [1, 1, -1, -1]   \n3  ABCA3                 [1, 1, 1, 1, 1]   \n4  ABCB1  [1, 1, 1, 1, 1, 1, 1, 1, 1, 1]   \n\n                                          targetList  upDownCount  \n0                                            [STAT3]            1  \n1                                      [BAX, CTNNB1]            2  \n2                       [NR1H2, NR1H3, GLI2, SREBF2]            4  \n3              [SREBF1, GATA6, FOXA2, NFATC3, CEBPA]            5  \n4  [SP1, RELB, RELA, TCF7L2, FOXO1, EGR1, CEBPB, ...           10  ",
      "text/html": "<div>\n<style scoped>\n    .dataframe tbody tr th:only-of-type {\n        vertical-align: middle;\n    }\n\n    .dataframe tbody tr th {\n        vertical-align: top;\n    }\n\n    .dataframe thead th {\n        text-align: right;\n    }\n</style>\n<table border=\"1\" class=\"dataframe\">\n  <thead>\n    <tr style=\"text-align: right;\">\n      <th></th>\n      <th>symbol</th>\n      <th>upDownList</th>\n      <th>targetList</th>\n      <th>upDownCount</th>\n    </tr>\n  </thead>\n  <tbody>\n    <tr>\n      <th>0</th>\n      <td>A2M</td>\n      <td>[1]</td>\n      <td>[STAT3]</td>\n      <td>1</td>\n    </tr>\n    <tr>\n      <th>1</th>\n      <td>AATF</td>\n      <td>[-1, -1]</td>\n      <td>[BAX, CTNNB1]</td>\n      <td>2</td>\n    </tr>\n    <tr>\n      <th>2</th>\n      <td>ABCA1</td>\n      <td>[1, 1, -1, -1]</td>\n      <td>[NR1H2, NR1H3, GLI2, SREBF2]</td>\n      <td>4</td>\n    </tr>\n    <tr>\n      <th>3</th>\n      <td>ABCA3</td>\n      <td>[1, 1, 1, 1, 1]</td>\n      <td>[SREBF1, GATA6, FOXA2, NFATC3, CEBPA]</td>\n      <td>5</td>\n    </tr>\n    <tr>\n      <th>4</th>\n      <td>ABCB1</td>\n      <td>[1, 1, 1, 1, 1, 1, 1, 1, 1, 1]</td>\n      <td>[SP1, RELB, RELA, TCF7L2, FOXO1, EGR1, CEBPB, ...</td>\n      <td>10</td>\n    </tr>\n  </tbody>\n</table>\n</div>"
     },
     "execution_count": 7,
     "metadata": {},
     "output_type": "execute_result"
    }
   ],
   "source": [
    "cpo_grouped_df = cpo_df.groupby('symbol')['isUp'].apply(list).reset_index(name='upDownList')\n",
    "cpo_grouped_df['targetList'] = cpo_df.groupby('symbol')['targetSymbol'].apply(list).reset_index(name='targetList')[\n",
    "    'targetList']\n",
    "cpo_grouped_df['upDownCount'] = cpo_grouped_df['upDownList'].apply(lambda x: len(x))\n",
    "max_target = np.max(cpo_grouped_df['upDownCount'])\n",
    "cpo_grouped_df.head()"
   ],
   "metadata": {
    "collapsed": false,
    "ExecuteTime": {
     "end_time": "2023-07-14T23:34:06.062715Z",
     "start_time": "2023-07-14T23:34:05.994576Z"
    }
   }
  },
  {
   "cell_type": "code",
   "execution_count": 8,
   "outputs": [
    {
     "name": "stdout",
     "output_type": "stream",
     "text": [
      "1846 2659\n"
     ]
    }
   ],
   "source": [
    "a = cpo_df['targetSymbol'].unique()\n",
    "b = sde_df.columns.unique()\n",
    "print(len(a), len(b))"
   ],
   "metadata": {
    "collapsed": false,
    "ExecuteTime": {
     "end_time": "2023-07-14T23:34:14.417933Z",
     "start_time": "2023-07-14T23:34:14.404349Z"
    }
   }
  },
  {
   "cell_type": "code",
   "execution_count": 9,
   "outputs": [
    {
     "data": {
      "text/plain": "                             ADORA2B  ADORA2A  ELK1      ELK3  ELK4  ABCB4  \\\nmidpoint_AAACCTGCACCCAGTG-1      NaN      NaN   NaN       NaN   NaN    NaN   \nmidpoint_AAACCTGCAGCTTAAC-1      NaN      NaN   NaN       NaN   NaN    NaN   \nmidpoint_AAACCTGGTGTGCGTC-1      NaN      NaN   NaN  0.533694   NaN    NaN   \nmidpoint_AAACCTGGTTGAACTC-1      NaN      NaN   NaN       NaN   NaN    NaN   \nmidpoint_AAACGGGAGGATGGTC-1      NaN      NaN   NaN       NaN   NaN    NaN   \n\n                             ABCB8     ABCC3  ABCC4  ABCC1  ...  CASP7  RRM1  \\\nmidpoint_AAACCTGCACCCAGTG-1    NaN       NaN    NaN    NaN  ...    NaN   NaN   \nmidpoint_AAACCTGCAGCTTAAC-1    NaN       NaN    NaN    NaN  ...    NaN   NaN   \nmidpoint_AAACCTGGTGTGCGTC-1    NaN       NaN    NaN    NaN  ...    NaN   NaN   \nmidpoint_AAACCTGGTTGAACTC-1    NaN       NaN    NaN    NaN  ...    NaN   NaN   \nmidpoint_AAACGGGAGGATGGTC-1    NaN  2.104636    NaN    NaN  ...    NaN   NaN   \n\n                                 RRM2  CASP9     CASP4  CASP3  CASP6  \\\nmidpoint_AAACCTGCACCCAGTG-1       NaN    NaN       NaN    NaN    NaN   \nmidpoint_AAACCTGCAGCTTAAC-1       NaN    NaN  1.645407    NaN    NaN   \nmidpoint_AAACCTGGTGTGCGTC-1  2.647571    NaN       NaN    NaN    NaN   \nmidpoint_AAACCTGGTTGAACTC-1       NaN    NaN       NaN    NaN    NaN   \nmidpoint_AAACGGGAGGATGGTC-1       NaN    NaN       NaN    NaN    NaN   \n\n                                CASP2     CASP1  NRCAM  \nmidpoint_AAACCTGCACCCAGTG-1       NaN  2.926158    NaN  \nmidpoint_AAACCTGCAGCTTAAC-1       NaN       NaN    NaN  \nmidpoint_AAACCTGGTGTGCGTC-1  0.389224       NaN    NaN  \nmidpoint_AAACCTGGTTGAACTC-1       NaN       NaN    NaN  \nmidpoint_AAACGGGAGGATGGTC-1       NaN       NaN    NaN  \n\n[5 rows x 2659 columns]",
      "text/html": "<div>\n<style scoped>\n    .dataframe tbody tr th:only-of-type {\n        vertical-align: middle;\n    }\n\n    .dataframe tbody tr th {\n        vertical-align: top;\n    }\n\n    .dataframe thead th {\n        text-align: right;\n    }\n</style>\n<table border=\"1\" class=\"dataframe\">\n  <thead>\n    <tr style=\"text-align: right;\">\n      <th></th>\n      <th>ADORA2B</th>\n      <th>ADORA2A</th>\n      <th>ELK1</th>\n      <th>ELK3</th>\n      <th>ELK4</th>\n      <th>ABCB4</th>\n      <th>ABCB8</th>\n      <th>ABCC3</th>\n      <th>ABCC4</th>\n      <th>ABCC1</th>\n      <th>...</th>\n      <th>CASP7</th>\n      <th>RRM1</th>\n      <th>RRM2</th>\n      <th>CASP9</th>\n      <th>CASP4</th>\n      <th>CASP3</th>\n      <th>CASP6</th>\n      <th>CASP2</th>\n      <th>CASP1</th>\n      <th>NRCAM</th>\n    </tr>\n  </thead>\n  <tbody>\n    <tr>\n      <th>midpoint_AAACCTGCACCCAGTG-1</th>\n      <td>NaN</td>\n      <td>NaN</td>\n      <td>NaN</td>\n      <td>NaN</td>\n      <td>NaN</td>\n      <td>NaN</td>\n      <td>NaN</td>\n      <td>NaN</td>\n      <td>NaN</td>\n      <td>NaN</td>\n      <td>...</td>\n      <td>NaN</td>\n      <td>NaN</td>\n      <td>NaN</td>\n      <td>NaN</td>\n      <td>NaN</td>\n      <td>NaN</td>\n      <td>NaN</td>\n      <td>NaN</td>\n      <td>2.926158</td>\n      <td>NaN</td>\n    </tr>\n    <tr>\n      <th>midpoint_AAACCTGCAGCTTAAC-1</th>\n      <td>NaN</td>\n      <td>NaN</td>\n      <td>NaN</td>\n      <td>NaN</td>\n      <td>NaN</td>\n      <td>NaN</td>\n      <td>NaN</td>\n      <td>NaN</td>\n      <td>NaN</td>\n      <td>NaN</td>\n      <td>...</td>\n      <td>NaN</td>\n      <td>NaN</td>\n      <td>NaN</td>\n      <td>NaN</td>\n      <td>1.645407</td>\n      <td>NaN</td>\n      <td>NaN</td>\n      <td>NaN</td>\n      <td>NaN</td>\n      <td>NaN</td>\n    </tr>\n    <tr>\n      <th>midpoint_AAACCTGGTGTGCGTC-1</th>\n      <td>NaN</td>\n      <td>NaN</td>\n      <td>NaN</td>\n      <td>0.533694</td>\n      <td>NaN</td>\n      <td>NaN</td>\n      <td>NaN</td>\n      <td>NaN</td>\n      <td>NaN</td>\n      <td>NaN</td>\n      <td>...</td>\n      <td>NaN</td>\n      <td>NaN</td>\n      <td>2.647571</td>\n      <td>NaN</td>\n      <td>NaN</td>\n      <td>NaN</td>\n      <td>NaN</td>\n      <td>0.389224</td>\n      <td>NaN</td>\n      <td>NaN</td>\n    </tr>\n    <tr>\n      <th>midpoint_AAACCTGGTTGAACTC-1</th>\n      <td>NaN</td>\n      <td>NaN</td>\n      <td>NaN</td>\n      <td>NaN</td>\n      <td>NaN</td>\n      <td>NaN</td>\n      <td>NaN</td>\n      <td>NaN</td>\n      <td>NaN</td>\n      <td>NaN</td>\n      <td>...</td>\n      <td>NaN</td>\n      <td>NaN</td>\n      <td>NaN</td>\n      <td>NaN</td>\n      <td>NaN</td>\n      <td>NaN</td>\n      <td>NaN</td>\n      <td>NaN</td>\n      <td>NaN</td>\n      <td>NaN</td>\n    </tr>\n    <tr>\n      <th>midpoint_AAACGGGAGGATGGTC-1</th>\n      <td>NaN</td>\n      <td>NaN</td>\n      <td>NaN</td>\n      <td>NaN</td>\n      <td>NaN</td>\n      <td>NaN</td>\n      <td>NaN</td>\n      <td>2.104636</td>\n      <td>NaN</td>\n      <td>NaN</td>\n      <td>...</td>\n      <td>NaN</td>\n      <td>NaN</td>\n      <td>NaN</td>\n      <td>NaN</td>\n      <td>NaN</td>\n      <td>NaN</td>\n      <td>NaN</td>\n      <td>NaN</td>\n      <td>NaN</td>\n      <td>NaN</td>\n    </tr>\n  </tbody>\n</table>\n<p>5 rows × 2659 columns</p>\n</div>"
     },
     "execution_count": 9,
     "metadata": {},
     "output_type": "execute_result"
    }
   ],
   "source": [
    "sde_df.head()"
   ],
   "metadata": {
    "collapsed": false,
    "ExecuteTime": {
     "end_time": "2023-07-14T23:34:17.458051Z",
     "start_time": "2023-07-14T23:34:17.450388Z"
    }
   }
  },
  {
   "cell_type": "code",
   "execution_count": 10,
   "outputs": [
    {
     "data": {
      "text/plain": "[0.00015,\n 0.00025,\n 0.00035,\n 0.00045,\n 0.00055,\n 0.00065,\n 0.00075,\n 0.00085,\n 0.00095,\n 0.00105,\n 0.00115,\n 0.00125,\n 0.00135,\n 0.00145,\n 0.00155,\n 0.00165,\n 0.00175,\n 0.00185,\n 0.00195,\n 0.00205,\n 0.00215,\n 0.00225,\n 0.00235,\n 0.00245,\n 0.00255,\n 0.00265,\n 0.00275,\n 0.00285,\n 0.00295,\n 0.00305,\n 0.00315,\n 0.00325,\n 0.00335,\n 0.00345,\n 0.00355,\n 0.00365,\n 0.00375,\n 0.00385,\n 0.00395,\n 0.00405,\n 0.00415,\n 0.00425,\n 0.00435,\n 0.00445,\n 0.00455,\n 0.00465,\n 0.00475,\n 0.00485,\n 0.00495,\n 0.00505,\n 0.00515,\n 0.00525,\n 0.00535,\n 0.00545,\n 0.00555,\n 0.00565,\n 0.00575,\n 0.00585,\n 0.00595,\n 0.00605,\n 0.00615,\n 0.00625,\n 0.00635,\n 0.00645,\n 0.00655,\n 0.00665,\n 0.00675,\n 0.00685,\n 0.00695,\n 0.00705,\n 0.00715,\n 0.00725,\n 0.00735,\n 0.00745,\n 0.00755,\n 0.00765,\n 0.00775,\n 0.00785,\n 0.00795,\n 0.00805,\n 0.00815,\n 0.00825,\n 0.00835,\n 0.00845,\n 0.00855,\n 0.00865,\n 0.00875,\n 0.00885,\n 0.00895,\n 0.00905,\n 0.00915,\n 0.00925,\n 0.00935,\n 0.00945,\n 0.00955,\n 0.00965,\n 0.00975,\n 0.00985,\n 0.00995,\n 0.01005,\n 0.01015,\n 0.01025,\n 0.01035,\n 0.01045,\n 0.01055,\n 0.01065,\n 0.01075,\n 0.01085,\n 0.01095,\n 0.01105,\n 0.01115,\n 0.01125,\n 0.01135,\n 0.01145,\n 0.01155,\n 0.01165,\n 0.01175,\n 0.01185,\n 0.01195,\n 0.01205,\n 0.01215,\n 0.01225,\n 0.01235,\n 0.01245,\n 0.01255,\n 0.01265,\n 0.01275,\n 0.01285,\n 0.01295,\n 0.01305,\n 0.01315,\n 0.01325,\n 0.01335,\n 0.01345,\n 0.01355,\n 0.01365,\n 0.01375,\n 0.01385,\n 0.01395,\n 0.01405,\n 0.01415,\n 0.01425,\n 0.01435,\n 0.01445,\n 0.01455,\n 0.01465,\n 0.01475,\n 0.01485,\n 0.01495,\n 0.01505,\n 0.01515,\n 0.01525,\n 0.01535,\n 0.01545,\n 0.01555,\n 0.01565,\n 0.01575,\n 0.01585,\n 0.01595,\n 0.01605,\n 0.01615,\n 0.01625,\n 0.01635,\n 0.01645,\n 0.01655,\n 0.01665,\n 0.01675,\n 0.01685,\n 0.01695,\n 0.01705,\n 0.01715,\n 0.01725,\n 0.01735,\n 0.01745,\n 0.01755,\n 0.01765,\n 0.01775,\n 0.01785,\n 0.01795,\n 0.01805,\n 0.01815,\n 0.01825,\n 0.01835,\n 0.01845,\n 0.01855,\n 0.01865,\n 0.01875,\n 0.01885,\n 0.01895,\n 0.01905,\n 0.01915,\n 0.01925,\n 0.01935,\n 0.01945,\n 0.01955,\n 0.01965,\n 0.01975,\n 0.01985,\n 0.01995,\n 0.02005,\n 0.02015,\n 0.02025,\n 0.02035,\n 0.02045,\n 0.02055,\n 0.02065,\n 0.02075,\n 0.02085,\n 0.02095,\n 0.02105,\n 0.02115,\n 0.02125,\n 0.02135,\n 0.02145,\n 0.02155,\n 0.02165,\n 0.02175,\n 0.02185,\n 0.02195,\n 0.02205,\n 0.02215,\n 0.02225,\n 0.02235,\n 0.02245,\n 0.02255,\n 0.02265,\n 0.02275,\n 0.02285,\n 0.02295,\n 0.02305,\n 0.02315,\n 0.02325,\n 0.02335,\n 0.02345,\n 0.02355,\n 0.02365,\n 0.02375,\n 0.02385,\n 0.02395,\n 0.02405,\n 0.02415,\n 0.02425,\n 0.02435,\n 0.02445,\n 0.02455,\n 0.02465,\n 0.02475,\n 0.02485,\n 0.02495,\n 0.02505,\n 0.02515,\n 0.02525,\n 0.02535,\n 0.02545,\n 0.02555,\n 0.02565,\n 0.02575,\n 0.02585,\n 0.02595,\n 0.02605,\n 0.02615,\n 0.02625,\n 0.02635,\n 0.02645,\n 0.02655,\n 0.02665,\n 0.02675,\n 0.02685,\n 0.02695,\n 0.02705,\n 0.02715,\n 0.02725,\n 0.02735,\n 0.02745,\n 0.02755,\n 0.02765,\n 0.02775,\n 0.02785,\n 0.02795,\n 0.02805,\n 0.02815,\n 0.02825,\n 0.02835,\n 0.02845,\n 0.02855,\n 0.02865,\n 0.02875,\n 0.02885,\n 0.02895,\n 0.02905,\n 0.02915,\n 0.02925,\n 0.02935,\n 0.02945,\n 0.02955,\n 0.02965,\n 0.02975,\n 0.02985,\n 0.02995,\n 0.03005,\n 0.03015,\n 0.03025,\n 0.03035,\n 0.03045,\n 0.03055,\n 0.03065,\n 0.03075,\n 0.03085,\n 0.03095,\n 0.03105,\n 0.03115,\n 0.03125,\n 0.03135,\n 0.03145,\n 0.03155,\n 0.03165,\n 0.03175,\n 0.03185,\n 0.03195,\n 0.03205,\n 0.03215,\n 0.03225,\n 0.03235,\n 0.03245,\n 0.03255,\n 0.03265,\n 0.03275,\n 0.03285,\n 0.03295,\n 0.03305,\n 0.03315,\n 0.03325,\n 0.03335,\n 0.03345,\n 0.03355,\n 0.03365,\n 0.03375,\n 0.03385,\n 0.03395,\n 0.03405,\n 0.03415,\n 0.03425,\n 0.03435,\n 0.03445,\n 0.03455,\n 0.03465,\n 0.03475,\n 0.03485,\n 0.03495,\n 0.03505,\n 0.03515,\n 0.03525,\n 0.03535,\n 0.03545,\n 0.03555,\n 0.03565,\n 0.03575,\n 0.03585,\n 0.03595,\n 0.03605,\n 0.03615,\n 0.03625,\n 0.03635,\n 0.03645,\n 0.03655,\n 0.03665,\n 0.03675,\n 0.03685,\n 0.03695,\n 0.03705,\n 0.03715,\n 0.03725,\n 0.03735,\n 0.03745,\n 0.03755,\n 0.03765,\n 0.03775,\n 0.03785,\n 0.03795,\n 0.03805,\n 0.03815,\n 0.03825,\n 0.03835,\n 0.03845,\n 0.03855,\n 0.03865,\n 0.03875,\n 0.03885,\n 0.03895,\n 0.03905,\n 0.03915,\n 0.03925,\n 0.03935,\n 0.03945,\n 0.03955,\n 0.03965,\n 0.03975,\n 0.03985,\n 0.03995,\n 0.04005,\n 0.04015,\n 0.04025,\n 0.04035,\n 0.04045,\n 0.04055,\n 0.04065,\n 0.04075,\n 0.04085,\n 0.04095,\n 0.04105,\n 0.04115,\n 0.04125,\n 0.04135,\n 0.04145,\n 0.04155,\n 0.04165,\n 0.04175,\n 0.04185,\n 0.04195,\n 0.04205,\n 0.04215,\n 0.04225,\n 0.04235,\n 0.04245,\n 0.04255,\n 0.04265,\n 0.04275,\n 0.04285,\n 0.04295,\n 0.04305,\n 0.04315,\n 0.04325,\n 0.04335,\n 0.04345,\n 0.04355,\n 0.04365,\n 0.04375,\n 0.04385,\n 0.04395,\n 0.04405,\n 0.04415,\n 0.04425,\n 0.04435,\n 0.04445,\n 0.04455,\n 0.04465,\n 0.04475,\n 0.04485,\n 0.04495,\n 0.04505,\n 0.04515,\n 0.04525,\n 0.04535,\n 0.04545,\n 0.04555,\n 0.04565,\n 0.04575,\n 0.04585,\n 0.04595,\n 0.04605,\n 0.04615,\n 0.04625,\n 0.04635,\n 0.04645,\n 0.04655,\n 0.04665,\n 0.04675,\n 0.04685,\n 0.04695,\n 0.04705,\n 0.04715,\n 0.04725,\n 0.04735,\n 0.04745,\n 0.04755,\n 0.04765,\n 0.04775,\n 0.04785,\n 0.04795,\n 0.04805,\n 0.04815,\n 0.04825,\n 0.04835,\n 0.04845,\n 0.04855,\n 0.04865,\n 0.04875,\n 0.04885,\n 0.04895,\n 0.04905,\n 0.04915,\n 0.04925,\n 0.04935,\n 0.04945,\n 0.04955,\n 0.04965,\n 0.04975,\n 0.04985,\n 0.04995,\n 0.05005,\n 0.05015,\n 0.05025,\n 0.05035,\n 0.05045,\n 0.05055,\n 0.05065,\n 0.05075,\n 0.05085,\n 0.05095,\n 0.05105,\n 0.05115,\n 0.05125,\n 0.05135,\n 0.05145,\n 0.05155,\n 0.05165,\n 0.05175,\n 0.05185,\n 0.05195,\n 0.05205,\n 0.05215,\n 0.05225,\n 0.05235,\n 0.05245,\n 0.05255,\n 0.05265,\n 0.05275,\n 0.05285,\n 0.05295,\n 0.05305,\n 0.05315,\n 0.05325,\n 0.05335,\n 0.05345,\n 0.05355,\n 0.05365,\n 0.05375,\n 0.05385,\n 0.05395,\n 0.05405,\n 0.05415,\n 0.05425,\n 0.05435,\n 0.05445,\n 0.05455,\n 0.05465,\n 0.05475,\n 0.05485,\n 0.05495,\n 0.05505,\n 0.05515,\n 0.05525,\n 0.05535,\n 0.05545,\n 0.05555,\n 0.05565,\n 0.05575,\n 0.05585,\n 0.05595,\n 0.05605,\n 0.05615,\n 0.05625,\n 0.05635,\n 0.05645,\n 0.05655,\n 0.05665,\n 0.05675,\n 0.05685,\n 0.05695,\n 0.05705,\n 0.05715,\n 0.05725,\n 0.05735,\n 0.05745,\n 0.05755,\n 0.05765,\n 0.05775,\n 0.05785,\n 0.05795,\n 0.05805,\n 0.05815,\n 0.05825,\n 0.05835,\n 0.05845,\n 0.05855,\n 0.05865,\n 0.05875,\n 0.05885,\n 0.05895,\n 0.05905,\n 0.05915,\n 0.05925,\n 0.05935,\n 0.05945,\n 0.05955,\n 0.05965,\n 0.05975,\n 0.05985,\n 0.05995,\n 0.06005,\n 0.06015,\n 0.06025,\n 0.06035,\n 0.06045,\n 0.06055,\n 0.06065,\n 0.06075,\n 0.06085,\n 0.06095,\n 0.06105,\n 0.06115,\n 0.06125,\n 0.06135,\n 0.06145,\n 0.06155,\n 0.06165,\n 0.06175,\n 0.06185,\n 0.06195,\n 0.06205,\n 0.06215,\n 0.06225,\n 0.06235,\n 0.06245,\n 0.06255,\n 0.06265,\n 0.06275,\n 0.06285,\n 0.06295,\n 0.06305,\n 0.06315,\n 0.06325,\n 0.06335,\n 0.06345,\n 0.06355,\n 0.06365,\n 0.06375,\n 0.06385,\n 0.06395,\n 0.06405,\n 0.06415,\n 0.06425,\n 0.06435,\n 0.06445,\n 0.06455,\n 0.06465,\n 0.06475,\n 0.06485,\n 0.06495,\n 0.06505,\n 0.06515,\n 0.06525,\n 0.06535,\n 0.06545,\n 0.06555,\n 0.06565,\n 0.06575,\n 0.06585,\n 0.06595,\n 0.06605,\n 0.06615,\n 0.06625,\n 0.06635,\n 0.06645,\n 0.06655,\n 0.06665,\n 0.06675,\n 0.06685,\n 0.06695,\n 0.06705,\n 0.06715,\n 0.06725,\n 0.06735,\n 0.06745,\n 0.06755,\n 0.06765,\n 0.06775,\n 0.06785,\n 0.06795,\n 0.06805,\n 0.06815,\n 0.06825,\n 0.06835,\n 0.06845,\n 0.06855,\n 0.06865,\n 0.06875,\n 0.06885,\n 0.06895,\n 0.06905,\n 0.06915,\n 0.06925,\n 0.06935,\n 0.06945,\n 0.06955,\n 0.06965,\n 0.06975,\n 0.06985,\n 0.06995,\n 0.07005,\n 0.07015,\n 0.07025,\n 0.07035,\n 0.07045,\n 0.07055,\n 0.07065,\n 0.07075,\n 0.07085,\n 0.07095,\n 0.07105,\n 0.07115,\n 0.07125,\n 0.07135,\n 0.07145,\n 0.07155,\n 0.07165,\n 0.07175,\n 0.07185,\n 0.07195,\n 0.07205,\n 0.07215,\n 0.07225,\n 0.07235,\n 0.07245,\n 0.07255,\n 0.07265,\n 0.07275,\n 0.07285,\n 0.07295,\n 0.07305,\n 0.07315,\n 0.07325,\n 0.07335,\n 0.07345,\n 0.07355,\n 0.07365,\n 0.07375,\n 0.07385,\n 0.07395,\n 0.07405,\n 0.07415,\n 0.07425,\n 0.07435,\n 0.07445,\n 0.07455,\n 0.07465,\n 0.07475,\n 0.07485,\n 0.07495,\n 0.07505,\n 0.07515,\n 0.07525,\n 0.07535,\n 0.07545,\n 0.07555,\n 0.07565,\n 0.07575,\n 0.07585,\n 0.07595,\n 0.07605,\n 0.07615,\n 0.07625,\n 0.07635,\n 0.07645,\n 0.07655,\n 0.07665,\n 0.07675,\n 0.07685,\n 0.07695,\n 0.07705,\n 0.07715,\n 0.07725,\n 0.07735,\n 0.07745,\n 0.07755,\n 0.07765,\n 0.07775,\n 0.07785,\n 0.07795,\n 0.07805,\n 0.07815,\n 0.07825,\n 0.07835,\n 0.07845,\n 0.07855,\n 0.07865,\n 0.07875,\n 0.07885,\n 0.07895,\n 0.07905,\n 0.07915,\n 0.07925,\n 0.07935,\n 0.07945,\n 0.07955,\n 0.07965,\n 0.07975,\n 0.07985,\n 0.07995,\n 0.08005,\n 0.08015,\n 0.08025,\n 0.08035,\n 0.08045,\n 0.08055,\n 0.08065,\n 0.08075,\n 0.08085,\n 0.08095,\n 0.08105,\n 0.08115,\n 0.08125,\n 0.08135,\n 0.08145,\n 0.08155,\n 0.08165,\n 0.08175,\n 0.08185,\n 0.08195,\n 0.08205,\n 0.08215,\n 0.08225,\n 0.08235,\n 0.08245,\n 0.08255,\n 0.08265,\n 0.08275,\n 0.08285,\n 0.08295,\n 0.08305,\n 0.08315,\n 0.08325,\n 0.08335,\n 0.08345,\n 0.08355,\n 0.08365,\n 0.08375,\n 0.08385,\n 0.08395,\n 0.08405,\n 0.08415,\n 0.08425,\n 0.08435,\n 0.08445,\n 0.08455,\n 0.08465,\n 0.08475,\n 0.08485,\n 0.08495,\n 0.08505,\n 0.08515,\n 0.08525,\n 0.08535,\n 0.08545,\n 0.08555,\n 0.08565,\n 0.08575,\n 0.08585,\n 0.08595,\n 0.08605,\n 0.08615,\n 0.08625,\n 0.08635,\n 0.08645,\n 0.08655,\n 0.08665,\n 0.08675,\n 0.08685,\n 0.08695,\n 0.08705,\n 0.08715,\n 0.08725,\n 0.08735,\n 0.08745,\n 0.08755,\n 0.08765,\n 0.08775,\n 0.08785,\n 0.08795,\n 0.08805,\n 0.08815,\n 0.08825,\n 0.08835,\n 0.08845,\n 0.08855,\n 0.08865,\n 0.08875,\n 0.08885,\n 0.08895,\n 0.08905,\n 0.08915,\n 0.08925,\n 0.08935,\n 0.08945,\n 0.08955,\n 0.08965,\n 0.08975,\n 0.08985,\n 0.08995,\n 0.09005,\n 0.09015,\n 0.09025,\n 0.09035,\n 0.09045,\n 0.09055,\n 0.09065,\n 0.09075,\n 0.09085,\n 0.09095,\n 0.09105,\n 0.09115,\n 0.09125,\n 0.09135,\n 0.09145,\n 0.09155,\n 0.09165,\n 0.09175,\n 0.09185,\n 0.09195,\n 0.09205,\n 0.09215,\n 0.09225,\n 0.09235,\n 0.09245,\n 0.09255,\n 0.09265,\n 0.09275,\n 0.09285,\n 0.09295,\n 0.09305,\n 0.09315,\n 0.09325,\n 0.09335,\n 0.09345,\n 0.09355,\n 0.09365,\n 0.09375,\n 0.09385,\n 0.09395,\n 0.09405,\n 0.09415,\n 0.09425,\n 0.09435,\n 0.09445,\n 0.09455,\n 0.09465,\n 0.09475,\n 0.09485,\n 0.09495,\n 0.09505,\n 0.09515,\n 0.09525,\n 0.09535,\n 0.09545,\n 0.09555,\n 0.09565,\n 0.09575,\n 0.09585,\n 0.09595,\n 0.09605,\n 0.09615,\n 0.09625,\n 0.09635,\n 0.09645,\n 0.09655,\n 0.09665,\n 0.09675,\n 0.09685,\n 0.09695,\n 0.09705,\n 0.09715,\n 0.09725,\n 0.09735,\n 0.09745,\n 0.09755,\n 0.09765,\n 0.09775,\n 0.09785,\n 0.09795,\n 0.09805,\n 0.09815,\n 0.09825,\n 0.09835,\n 0.09845,\n 0.09855,\n 0.09865,\n 0.09875,\n 0.09885,\n 0.09895,\n 0.09905,\n 0.09915,\n 0.09925,\n 0.09935,\n 0.09945,\n 0.09955,\n 0.09965,\n 0.09975,\n 0.09985,\n 0.09995,\n 0.10005,\n ...]"
     },
     "execution_count": 10,
     "metadata": {},
     "output_type": "execute_result"
    }
   ],
   "source": [
    "n = 10_000\n",
    "ranks = [(i + 0.5) / n for i in range(1, n)]\n",
    "ranks"
   ],
   "metadata": {
    "collapsed": false,
    "ExecuteTime": {
     "end_time": "2023-07-14T23:38:14.080518Z",
     "start_time": "2023-07-14T23:38:14.072051Z"
    }
   }
  },
  {
   "cell_type": "code",
   "execution_count": 110,
   "outputs": [],
   "source": [
    "# # Generate Distribution\n",
    "# distribution = []\n",
    "# iters = 1_000\n",
    "#\n",
    "# for target in range(1, max_target + 1):\n",
    "#     arr = []\n",
    "#     for i in range(iters):\n",
    "#         amr = np.mean(np.random.choice(ranks, target, replace=False))\n",
    "#         imr = 1 - amr\n",
    "#         arr.append(np.min([amr, imr]))\n",
    "#\n",
    "#     distribution.append(arr)\n",
    "#\n",
    "# distribution = np.array(distribution)\n",
    "# distribution"
   ],
   "metadata": {
    "collapsed": false,
    "ExecuteTime": {
     "end_time": "2023-07-14T14:32:10.490786580Z",
     "start_time": "2023-07-14T14:32:10.344745785Z"
    }
   }
  },
  {
   "cell_type": "code",
   "execution_count": 14,
   "outputs": [
    {
     "data": {
      "text/plain": "array([[0.1705    , 0.0455    , 0.3655    , ..., 0.2765    , 0.0165    ,\n        0.1375    ],\n       [0.4145    , 0.419     , 0.4525    , ..., 0.4855    , 0.255     ,\n        0.3545    ],\n       [0.42016667, 0.49016667, 0.37516667, ..., 0.45583333, 0.4165    ,\n        0.47883333],\n       ...,\n       [0.49482407, 0.48492593, 0.48493981, ..., 0.47064815, 0.48997685,\n        0.46700463],\n       [0.49302074, 0.46509908, 0.4971129 , ..., 0.47277189, 0.49270276,\n        0.47956452],\n       [0.49071101, 0.49218807, 0.49326606, ..., 0.48105505, 0.47277064,\n        0.48602294]])"
     },
     "execution_count": 14,
     "metadata": {},
     "output_type": "execute_result"
    }
   ],
   "source": [
    "# Another way to generate distribution\n",
    "distribution = []\n",
    "iters = 1_000\n",
    "max_targets = 218\n",
    "\n",
    "for target in range(1, max_targets + 1):\n",
    "    arr = []\n",
    "    for i in range(iters):\n",
    "        amr = (np.mean(np.random.choice(n, target, replace=False)) - 0.5) / n\n",
    "        imr = 1 - amr\n",
    "        arr.append(np.min([amr, imr]))\n",
    "    distribution.append(arr)\n",
    "\n",
    "distribution = np.array(distribution)\n",
    "distribution"
   ],
   "metadata": {
    "collapsed": false,
    "ExecuteTime": {
     "end_time": "2023-07-14T23:43:49.976148Z",
     "start_time": "2023-07-14T23:43:46.217598Z"
    }
   }
  },
  {
   "cell_type": "code",
   "execution_count": 16,
   "outputs": [
    {
     "name": "stdout",
     "output_type": "stream",
     "text": [
      "1483\n"
     ]
    }
   ],
   "source": [
    "max_non_zero_genes = 0\n",
    "\n",
    "for idx, row in sde_df.iterrows():\n",
    "    cell = row.dropna()\n",
    "    if len(cell) > max_non_zero_genes:\n",
    "        max_non_zero_genes = len(cell)\n",
    "\n",
    "print(max_non_zero_genes)"
   ],
   "metadata": {
    "collapsed": false,
    "ExecuteTime": {
     "end_time": "2023-07-14T23:44:31.241405Z",
     "start_time": "2023-07-14T23:44:30.974111Z"
    }
   }
  },
  {
   "cell_type": "code",
   "execution_count": 18,
   "outputs": [],
   "source": [
    "# Now Calculate actual RM for each cell\n",
    "for idx, row in sde_df.iterrows():\n",
    "    cell = pd.DataFrame(row.index, columns=['symbol'])\n",
    "    cell['zscore'] = row.values\n",
    "    cell.sort_values(by=['zscore'], ascending=[False], inplace=True)\n",
    "    cell.reset_index(drop=True, inplace=True)\n",
    "\n",
    "    cell['acti_rank'] = cell.index\n",
    "    cell['acti_rank'] = (cell['acti_rank'] + 0.5) / len(cell)\n",
    "\n",
    "    cell['inhi_rank'] = 1 - cell['acti_rank']\n",
    "\n",
    "    # Get acti_rank and inhi_rank for each targetSymbol and get the mean\n",
    "    pos_rs = np.where(cpo_grouped_df[''])\n",
    "\n",
    "    break"
   ],
   "metadata": {
    "collapsed": false
   }
  },
  {
   "cell_type": "code",
   "execution_count": 117,
   "outputs": [],
   "source": [
    "# Counting how many times the RS is less than the random distribution\n",
    "for idx, row in cpo_grouped_df.iterrows():\n",
    "    target = row['upDownCount']\n",
    "    rs = row['RS']\n",
    "    arr = distribution[target - 1]\n",
    "    count = 0\n",
    "    for i in arr:\n",
    "        if rs >= i:\n",
    "            count += 1\n",
    "    cpo_grouped_df.loc[idx, 'count'] = count\n",
    "    cpo_grouped_df.loc[idx, 'p-value'] = count / iters"
   ],
   "metadata": {
    "collapsed": false,
    "ExecuteTime": {
     "end_time": "2023-07-14T14:36:42.685040831Z",
     "start_time": "2023-07-14T14:36:41.931350128Z"
    }
   }
  },
  {
   "cell_type": "markdown",
   "source": [
    "# ---"
   ],
   "metadata": {
    "collapsed": false
   }
  },
  {
   "cell_type": "code",
   "execution_count": 49,
   "outputs": [
    {
     "ename": "NameError",
     "evalue": "name 'some' is not defined",
     "output_type": "error",
     "traceback": [
      "\u001B[0;31m---------------------------------------------------------------------------\u001B[0m",
      "\u001B[0;31mNameError\u001B[0m                                 Traceback (most recent call last)",
      "\u001B[0;32m/tmp/ipykernel_10825/2597258908.py\u001B[0m in \u001B[0;36m<module>\u001B[0;34m\u001B[0m\n\u001B[0;32m----> 1\u001B[0;31m \u001B[0msome\u001B[0m\u001B[0;34m\u001B[0m\u001B[0;34m\u001B[0m\u001B[0m\n\u001B[0m\u001B[1;32m      2\u001B[0m \u001B[0merror\u001B[0m\u001B[0;34m\u001B[0m\u001B[0;34m\u001B[0m\u001B[0m\n",
      "\u001B[0;31mNameError\u001B[0m: name 'some' is not defined"
     ]
    }
   ],
   "source": [
    "some\n",
    "error"
   ],
   "metadata": {
    "collapsed": false,
    "ExecuteTime": {
     "end_time": "2023-07-13T20:02:00.141131116Z",
     "start_time": "2023-07-13T20:02:00.132438378Z"
    }
   }
  },
  {
   "cell_type": "code",
   "execution_count": 91,
   "outputs": [],
   "source": [
    "for idx, row in sde_df.iterrows():\n",
    "    cp_df = cpo_df.copy()\n",
    "\n",
    "    cell_de = pd.DataFrame()\n",
    "    row = row.dropna()\n",
    "    cell_de['symbol'] = row.index\n",
    "    cell_de['SignedP'] = row.values\n",
    "    cell_de['updown'] = np.where(cell_de['SignedP'] > 0, '1', '-1')\n",
    "    cell_de.sort_values(by=['updown', 'SignedP'], ascending=[False, True], inplace=True)\n",
    "    cell_de.reset_index(drop=True, inplace=True)\n",
    "    max_rank = len(cell_de)\n",
    "    cell_de['rank'] = np.arange(1, max_rank + 1)\n",
    "    cell_de['reverse_rank'] = max_rank - cell_de['rank'] + 1\n",
    "    cell_de['rank'] = (cell_de['rank'] - 0.5) / max_rank\n",
    "    cell_de['reverse_rank'] = (cell_de['reverse_rank'] - 0.5) / max_rank\n",
    "\n",
    "    # Remove rows of cp_df dataframe if targetSymbol is not present in symbol column of rank_df dataframe\n",
    "    cp_df = cp_df[cp_df['targetSymbol'].isin(cell_de['symbol'])]\n",
    "    cp_df = cp_df.reset_index(drop=True)\n",
    "    # Find the rank and reverse rank of targetsymbol\n",
    "    cp_df = cp_df.merge(cell_de[['symbol', 'rank']], left_on='targetSymbol', right_on='symbol', how='left')\n",
    "    cp_df['revRank'] = max_rank - cp_df['rank']\n",
    "    cp_df.drop('symbol_y', axis=1, inplace=True)\n",
    "    cp_df.rename(columns={'symbol_x': 'symbol'}, inplace=True)\n",
    "\n",
    "    cp_df_grouped = cp_df.groupby('symbol')['isUp'].apply(list).reset_index(name='upDownList')\n",
    "    cp_df_grouped['targetList'] = cp_df.groupby('symbol')['targetSymbol'].apply(list).reset_index(name='targetList')[\n",
    "        'targetList']\n",
    "    cp_df_grouped['upDownCount'] = cp_df_grouped['upDownList'].apply(lambda x: len(x))\n",
    "    cp_df_grouped = cp_df_grouped[cp_df_grouped['upDownCount'] >= 3]\n",
    "\n",
    "    # Get the ranks of each targets in targetList from cell_de dataframe and add to new column\n",
    "    cp_df_grouped['targetRankList'] = cp_df_grouped.apply(\n",
    "        lambda x: [cell_de[cell_de['symbol'] == target]['rank'].values[0] for target in x['targetList']], axis=1)\n",
    "    cp_df_grouped['targetRevRankList'] = cp_df_grouped.apply(\n",
    "        lambda x: [cell_de[cell_de['symbol'] == target]['reverse_rank'].values[0] for target in x['targetList']],\n",
    "        axis=1)\n",
    "\n",
    "    break"
   ],
   "metadata": {
    "collapsed": false,
    "ExecuteTime": {
     "end_time": "2023-07-14T14:07:36.608698757Z",
     "start_time": "2023-07-14T14:07:36.397457090Z"
    }
   }
  },
  {
   "cell_type": "code",
   "execution_count": null,
   "outputs": [],
   "source": [
    "distribution = []\n",
    "for i in range(3, 200):\n",
    "    ranks = np.arange(1, i + 1)\n",
    "    ranks = (ranks - 0.5) / i\n",
    "    distribution.append(ranks)\n",
    "\n",
    "distribution = pd.DataFrame(distribution, index=np.arange(3, 200))\n",
    "distribution.head()\n"
   ],
   "metadata": {
    "collapsed": false
   }
  },
  {
   "cell_type": "code",
   "execution_count": 90,
   "outputs": [
    {
     "data": {
      "text/plain": "<Figure size 432x288 with 1 Axes>",
      "image/png": "[encoded data removed]"
     },
     "metadata": {
      "needs_background": "light"
     },
     "output_type": "display_data"
    },
    {
     "data": {
      "text/plain": "<Figure size 432x288 with 1 Axes>",
      "image/png": "[encoded data removed]"
     },
     "metadata": {
      "needs_background": "light"
     },
     "output_type": "display_data"
    }
   ],
   "source": [
    "import matplotlib.pyplot as plt\n",
    "\n",
    "read_dist = np.load('../../data/distribution.npy')\n",
    "t1 = read_dist[10]\n",
    "\n",
    "plt.hist(t1, bins=100)\n",
    "plt.show()\n",
    "\n",
    "# bins and count from plt.hist\n",
    "count, bins, ignored = plt.hist(t1, bins=100)\n",
    "\n",
    "# Merge count and bins\n",
    "count = pd.DataFrame(count, columns=['count'])\n"
   ],
   "metadata": {
    "collapsed": false,
    "ExecuteTime": {
     "end_time": "2023-07-14T14:05:45.736459474Z",
     "start_time": "2023-07-14T14:05:45.336794910Z"
    }
   }
  },
  {
   "cell_type": "code",
   "execution_count": 9,
   "outputs": [],
   "source": [
    "\n"
   ],
   "metadata": {
    "collapsed": false,
    "ExecuteTime": {
     "end_time": "2023-07-14T23:36:16.720716Z",
     "start_time": "2023-07-14T23:36:16.711969Z"
    }
   }
  },
  {
   "cell_type": "code",
   "execution_count": null,
   "outputs": [],
   "source": [],
   "metadata": {
    "collapsed": false
   }
  }
 ],
 "metadata": {
  "kernelspec": {
   "display_name": "Python 3",
   "language": "python",
   "name": "python3"
  },
  "language_info": {
   "codemirror_mode": {
    "name": "ipython",
    "version": 2
   },
   "file_extension": ".py",
   "mimetype": "text/x-python",
   "name": "python",
   "nbconvert_exporter": "python",
   "pygments_lexer": "ipython2",
   "version": "2.7.6"
  }
 },
 "nbformat": 4,
 "nbformat_minor": 0
}
