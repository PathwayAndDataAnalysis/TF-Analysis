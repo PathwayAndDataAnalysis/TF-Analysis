{
 "cells": [
  {
   "cell_type": "code",
   "execution_count": 2,
   "metadata": {
    "collapsed": true,
    "ExecuteTime": {
     "end_time": "2023-07-07T15:13:22.872869990Z",
     "start_time": "2023-07-07T15:13:22.666159735Z"
    }
   },
   "outputs": [],
   "source": [
    "import pandas as pd\n",
    "import numpy as np\n",
    "from scipy.stats import zscore"
   ]
  },
  {
   "cell_type": "code",
   "execution_count": 5,
   "outputs": [
    {
     "name": "stdout",
     "output_type": "stream",
     "text": [
      "Files read complete...\n"
     ]
    }
   ],
   "source": [
    "cp_file = '../../data/causal-priors.txt'\n",
    "sde_file = '../../data/normalized_mat.tsv'\n",
    "\n",
    "cpo_df = pd.read_csv(cp_file, sep='\\t', header=None, usecols=[0, 1, 2],\n",
    "                     names=['Symbols', 'action', 'targetSymbol'], squeeze=True)\n",
    "cpo_df = cpo_df[cpo_df['action'].isin(['upregulates-expression', 'downregulates-expression'])]\n",
    "cpo_df.reset_index(drop=True, inplace=True)\n",
    "cpo_df['isUp'] = np.where(cpo_df['action'] == 'upregulates-expression', 1, -1)\n",
    "cpo_df.drop(['action'], axis=1, inplace=True)\n",
    "\n",
    "sde_df = pd.read_csv(sde_file, sep='\\t', header=0, index_col=0).T\n",
    "# sde_df = pd.read_csv(sde_file, sep='\\t', header=0, index_col=0)\n",
    "sde_df.replace(0, np.nan, inplace=True)\n",
    "sde_df = pd.DataFrame(zscore(sde_df, nan_policy='omit'), index=sde_df.index, columns=sde_df.columns)\n",
    "sde_df.columns = sde_df.columns.str.upper()\n",
    "# Remove columns of sde_df if is not present in targetSymbol column of cpo_df dataframe\n",
    "sde_df = sde_df[sde_df.columns.intersection(cpo_df['targetSymbol'])]\n",
    "print(\"Files read complete...\")"
   ],
   "metadata": {
    "collapsed": false,
    "ExecuteTime": {
     "end_time": "2023-07-07T15:14:35.520147293Z",
     "start_time": "2023-07-07T15:14:00.677242599Z"
    }
   }
  },
  {
   "cell_type": "code",
   "execution_count": 6,
   "outputs": [
    {
     "data": {
      "text/plain": "  Symbols targetSymbol  isUp\n0     MAK         KLK3     1\n1    XBP1         TPP1     1\n2    KLF5        CXCR4     1\n3    ATF3         SELE    -1\n4     MYC       EIF4G1     1",
      "text/html": "<div>\n<style scoped>\n    .dataframe tbody tr th:only-of-type {\n        vertical-align: middle;\n    }\n\n    .dataframe tbody tr th {\n        vertical-align: top;\n    }\n\n    .dataframe thead th {\n        text-align: right;\n    }\n</style>\n<table border=\"1\" class=\"dataframe\">\n  <thead>\n    <tr style=\"text-align: right;\">\n      <th></th>\n      <th>Symbols</th>\n      <th>targetSymbol</th>\n      <th>isUp</th>\n    </tr>\n  </thead>\n  <tbody>\n    <tr>\n      <th>0</th>\n      <td>MAK</td>\n      <td>KLK3</td>\n      <td>1</td>\n    </tr>\n    <tr>\n      <th>1</th>\n      <td>XBP1</td>\n      <td>TPP1</td>\n      <td>1</td>\n    </tr>\n    <tr>\n      <th>2</th>\n      <td>KLF5</td>\n      <td>CXCR4</td>\n      <td>1</td>\n    </tr>\n    <tr>\n      <th>3</th>\n      <td>ATF3</td>\n      <td>SELE</td>\n      <td>-1</td>\n    </tr>\n    <tr>\n      <th>4</th>\n      <td>MYC</td>\n      <td>EIF4G1</td>\n      <td>1</td>\n    </tr>\n  </tbody>\n</table>\n</div>"
     },
     "execution_count": 6,
     "metadata": {},
     "output_type": "execute_result"
    }
   ],
   "source": [
    "cpo_df.head()"
   ],
   "metadata": {
    "collapsed": false,
    "ExecuteTime": {
     "end_time": "2023-07-07T15:14:52.568387118Z",
     "start_time": "2023-07-07T15:14:52.560378231Z"
    }
   }
  },
  {
   "cell_type": "code",
   "execution_count": 22,
   "outputs": [
    {
     "data": {
      "text/plain": "                                 MSC  TERF1  LY96  MCM3    PTP4A1       DST  \\\nBPK.12x.4NQO_AAACCTGCACCCAGTG.1  NaN    NaN   NaN   NaN  1.773395       NaN   \nBPK.12x.4NQO_AAACCTGCAGCTTAAC.1  NaN    NaN   NaN   NaN       NaN  1.583203   \nBPK.12x.4NQO_AAACCTGGTGTGCGTC.1  NaN    NaN   NaN   NaN -0.212840 -0.757136   \nBPK.12x.4NQO_AAACCTGGTTGAACTC.1  NaN    NaN   NaN   NaN -0.172811 -0.728622   \nBPK.12x.4NQO_AAACGGGAGGATGGTC.1  NaN    NaN   NaN   NaN       NaN       NaN   \n\n                                 PTPN18  NPAS2    MAP4K4  IL1R2  ...  MYF6  \\\nBPK.12x.4NQO_AAACCTGCACCCAGTG.1     NaN    NaN       NaN    NaN  ...   NaN   \nBPK.12x.4NQO_AAACCTGCAGCTTAAC.1     NaN    NaN       NaN    NaN  ...   NaN   \nBPK.12x.4NQO_AAACCTGGTGTGCGTC.1     NaN    NaN -0.278226    NaN  ...   NaN   \nBPK.12x.4NQO_AAACCTGGTTGAACTC.1     NaN    NaN       NaN    NaN  ...   NaN   \nBPK.12x.4NQO_AAACGGGAGGATGGTC.1     NaN    NaN       NaN    NaN  ...   NaN   \n\n                                 CYSLTR2  CYP11A1  NPC1L1  CHRNE  HSD17B1  \\\nBPK.12x.4NQO_AAACCTGCACCCAGTG.1      NaN      NaN     NaN    NaN      NaN   \nBPK.12x.4NQO_AAACCTGCAGCTTAAC.1      NaN      NaN     NaN    NaN      NaN   \nBPK.12x.4NQO_AAACCTGGTGTGCGTC.1      NaN      NaN     NaN    NaN      NaN   \nBPK.12x.4NQO_AAACCTGGTTGAACTC.1      NaN      NaN     NaN    NaN      NaN   \nBPK.12x.4NQO_AAACGGGAGGATGGTC.1      NaN      NaN     NaN    NaN      NaN   \n\n                                 LRRN3  SSTR1  CDH6  RBFOX1  \nBPK.12x.4NQO_AAACCTGCACCCAGTG.1    NaN    NaN   NaN     NaN  \nBPK.12x.4NQO_AAACCTGCAGCTTAAC.1    NaN    NaN   NaN     NaN  \nBPK.12x.4NQO_AAACCTGGTGTGCGTC.1    NaN    NaN   NaN     NaN  \nBPK.12x.4NQO_AAACCTGGTTGAACTC.1    NaN    NaN   NaN     NaN  \nBPK.12x.4NQO_AAACGGGAGGATGGTC.1    NaN    NaN   NaN     NaN  \n\n[5 rows x 1887 columns]",
      "text/html": "<div>\n<style scoped>\n    .dataframe tbody tr th:only-of-type {\n        vertical-align: middle;\n    }\n\n    .dataframe tbody tr th {\n        vertical-align: top;\n    }\n\n    .dataframe thead th {\n        text-align: right;\n    }\n</style>\n<table border=\"1\" class=\"dataframe\">\n  <thead>\n    <tr style=\"text-align: right;\">\n      <th></th>\n      <th>MSC</th>\n      <th>TERF1</th>\n      <th>LY96</th>\n      <th>MCM3</th>\n      <th>PTP4A1</th>\n      <th>DST</th>\n      <th>PTPN18</th>\n      <th>NPAS2</th>\n      <th>MAP4K4</th>\n      <th>IL1R2</th>\n      <th>...</th>\n      <th>MYF6</th>\n      <th>CYSLTR2</th>\n      <th>CYP11A1</th>\n      <th>NPC1L1</th>\n      <th>CHRNE</th>\n      <th>HSD17B1</th>\n      <th>LRRN3</th>\n      <th>SSTR1</th>\n      <th>CDH6</th>\n      <th>RBFOX1</th>\n    </tr>\n  </thead>\n  <tbody>\n    <tr>\n      <th>BPK.12x.4NQO_AAACCTGCACCCAGTG.1</th>\n      <td>NaN</td>\n      <td>NaN</td>\n      <td>NaN</td>\n      <td>NaN</td>\n      <td>1.773395</td>\n      <td>NaN</td>\n      <td>NaN</td>\n      <td>NaN</td>\n      <td>NaN</td>\n      <td>NaN</td>\n      <td>...</td>\n      <td>NaN</td>\n      <td>NaN</td>\n      <td>NaN</td>\n      <td>NaN</td>\n      <td>NaN</td>\n      <td>NaN</td>\n      <td>NaN</td>\n      <td>NaN</td>\n      <td>NaN</td>\n      <td>NaN</td>\n    </tr>\n    <tr>\n      <th>BPK.12x.4NQO_AAACCTGCAGCTTAAC.1</th>\n      <td>NaN</td>\n      <td>NaN</td>\n      <td>NaN</td>\n      <td>NaN</td>\n      <td>NaN</td>\n      <td>1.583203</td>\n      <td>NaN</td>\n      <td>NaN</td>\n      <td>NaN</td>\n      <td>NaN</td>\n      <td>...</td>\n      <td>NaN</td>\n      <td>NaN</td>\n      <td>NaN</td>\n      <td>NaN</td>\n      <td>NaN</td>\n      <td>NaN</td>\n      <td>NaN</td>\n      <td>NaN</td>\n      <td>NaN</td>\n      <td>NaN</td>\n    </tr>\n    <tr>\n      <th>BPK.12x.4NQO_AAACCTGGTGTGCGTC.1</th>\n      <td>NaN</td>\n      <td>NaN</td>\n      <td>NaN</td>\n      <td>NaN</td>\n      <td>-0.212840</td>\n      <td>-0.757136</td>\n      <td>NaN</td>\n      <td>NaN</td>\n      <td>-0.278226</td>\n      <td>NaN</td>\n      <td>...</td>\n      <td>NaN</td>\n      <td>NaN</td>\n      <td>NaN</td>\n      <td>NaN</td>\n      <td>NaN</td>\n      <td>NaN</td>\n      <td>NaN</td>\n      <td>NaN</td>\n      <td>NaN</td>\n      <td>NaN</td>\n    </tr>\n    <tr>\n      <th>BPK.12x.4NQO_AAACCTGGTTGAACTC.1</th>\n      <td>NaN</td>\n      <td>NaN</td>\n      <td>NaN</td>\n      <td>NaN</td>\n      <td>-0.172811</td>\n      <td>-0.728622</td>\n      <td>NaN</td>\n      <td>NaN</td>\n      <td>NaN</td>\n      <td>NaN</td>\n      <td>...</td>\n      <td>NaN</td>\n      <td>NaN</td>\n      <td>NaN</td>\n      <td>NaN</td>\n      <td>NaN</td>\n      <td>NaN</td>\n      <td>NaN</td>\n      <td>NaN</td>\n      <td>NaN</td>\n      <td>NaN</td>\n    </tr>\n    <tr>\n      <th>BPK.12x.4NQO_AAACGGGAGGATGGTC.1</th>\n      <td>NaN</td>\n      <td>NaN</td>\n      <td>NaN</td>\n      <td>NaN</td>\n      <td>NaN</td>\n      <td>NaN</td>\n      <td>NaN</td>\n      <td>NaN</td>\n      <td>NaN</td>\n      <td>NaN</td>\n      <td>...</td>\n      <td>NaN</td>\n      <td>NaN</td>\n      <td>NaN</td>\n      <td>NaN</td>\n      <td>NaN</td>\n      <td>NaN</td>\n      <td>NaN</td>\n      <td>NaN</td>\n      <td>NaN</td>\n      <td>NaN</td>\n    </tr>\n  </tbody>\n</table>\n<p>5 rows × 1887 columns</p>\n</div>"
     },
     "execution_count": 22,
     "metadata": {},
     "output_type": "execute_result"
    }
   ],
   "source": [
    "sde_df.head()"
   ],
   "metadata": {
    "collapsed": false,
    "ExecuteTime": {
     "end_time": "2023-07-10T14:47:00.388470382Z",
     "start_time": "2023-07-10T14:47:00.352600881Z"
    }
   }
  },
  {
   "cell_type": "code",
   "execution_count": 48,
   "outputs": [],
   "source": [
    "for idx, row in sde_df.iterrows():\n",
    "    cp_df = cpo_df.copy()\n",
    "\n",
    "    cell_de = pd.DataFrame()\n",
    "    row = row.dropna()\n",
    "    cell_de['Symbols'] = row.index\n",
    "    cell_de['SignedP'] = row.values\n",
    "    cell_de['updown'] = np.where(cell_de['SignedP'] > 0, '1', '-1')\n",
    "    cell_de.sort_values(by=['updown', 'SignedP'], ascending=[False, True], inplace=True)\n",
    "    cell_de.reset_index(drop=True, inplace=True)\n",
    "    max_rank = len(cell_de)\n",
    "    cell_de['rank'] = np.arange(1, max_rank + 1)\n",
    "    cell_de['reverse_rank'] = max_rank - cell_de['rank'] + 1\n",
    "    cell_de['rank'] = (cell_de['rank'] - 0.5) / max_rank\n",
    "    cell_de['reverse_rank'] = (cell_de['reverse_rank'] - 0.5) / max_rank\n",
    "\n",
    "\n",
    "    # Remove rows of cp_df dataframe if targetSymbol is not present in Symbols column of rank_df dataframe\n",
    "    cp_df = cp_df[cp_df['targetSymbol'].isin(cell_de['Symbols'])]\n",
    "    cp_df = cp_df.reset_index(drop=True)\n",
    "    # Find the rank and reverse rank of targetSymbols\n",
    "    cp_df = cp_df.merge(cell_de[['Symbols', 'rank']], left_on='targetSymbol', right_on='Symbols', how='left')\n",
    "    cp_df['revRank'] = max_rank - cp_df['rank']\n",
    "    cp_df.drop('Symbols_y', axis=1, inplace=True)\n",
    "    cp_df.rename(columns={'Symbols_x': 'Symbols'}, inplace=True)\n",
    "\n",
    "    cp_df_grouped = cp_df.groupby('Symbols')['isUp'].apply(list).reset_index(name='upDownList')\n",
    "    cp_df_grouped['targetList'] = cp_df.groupby('Symbols')['targetSymbol'].apply(list).reset_index(name='targetList')[\n",
    "        'targetList']\n",
    "    cp_df_grouped['upDownCount'] = cp_df_grouped['upDownList'].apply(lambda x: len(x))\n",
    "    cp_df_grouped = cp_df_grouped[cp_df_grouped['upDownCount'] >= 3]\n",
    "\n",
    "    # Get the ranks of each targets in targetList from cell_de dataframe and add to new column\n",
    "    cp_df_grouped['targetRankList'] = cp_df_grouped.apply(\n",
    "        lambda x: [cell_de[cell_de['Symbols'] == target]['rank'].values[0] for target in x['targetList']], axis=1)\n",
    "    cp_df_grouped['targetRevRankList'] = cp_df_grouped.apply(\n",
    "        lambda x: [cell_de[cell_de['Symbols'] == target]['reverse_rank'].values[0] for target in x['targetList']],\n",
    "        axis=1)\n",
    "\n",
    "    break"
   ],
   "metadata": {
    "collapsed": false,
    "ExecuteTime": {
     "end_time": "2023-07-10T16:46:29.350304688Z",
     "start_time": "2023-07-10T16:46:29.105004085Z"
    }
   }
  },
  {
   "cell_type": "code",
   "execution_count": 39,
   "outputs": [
    {
     "data": {
      "text/plain": "        0         1         2         3         4         5         6    7    \\\n3  0.166667  0.500000  0.833333       NaN       NaN       NaN       NaN  NaN   \n4  0.125000  0.375000  0.625000  0.875000       NaN       NaN       NaN  NaN   \n5  0.100000  0.300000  0.500000  0.700000  0.900000       NaN       NaN  NaN   \n6  0.083333  0.250000  0.416667  0.583333  0.750000  0.916667       NaN  NaN   \n7  0.071429  0.214286  0.357143  0.500000  0.642857  0.785714  0.928571  NaN   \n\n   8    9    ...  189  190  191  192  193  194  195  196  197  198  \n3  NaN  NaN  ...  NaN  NaN  NaN  NaN  NaN  NaN  NaN  NaN  NaN  NaN  \n4  NaN  NaN  ...  NaN  NaN  NaN  NaN  NaN  NaN  NaN  NaN  NaN  NaN  \n5  NaN  NaN  ...  NaN  NaN  NaN  NaN  NaN  NaN  NaN  NaN  NaN  NaN  \n6  NaN  NaN  ...  NaN  NaN  NaN  NaN  NaN  NaN  NaN  NaN  NaN  NaN  \n7  NaN  NaN  ...  NaN  NaN  NaN  NaN  NaN  NaN  NaN  NaN  NaN  NaN  \n\n[5 rows x 199 columns]",
      "text/html": "<div>\n<style scoped>\n    .dataframe tbody tr th:only-of-type {\n        vertical-align: middle;\n    }\n\n    .dataframe tbody tr th {\n        vertical-align: top;\n    }\n\n    .dataframe thead th {\n        text-align: right;\n    }\n</style>\n<table border=\"1\" class=\"dataframe\">\n  <thead>\n    <tr style=\"text-align: right;\">\n      <th></th>\n      <th>0</th>\n      <th>1</th>\n      <th>2</th>\n      <th>3</th>\n      <th>4</th>\n      <th>5</th>\n      <th>6</th>\n      <th>7</th>\n      <th>8</th>\n      <th>9</th>\n      <th>...</th>\n      <th>189</th>\n      <th>190</th>\n      <th>191</th>\n      <th>192</th>\n      <th>193</th>\n      <th>194</th>\n      <th>195</th>\n      <th>196</th>\n      <th>197</th>\n      <th>198</th>\n    </tr>\n  </thead>\n  <tbody>\n    <tr>\n      <th>3</th>\n      <td>0.166667</td>\n      <td>0.500000</td>\n      <td>0.833333</td>\n      <td>NaN</td>\n      <td>NaN</td>\n      <td>NaN</td>\n      <td>NaN</td>\n      <td>NaN</td>\n      <td>NaN</td>\n      <td>NaN</td>\n      <td>...</td>\n      <td>NaN</td>\n      <td>NaN</td>\n      <td>NaN</td>\n      <td>NaN</td>\n      <td>NaN</td>\n      <td>NaN</td>\n      <td>NaN</td>\n      <td>NaN</td>\n      <td>NaN</td>\n      <td>NaN</td>\n    </tr>\n    <tr>\n      <th>4</th>\n      <td>0.125000</td>\n      <td>0.375000</td>\n      <td>0.625000</td>\n      <td>0.875000</td>\n      <td>NaN</td>\n      <td>NaN</td>\n      <td>NaN</td>\n      <td>NaN</td>\n      <td>NaN</td>\n      <td>NaN</td>\n      <td>...</td>\n      <td>NaN</td>\n      <td>NaN</td>\n      <td>NaN</td>\n      <td>NaN</td>\n      <td>NaN</td>\n      <td>NaN</td>\n      <td>NaN</td>\n      <td>NaN</td>\n      <td>NaN</td>\n      <td>NaN</td>\n    </tr>\n    <tr>\n      <th>5</th>\n      <td>0.100000</td>\n      <td>0.300000</td>\n      <td>0.500000</td>\n      <td>0.700000</td>\n      <td>0.900000</td>\n      <td>NaN</td>\n      <td>NaN</td>\n      <td>NaN</td>\n      <td>NaN</td>\n      <td>NaN</td>\n      <td>...</td>\n      <td>NaN</td>\n      <td>NaN</td>\n      <td>NaN</td>\n      <td>NaN</td>\n      <td>NaN</td>\n      <td>NaN</td>\n      <td>NaN</td>\n      <td>NaN</td>\n      <td>NaN</td>\n      <td>NaN</td>\n    </tr>\n    <tr>\n      <th>6</th>\n      <td>0.083333</td>\n      <td>0.250000</td>\n      <td>0.416667</td>\n      <td>0.583333</td>\n      <td>0.750000</td>\n      <td>0.916667</td>\n      <td>NaN</td>\n      <td>NaN</td>\n      <td>NaN</td>\n      <td>NaN</td>\n      <td>...</td>\n      <td>NaN</td>\n      <td>NaN</td>\n      <td>NaN</td>\n      <td>NaN</td>\n      <td>NaN</td>\n      <td>NaN</td>\n      <td>NaN</td>\n      <td>NaN</td>\n      <td>NaN</td>\n      <td>NaN</td>\n    </tr>\n    <tr>\n      <th>7</th>\n      <td>0.071429</td>\n      <td>0.214286</td>\n      <td>0.357143</td>\n      <td>0.500000</td>\n      <td>0.642857</td>\n      <td>0.785714</td>\n      <td>0.928571</td>\n      <td>NaN</td>\n      <td>NaN</td>\n      <td>NaN</td>\n      <td>...</td>\n      <td>NaN</td>\n      <td>NaN</td>\n      <td>NaN</td>\n      <td>NaN</td>\n      <td>NaN</td>\n      <td>NaN</td>\n      <td>NaN</td>\n      <td>NaN</td>\n      <td>NaN</td>\n      <td>NaN</td>\n    </tr>\n  </tbody>\n</table>\n<p>5 rows × 199 columns</p>\n</div>"
     },
     "execution_count": 39,
     "metadata": {},
     "output_type": "execute_result"
    }
   ],
   "source": [
    "distribution = []\n",
    "for i in range(3, 200):\n",
    "    ranks = np.arange(1, i + 1)\n",
    "    ranks = (ranks - 0.5) / i\n",
    "    distribution.append(ranks)\n",
    "\n",
    "distribution = pd.DataFrame(distribution, index=np.arange(3, 200))\n",
    "distribution.head()\n"
   ],
   "metadata": {
    "collapsed": false,
    "ExecuteTime": {
     "end_time": "2023-07-10T15:57:46.664356563Z",
     "start_time": "2023-07-10T15:57:46.630025767Z"
    }
   }
  },
  {
   "cell_type": "code",
   "execution_count": 40,
   "outputs": [
    {
     "data": {
      "text/plain": "array([0.98611111, 0.99166667, 0.99722222])"
     },
     "execution_count": 40,
     "metadata": {},
     "output_type": "execute_result"
    }
   ],
   "source": [
    "a = np.array([178, 179, 180])\n",
    "a = (a - 0.5) / 180\n",
    "a"
   ],
   "metadata": {
    "collapsed": false,
    "ExecuteTime": {
     "end_time": "2023-07-10T15:58:44.691672352Z",
     "start_time": "2023-07-10T15:58:44.643043828Z"
    }
   }
  },
  {
   "cell_type": "code",
   "execution_count": null,
   "outputs": [],
   "source": [],
   "metadata": {
    "collapsed": false
   }
  }
 ],
 "metadata": {
  "kernelspec": {
   "display_name": "Python 3",
   "language": "python",
   "name": "python3"
  },
  "language_info": {
   "codemirror_mode": {
    "name": "ipython",
    "version": 2
   },
   "file_extension": ".py",
   "mimetype": "text/x-python",
   "name": "python",
   "nbconvert_exporter": "python",
   "pygments_lexer": "ipython2",
   "version": "2.7.6"
  }
 },
 "nbformat": 4,
 "nbformat_minor": 0
}
