{
 "cells": [
  {
   "cell_type": "code",
   "execution_count": 77,
   "metadata": {
    "collapsed": true,
    "ExecuteTime": {
     "end_time": "2023-07-11T20:32:37.990734757Z",
     "start_time": "2023-07-11T20:32:37.925783155Z"
    }
   },
   "outputs": [],
   "source": [
    "import pandas as pd\n",
    "import numpy as np\n",
    "from scipy.stats import zscore"
   ]
  },
  {
   "cell_type": "code",
   "execution_count": 78,
   "outputs": [
    {
     "name": "stdout",
     "output_type": "stream",
     "text": [
      "Files read complete...\n"
     ]
    }
   ],
   "source": [
    "cp_file = '../../data/causal-priors.txt'\n",
    "sde_file = '../../data/mouse_to_human_normalized.tsv'\n",
    "\n",
    "cpo_df = pd.read_csv(cp_file, sep='\\t', header=None, usecols=[0, 1, 2],\n",
    "                     names=['Symbols', 'action', 'targetSymbol'], squeeze=True)\n",
    "cpo_df = cpo_df[cpo_df['action'].isin(['upregulates-expression', 'downregulates-expression'])]\n",
    "cpo_df.reset_index(drop=True, inplace=True)\n",
    "cpo_df['isUp'] = np.where(cpo_df['action'] == 'upregulates-expression', 1, -1)\n",
    "cpo_df.drop(['action'], axis=1, inplace=True)\n",
    "\n",
    "\n",
    "sde_df = pd.read_csv(sde_file, sep='\\t', header=0, index_col=0).T\n",
    "sde_df = pd.DataFrame(zscore(sde_df, nan_policy='omit'), index=sde_df.index, columns=sde_df.columns)\n",
    "print(\"Files read complete...\")"
   ],
   "metadata": {
    "collapsed": false,
    "ExecuteTime": {
     "end_time": "2023-07-11T20:32:44.277051859Z",
     "start_time": "2023-07-11T20:32:38.904625248Z"
    }
   }
  },
  {
   "cell_type": "code",
   "execution_count": 79,
   "outputs": [
    {
     "data": {
      "text/plain": "  Symbols targetSymbol  isUp\n0     MAK         KLK3     1\n1    XBP1         TPP1     1\n2    KLF5        CXCR4     1\n3    ATF3         SELE    -1\n4     MYC       EIF4G1     1",
      "text/html": "<div>\n<style scoped>\n    .dataframe tbody tr th:only-of-type {\n        vertical-align: middle;\n    }\n\n    .dataframe tbody tr th {\n        vertical-align: top;\n    }\n\n    .dataframe thead th {\n        text-align: right;\n    }\n</style>\n<table border=\"1\" class=\"dataframe\">\n  <thead>\n    <tr style=\"text-align: right;\">\n      <th></th>\n      <th>Symbols</th>\n      <th>targetSymbol</th>\n      <th>isUp</th>\n    </tr>\n  </thead>\n  <tbody>\n    <tr>\n      <th>0</th>\n      <td>MAK</td>\n      <td>KLK3</td>\n      <td>1</td>\n    </tr>\n    <tr>\n      <th>1</th>\n      <td>XBP1</td>\n      <td>TPP1</td>\n      <td>1</td>\n    </tr>\n    <tr>\n      <th>2</th>\n      <td>KLF5</td>\n      <td>CXCR4</td>\n      <td>1</td>\n    </tr>\n    <tr>\n      <th>3</th>\n      <td>ATF3</td>\n      <td>SELE</td>\n      <td>-1</td>\n    </tr>\n    <tr>\n      <th>4</th>\n      <td>MYC</td>\n      <td>EIF4G1</td>\n      <td>1</td>\n    </tr>\n  </tbody>\n</table>\n</div>"
     },
     "execution_count": 79,
     "metadata": {},
     "output_type": "execute_result"
    }
   ],
   "source": [
    "cpo_df.head()"
   ],
   "metadata": {
    "collapsed": false,
    "ExecuteTime": {
     "end_time": "2023-07-11T20:34:59.149628529Z",
     "start_time": "2023-07-11T20:34:59.136007848Z"
    }
   }
  },
  {
   "cell_type": "code",
   "execution_count": 80,
   "outputs": [
    {
     "data": {
      "text/plain": "                                  ADORA2B   ADORA2A      ELK1      ELK3  \\\nBPK.12x.4NQO_AAACCTGCACCCAGTG.1 -0.140806 -0.052445 -0.213359 -0.342003   \nBPK.12x.4NQO_AAACCTGCAGCTTAAC.1 -0.140806 -0.052445 -0.213359 -0.342003   \nBPK.12x.4NQO_AAACCTGGTGTGCGTC.1 -0.140806 -0.052445 -0.213359  2.456715   \nBPK.12x.4NQO_AAACCTGGTTGAACTC.1 -0.140806 -0.052445 -0.213359 -0.342003   \nBPK.12x.4NQO_AAACGGGAGGATGGTC.1 -0.140806 -0.052445 -0.213359 -0.342003   \n\n                                     ELK4     ABCB4   ABCB8     ABCC3  \\\nBPK.12x.4NQO_AAACCTGCACCCAGTG.1 -0.424156 -0.035202 -0.2871 -0.384395   \nBPK.12x.4NQO_AAACCTGCAGCTTAAC.1 -0.424156 -0.035202 -0.2871 -0.384395   \nBPK.12x.4NQO_AAACCTGGTGTGCGTC.1 -0.424156 -0.035202 -0.2871 -0.384395   \nBPK.12x.4NQO_AAACCTGGTTGAACTC.1 -0.424156 -0.035202 -0.2871 -0.384395   \nBPK.12x.4NQO_AAACGGGAGGATGGTC.1 -0.424156 -0.035202 -0.2871  4.413715   \n\n                                    ABCC4     ABCC1  ...     CASP7      RRM1  \\\nBPK.12x.4NQO_AAACCTGCACCCAGTG.1 -0.103931 -0.333983  ... -0.236696 -0.344047   \nBPK.12x.4NQO_AAACCTGCAGCTTAAC.1 -0.103931 -0.333983  ... -0.236696 -0.344047   \nBPK.12x.4NQO_AAACCTGGTGTGCGTC.1 -0.103931 -0.333983  ... -0.236696 -0.344047   \nBPK.12x.4NQO_AAACCTGGTTGAACTC.1 -0.103931 -0.333983  ... -0.236696 -0.344047   \nBPK.12x.4NQO_AAACGGGAGGATGGTC.1 -0.103931 -0.333983  ... -0.236696 -0.344047   \n\n                                     RRM2     CASP9     CASP4     CASP3  \\\nBPK.12x.4NQO_AAACCTGCACCCAGTG.1 -0.320121 -0.183918 -0.368985 -0.195632   \nBPK.12x.4NQO_AAACCTGCAGCTTAAC.1 -0.320121 -0.183918  4.007340 -0.195632   \nBPK.12x.4NQO_AAACCTGGTGTGCGTC.1  5.842060 -0.183918 -0.368985 -0.195632   \nBPK.12x.4NQO_AAACCTGGTTGAACTC.1 -0.320121 -0.183918 -0.368985 -0.195632   \nBPK.12x.4NQO_AAACGGGAGGATGGTC.1 -0.320121 -0.183918 -0.368985 -0.195632   \n\n                                    CASP6     CASP2     CASP1    NRCAM  \nBPK.12x.4NQO_AAACCTGCACCCAGTG.1 -0.410271 -0.262624  6.731551 -0.02541  \nBPK.12x.4NQO_AAACCTGCAGCTTAAC.1 -0.410271 -0.262624 -0.287124 -0.02541  \nBPK.12x.4NQO_AAACCTGGTGTGCGTC.1 -0.410271  3.197637 -0.287124 -0.02541  \nBPK.12x.4NQO_AAACCTGGTTGAACTC.1 -0.410271 -0.262624 -0.287124 -0.02541  \nBPK.12x.4NQO_AAACGGGAGGATGGTC.1 -0.410271 -0.262624 -0.287124 -0.02541  \n\n[5 rows x 2712 columns]",
      "text/html": "<div>\n<style scoped>\n    .dataframe tbody tr th:only-of-type {\n        vertical-align: middle;\n    }\n\n    .dataframe tbody tr th {\n        vertical-align: top;\n    }\n\n    .dataframe thead th {\n        text-align: right;\n    }\n</style>\n<table border=\"1\" class=\"dataframe\">\n  <thead>\n    <tr style=\"text-align: right;\">\n      <th></th>\n      <th>ADORA2B</th>\n      <th>ADORA2A</th>\n      <th>ELK1</th>\n      <th>ELK3</th>\n      <th>ELK4</th>\n      <th>ABCB4</th>\n      <th>ABCB8</th>\n      <th>ABCC3</th>\n      <th>ABCC4</th>\n      <th>ABCC1</th>\n      <th>...</th>\n      <th>CASP7</th>\n      <th>RRM1</th>\n      <th>RRM2</th>\n      <th>CASP9</th>\n      <th>CASP4</th>\n      <th>CASP3</th>\n      <th>CASP6</th>\n      <th>CASP2</th>\n      <th>CASP1</th>\n      <th>NRCAM</th>\n    </tr>\n  </thead>\n  <tbody>\n    <tr>\n      <th>BPK.12x.4NQO_AAACCTGCACCCAGTG.1</th>\n      <td>-0.140806</td>\n      <td>-0.052445</td>\n      <td>-0.213359</td>\n      <td>-0.342003</td>\n      <td>-0.424156</td>\n      <td>-0.035202</td>\n      <td>-0.2871</td>\n      <td>-0.384395</td>\n      <td>-0.103931</td>\n      <td>-0.333983</td>\n      <td>...</td>\n      <td>-0.236696</td>\n      <td>-0.344047</td>\n      <td>-0.320121</td>\n      <td>-0.183918</td>\n      <td>-0.368985</td>\n      <td>-0.195632</td>\n      <td>-0.410271</td>\n      <td>-0.262624</td>\n      <td>6.731551</td>\n      <td>-0.02541</td>\n    </tr>\n    <tr>\n      <th>BPK.12x.4NQO_AAACCTGCAGCTTAAC.1</th>\n      <td>-0.140806</td>\n      <td>-0.052445</td>\n      <td>-0.213359</td>\n      <td>-0.342003</td>\n      <td>-0.424156</td>\n      <td>-0.035202</td>\n      <td>-0.2871</td>\n      <td>-0.384395</td>\n      <td>-0.103931</td>\n      <td>-0.333983</td>\n      <td>...</td>\n      <td>-0.236696</td>\n      <td>-0.344047</td>\n      <td>-0.320121</td>\n      <td>-0.183918</td>\n      <td>4.007340</td>\n      <td>-0.195632</td>\n      <td>-0.410271</td>\n      <td>-0.262624</td>\n      <td>-0.287124</td>\n      <td>-0.02541</td>\n    </tr>\n    <tr>\n      <th>BPK.12x.4NQO_AAACCTGGTGTGCGTC.1</th>\n      <td>-0.140806</td>\n      <td>-0.052445</td>\n      <td>-0.213359</td>\n      <td>2.456715</td>\n      <td>-0.424156</td>\n      <td>-0.035202</td>\n      <td>-0.2871</td>\n      <td>-0.384395</td>\n      <td>-0.103931</td>\n      <td>-0.333983</td>\n      <td>...</td>\n      <td>-0.236696</td>\n      <td>-0.344047</td>\n      <td>5.842060</td>\n      <td>-0.183918</td>\n      <td>-0.368985</td>\n      <td>-0.195632</td>\n      <td>-0.410271</td>\n      <td>3.197637</td>\n      <td>-0.287124</td>\n      <td>-0.02541</td>\n    </tr>\n    <tr>\n      <th>BPK.12x.4NQO_AAACCTGGTTGAACTC.1</th>\n      <td>-0.140806</td>\n      <td>-0.052445</td>\n      <td>-0.213359</td>\n      <td>-0.342003</td>\n      <td>-0.424156</td>\n      <td>-0.035202</td>\n      <td>-0.2871</td>\n      <td>-0.384395</td>\n      <td>-0.103931</td>\n      <td>-0.333983</td>\n      <td>...</td>\n      <td>-0.236696</td>\n      <td>-0.344047</td>\n      <td>-0.320121</td>\n      <td>-0.183918</td>\n      <td>-0.368985</td>\n      <td>-0.195632</td>\n      <td>-0.410271</td>\n      <td>-0.262624</td>\n      <td>-0.287124</td>\n      <td>-0.02541</td>\n    </tr>\n    <tr>\n      <th>BPK.12x.4NQO_AAACGGGAGGATGGTC.1</th>\n      <td>-0.140806</td>\n      <td>-0.052445</td>\n      <td>-0.213359</td>\n      <td>-0.342003</td>\n      <td>-0.424156</td>\n      <td>-0.035202</td>\n      <td>-0.2871</td>\n      <td>4.413715</td>\n      <td>-0.103931</td>\n      <td>-0.333983</td>\n      <td>...</td>\n      <td>-0.236696</td>\n      <td>-0.344047</td>\n      <td>-0.320121</td>\n      <td>-0.183918</td>\n      <td>-0.368985</td>\n      <td>-0.195632</td>\n      <td>-0.410271</td>\n      <td>-0.262624</td>\n      <td>-0.287124</td>\n      <td>-0.02541</td>\n    </tr>\n  </tbody>\n</table>\n<p>5 rows × 2712 columns</p>\n</div>"
     },
     "execution_count": 80,
     "metadata": {},
     "output_type": "execute_result"
    }
   ],
   "source": [
    "sde_df.head()"
   ],
   "metadata": {
    "collapsed": false,
    "ExecuteTime": {
     "end_time": "2023-07-11T20:35:00.632515120Z",
     "start_time": "2023-07-11T20:35:00.616337854Z"
    }
   }
  },
  {
   "cell_type": "code",
   "execution_count": 48,
   "outputs": [],
   "source": [
    "for idx, row in sde_df.iterrows():\n",
    "    cp_df = cpo_df.copy()\n",
    "\n",
    "    cell_de = pd.DataFrame()\n",
    "    row = row.dropna()\n",
    "    cell_de['Symbols'] = row.index\n",
    "    cell_de['SignedP'] = row.values\n",
    "    cell_de['updown'] = np.where(cell_de['SignedP'] > 0, '1', '-1')\n",
    "    cell_de.sort_values(by=['updown', 'SignedP'], ascending=[False, True], inplace=True)\n",
    "    cell_de.reset_index(drop=True, inplace=True)\n",
    "    max_rank = len(cell_de)\n",
    "    cell_de['rank'] = np.arange(1, max_rank + 1)\n",
    "    cell_de['reverse_rank'] = max_rank - cell_de['rank'] + 1\n",
    "    cell_de['rank'] = (cell_de['rank'] - 0.5) / max_rank\n",
    "    cell_de['reverse_rank'] = (cell_de['reverse_rank'] - 0.5) / max_rank\n",
    "\n",
    "\n",
    "    # Remove rows of cp_df dataframe if targetSymbol is not present in Symbols column of rank_df dataframe\n",
    "    cp_df = cp_df[cp_df['targetSymbol'].isin(cell_de['Symbols'])]\n",
    "    cp_df = cp_df.reset_index(drop=True)\n",
    "    # Find the rank and reverse rank of targetSymbols\n",
    "    cp_df = cp_df.merge(cell_de[['Symbols', 'rank']], left_on='targetSymbol', right_on='Symbols', how='left')\n",
    "    cp_df['revRank'] = max_rank - cp_df['rank']\n",
    "    cp_df.drop('Symbols_y', axis=1, inplace=True)\n",
    "    cp_df.rename(columns={'Symbols_x': 'Symbols'}, inplace=True)\n",
    "\n",
    "    cp_df_grouped = cp_df.groupby('Symbols')['isUp'].apply(list).reset_index(name='upDownList')\n",
    "    cp_df_grouped['targetList'] = cp_df.groupby('Symbols')['targetSymbol'].apply(list).reset_index(name='targetList')[\n",
    "        'targetList']\n",
    "    cp_df_grouped['upDownCount'] = cp_df_grouped['upDownList'].apply(lambda x: len(x))\n",
    "    cp_df_grouped = cp_df_grouped[cp_df_grouped['upDownCount'] >= 3]\n",
    "\n",
    "    # Get the ranks of each targets in targetList from cell_de dataframe and add to new column\n",
    "    cp_df_grouped['targetRankList'] = cp_df_grouped.apply(\n",
    "        lambda x: [cell_de[cell_de['Symbols'] == target]['rank'].values[0] for target in x['targetList']], axis=1)\n",
    "    cp_df_grouped['targetRevRankList'] = cp_df_grouped.apply(\n",
    "        lambda x: [cell_de[cell_de['Symbols'] == target]['reverse_rank'].values[0] for target in x['targetList']],\n",
    "        axis=1)\n",
    "\n",
    "    break"
   ],
   "metadata": {
    "collapsed": false,
    "ExecuteTime": {
     "end_time": "2023-07-10T16:46:29.350304688Z",
     "start_time": "2023-07-10T16:46:29.105004085Z"
    }
   }
  },
  {
   "cell_type": "code",
   "execution_count": 39,
   "outputs": [
    {
     "data": {
      "text/plain": "        0         1         2         3         4         5         6    7    \\\n3  0.166667  0.500000  0.833333       NaN       NaN       NaN       NaN  NaN   \n4  0.125000  0.375000  0.625000  0.875000       NaN       NaN       NaN  NaN   \n5  0.100000  0.300000  0.500000  0.700000  0.900000       NaN       NaN  NaN   \n6  0.083333  0.250000  0.416667  0.583333  0.750000  0.916667       NaN  NaN   \n7  0.071429  0.214286  0.357143  0.500000  0.642857  0.785714  0.928571  NaN   \n\n   8    9    ...  189  190  191  192  193  194  195  196  197  198  \n3  NaN  NaN  ...  NaN  NaN  NaN  NaN  NaN  NaN  NaN  NaN  NaN  NaN  \n4  NaN  NaN  ...  NaN  NaN  NaN  NaN  NaN  NaN  NaN  NaN  NaN  NaN  \n5  NaN  NaN  ...  NaN  NaN  NaN  NaN  NaN  NaN  NaN  NaN  NaN  NaN  \n6  NaN  NaN  ...  NaN  NaN  NaN  NaN  NaN  NaN  NaN  NaN  NaN  NaN  \n7  NaN  NaN  ...  NaN  NaN  NaN  NaN  NaN  NaN  NaN  NaN  NaN  NaN  \n\n[5 rows x 199 columns]",
      "text/html": "<div>\n<style scoped>\n    .dataframe tbody tr th:only-of-type {\n        vertical-align: middle;\n    }\n\n    .dataframe tbody tr th {\n        vertical-align: top;\n    }\n\n    .dataframe thead th {\n        text-align: right;\n    }\n</style>\n<table border=\"1\" class=\"dataframe\">\n  <thead>\n    <tr style=\"text-align: right;\">\n      <th></th>\n      <th>0</th>\n      <th>1</th>\n      <th>2</th>\n      <th>3</th>\n      <th>4</th>\n      <th>5</th>\n      <th>6</th>\n      <th>7</th>\n      <th>8</th>\n      <th>9</th>\n      <th>...</th>\n      <th>189</th>\n      <th>190</th>\n      <th>191</th>\n      <th>192</th>\n      <th>193</th>\n      <th>194</th>\n      <th>195</th>\n      <th>196</th>\n      <th>197</th>\n      <th>198</th>\n    </tr>\n  </thead>\n  <tbody>\n    <tr>\n      <th>3</th>\n      <td>0.166667</td>\n      <td>0.500000</td>\n      <td>0.833333</td>\n      <td>NaN</td>\n      <td>NaN</td>\n      <td>NaN</td>\n      <td>NaN</td>\n      <td>NaN</td>\n      <td>NaN</td>\n      <td>NaN</td>\n      <td>...</td>\n      <td>NaN</td>\n      <td>NaN</td>\n      <td>NaN</td>\n      <td>NaN</td>\n      <td>NaN</td>\n      <td>NaN</td>\n      <td>NaN</td>\n      <td>NaN</td>\n      <td>NaN</td>\n      <td>NaN</td>\n    </tr>\n    <tr>\n      <th>4</th>\n      <td>0.125000</td>\n      <td>0.375000</td>\n      <td>0.625000</td>\n      <td>0.875000</td>\n      <td>NaN</td>\n      <td>NaN</td>\n      <td>NaN</td>\n      <td>NaN</td>\n      <td>NaN</td>\n      <td>NaN</td>\n      <td>...</td>\n      <td>NaN</td>\n      <td>NaN</td>\n      <td>NaN</td>\n      <td>NaN</td>\n      <td>NaN</td>\n      <td>NaN</td>\n      <td>NaN</td>\n      <td>NaN</td>\n      <td>NaN</td>\n      <td>NaN</td>\n    </tr>\n    <tr>\n      <th>5</th>\n      <td>0.100000</td>\n      <td>0.300000</td>\n      <td>0.500000</td>\n      <td>0.700000</td>\n      <td>0.900000</td>\n      <td>NaN</td>\n      <td>NaN</td>\n      <td>NaN</td>\n      <td>NaN</td>\n      <td>NaN</td>\n      <td>...</td>\n      <td>NaN</td>\n      <td>NaN</td>\n      <td>NaN</td>\n      <td>NaN</td>\n      <td>NaN</td>\n      <td>NaN</td>\n      <td>NaN</td>\n      <td>NaN</td>\n      <td>NaN</td>\n      <td>NaN</td>\n    </tr>\n    <tr>\n      <th>6</th>\n      <td>0.083333</td>\n      <td>0.250000</td>\n      <td>0.416667</td>\n      <td>0.583333</td>\n      <td>0.750000</td>\n      <td>0.916667</td>\n      <td>NaN</td>\n      <td>NaN</td>\n      <td>NaN</td>\n      <td>NaN</td>\n      <td>...</td>\n      <td>NaN</td>\n      <td>NaN</td>\n      <td>NaN</td>\n      <td>NaN</td>\n      <td>NaN</td>\n      <td>NaN</td>\n      <td>NaN</td>\n      <td>NaN</td>\n      <td>NaN</td>\n      <td>NaN</td>\n    </tr>\n    <tr>\n      <th>7</th>\n      <td>0.071429</td>\n      <td>0.214286</td>\n      <td>0.357143</td>\n      <td>0.500000</td>\n      <td>0.642857</td>\n      <td>0.785714</td>\n      <td>0.928571</td>\n      <td>NaN</td>\n      <td>NaN</td>\n      <td>NaN</td>\n      <td>...</td>\n      <td>NaN</td>\n      <td>NaN</td>\n      <td>NaN</td>\n      <td>NaN</td>\n      <td>NaN</td>\n      <td>NaN</td>\n      <td>NaN</td>\n      <td>NaN</td>\n      <td>NaN</td>\n      <td>NaN</td>\n    </tr>\n  </tbody>\n</table>\n<p>5 rows × 199 columns</p>\n</div>"
     },
     "execution_count": 39,
     "metadata": {},
     "output_type": "execute_result"
    }
   ],
   "source": [
    "distribution = []\n",
    "for i in range(3, 200):\n",
    "    ranks = np.arange(1, i + 1)\n",
    "    ranks = (ranks - 0.5) / i\n",
    "    distribution.append(ranks)\n",
    "\n",
    "distribution = pd.DataFrame(distribution, index=np.arange(3, 200))\n",
    "distribution.head()\n"
   ],
   "metadata": {
    "collapsed": false,
    "ExecuteTime": {
     "end_time": "2023-07-10T15:57:46.664356563Z",
     "start_time": "2023-07-10T15:57:46.630025767Z"
    }
   }
  }
 ],
 "metadata": {
  "kernelspec": {
   "display_name": "Python 3",
   "language": "python",
   "name": "python3"
  },
  "language_info": {
   "codemirror_mode": {
    "name": "ipython",
    "version": 2
   },
   "file_extension": ".py",
   "mimetype": "text/x-python",
   "name": "python",
   "nbconvert_exporter": "python",
   "pygments_lexer": "ipython2",
   "version": "2.7.6"
  }
 },
 "nbformat": 4,
 "nbformat_minor": 0
}
