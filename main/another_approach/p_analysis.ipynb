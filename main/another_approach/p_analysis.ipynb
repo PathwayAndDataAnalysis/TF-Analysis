{
 "cells": [
  {
   "cell_type": "code",
   "execution_count": 3,
   "metadata": {
    "collapsed": true,
    "ExecuteTime": {
     "end_time": "2023-07-17T18:55:22.407855529Z",
     "start_time": "2023-07-17T18:55:22.334401992Z"
    }
   },
   "outputs": [],
   "source": [
    "import numpy as np\n",
    "import pandas as pd\n",
    "import statsmodels.stats.multitest as smm"
   ]
  },
  {
   "cell_type": "markdown",
   "source": [
    "### P Value Analysis of Slow Method"
   ],
   "metadata": {
    "collapsed": false
   }
  },
  {
   "cell_type": "code",
   "execution_count": 8,
   "outputs": [
    {
     "data": {
      "text/plain": "                               A2M   AATF  ABCA1  ABCA3  ABCB1  ABCG1  ABCG5  \\\nmidpoint_AAACCTGCACCCAGTG-1    NaN    NaN    NaN  0.504  0.786    NaN    NaN   \nmidpoint_AAACCTGCAGCTTAAC-1  0.692    NaN    NaN    NaN  0.172    NaN    NaN   \nmidpoint_AAACCTGGTGTGCGTC-1  0.902  0.219    NaN  0.438  0.030    NaN    NaN   \nmidpoint_AAACCTGGTTGAACTC-1  0.986    NaN  0.184  0.005  0.551  0.184  0.184   \nmidpoint_AAACGGGAGGATGGTC-1  0.488  0.739  0.641    NaN  0.553  0.641  0.641   \n\n                             ABCG8   ABL1  ACACA  ...  ZNF350  ZNF382  ZNF383  \\\nmidpoint_AAACCTGCACCCAGTG-1    NaN  0.575    NaN  ...     NaN   0.213     NaN   \nmidpoint_AAACCTGCAGCTTAAC-1    NaN  0.579    NaN  ...     NaN   0.604     NaN   \nmidpoint_AAACCTGGTGTGCGTC-1    NaN  0.074    NaN  ...   0.258   0.288   0.187   \nmidpoint_AAACCTGGTTGAACTC-1  0.184  0.975  0.005  ...     NaN   0.062   0.198   \nmidpoint_AAACGGGAGGATGGTC-1  0.641  0.245    NaN  ...   0.501   0.089   0.367   \n\n                             ZNF385A  ZNF444  ZNF467  ZNF638  ZNF76  ZNRD1  \\\nmidpoint_AAACCTGCACCCAGTG-1    0.471     NaN     NaN     NaN    NaN    NaN   \nmidpoint_AAACCTGCAGCTTAAC-1    0.886     NaN     NaN     NaN  0.579    NaN   \nmidpoint_AAACCTGGTGTGCGTC-1    0.455     NaN     NaN     NaN  0.574    NaN   \nmidpoint_AAACCTGGTTGAACTC-1    0.239     NaN     NaN     NaN  0.581  0.777   \nmidpoint_AAACGGGAGGATGGTC-1    0.031     NaN     NaN     NaN  0.279    NaN   \n\n                               ZYX  \nmidpoint_AAACCTGCACCCAGTG-1    NaN  \nmidpoint_AAACCTGCAGCTTAAC-1    NaN  \nmidpoint_AAACCTGGTGTGCGTC-1  0.729  \nmidpoint_AAACCTGGTTGAACTC-1    NaN  \nmidpoint_AAACGGGAGGATGGTC-1    NaN  \n\n[5 rows x 1709 columns]",
      "text/html": "<div>\n<style scoped>\n    .dataframe tbody tr th:only-of-type {\n        vertical-align: middle;\n    }\n\n    .dataframe tbody tr th {\n        vertical-align: top;\n    }\n\n    .dataframe thead th {\n        text-align: right;\n    }\n</style>\n<table border=\"1\" class=\"dataframe\">\n  <thead>\n    <tr style=\"text-align: right;\">\n      <th></th>\n      <th>A2M</th>\n      <th>AATF</th>\n      <th>ABCA1</th>\n      <th>ABCA3</th>\n      <th>ABCB1</th>\n      <th>ABCG1</th>\n      <th>ABCG5</th>\n      <th>ABCG8</th>\n      <th>ABL1</th>\n      <th>ACACA</th>\n      <th>...</th>\n      <th>ZNF350</th>\n      <th>ZNF382</th>\n      <th>ZNF383</th>\n      <th>ZNF385A</th>\n      <th>ZNF444</th>\n      <th>ZNF467</th>\n      <th>ZNF638</th>\n      <th>ZNF76</th>\n      <th>ZNRD1</th>\n      <th>ZYX</th>\n    </tr>\n  </thead>\n  <tbody>\n    <tr>\n      <th>midpoint_AAACCTGCACCCAGTG-1</th>\n      <td>NaN</td>\n      <td>NaN</td>\n      <td>NaN</td>\n      <td>0.504</td>\n      <td>0.786</td>\n      <td>NaN</td>\n      <td>NaN</td>\n      <td>NaN</td>\n      <td>0.575</td>\n      <td>NaN</td>\n      <td>...</td>\n      <td>NaN</td>\n      <td>0.213</td>\n      <td>NaN</td>\n      <td>0.471</td>\n      <td>NaN</td>\n      <td>NaN</td>\n      <td>NaN</td>\n      <td>NaN</td>\n      <td>NaN</td>\n      <td>NaN</td>\n    </tr>\n    <tr>\n      <th>midpoint_AAACCTGCAGCTTAAC-1</th>\n      <td>0.692</td>\n      <td>NaN</td>\n      <td>NaN</td>\n      <td>NaN</td>\n      <td>0.172</td>\n      <td>NaN</td>\n      <td>NaN</td>\n      <td>NaN</td>\n      <td>0.579</td>\n      <td>NaN</td>\n      <td>...</td>\n      <td>NaN</td>\n      <td>0.604</td>\n      <td>NaN</td>\n      <td>0.886</td>\n      <td>NaN</td>\n      <td>NaN</td>\n      <td>NaN</td>\n      <td>0.579</td>\n      <td>NaN</td>\n      <td>NaN</td>\n    </tr>\n    <tr>\n      <th>midpoint_AAACCTGGTGTGCGTC-1</th>\n      <td>0.902</td>\n      <td>0.219</td>\n      <td>NaN</td>\n      <td>0.438</td>\n      <td>0.030</td>\n      <td>NaN</td>\n      <td>NaN</td>\n      <td>NaN</td>\n      <td>0.074</td>\n      <td>NaN</td>\n      <td>...</td>\n      <td>0.258</td>\n      <td>0.288</td>\n      <td>0.187</td>\n      <td>0.455</td>\n      <td>NaN</td>\n      <td>NaN</td>\n      <td>NaN</td>\n      <td>0.574</td>\n      <td>NaN</td>\n      <td>0.729</td>\n    </tr>\n    <tr>\n      <th>midpoint_AAACCTGGTTGAACTC-1</th>\n      <td>0.986</td>\n      <td>NaN</td>\n      <td>0.184</td>\n      <td>0.005</td>\n      <td>0.551</td>\n      <td>0.184</td>\n      <td>0.184</td>\n      <td>0.184</td>\n      <td>0.975</td>\n      <td>0.005</td>\n      <td>...</td>\n      <td>NaN</td>\n      <td>0.062</td>\n      <td>0.198</td>\n      <td>0.239</td>\n      <td>NaN</td>\n      <td>NaN</td>\n      <td>NaN</td>\n      <td>0.581</td>\n      <td>0.777</td>\n      <td>NaN</td>\n    </tr>\n    <tr>\n      <th>midpoint_AAACGGGAGGATGGTC-1</th>\n      <td>0.488</td>\n      <td>0.739</td>\n      <td>0.641</td>\n      <td>NaN</td>\n      <td>0.553</td>\n      <td>0.641</td>\n      <td>0.641</td>\n      <td>0.641</td>\n      <td>0.245</td>\n      <td>NaN</td>\n      <td>...</td>\n      <td>0.501</td>\n      <td>0.089</td>\n      <td>0.367</td>\n      <td>0.031</td>\n      <td>NaN</td>\n      <td>NaN</td>\n      <td>NaN</td>\n      <td>0.279</td>\n      <td>NaN</td>\n      <td>NaN</td>\n    </tr>\n  </tbody>\n</table>\n<p>5 rows × 1709 columns</p>\n</div>"
     },
     "execution_count": 8,
     "metadata": {},
     "output_type": "execute_result"
    }
   ],
   "source": [
    "pValFile = 'data/result.tsv'\n",
    "pValDf = pd.read_csv(pValFile, sep='\\t', index_col=0)\n",
    "pValDf = np.abs(pValDf)\n",
    "pValDf.head()"
   ],
   "metadata": {
    "collapsed": false,
    "ExecuteTime": {
     "end_time": "2023-07-17T20:51:28.931508655Z",
     "start_time": "2023-07-17T20:51:28.320844531Z"
    }
   }
  },
  {
   "cell_type": "code",
   "execution_count": 5,
   "outputs": [],
   "source": [
    "adjustedPVals = pd.DataFrame(columns=pValDf.columns, index=pValDf.index)\n",
    "actRej = pd.DataFrame(columns=pValDf.columns, index=pValDf.index)\n",
    "\n",
    "\n",
    "for (tf, pVals) in pValDf.iteritems():\n",
    "    pVals = pVals.dropna()\n",
    "    pV_df = pd.DataFrame(index=pVals.index, columns=['pVal'], data=pVals.values)\n",
    "    pV_df.sort_values(by='pVal', inplace=True)\n",
    "\n",
    "    reject, adj_p_val = smm.fdrcorrection(pV_df['pVal'].values, method='i', is_sorted=True, alpha=0.1)\n",
    "    pV_df[tf] = adj_p_val\n",
    "\n",
    "    # Insert pV_df into adjustedPVals by column by index\n",
    "    adjustedPVals.loc[pV_df.index.values, tf] = pV_df[tf].values\n",
    "    actRej.loc[pV_df.index.values, tf] = reject\n",
    "\n",
    "adjustedPVals.to_csv('data/adjustedPValsSlw5k.tsv', sep='\\t')\n",
    "actRej.to_csv('data/actRejSlw5k.tsv', sep='\\t')"
   ],
   "metadata": {
    "collapsed": false,
    "ExecuteTime": {
     "end_time": "2023-07-17T18:57:33.573892356Z",
     "start_time": "2023-07-17T18:57:24.876717493Z"
    }
   }
  },
  {
   "cell_type": "code",
   "execution_count": 7,
   "outputs": [
    {
     "name": "stderr",
     "output_type": "stream",
     "text": [
      "/home/kisanthapa/anaconda3/lib/python3.9/site-packages/IPython/core/interactiveshell.py:3444: DtypeWarning: Columns (16,23,34,42,65,76,89,91,93,102,148,158,175,192,195,201,204,206,207,208,221,247,248,250,256,291,294,297,299,302,307,319,320,339,340,344,352,374,382,417,433,443,444,445,450,453,461,469,475,477,481,483,484,514,521,523,524,528,534,537,538,539,540,571,592,602,603,622,625,627,635,636,677,690,701,702,704,707,711,729,730,731,732,733,734,735,736,737,738,739,740,741,742,748,756,760,761,763,781,782,790,797,811,813,819,822,828,829,831,833,841,843,854,855,856,858,895,927,930,981,987,1008,1011,1024,1026,1035,1036,1039,1040,1053,1059,1062,1069,1077,1078,1080,1081,1082,1095,1104,1117,1120,1122,1123,1125,1127,1137,1140,1141,1143,1147,1148,1152,1165,1167,1171,1179,1214,1239,1242,1243,1252,1265,1267,1273,1280,1282,1287,1290,1317,1320,1329,1331,1349,1351,1352,1353,1354,1363,1391,1393,1394,1402,1411,1422,1425,1426,1429,1432,1443,1452,1455,1463,1465,1474,1476,1485,1490,1504,1507,1514,1533,1539,1544,1545,1552,1587,1597,1598,1612,1617,1619,1620,1621,1624,1631,1639,1640,1641,1645,1659,1662,1670,1673,1675,1677,1696,1698,1703,1704,1705,1706) have mixed types.Specify dtype option on import or set low_memory=False.\n",
      "  exec(code_obj, self.user_global_ns, self.user_ns)\n"
     ]
    }
   ],
   "source": [
    "aRS_df = pd.read_csv('data/actRejSlw5k.tsv', sep='\\t', index_col=0)\n",
    "hashSX0 = aRS_df.sum(axis=0)\n",
    "hashSX1 = aRS_df.sum(axis=1).to_frame()"
   ],
   "metadata": {
    "collapsed": false,
    "ExecuteTime": {
     "end_time": "2023-07-17T18:57:45.123575700Z",
     "start_time": "2023-07-17T18:57:42.714374232Z"
    }
   }
  },
  {
   "cell_type": "code",
   "execution_count": null,
   "outputs": [],
   "source": [],
   "metadata": {
    "collapsed": false
   }
  }
 ],
 "metadata": {
  "kernelspec": {
   "display_name": "Python 3",
   "language": "python",
   "name": "python3"
  },
  "language_info": {
   "codemirror_mode": {
    "name": "ipython",
    "version": 3
   },
   "file_extension": ".py",
   "mimetype": "text/x-python",
   "name": "python",
   "nbconvert_exporter": "python",
   "pygments_lexer": "ipython3",
   "version": "3.10.8"
  }
 },
 "nbformat": 4,
 "nbformat_minor": 0
}
