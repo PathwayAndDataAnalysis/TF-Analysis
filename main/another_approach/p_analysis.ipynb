{
 "cells": [
  {
   "cell_type": "code",
   "execution_count": 1,
   "metadata": {
    "collapsed": true,
    "ExecuteTime": {
     "end_time": "2023-07-20T19:01:52.924936766Z",
     "start_time": "2023-07-20T19:01:52.646796683Z"
    }
   },
   "outputs": [],
   "source": [
    "import numpy as np\n",
    "import pandas as pd\n",
    "import statsmodels.stats.multitest as smm"
   ]
  },
  {
   "cell_type": "markdown",
   "source": [
    "### P Value Analysis of Slow Method"
   ],
   "metadata": {
    "collapsed": false
   }
  },
  {
   "cell_type": "code",
   "execution_count": 2,
   "outputs": [
    {
     "data": {
      "text/plain": "                                  A2M          AATF         ABCA1  \\\nmidpoint_AAACCTGCACCCAGTG-1       NaN           NaN           NaN   \nmidpoint_AAACCTGCAGCTTAAC-1  0.677111           NaN           NaN   \nmidpoint_AAACCTGGTGTGCGTC-1  0.893910  2.113175e-01           NaN   \nmidpoint_AAACCTGGTTGAACTC-1  0.974321           NaN  1.000000e-07   \nmidpoint_AAACGGGAGGATGGTC-1  0.466762  1.000000e-07  1.000000e-07   \n\n                                    ABCA3         ABCB1         ABCG1  \\\nmidpoint_AAACCTGCACCCAGTG-1  1.000000e-07  1.000000e-07           NaN   \nmidpoint_AAACCTGCAGCTTAAC-1           NaN  1.000000e-07           NaN   \nmidpoint_AAACCTGGTGTGCGTC-1  1.000000e-07  3.052760e-02           NaN   \nmidpoint_AAACCTGGTTGAACTC-1  1.000000e-07  1.000000e-07  1.000000e-07   \nmidpoint_AAACGGGAGGATGGTC-1           NaN  5.493695e-01  1.000000e-07   \n\n                                    ABCG5         ABCG8          ABL1  \\\nmidpoint_AAACCTGCACCCAGTG-1           NaN           NaN  5.659419e-01   \nmidpoint_AAACCTGCAGCTTAAC-1           NaN           NaN  1.000000e-07   \nmidpoint_AAACCTGGTGTGCGTC-1           NaN           NaN  1.000000e-07   \nmidpoint_AAACCTGGTTGAACTC-1  1.000000e-07  1.000000e-07  9.781122e-01   \nmidpoint_AAACGGGAGGATGGTC-1  1.000000e-07  1.000000e-07  2.410608e-01   \n\n                                    ACACA  ...        ZNF350        ZNF382  \\\nmidpoint_AAACCTGCACCCAGTG-1           NaN  ...           NaN  1.963683e-01   \nmidpoint_AAACCTGCAGCTTAAC-1           NaN  ...           NaN  5.918660e-01   \nmidpoint_AAACCTGGTGTGCGTC-1           NaN  ...  2.450706e-01  1.000000e-07   \nmidpoint_AAACCTGGTTGAACTC-1  1.000000e-07  ...           NaN  6.536430e-02   \nmidpoint_AAACGGGAGGATGGTC-1           NaN  ...  1.000000e-07  1.000000e-07   \n\n                                   ZNF383       ZNF385A  ZNF444  ZNF467  \\\nmidpoint_AAACCTGCACCCAGTG-1           NaN  4.533515e-01     NaN     NaN   \nmidpoint_AAACCTGCAGCTTAAC-1           NaN  1.000000e-07     NaN     NaN   \nmidpoint_AAACCTGGTGTGCGTC-1  1.000000e-07  1.000000e-07     NaN     NaN   \nmidpoint_AAACCTGGTTGAACTC-1  1.842525e-01  2.382358e-01     NaN     NaN   \nmidpoint_AAACGGGAGGATGGTC-1  1.000000e-07  2.973550e-02     NaN     NaN   \n\n                             ZNF638         ZNF76     ZNRD1           ZYX  \nmidpoint_AAACCTGCACCCAGTG-1     NaN           NaN       NaN           NaN  \nmidpoint_AAACCTGCAGCTTAAC-1     NaN  5.707351e-01       NaN           NaN  \nmidpoint_AAACCTGGTGTGCGTC-1     NaN  5.635126e-01       NaN  1.000000e-07  \nmidpoint_AAACCTGGTTGAACTC-1     NaN  1.000000e-07  0.765877           NaN  \nmidpoint_AAACGGGAGGATGGTC-1     NaN  1.000000e-07       NaN           NaN  \n\n[5 rows x 1709 columns]",
      "text/html": "<div>\n<style scoped>\n    .dataframe tbody tr th:only-of-type {\n        vertical-align: middle;\n    }\n\n    .dataframe tbody tr th {\n        vertical-align: top;\n    }\n\n    .dataframe thead th {\n        text-align: right;\n    }\n</style>\n<table border=\"1\" class=\"dataframe\">\n  <thead>\n    <tr style=\"text-align: right;\">\n      <th></th>\n      <th>A2M</th>\n      <th>AATF</th>\n      <th>ABCA1</th>\n      <th>ABCA3</th>\n      <th>ABCB1</th>\n      <th>ABCG1</th>\n      <th>ABCG5</th>\n      <th>ABCG8</th>\n      <th>ABL1</th>\n      <th>ACACA</th>\n      <th>...</th>\n      <th>ZNF350</th>\n      <th>ZNF382</th>\n      <th>ZNF383</th>\n      <th>ZNF385A</th>\n      <th>ZNF444</th>\n      <th>ZNF467</th>\n      <th>ZNF638</th>\n      <th>ZNF76</th>\n      <th>ZNRD1</th>\n      <th>ZYX</th>\n    </tr>\n  </thead>\n  <tbody>\n    <tr>\n      <th>midpoint_AAACCTGCACCCAGTG-1</th>\n      <td>NaN</td>\n      <td>NaN</td>\n      <td>NaN</td>\n      <td>1.000000e-07</td>\n      <td>1.000000e-07</td>\n      <td>NaN</td>\n      <td>NaN</td>\n      <td>NaN</td>\n      <td>5.659419e-01</td>\n      <td>NaN</td>\n      <td>...</td>\n      <td>NaN</td>\n      <td>1.963683e-01</td>\n      <td>NaN</td>\n      <td>4.533515e-01</td>\n      <td>NaN</td>\n      <td>NaN</td>\n      <td>NaN</td>\n      <td>NaN</td>\n      <td>NaN</td>\n      <td>NaN</td>\n    </tr>\n    <tr>\n      <th>midpoint_AAACCTGCAGCTTAAC-1</th>\n      <td>0.677111</td>\n      <td>NaN</td>\n      <td>NaN</td>\n      <td>NaN</td>\n      <td>1.000000e-07</td>\n      <td>NaN</td>\n      <td>NaN</td>\n      <td>NaN</td>\n      <td>1.000000e-07</td>\n      <td>NaN</td>\n      <td>...</td>\n      <td>NaN</td>\n      <td>5.918660e-01</td>\n      <td>NaN</td>\n      <td>1.000000e-07</td>\n      <td>NaN</td>\n      <td>NaN</td>\n      <td>NaN</td>\n      <td>5.707351e-01</td>\n      <td>NaN</td>\n      <td>NaN</td>\n    </tr>\n    <tr>\n      <th>midpoint_AAACCTGGTGTGCGTC-1</th>\n      <td>0.893910</td>\n      <td>2.113175e-01</td>\n      <td>NaN</td>\n      <td>1.000000e-07</td>\n      <td>3.052760e-02</td>\n      <td>NaN</td>\n      <td>NaN</td>\n      <td>NaN</td>\n      <td>1.000000e-07</td>\n      <td>NaN</td>\n      <td>...</td>\n      <td>2.450706e-01</td>\n      <td>1.000000e-07</td>\n      <td>1.000000e-07</td>\n      <td>1.000000e-07</td>\n      <td>NaN</td>\n      <td>NaN</td>\n      <td>NaN</td>\n      <td>5.635126e-01</td>\n      <td>NaN</td>\n      <td>1.000000e-07</td>\n    </tr>\n    <tr>\n      <th>midpoint_AAACCTGGTTGAACTC-1</th>\n      <td>0.974321</td>\n      <td>NaN</td>\n      <td>1.000000e-07</td>\n      <td>1.000000e-07</td>\n      <td>1.000000e-07</td>\n      <td>1.000000e-07</td>\n      <td>1.000000e-07</td>\n      <td>1.000000e-07</td>\n      <td>9.781122e-01</td>\n      <td>1.000000e-07</td>\n      <td>...</td>\n      <td>NaN</td>\n      <td>6.536430e-02</td>\n      <td>1.842525e-01</td>\n      <td>2.382358e-01</td>\n      <td>NaN</td>\n      <td>NaN</td>\n      <td>NaN</td>\n      <td>1.000000e-07</td>\n      <td>0.765877</td>\n      <td>NaN</td>\n    </tr>\n    <tr>\n      <th>midpoint_AAACGGGAGGATGGTC-1</th>\n      <td>0.466762</td>\n      <td>1.000000e-07</td>\n      <td>1.000000e-07</td>\n      <td>NaN</td>\n      <td>5.493695e-01</td>\n      <td>1.000000e-07</td>\n      <td>1.000000e-07</td>\n      <td>1.000000e-07</td>\n      <td>2.410608e-01</td>\n      <td>NaN</td>\n      <td>...</td>\n      <td>1.000000e-07</td>\n      <td>1.000000e-07</td>\n      <td>1.000000e-07</td>\n      <td>2.973550e-02</td>\n      <td>NaN</td>\n      <td>NaN</td>\n      <td>NaN</td>\n      <td>1.000000e-07</td>\n      <td>NaN</td>\n      <td>NaN</td>\n    </tr>\n  </tbody>\n</table>\n<p>5 rows × 1709 columns</p>\n</div>"
     },
     "execution_count": 2,
     "metadata": {},
     "output_type": "execute_result"
    }
   ],
   "source": [
    "pValFile = 'data/output_parallel.tsv'\n",
    "pValDf = pd.read_csv(pValFile, sep='\\t', index_col=0)\n",
    "pValDf = np.abs(pValDf)\n",
    "pValDf.head()"
   ],
   "metadata": {
    "collapsed": false,
    "ExecuteTime": {
     "end_time": "2023-07-20T19:01:56.421763652Z",
     "start_time": "2023-07-20T19:01:55.660240506Z"
    }
   }
  },
  {
   "cell_type": "code",
   "execution_count": 3,
   "outputs": [],
   "source": [
    "adjustedPVals = pd.DataFrame(columns=pValDf.columns, index=pValDf.index)\n",
    "actRej = pd.DataFrame(columns=pValDf.columns, index=pValDf.index)\n",
    "\n",
    "\n",
    "for (tf, pVals) in pValDf.iteritems():\n",
    "    pVals = pVals.dropna()\n",
    "    pV_df = pd.DataFrame(index=pVals.index, columns=['pVal'], data=pVals.values)\n",
    "    pV_df.sort_values(by='pVal', inplace=True)\n",
    "\n",
    "    reject, adj_p_val = smm.fdrcorrection(pV_df['pVal'].values, method='i', is_sorted=True, alpha=0.1)\n",
    "    pV_df[tf] = adj_p_val\n",
    "\n",
    "    # Insert pV_df into adjustedPVals by column by index\n",
    "    adjustedPVals.loc[pV_df.index.values, tf] = pV_df[tf].values\n",
    "    actRej.loc[pV_df.index.values, tf] = reject\n",
    "\n",
    "adjustedPVals.to_csv('data/adjustedPValsSlw5k.tsv', sep='\\t')\n",
    "actRej.to_csv('data/actRejSlw5k.tsv', sep='\\t')"
   ],
   "metadata": {
    "collapsed": false,
    "ExecuteTime": {
     "end_time": "2023-07-20T19:02:19.859720343Z",
     "start_time": "2023-07-20T19:02:09.594320837Z"
    }
   }
  },
  {
   "cell_type": "code",
   "execution_count": 4,
   "outputs": [
    {
     "name": "stderr",
     "output_type": "stream",
     "text": [
      "/home/kisanthapa/anaconda3/lib/python3.9/site-packages/IPython/core/interactiveshell.py:3444: DtypeWarning: Columns (16,23,34,42,65,76,89,91,93,102,148,158,175,192,195,201,204,206,207,208,221,247,248,250,256,291,294,297,299,302,307,319,320,339,340,344,352,374,382,417,433,443,444,445,450,453,461,469,475,477,481,483,484,514,521,523,524,528,534,537,538,539,540,571,592,602,603,622,625,627,635,636,677,690,701,702,704,707,711,729,730,731,732,733,734,735,736,737,738,739,740,741,742,748,756,760,761,763,781,782,790,797,811,813,819,822,828,829,831,833,841,843,854,855,856,858,895,927,930,981,987,1008,1011,1024,1026,1035,1036,1039,1040,1053,1059,1062,1069,1077,1078,1080,1081,1082,1095,1104,1117,1120,1122,1123,1125,1127,1137,1140,1141,1143,1147,1148,1152,1165,1167,1171,1179,1214,1239,1242,1243,1252,1265,1267,1273,1280,1282,1287,1290,1317,1320,1329,1331,1349,1351,1352,1353,1354,1363,1391,1393,1394,1402,1411,1422,1425,1426,1429,1432,1443,1452,1455,1463,1465,1474,1476,1485,1490,1504,1507,1514,1533,1539,1544,1545,1552,1587,1597,1598,1612,1617,1619,1620,1621,1624,1631,1639,1640,1641,1645,1659,1662,1670,1673,1675,1677,1696,1698,1703,1704,1705,1706) have mixed types.Specify dtype option on import or set low_memory=False.\n",
      "  exec(code_obj, self.user_global_ns, self.user_ns)\n"
     ]
    }
   ],
   "source": [
    "aRS_df = pd.read_csv('data/actRejSlw5k.tsv', sep='\\t', index_col=0)\n",
    "hashSX0 = aRS_df.sum(axis=0)\n",
    "hashSX1 = aRS_df.sum(axis=1).to_frame()"
   ],
   "metadata": {
    "collapsed": false,
    "ExecuteTime": {
     "end_time": "2023-07-20T19:02:25.553909311Z",
     "start_time": "2023-07-20T19:02:22.816565110Z"
    }
   }
  },
  {
   "cell_type": "code",
   "execution_count": null,
   "outputs": [],
   "source": [],
   "metadata": {
    "collapsed": false
   }
  }
 ],
 "metadata": {
  "kernelspec": {
   "display_name": "Python 3",
   "language": "python",
   "name": "python3"
  },
  "language_info": {
   "codemirror_mode": {
    "name": "ipython",
    "version": 3
   },
   "file_extension": ".py",
   "mimetype": "text/x-python",
   "name": "python",
   "nbconvert_exporter": "python",
   "pygments_lexer": "ipython3",
   "version": "3.10.8"
  }
 },
 "nbformat": 4,
 "nbformat_minor": 0
}
