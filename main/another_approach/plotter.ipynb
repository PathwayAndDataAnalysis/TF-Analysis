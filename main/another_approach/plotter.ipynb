{
 "cells": [
  {
   "cell_type": "code",
   "execution_count": 7,
   "metadata": {
    "collapsed": true,
    "ExecuteTime": {
     "end_time": "2023-07-24T16:12:49.113782343Z",
     "start_time": "2023-07-24T16:12:49.086163208Z"
    }
   },
   "outputs": [
    {
     "data": {
      "text/plain": "<Figure size 1080x1080 with 0 Axes>"
     },
     "execution_count": 7,
     "metadata": {},
     "output_type": "execute_result"
    },
    {
     "data": {
      "text/plain": "<Figure size 1080x1080 with 0 Axes>"
     },
     "metadata": {},
     "output_type": "display_data"
    }
   ],
   "source": [
    "import numpy as np\n",
    "import pandas as pd\n",
    "import matplotlib.pyplot as plt\n",
    "from matplotlib.backends.backend_pdf import PdfPages\n",
    "%matplotlib inline"
   ]
  },
  {
   "cell_type": "code",
   "execution_count": 8,
   "outputs": [
    {
     "data": {
      "text/plain": "                           CellID      UMAP1      UMAP2\n0     midpoint_AAACCTGCACCCAGTG-1  -1.711545   8.570790\n1     midpoint_AAACCTGCAGCTTAAC-1  -1.636193  11.101918\n2     midpoint_AAACCTGGTGTGCGTC-1  -0.895787   2.156744\n3     midpoint_AAACCTGGTTGAACTC-1   4.550082  -2.543456\n4     midpoint_AAACGGGAGGATGGTC-1   5.197461  -8.339702\n...                           ...        ...        ...\n4792     tumor_TTTCCTCGTATGCTTG-1 -12.833775  -0.487134\n4793     tumor_TTTGCGCCACGGTTTA-1 -11.185564  -0.094720\n4794     tumor_TTTGGTTCAGCCTGTG-1  -9.471752  -1.978661\n4795     tumor_TTTGGTTCAGTGAGTG-1 -11.111609  -1.648012\n4796     tumor_TTTGGTTGTGCAACTT-1 -11.836028   1.862299\n\n[4797 rows x 3 columns]",
      "text/html": "<div>\n<style scoped>\n    .dataframe tbody tr th:only-of-type {\n        vertical-align: middle;\n    }\n\n    .dataframe tbody tr th {\n        vertical-align: top;\n    }\n\n    .dataframe thead th {\n        text-align: right;\n    }\n</style>\n<table border=\"1\" class=\"dataframe\">\n  <thead>\n    <tr style=\"text-align: right;\">\n      <th></th>\n      <th>CellID</th>\n      <th>UMAP1</th>\n      <th>UMAP2</th>\n    </tr>\n  </thead>\n  <tbody>\n    <tr>\n      <th>0</th>\n      <td>midpoint_AAACCTGCACCCAGTG-1</td>\n      <td>-1.711545</td>\n      <td>8.570790</td>\n    </tr>\n    <tr>\n      <th>1</th>\n      <td>midpoint_AAACCTGCAGCTTAAC-1</td>\n      <td>-1.636193</td>\n      <td>11.101918</td>\n    </tr>\n    <tr>\n      <th>2</th>\n      <td>midpoint_AAACCTGGTGTGCGTC-1</td>\n      <td>-0.895787</td>\n      <td>2.156744</td>\n    </tr>\n    <tr>\n      <th>3</th>\n      <td>midpoint_AAACCTGGTTGAACTC-1</td>\n      <td>4.550082</td>\n      <td>-2.543456</td>\n    </tr>\n    <tr>\n      <th>4</th>\n      <td>midpoint_AAACGGGAGGATGGTC-1</td>\n      <td>5.197461</td>\n      <td>-8.339702</td>\n    </tr>\n    <tr>\n      <th>...</th>\n      <td>...</td>\n      <td>...</td>\n      <td>...</td>\n    </tr>\n    <tr>\n      <th>4792</th>\n      <td>tumor_TTTCCTCGTATGCTTG-1</td>\n      <td>-12.833775</td>\n      <td>-0.487134</td>\n    </tr>\n    <tr>\n      <th>4793</th>\n      <td>tumor_TTTGCGCCACGGTTTA-1</td>\n      <td>-11.185564</td>\n      <td>-0.094720</td>\n    </tr>\n    <tr>\n      <th>4794</th>\n      <td>tumor_TTTGGTTCAGCCTGTG-1</td>\n      <td>-9.471752</td>\n      <td>-1.978661</td>\n    </tr>\n    <tr>\n      <th>4795</th>\n      <td>tumor_TTTGGTTCAGTGAGTG-1</td>\n      <td>-11.111609</td>\n      <td>-1.648012</td>\n    </tr>\n    <tr>\n      <th>4796</th>\n      <td>tumor_TTTGGTTGTGCAACTT-1</td>\n      <td>-11.836028</td>\n      <td>1.862299</td>\n    </tr>\n  </tbody>\n</table>\n<p>4797 rows × 3 columns</p>\n</div>"
     },
     "execution_count": 8,
     "metadata": {},
     "output_type": "execute_result"
    }
   ],
   "source": [
    "umap = pd.read_csv(\"data/_umap.tsv\", sep=\"\\t\")\n",
    "umap"
   ],
   "metadata": {
    "collapsed": false,
    "ExecuteTime": {
     "end_time": "2023-07-24T16:12:51.521101165Z",
     "start_time": "2023-07-24T16:12:51.492390661Z"
    }
   }
  },
  {
   "cell_type": "code",
   "execution_count": 17,
   "outputs": [
    {
     "name": "stderr",
     "output_type": "stream",
     "text": [
      "/tmp/ipykernel_527617/766065468.py:4: RuntimeWarning: More than 20 figures have been opened. Figures created through the pyplot interface (`matplotlib.pyplot.figure`) are retained until explicitly closed and may consume too much memory. (To control this warning, see the rcParam `figure.max_open_warning`).\n",
      "  plt.figure()\n"
     ]
    }
   ],
   "source": [
    "figures = []\n",
    "\n",
    "for i in range(100):\n",
    "    plt.figure()\n",
    "    plt.figure(figsize=(10, 10))\n",
    "    plt.scatter(x=umap['UMAP1'].values, y=umap['UMAP2'].values, s=1, c='red')\n",
    "    plt.title(f'Plot {i + 1}')\n",
    "    figures.append(plt.gcf())\n",
    "\n",
    "with PdfPages('plots.pdf') as pdf:\n",
    "    for fig in figures:\n",
    "        pdf.savefig(fig)\n",
    "\n",
    "plt.close('all')"
   ],
   "metadata": {
    "collapsed": false,
    "ExecuteTime": {
     "end_time": "2023-07-24T16:26:15.946189616Z",
     "start_time": "2023-07-24T16:26:04.473093972Z"
    }
   }
  },
  {
   "cell_type": "code",
   "execution_count": null,
   "outputs": [],
   "source": [],
   "metadata": {
    "collapsed": false
   }
  }
 ],
 "metadata": {
  "kernelspec": {
   "display_name": "Python 3",
   "language": "python",
   "name": "python3"
  },
  "language_info": {
   "codemirror_mode": {
    "name": "ipython",
    "version": 2
   },
   "file_extension": ".py",
   "mimetype": "text/x-python",
   "name": "python",
   "nbconvert_exporter": "python",
   "pygments_lexer": "ipython2",
   "version": "2.7.6"
  }
 },
 "nbformat": 4,
 "nbformat_minor": 0
}
