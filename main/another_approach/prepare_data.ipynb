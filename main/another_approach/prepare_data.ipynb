{
 "cells": [
  {
   "cell_type": "code",
   "execution_count": 42,
   "metadata": {
    "collapsed": true,
    "ExecuteTime": {
     "end_time": "2023-07-11T19:57:30.314733578Z",
     "start_time": "2023-07-11T19:57:30.272843556Z"
    }
   },
   "outputs": [],
   "source": [
    "import pandas as pd\n",
    "import numpy as np"
   ]
  },
  {
   "cell_type": "code",
   "execution_count": 43,
   "outputs": [
    {
     "data": {
      "text/plain": "  Symbols targetSymbol  isUp\n0     MAK         KLK3     1\n1    XBP1         TPP1     1\n2    KLF5        CXCR4     1\n3    ATF3         SELE    -1\n4     MYC       EIF4G1     1",
      "text/html": "<div>\n<style scoped>\n    .dataframe tbody tr th:only-of-type {\n        vertical-align: middle;\n    }\n\n    .dataframe tbody tr th {\n        vertical-align: top;\n    }\n\n    .dataframe thead th {\n        text-align: right;\n    }\n</style>\n<table border=\"1\" class=\"dataframe\">\n  <thead>\n    <tr style=\"text-align: right;\">\n      <th></th>\n      <th>Symbols</th>\n      <th>targetSymbol</th>\n      <th>isUp</th>\n    </tr>\n  </thead>\n  <tbody>\n    <tr>\n      <th>0</th>\n      <td>MAK</td>\n      <td>KLK3</td>\n      <td>1</td>\n    </tr>\n    <tr>\n      <th>1</th>\n      <td>XBP1</td>\n      <td>TPP1</td>\n      <td>1</td>\n    </tr>\n    <tr>\n      <th>2</th>\n      <td>KLF5</td>\n      <td>CXCR4</td>\n      <td>1</td>\n    </tr>\n    <tr>\n      <th>3</th>\n      <td>ATF3</td>\n      <td>SELE</td>\n      <td>-1</td>\n    </tr>\n    <tr>\n      <th>4</th>\n      <td>MYC</td>\n      <td>EIF4G1</td>\n      <td>1</td>\n    </tr>\n  </tbody>\n</table>\n</div>"
     },
     "execution_count": 43,
     "metadata": {},
     "output_type": "execute_result"
    }
   ],
   "source": [
    "cp_file = '../../data/causal-priors.txt'\n",
    "priors = pd.read_csv(cp_file, sep='\\t', header=None, usecols=[0, 1, 2],\n",
    "                     names=['Symbols', 'action', 'targetSymbol'], squeeze=True)\n",
    "priors = priors[priors['action'].isin(['upregulates-expression', 'downregulates-expression'])]\n",
    "priors.reset_index(drop=True, inplace=True)\n",
    "priors['isUp'] = np.where(priors['action'] == 'upregulates-expression', 1, -1)\n",
    "priors.drop(['action'], axis=1, inplace=True)\n",
    "priors.head()"
   ],
   "metadata": {
    "collapsed": false,
    "ExecuteTime": {
     "end_time": "2023-07-11T19:57:32.705537147Z",
     "start_time": "2023-07-11T19:57:32.494595545Z"
    }
   }
  },
  {
   "cell_type": "code",
   "execution_count": 44,
   "outputs": [
    {
     "data": {
      "text/plain": "        BPK.12x.4NQO_AAACCTGCACCCAGTG.1  BPK.12x.4NQO_AAACCTGCAGCTTAAC.1  \\\nXkr4                                0.0                              0.0   \nSox17                               0.0                              0.0   \nMrpl15                              0.0                              0.0   \nLypla1                              0.0                              0.0   \nTcea1                               0.0                              0.0   \n\n        BPK.12x.4NQO_AAACCTGGTGTGCGTC.1  BPK.12x.4NQO_AAACCTGGTTGAACTC.1  \\\nXkr4                           0.000000                              0.0   \nSox17                          0.000000                              0.0   \nMrpl15                         0.000000                              0.0   \nLypla1                         0.777323                              0.0   \nTcea1                          0.000000                              0.0   \n\n        BPK.12x.4NQO_AAACGGGAGGATGGTC.1  BPK.12x.4NQO_AAACGGGAGGGCTCTC.1  \\\nXkr4                           0.000000                              0.0   \nSox17                          0.000000                              0.0   \nMrpl15                         0.000000                              0.0   \nLypla1                         1.202458                              0.0   \nTcea1                          0.000000                              0.0   \n\n        BPK.12x.4NQO_AAACGGGAGTAACCCT.1  BPK.12x.4NQO_AAACGGGCATGGGACA.1  \\\nXkr4                           0.000000                              0.0   \nSox17                          0.000000                              0.0   \nMrpl15                         1.003354                              0.0   \nLypla1                         0.000000                              0.0   \nTcea1                          0.000000                              0.0   \n\n        BPK.12x.4NQO_AAACGGGGTCTGCAAT.1  BPK.12x.4NQO_AAACGGGTCAATCTCT.1  ...  \\\nXkr4                            0.00000                         0.000000  ...   \nSox17                           0.00000                         0.000000  ...   \nMrpl15                          0.00000                         0.000000  ...   \nLypla1                          0.00000                         0.000000  ...   \nTcea1                           1.09107                         1.058914  ...   \n\n        BPK.12x.vehicle_TTTGTCACAATGAAAC.1  \\\nXkr4                                   0.0   \nSox17                                  0.0   \nMrpl15                                 0.0   \nLypla1                                 0.0   \nTcea1                                  0.0   \n\n        BPK.12x.vehicle_TTTGTCACAGCTGTAT.1  \\\nXkr4                                   0.0   \nSox17                                  0.0   \nMrpl15                                 0.0   \nLypla1                                 0.0   \nTcea1                                  0.0   \n\n        BPK.12x.vehicle_TTTGTCAGTAGTACCT.1  \\\nXkr4                                   0.0   \nSox17                                  0.0   \nMrpl15                                 0.0   \nLypla1                                 0.0   \nTcea1                                  0.0   \n\n        BPK.12x.vehicle_TTTGTCAGTCAATGTC.1  \\\nXkr4                              0.000000   \nSox17                             0.000000   \nMrpl15                            0.000000   \nLypla1                            0.883123   \nTcea1                             0.883123   \n\n        BPK.12x.vehicle_TTTGTCAGTTCTCATT.1  \\\nXkr4                                   0.0   \nSox17                                  0.0   \nMrpl15                                 0.0   \nLypla1                                 0.0   \nTcea1                                  0.0   \n\n        BPK.12x.vehicle_TTTGTCAGTTCTGAAC.1  \\\nXkr4                              0.000000   \nSox17                             0.000000   \nMrpl15                            0.000000   \nLypla1                            0.876766   \nTcea1                             1.336639   \n\n        BPK.12x.vehicle_TTTGTCATCAGGATCT.1  \\\nXkr4                               0.00000   \nSox17                              0.00000   \nMrpl15                             0.00000   \nLypla1                             0.00000   \nTcea1                              0.70865   \n\n        BPK.12x.vehicle_TTTGTCATCATCATTC.1  \\\nXkr4                              0.000000   \nSox17                             0.000000   \nMrpl15                            0.000000   \nLypla1                            1.453395   \nTcea1                             0.000000   \n\n        BPK.12x.vehicle_TTTGTCATCATGCATG.1  BPK.12x.vehicle_TTTGTCATCTTGCATT.1  \nXkr4                                   0.0                                 0.0  \nSox17                                  0.0                                 0.0  \nMrpl15                                 0.0                                 0.0  \nLypla1                                 0.0                                 0.0  \nTcea1                                  0.0                                 0.0  \n\n[5 rows x 9089 columns]",
      "text/html": "<div>\n<style scoped>\n    .dataframe tbody tr th:only-of-type {\n        vertical-align: middle;\n    }\n\n    .dataframe tbody tr th {\n        vertical-align: top;\n    }\n\n    .dataframe thead th {\n        text-align: right;\n    }\n</style>\n<table border=\"1\" class=\"dataframe\">\n  <thead>\n    <tr style=\"text-align: right;\">\n      <th></th>\n      <th>BPK.12x.4NQO_AAACCTGCACCCAGTG.1</th>\n      <th>BPK.12x.4NQO_AAACCTGCAGCTTAAC.1</th>\n      <th>BPK.12x.4NQO_AAACCTGGTGTGCGTC.1</th>\n      <th>BPK.12x.4NQO_AAACCTGGTTGAACTC.1</th>\n      <th>BPK.12x.4NQO_AAACGGGAGGATGGTC.1</th>\n      <th>BPK.12x.4NQO_AAACGGGAGGGCTCTC.1</th>\n      <th>BPK.12x.4NQO_AAACGGGAGTAACCCT.1</th>\n      <th>BPK.12x.4NQO_AAACGGGCATGGGACA.1</th>\n      <th>BPK.12x.4NQO_AAACGGGGTCTGCAAT.1</th>\n      <th>BPK.12x.4NQO_AAACGGGTCAATCTCT.1</th>\n      <th>...</th>\n      <th>BPK.12x.vehicle_TTTGTCACAATGAAAC.1</th>\n      <th>BPK.12x.vehicle_TTTGTCACAGCTGTAT.1</th>\n      <th>BPK.12x.vehicle_TTTGTCAGTAGTACCT.1</th>\n      <th>BPK.12x.vehicle_TTTGTCAGTCAATGTC.1</th>\n      <th>BPK.12x.vehicle_TTTGTCAGTTCTCATT.1</th>\n      <th>BPK.12x.vehicle_TTTGTCAGTTCTGAAC.1</th>\n      <th>BPK.12x.vehicle_TTTGTCATCAGGATCT.1</th>\n      <th>BPK.12x.vehicle_TTTGTCATCATCATTC.1</th>\n      <th>BPK.12x.vehicle_TTTGTCATCATGCATG.1</th>\n      <th>BPK.12x.vehicle_TTTGTCATCTTGCATT.1</th>\n    </tr>\n  </thead>\n  <tbody>\n    <tr>\n      <th>Xkr4</th>\n      <td>0.0</td>\n      <td>0.0</td>\n      <td>0.000000</td>\n      <td>0.0</td>\n      <td>0.000000</td>\n      <td>0.0</td>\n      <td>0.000000</td>\n      <td>0.0</td>\n      <td>0.00000</td>\n      <td>0.000000</td>\n      <td>...</td>\n      <td>0.0</td>\n      <td>0.0</td>\n      <td>0.0</td>\n      <td>0.000000</td>\n      <td>0.0</td>\n      <td>0.000000</td>\n      <td>0.00000</td>\n      <td>0.000000</td>\n      <td>0.0</td>\n      <td>0.0</td>\n    </tr>\n    <tr>\n      <th>Sox17</th>\n      <td>0.0</td>\n      <td>0.0</td>\n      <td>0.000000</td>\n      <td>0.0</td>\n      <td>0.000000</td>\n      <td>0.0</td>\n      <td>0.000000</td>\n      <td>0.0</td>\n      <td>0.00000</td>\n      <td>0.000000</td>\n      <td>...</td>\n      <td>0.0</td>\n      <td>0.0</td>\n      <td>0.0</td>\n      <td>0.000000</td>\n      <td>0.0</td>\n      <td>0.000000</td>\n      <td>0.00000</td>\n      <td>0.000000</td>\n      <td>0.0</td>\n      <td>0.0</td>\n    </tr>\n    <tr>\n      <th>Mrpl15</th>\n      <td>0.0</td>\n      <td>0.0</td>\n      <td>0.000000</td>\n      <td>0.0</td>\n      <td>0.000000</td>\n      <td>0.0</td>\n      <td>1.003354</td>\n      <td>0.0</td>\n      <td>0.00000</td>\n      <td>0.000000</td>\n      <td>...</td>\n      <td>0.0</td>\n      <td>0.0</td>\n      <td>0.0</td>\n      <td>0.000000</td>\n      <td>0.0</td>\n      <td>0.000000</td>\n      <td>0.00000</td>\n      <td>0.000000</td>\n      <td>0.0</td>\n      <td>0.0</td>\n    </tr>\n    <tr>\n      <th>Lypla1</th>\n      <td>0.0</td>\n      <td>0.0</td>\n      <td>0.777323</td>\n      <td>0.0</td>\n      <td>1.202458</td>\n      <td>0.0</td>\n      <td>0.000000</td>\n      <td>0.0</td>\n      <td>0.00000</td>\n      <td>0.000000</td>\n      <td>...</td>\n      <td>0.0</td>\n      <td>0.0</td>\n      <td>0.0</td>\n      <td>0.883123</td>\n      <td>0.0</td>\n      <td>0.876766</td>\n      <td>0.00000</td>\n      <td>1.453395</td>\n      <td>0.0</td>\n      <td>0.0</td>\n    </tr>\n    <tr>\n      <th>Tcea1</th>\n      <td>0.0</td>\n      <td>0.0</td>\n      <td>0.000000</td>\n      <td>0.0</td>\n      <td>0.000000</td>\n      <td>0.0</td>\n      <td>0.000000</td>\n      <td>0.0</td>\n      <td>1.09107</td>\n      <td>1.058914</td>\n      <td>...</td>\n      <td>0.0</td>\n      <td>0.0</td>\n      <td>0.0</td>\n      <td>0.883123</td>\n      <td>0.0</td>\n      <td>1.336639</td>\n      <td>0.70865</td>\n      <td>0.000000</td>\n      <td>0.0</td>\n      <td>0.0</td>\n    </tr>\n  </tbody>\n</table>\n<p>5 rows × 9089 columns</p>\n</div>"
     },
     "execution_count": 44,
     "metadata": {},
     "output_type": "execute_result"
    }
   ],
   "source": [
    "normalized_data = pd.read_csv('../../data/normalized_mat.tsv', sep='\\t', header=0, index_col=0)\n",
    "normalized_data.head()"
   ],
   "metadata": {
    "collapsed": false,
    "ExecuteTime": {
     "end_time": "2023-07-11T19:58:05.654928751Z",
     "start_time": "2023-07-11T19:57:39.152478960Z"
    }
   }
  },
  {
   "cell_type": "code",
   "execution_count": 55,
   "outputs": [
    {
     "data": {
      "text/plain": "     Mouse        Human\n0  Adora2b    [ADORA2B]\n1  Adora2a    [ADORA2A]\n2   Gm4340     [ALYREF]\n3  Gm20741  [KRTAP13-3]\n4     Rrp1       [RRP1]",
      "text/html": "<div>\n<style scoped>\n    .dataframe tbody tr th:only-of-type {\n        vertical-align: middle;\n    }\n\n    .dataframe tbody tr th {\n        vertical-align: top;\n    }\n\n    .dataframe thead th {\n        text-align: right;\n    }\n</style>\n<table border=\"1\" class=\"dataframe\">\n  <thead>\n    <tr style=\"text-align: right;\">\n      <th></th>\n      <th>Mouse</th>\n      <th>Human</th>\n    </tr>\n  </thead>\n  <tbody>\n    <tr>\n      <th>0</th>\n      <td>Adora2b</td>\n      <td>[ADORA2B]</td>\n    </tr>\n    <tr>\n      <th>1</th>\n      <td>Adora2a</td>\n      <td>[ADORA2A]</td>\n    </tr>\n    <tr>\n      <th>2</th>\n      <td>Gm4340</td>\n      <td>[ALYREF]</td>\n    </tr>\n    <tr>\n      <th>3</th>\n      <td>Gm20741</td>\n      <td>[KRTAP13-3]</td>\n    </tr>\n    <tr>\n      <th>4</th>\n      <td>Rrp1</td>\n      <td>[RRP1]</td>\n    </tr>\n  </tbody>\n</table>\n</div>"
     },
     "execution_count": 55,
     "metadata": {},
     "output_type": "execute_result"
    }
   ],
   "source": [
    "mouse_to_human = pd.read_csv('../../data/mouse_to_human.tsv', sep='\\t')\n",
    "mouse_to_human.head()"
   ],
   "metadata": {
    "collapsed": false,
    "ExecuteTime": {
     "end_time": "2023-07-11T20:09:01.156100879Z",
     "start_time": "2023-07-11T20:09:01.087763350Z"
    }
   }
  },
  {
   "cell_type": "code",
   "execution_count": 56,
   "outputs": [
    {
     "data": {
      "text/plain": "(14392, 2)"
     },
     "execution_count": 56,
     "metadata": {},
     "output_type": "execute_result"
    }
   ],
   "source": [
    "# Remove rows of mouse_to_human if not in normalized_data\n",
    "mouse_to_human = mouse_to_human[mouse_to_human['Mouse'].isin(normalized_data.index)]\n",
    "mouse_to_human.shape"
   ],
   "metadata": {
    "collapsed": false,
    "ExecuteTime": {
     "end_time": "2023-07-11T20:09:03.075288414Z",
     "start_time": "2023-07-11T20:09:03.065795079Z"
    }
   }
  },
  {
   "cell_type": "code",
   "execution_count": 58,
   "outputs": [
    {
     "name": "stderr",
     "output_type": "stream",
     "text": [
      "/tmp/ipykernel_1044740/2238033536.py:5: FutureWarning: The default value of regex will change from True to False in a future version. In addition, single character regular expressions will *not* be treated as literal strings when regex=True.\n",
      "  mouse_to_human['Human'] = mouse_to_human['Human'].str.replace('[', '').str.replace(']', '')\n"
     ]
    },
    {
     "data": {
      "text/plain": "     Mouse    Human\n0  Adora2b  ADORA2B\n1  Adora2a  ADORA2A\n4     Rrp1     RRP1\n5   Fam50a   FAM50A\n7    Vps35    VPS35",
      "text/html": "<div>\n<style scoped>\n    .dataframe tbody tr th:only-of-type {\n        vertical-align: middle;\n    }\n\n    .dataframe tbody tr th {\n        vertical-align: top;\n    }\n\n    .dataframe thead th {\n        text-align: right;\n    }\n</style>\n<table border=\"1\" class=\"dataframe\">\n  <thead>\n    <tr style=\"text-align: right;\">\n      <th></th>\n      <th>Mouse</th>\n      <th>Human</th>\n    </tr>\n  </thead>\n  <tbody>\n    <tr>\n      <th>0</th>\n      <td>Adora2b</td>\n      <td>ADORA2B</td>\n    </tr>\n    <tr>\n      <th>1</th>\n      <td>Adora2a</td>\n      <td>ADORA2A</td>\n    </tr>\n    <tr>\n      <th>4</th>\n      <td>Rrp1</td>\n      <td>RRP1</td>\n    </tr>\n    <tr>\n      <th>5</th>\n      <td>Fam50a</td>\n      <td>FAM50A</td>\n    </tr>\n    <tr>\n      <th>7</th>\n      <td>Vps35</td>\n      <td>VPS35</td>\n    </tr>\n  </tbody>\n</table>\n</div>"
     },
     "execution_count": 58,
     "metadata": {},
     "output_type": "execute_result"
    }
   ],
   "source": [
    "# breakdown mouse_to_human Human column into multiple rows if there are multiple human genes\n",
    "mouse_to_human['Human'] = mouse_to_human['Human'].str.split(', ')\n",
    "mouse_to_human = mouse_to_human.explode('Human')\n",
    "# Remove [ and ] from mouse_to_human Human column\n",
    "mouse_to_human['Human'] = mouse_to_human['Human'].str.replace('[', '').str.replace(']', '')\n",
    "mouse_to_human.head()"
   ],
   "metadata": {
    "collapsed": false,
    "ExecuteTime": {
     "end_time": "2023-07-11T20:09:39.027281042Z",
     "start_time": "2023-07-11T20:09:38.993985049Z"
    }
   }
  },
  {
   "cell_type": "code",
   "execution_count": 49,
   "outputs": [
    {
     "data": {
      "text/plain": "(3307,)"
     },
     "execution_count": 49,
     "metadata": {},
     "output_type": "execute_result"
    }
   ],
   "source": [
    "# Add into array Symbols and targetSymbols of priors column\n",
    "priors_symbols = priors['Symbols'].values\n",
    "priors_targetSymbols = priors['targetSymbol'].values\n",
    "\n",
    "# Merge priors_symbols and priors_targetSymbols into single array\n",
    "priors_symbols = np.concatenate((priors_symbols, priors_targetSymbols), axis=0)\n",
    "priors_symbols = np.unique(priors_symbols)\n",
    "priors_symbols.shape\n",
    "# 3307 unique symbols in priors_file"
   ],
   "metadata": {
    "collapsed": false,
    "ExecuteTime": {
     "end_time": "2023-07-11T20:04:53.177299179Z",
     "start_time": "2023-07-11T20:04:53.168792771Z"
    }
   }
  },
  {
   "cell_type": "code",
   "execution_count": 59,
   "outputs": [
    {
     "data": {
      "text/plain": "(2995, 2)"
     },
     "execution_count": 59,
     "metadata": {},
     "output_type": "execute_result"
    }
   ],
   "source": [
    "mouse_to_human = mouse_to_human[mouse_to_human['Human'].isin(priors_symbols)]\n",
    "mouse_to_human.shape"
   ],
   "metadata": {
    "collapsed": false,
    "ExecuteTime": {
     "end_time": "2023-07-11T20:10:59.519014990Z",
     "start_time": "2023-07-11T20:10:59.491097956Z"
    }
   }
  },
  {
   "cell_type": "code",
   "execution_count": 60,
   "outputs": [
    {
     "data": {
      "text/plain": "(2834, 2)"
     },
     "execution_count": 60,
     "metadata": {},
     "output_type": "execute_result"
    }
   ],
   "source": [
    "# Remove one to multiple mappings from mouse_to_human\n",
    "mouse_to_human = mouse_to_human[~mouse_to_human['Mouse'].duplicated(keep=False)]\n",
    "mouse_to_human.shape"
   ],
   "metadata": {
    "collapsed": false,
    "ExecuteTime": {
     "end_time": "2023-07-11T20:12:43.696701889Z",
     "start_time": "2023-07-11T20:12:43.681834841Z"
    }
   }
  },
  {
   "cell_type": "code",
   "execution_count": 61,
   "outputs": [
    {
     "data": {
      "text/plain": "(2712, 2)"
     },
     "execution_count": 61,
     "metadata": {},
     "output_type": "execute_result"
    }
   ],
   "source": [
    "# Remove multiple to one mapping from mouse_to_human\n",
    "mouse_to_human = mouse_to_human[~mouse_to_human['Human'].duplicated(keep=False)]\n",
    "mouse_to_human.shape"
   ],
   "metadata": {
    "collapsed": false,
    "ExecuteTime": {
     "end_time": "2023-07-11T20:13:02.448724598Z",
     "start_time": "2023-07-11T20:13:02.196786714Z"
    }
   }
  },
  {
   "cell_type": "code",
   "execution_count": 66,
   "outputs": [
    {
     "ename": "KeyboardInterrupt",
     "evalue": "",
     "output_type": "error",
     "traceback": [
      "\u001B[0;31m---------------------------------------------------------------------------\u001B[0m",
      "\u001B[0;31mKeyboardInterrupt\u001B[0m                         Traceback (most recent call last)",
      "\u001B[0;32m/tmp/ipykernel_1044740/3445540057.py\u001B[0m in \u001B[0;36m<module>\u001B[0;34m\u001B[0m\n\u001B[1;32m      8\u001B[0m \u001B[0mmouse_to_human_normalized\u001B[0m\u001B[0;34m.\u001B[0m\u001B[0mfillna\u001B[0m\u001B[0;34m(\u001B[0m\u001B[0;36m0\u001B[0m\u001B[0;34m,\u001B[0m \u001B[0minplace\u001B[0m\u001B[0;34m=\u001B[0m\u001B[0;32mTrue\u001B[0m\u001B[0;34m)\u001B[0m\u001B[0;34m\u001B[0m\u001B[0;34m\u001B[0m\u001B[0m\n\u001B[1;32m      9\u001B[0m \u001B[0;31m# Export mouse_to_human_normalized to tsv\u001B[0m\u001B[0;34m\u001B[0m\u001B[0;34m\u001B[0m\u001B[0m\n\u001B[0;32m---> 10\u001B[0;31m \u001B[0mmouse_to_human_normalized\u001B[0m\u001B[0;34m.\u001B[0m\u001B[0mto_csv\u001B[0m\u001B[0;34m(\u001B[0m\u001B[0;34m'../../data/mouse_to_human_normalized.tsv'\u001B[0m\u001B[0;34m,\u001B[0m \u001B[0msep\u001B[0m\u001B[0;34m=\u001B[0m\u001B[0;34m'\\t'\u001B[0m\u001B[0;34m)\u001B[0m\u001B[0;34m\u001B[0m\u001B[0;34m\u001B[0m\u001B[0m\n\u001B[0m",
      "\u001B[0;32m~/anaconda3/lib/python3.9/site-packages/pandas/core/generic.py\u001B[0m in \u001B[0;36mto_csv\u001B[0;34m(self, path_or_buf, sep, na_rep, float_format, columns, header, index, index_label, mode, encoding, compression, quoting, quotechar, line_terminator, chunksize, date_format, doublequote, escapechar, decimal, errors, storage_options)\u001B[0m\n\u001B[1;32m   3464\u001B[0m         )\n\u001B[1;32m   3465\u001B[0m \u001B[0;34m\u001B[0m\u001B[0m\n\u001B[0;32m-> 3466\u001B[0;31m         return DataFrameRenderer(formatter).to_csv(\n\u001B[0m\u001B[1;32m   3467\u001B[0m             \u001B[0mpath_or_buf\u001B[0m\u001B[0;34m,\u001B[0m\u001B[0;34m\u001B[0m\u001B[0;34m\u001B[0m\u001B[0m\n\u001B[1;32m   3468\u001B[0m             \u001B[0mline_terminator\u001B[0m\u001B[0;34m=\u001B[0m\u001B[0mline_terminator\u001B[0m\u001B[0;34m,\u001B[0m\u001B[0;34m\u001B[0m\u001B[0;34m\u001B[0m\u001B[0m\n",
      "\u001B[0;32m~/anaconda3/lib/python3.9/site-packages/pandas/io/formats/format.py\u001B[0m in \u001B[0;36mto_csv\u001B[0;34m(self, path_or_buf, encoding, sep, columns, index_label, mode, compression, quoting, quotechar, line_terminator, chunksize, date_format, doublequote, escapechar, errors, storage_options)\u001B[0m\n\u001B[1;32m   1103\u001B[0m             \u001B[0mformatter\u001B[0m\u001B[0;34m=\u001B[0m\u001B[0mself\u001B[0m\u001B[0;34m.\u001B[0m\u001B[0mfmt\u001B[0m\u001B[0;34m,\u001B[0m\u001B[0;34m\u001B[0m\u001B[0;34m\u001B[0m\u001B[0m\n\u001B[1;32m   1104\u001B[0m         )\n\u001B[0;32m-> 1105\u001B[0;31m         \u001B[0mcsv_formatter\u001B[0m\u001B[0;34m.\u001B[0m\u001B[0msave\u001B[0m\u001B[0;34m(\u001B[0m\u001B[0;34m)\u001B[0m\u001B[0;34m\u001B[0m\u001B[0;34m\u001B[0m\u001B[0m\n\u001B[0m\u001B[1;32m   1106\u001B[0m \u001B[0;34m\u001B[0m\u001B[0m\n\u001B[1;32m   1107\u001B[0m         \u001B[0;32mif\u001B[0m \u001B[0mcreated_buffer\u001B[0m\u001B[0;34m:\u001B[0m\u001B[0;34m\u001B[0m\u001B[0;34m\u001B[0m\u001B[0m\n",
      "\u001B[0;32m~/anaconda3/lib/python3.9/site-packages/pandas/io/formats/csvs.py\u001B[0m in \u001B[0;36msave\u001B[0;34m(self)\u001B[0m\n\u001B[1;32m    255\u001B[0m             )\n\u001B[1;32m    256\u001B[0m \u001B[0;34m\u001B[0m\u001B[0m\n\u001B[0;32m--> 257\u001B[0;31m             \u001B[0mself\u001B[0m\u001B[0;34m.\u001B[0m\u001B[0m_save\u001B[0m\u001B[0;34m(\u001B[0m\u001B[0;34m)\u001B[0m\u001B[0;34m\u001B[0m\u001B[0;34m\u001B[0m\u001B[0m\n\u001B[0m\u001B[1;32m    258\u001B[0m \u001B[0;34m\u001B[0m\u001B[0m\n\u001B[1;32m    259\u001B[0m     \u001B[0;32mdef\u001B[0m \u001B[0m_save\u001B[0m\u001B[0;34m(\u001B[0m\u001B[0mself\u001B[0m\u001B[0;34m)\u001B[0m \u001B[0;34m->\u001B[0m \u001B[0;32mNone\u001B[0m\u001B[0;34m:\u001B[0m\u001B[0;34m\u001B[0m\u001B[0;34m\u001B[0m\u001B[0m\n",
      "\u001B[0;32m~/anaconda3/lib/python3.9/site-packages/pandas/io/formats/csvs.py\u001B[0m in \u001B[0;36m_save\u001B[0;34m(self)\u001B[0m\n\u001B[1;32m    260\u001B[0m         \u001B[0;32mif\u001B[0m \u001B[0mself\u001B[0m\u001B[0;34m.\u001B[0m\u001B[0m_need_to_save_header\u001B[0m\u001B[0;34m:\u001B[0m\u001B[0;34m\u001B[0m\u001B[0;34m\u001B[0m\u001B[0m\n\u001B[1;32m    261\u001B[0m             \u001B[0mself\u001B[0m\u001B[0;34m.\u001B[0m\u001B[0m_save_header\u001B[0m\u001B[0;34m(\u001B[0m\u001B[0;34m)\u001B[0m\u001B[0;34m\u001B[0m\u001B[0;34m\u001B[0m\u001B[0m\n\u001B[0;32m--> 262\u001B[0;31m         \u001B[0mself\u001B[0m\u001B[0;34m.\u001B[0m\u001B[0m_save_body\u001B[0m\u001B[0;34m(\u001B[0m\u001B[0;34m)\u001B[0m\u001B[0;34m\u001B[0m\u001B[0;34m\u001B[0m\u001B[0m\n\u001B[0m\u001B[1;32m    263\u001B[0m \u001B[0;34m\u001B[0m\u001B[0m\n\u001B[1;32m    264\u001B[0m     \u001B[0;32mdef\u001B[0m \u001B[0m_save_header\u001B[0m\u001B[0;34m(\u001B[0m\u001B[0mself\u001B[0m\u001B[0;34m)\u001B[0m \u001B[0;34m->\u001B[0m \u001B[0;32mNone\u001B[0m\u001B[0;34m:\u001B[0m\u001B[0;34m\u001B[0m\u001B[0;34m\u001B[0m\u001B[0m\n",
      "\u001B[0;32m~/anaconda3/lib/python3.9/site-packages/pandas/io/formats/csvs.py\u001B[0m in \u001B[0;36m_save_body\u001B[0;34m(self)\u001B[0m\n\u001B[1;32m    298\u001B[0m             \u001B[0;32mif\u001B[0m \u001B[0mstart_i\u001B[0m \u001B[0;34m>=\u001B[0m \u001B[0mend_i\u001B[0m\u001B[0;34m:\u001B[0m\u001B[0;34m\u001B[0m\u001B[0;34m\u001B[0m\u001B[0m\n\u001B[1;32m    299\u001B[0m                 \u001B[0;32mbreak\u001B[0m\u001B[0;34m\u001B[0m\u001B[0;34m\u001B[0m\u001B[0m\n\u001B[0;32m--> 300\u001B[0;31m             \u001B[0mself\u001B[0m\u001B[0;34m.\u001B[0m\u001B[0m_save_chunk\u001B[0m\u001B[0;34m(\u001B[0m\u001B[0mstart_i\u001B[0m\u001B[0;34m,\u001B[0m \u001B[0mend_i\u001B[0m\u001B[0;34m)\u001B[0m\u001B[0;34m\u001B[0m\u001B[0;34m\u001B[0m\u001B[0m\n\u001B[0m\u001B[1;32m    301\u001B[0m \u001B[0;34m\u001B[0m\u001B[0m\n\u001B[1;32m    302\u001B[0m     \u001B[0;32mdef\u001B[0m \u001B[0m_save_chunk\u001B[0m\u001B[0;34m(\u001B[0m\u001B[0mself\u001B[0m\u001B[0;34m,\u001B[0m \u001B[0mstart_i\u001B[0m\u001B[0;34m:\u001B[0m \u001B[0mint\u001B[0m\u001B[0;34m,\u001B[0m \u001B[0mend_i\u001B[0m\u001B[0;34m:\u001B[0m \u001B[0mint\u001B[0m\u001B[0;34m)\u001B[0m \u001B[0;34m->\u001B[0m \u001B[0;32mNone\u001B[0m\u001B[0;34m:\u001B[0m\u001B[0;34m\u001B[0m\u001B[0;34m\u001B[0m\u001B[0m\n",
      "\u001B[0;32m~/anaconda3/lib/python3.9/site-packages/pandas/io/formats/csvs.py\u001B[0m in \u001B[0;36m_save_chunk\u001B[0;34m(self, start_i, end_i)\u001B[0m\n\u001B[1;32m    309\u001B[0m \u001B[0;34m\u001B[0m\u001B[0m\n\u001B[1;32m    310\u001B[0m         \u001B[0mix\u001B[0m \u001B[0;34m=\u001B[0m \u001B[0mself\u001B[0m\u001B[0;34m.\u001B[0m\u001B[0mdata_index\u001B[0m\u001B[0;34m[\u001B[0m\u001B[0mslicer\u001B[0m\u001B[0;34m]\u001B[0m\u001B[0;34m.\u001B[0m\u001B[0m_format_native_types\u001B[0m\u001B[0;34m(\u001B[0m\u001B[0;34m**\u001B[0m\u001B[0mself\u001B[0m\u001B[0;34m.\u001B[0m\u001B[0m_number_format\u001B[0m\u001B[0;34m)\u001B[0m\u001B[0;34m\u001B[0m\u001B[0;34m\u001B[0m\u001B[0m\n\u001B[0;32m--> 311\u001B[0;31m         libwriters.write_csv_rows(\n\u001B[0m\u001B[1;32m    312\u001B[0m             \u001B[0mdata\u001B[0m\u001B[0;34m,\u001B[0m\u001B[0;34m\u001B[0m\u001B[0;34m\u001B[0m\u001B[0m\n\u001B[1;32m    313\u001B[0m             \u001B[0mix\u001B[0m\u001B[0;34m,\u001B[0m\u001B[0;34m\u001B[0m\u001B[0;34m\u001B[0m\u001B[0m\n",
      "\u001B[0;32m~/anaconda3/lib/python3.9/site-packages/pandas/_libs/writers.pyx\u001B[0m in \u001B[0;36mpandas._libs.writers.write_csv_rows\u001B[0;34m()\u001B[0m\n",
      "\u001B[0;31mKeyboardInterrupt\u001B[0m: "
     ]
    }
   ],
   "source": [
    "# Get the rows for each Mouse symbol from normalized_data and add to new dataframe\n",
    "mouse_to_human_normalized = pd.DataFrame()\n",
    "for mouse_symbol in mouse_to_human['Mouse'].values:\n",
    "    mouse_to_human_normalized = mouse_to_human_normalized.append(normalized_data.loc[mouse_symbol])\n",
    "mouse_to_human_normalized.index = mouse_to_human['Human'].values\n",
    "\n",
    "# Export mouse_to_human_normalized to tsv\n",
    "mouse_to_human_normalized.to_csv('../../data/mouse_to_human_normalized.tsv', sep='\\t')"
   ],
   "metadata": {
    "collapsed": false,
    "ExecuteTime": {
     "end_time": "2023-07-11T20:34:47.050457483Z",
     "start_time": "2023-07-11T20:33:42.838216839Z"
    }
   }
  },
  {
   "cell_type": "code",
   "execution_count": null,
   "outputs": [],
   "source": [],
   "metadata": {
    "collapsed": false
   }
  }
 ],
 "metadata": {
  "kernelspec": {
   "display_name": "Python 3",
   "language": "python",
   "name": "python3"
  },
  "language_info": {
   "codemirror_mode": {
    "name": "ipython",
    "version": 2
   },
   "file_extension": ".py",
   "mimetype": "text/x-python",
   "name": "python",
   "nbconvert_exporter": "python",
   "pygments_lexer": "ipython2",
   "version": "2.7.6"
  }
 },
 "nbformat": 4,
 "nbformat_minor": 0
}
