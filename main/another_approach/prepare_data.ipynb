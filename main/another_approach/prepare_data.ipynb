{
 "cells": [
  {
   "cell_type": "code",
   "execution_count": 133,
   "metadata": {
    "collapsed": true,
    "ExecuteTime": {
     "end_time": "2023-07-12T17:35:25.505905340Z",
     "start_time": "2023-07-12T17:35:25.488273375Z"
    }
   },
   "outputs": [],
   "source": [
    "import pandas as pd\n",
    "import numpy as np"
   ]
  },
  {
   "cell_type": "code",
   "execution_count": 134,
   "outputs": [
    {
     "data": {
      "text/plain": "  symbol targetSymbol  isUp\n0    MAK         KLK3     1\n1   XBP1         TPP1     1\n2   KLF5        CXCR4     1\n3   ATF3         SELE    -1\n4    MYC       EIF4G1     1",
      "text/html": "<div>\n<style scoped>\n    .dataframe tbody tr th:only-of-type {\n        vertical-align: middle;\n    }\n\n    .dataframe tbody tr th {\n        vertical-align: top;\n    }\n\n    .dataframe thead th {\n        text-align: right;\n    }\n</style>\n<table border=\"1\" class=\"dataframe\">\n  <thead>\n    <tr style=\"text-align: right;\">\n      <th></th>\n      <th>symbol</th>\n      <th>targetSymbol</th>\n      <th>isUp</th>\n    </tr>\n  </thead>\n  <tbody>\n    <tr>\n      <th>0</th>\n      <td>MAK</td>\n      <td>KLK3</td>\n      <td>1</td>\n    </tr>\n    <tr>\n      <th>1</th>\n      <td>XBP1</td>\n      <td>TPP1</td>\n      <td>1</td>\n    </tr>\n    <tr>\n      <th>2</th>\n      <td>KLF5</td>\n      <td>CXCR4</td>\n      <td>1</td>\n    </tr>\n    <tr>\n      <th>3</th>\n      <td>ATF3</td>\n      <td>SELE</td>\n      <td>-1</td>\n    </tr>\n    <tr>\n      <th>4</th>\n      <td>MYC</td>\n      <td>EIF4G1</td>\n      <td>1</td>\n    </tr>\n  </tbody>\n</table>\n</div>"
     },
     "execution_count": 134,
     "metadata": {},
     "output_type": "execute_result"
    }
   ],
   "source": [
    "cp_file = '../../data/causal-priors.txt'\n",
    "priors = pd.read_csv(cp_file, sep='\\t', header=None, usecols=[0, 1, 2], names=['symbol', 'action', 'targetSymbol'])\n",
    "priors = priors[priors['action'].isin(['upregulates-expression', 'downregulates-expression'])]\n",
    "priors.reset_index(drop=True, inplace=True)\n",
    "priors['isUp'] = np.where(priors['action'] == 'upregulates-expression', 1, -1)\n",
    "priors.drop(['action'], axis=1, inplace=True)\n",
    "priors.head()"
   ],
   "metadata": {
    "collapsed": false,
    "ExecuteTime": {
     "end_time": "2023-07-12T17:35:25.637269308Z",
     "start_time": "2023-07-12T17:35:25.496817143Z"
    }
   }
  },
  {
   "cell_type": "code",
   "execution_count": 135,
   "outputs": [
    {
     "data": {
      "text/plain": "        midpoint_AAACCTGCACCCAGTG-1  midpoint_AAACCTGCAGCTTAAC-1  \\\nXkr4                            0.0                          0.0   \nSox17                           0.0                          0.0   \nMrpl15                          0.0                          0.0   \nLypla1                          0.0                          0.0   \nTcea1                           0.0                          0.0   \n\n        midpoint_AAACCTGGTGTGCGTC-1  midpoint_AAACCTGGTTGAACTC-1  \\\nXkr4                       0.000000                          0.0   \nSox17                      0.000000                          0.0   \nMrpl15                     0.000000                          0.0   \nLypla1                     0.777323                          0.0   \nTcea1                      0.000000                          0.0   \n\n        midpoint_AAACGGGAGGATGGTC-1  midpoint_AAACGGGAGGGCTCTC-1  \\\nXkr4                       0.000000                          0.0   \nSox17                      0.000000                          0.0   \nMrpl15                     0.000000                          0.0   \nLypla1                     1.202458                          0.0   \nTcea1                      0.000000                          0.0   \n\n        midpoint_AAACGGGAGTAACCCT-1  midpoint_AAACGGGCATGGGACA-1  \\\nXkr4                       0.000000                          0.0   \nSox17                      0.000000                          0.0   \nMrpl15                     1.003354                          0.0   \nLypla1                     0.000000                          0.0   \nTcea1                      0.000000                          0.0   \n\n        midpoint_AAACGGGGTCTGCAAT-1  midpoint_AAACGGGTCAATCTCT-1  ...  \\\nXkr4                        0.00000                     0.000000  ...   \nSox17                       0.00000                     0.000000  ...   \nMrpl15                      0.00000                     0.000000  ...   \nLypla1                      0.00000                     0.000000  ...   \nTcea1                       1.09107                     1.058914  ...   \n\n        tumor_TTTATGCCAAGCCTAT-1  tumor_TTTATGCGTGCAGTAG-1  \\\nXkr4                    0.000000                  0.000000   \nSox17                   0.000000                  0.000000   \nMrpl15                  0.467282                  0.908944   \nLypla1                  0.181113                  0.687029   \nTcea1                   0.334399                  0.401390   \n\n        tumor_TTTATGCTCGCCTGAG-1  tumor_TTTCCTCCAAGTTCTG-1  \\\nXkr4                         0.0                  0.000000   \nSox17                        0.0                  0.000000   \nMrpl15                       0.0                  1.121759   \nLypla1                       0.0                  0.296425   \nTcea1                        0.0                  0.296425   \n\n        tumor_TTTCCTCCACCAGTTA-1  tumor_TTTCCTCGTATGCTTG-1  \\\nXkr4                    0.000000                  0.000000   \nSox17                   0.000000                  0.000000   \nMrpl15                  0.355743                  0.244490   \nLypla1                  0.000000                  0.440794   \nTcea1                   0.355743                  0.244490   \n\n        tumor_TTTGCGCCACGGTTTA-1  tumor_TTTGGTTCAGCCTGTG-1  \\\nXkr4                    0.000000                  0.000000   \nSox17                   0.000000                  0.000000   \nMrpl15                  0.379996                  0.485346   \nLypla1                  0.379996                  0.485346   \nTcea1                   0.768113                  0.271833   \n\n        tumor_TTTGGTTCAGTGAGTG-1  tumor_TTTGGTTGTGCAACTT-1  \nXkr4                    0.000000                  0.000000  \nSox17                   0.000000                  0.000000  \nMrpl15                  0.984984                  0.361297  \nLypla1                  0.696472                  0.361297  \nTcea1                   0.289346                  0.196877  \n\n[5 rows x 4797 columns]",
      "text/html": "<div>\n<style scoped>\n    .dataframe tbody tr th:only-of-type {\n        vertical-align: middle;\n    }\n\n    .dataframe tbody tr th {\n        vertical-align: top;\n    }\n\n    .dataframe thead th {\n        text-align: right;\n    }\n</style>\n<table border=\"1\" class=\"dataframe\">\n  <thead>\n    <tr style=\"text-align: right;\">\n      <th></th>\n      <th>midpoint_AAACCTGCACCCAGTG-1</th>\n      <th>midpoint_AAACCTGCAGCTTAAC-1</th>\n      <th>midpoint_AAACCTGGTGTGCGTC-1</th>\n      <th>midpoint_AAACCTGGTTGAACTC-1</th>\n      <th>midpoint_AAACGGGAGGATGGTC-1</th>\n      <th>midpoint_AAACGGGAGGGCTCTC-1</th>\n      <th>midpoint_AAACGGGAGTAACCCT-1</th>\n      <th>midpoint_AAACGGGCATGGGACA-1</th>\n      <th>midpoint_AAACGGGGTCTGCAAT-1</th>\n      <th>midpoint_AAACGGGTCAATCTCT-1</th>\n      <th>...</th>\n      <th>tumor_TTTATGCCAAGCCTAT-1</th>\n      <th>tumor_TTTATGCGTGCAGTAG-1</th>\n      <th>tumor_TTTATGCTCGCCTGAG-1</th>\n      <th>tumor_TTTCCTCCAAGTTCTG-1</th>\n      <th>tumor_TTTCCTCCACCAGTTA-1</th>\n      <th>tumor_TTTCCTCGTATGCTTG-1</th>\n      <th>tumor_TTTGCGCCACGGTTTA-1</th>\n      <th>tumor_TTTGGTTCAGCCTGTG-1</th>\n      <th>tumor_TTTGGTTCAGTGAGTG-1</th>\n      <th>tumor_TTTGGTTGTGCAACTT-1</th>\n    </tr>\n  </thead>\n  <tbody>\n    <tr>\n      <th>Xkr4</th>\n      <td>0.0</td>\n      <td>0.0</td>\n      <td>0.000000</td>\n      <td>0.0</td>\n      <td>0.000000</td>\n      <td>0.0</td>\n      <td>0.000000</td>\n      <td>0.0</td>\n      <td>0.00000</td>\n      <td>0.000000</td>\n      <td>...</td>\n      <td>0.000000</td>\n      <td>0.000000</td>\n      <td>0.0</td>\n      <td>0.000000</td>\n      <td>0.000000</td>\n      <td>0.000000</td>\n      <td>0.000000</td>\n      <td>0.000000</td>\n      <td>0.000000</td>\n      <td>0.000000</td>\n    </tr>\n    <tr>\n      <th>Sox17</th>\n      <td>0.0</td>\n      <td>0.0</td>\n      <td>0.000000</td>\n      <td>0.0</td>\n      <td>0.000000</td>\n      <td>0.0</td>\n      <td>0.000000</td>\n      <td>0.0</td>\n      <td>0.00000</td>\n      <td>0.000000</td>\n      <td>...</td>\n      <td>0.000000</td>\n      <td>0.000000</td>\n      <td>0.0</td>\n      <td>0.000000</td>\n      <td>0.000000</td>\n      <td>0.000000</td>\n      <td>0.000000</td>\n      <td>0.000000</td>\n      <td>0.000000</td>\n      <td>0.000000</td>\n    </tr>\n    <tr>\n      <th>Mrpl15</th>\n      <td>0.0</td>\n      <td>0.0</td>\n      <td>0.000000</td>\n      <td>0.0</td>\n      <td>0.000000</td>\n      <td>0.0</td>\n      <td>1.003354</td>\n      <td>0.0</td>\n      <td>0.00000</td>\n      <td>0.000000</td>\n      <td>...</td>\n      <td>0.467282</td>\n      <td>0.908944</td>\n      <td>0.0</td>\n      <td>1.121759</td>\n      <td>0.355743</td>\n      <td>0.244490</td>\n      <td>0.379996</td>\n      <td>0.485346</td>\n      <td>0.984984</td>\n      <td>0.361297</td>\n    </tr>\n    <tr>\n      <th>Lypla1</th>\n      <td>0.0</td>\n      <td>0.0</td>\n      <td>0.777323</td>\n      <td>0.0</td>\n      <td>1.202458</td>\n      <td>0.0</td>\n      <td>0.000000</td>\n      <td>0.0</td>\n      <td>0.00000</td>\n      <td>0.000000</td>\n      <td>...</td>\n      <td>0.181113</td>\n      <td>0.687029</td>\n      <td>0.0</td>\n      <td>0.296425</td>\n      <td>0.000000</td>\n      <td>0.440794</td>\n      <td>0.379996</td>\n      <td>0.485346</td>\n      <td>0.696472</td>\n      <td>0.361297</td>\n    </tr>\n    <tr>\n      <th>Tcea1</th>\n      <td>0.0</td>\n      <td>0.0</td>\n      <td>0.000000</td>\n      <td>0.0</td>\n      <td>0.000000</td>\n      <td>0.0</td>\n      <td>0.000000</td>\n      <td>0.0</td>\n      <td>1.09107</td>\n      <td>1.058914</td>\n      <td>...</td>\n      <td>0.334399</td>\n      <td>0.401390</td>\n      <td>0.0</td>\n      <td>0.296425</td>\n      <td>0.355743</td>\n      <td>0.244490</td>\n      <td>0.768113</td>\n      <td>0.271833</td>\n      <td>0.289346</td>\n      <td>0.196877</td>\n    </tr>\n  </tbody>\n</table>\n<p>5 rows × 4797 columns</p>\n</div>"
     },
     "execution_count": 135,
     "metadata": {},
     "output_type": "execute_result"
    }
   ],
   "source": [
    "normalized_data = pd.read_csv('../../data/5knormalized_mat.tsv', sep='\\t', header=0, index_col=0)\n",
    "normalized_data.head()"
   ],
   "metadata": {
    "collapsed": false,
    "ExecuteTime": {
     "end_time": "2023-07-12T17:35:34.509204150Z",
     "start_time": "2023-07-12T17:35:25.640107076Z"
    }
   }
  },
  {
   "cell_type": "code",
   "execution_count": 136,
   "outputs": [
    {
     "data": {
      "text/plain": "     Mouse        Human\n0  Adora2b    [ADORA2B]\n1  Adora2a    [ADORA2A]\n2   Gm4340     [ALYREF]\n3  Gm20741  [KRTAP13-3]\n4     Rrp1       [RRP1]",
      "text/html": "<div>\n<style scoped>\n    .dataframe tbody tr th:only-of-type {\n        vertical-align: middle;\n    }\n\n    .dataframe tbody tr th {\n        vertical-align: top;\n    }\n\n    .dataframe thead th {\n        text-align: right;\n    }\n</style>\n<table border=\"1\" class=\"dataframe\">\n  <thead>\n    <tr style=\"text-align: right;\">\n      <th></th>\n      <th>Mouse</th>\n      <th>Human</th>\n    </tr>\n  </thead>\n  <tbody>\n    <tr>\n      <th>0</th>\n      <td>Adora2b</td>\n      <td>[ADORA2B]</td>\n    </tr>\n    <tr>\n      <th>1</th>\n      <td>Adora2a</td>\n      <td>[ADORA2A]</td>\n    </tr>\n    <tr>\n      <th>2</th>\n      <td>Gm4340</td>\n      <td>[ALYREF]</td>\n    </tr>\n    <tr>\n      <th>3</th>\n      <td>Gm20741</td>\n      <td>[KRTAP13-3]</td>\n    </tr>\n    <tr>\n      <th>4</th>\n      <td>Rrp1</td>\n      <td>[RRP1]</td>\n    </tr>\n  </tbody>\n</table>\n</div>"
     },
     "execution_count": 136,
     "metadata": {},
     "output_type": "execute_result"
    }
   ],
   "source": [
    "mouse_to_human = pd.read_csv('../../data/mouse_to_human.tsv', sep='\\t')\n",
    "mouse_to_human.head()"
   ],
   "metadata": {
    "collapsed": false,
    "ExecuteTime": {
     "end_time": "2023-07-12T17:35:34.526812416Z",
     "start_time": "2023-07-12T17:35:34.508127190Z"
    }
   }
  },
  {
   "cell_type": "code",
   "execution_count": 137,
   "outputs": [
    {
     "data": {
      "text/plain": "(14064, 2)"
     },
     "execution_count": 137,
     "metadata": {},
     "output_type": "execute_result"
    }
   ],
   "source": [
    "# Remove rows of mouse_to_human if not in normalized_data\n",
    "mouse_to_human = mouse_to_human[mouse_to_human['Mouse'].isin(normalized_data.index)]\n",
    "mouse_to_human.shape"
   ],
   "metadata": {
    "collapsed": false,
    "ExecuteTime": {
     "end_time": "2023-07-12T17:35:34.541433727Z",
     "start_time": "2023-07-12T17:35:34.529099405Z"
    }
   }
  },
  {
   "cell_type": "code",
   "execution_count": 138,
   "outputs": [
    {
     "name": "stderr",
     "output_type": "stream",
     "text": [
      "/tmp/ipykernel_1044740/2238033536.py:5: FutureWarning: The default value of regex will change from True to False in a future version. In addition, single character regular expressions will *not* be treated as literal strings when regex=True.\n",
      "  mouse_to_human['Human'] = mouse_to_human['Human'].str.replace('[', '').str.replace(']', '')\n"
     ]
    },
    {
     "data": {
      "text/plain": "     Mouse    Human\n0  Adora2b  ADORA2B\n1  Adora2a  ADORA2A\n4     Rrp1     RRP1\n5   Fam50a   FAM50A\n7    Vps35    VPS35",
      "text/html": "<div>\n<style scoped>\n    .dataframe tbody tr th:only-of-type {\n        vertical-align: middle;\n    }\n\n    .dataframe tbody tr th {\n        vertical-align: top;\n    }\n\n    .dataframe thead th {\n        text-align: right;\n    }\n</style>\n<table border=\"1\" class=\"dataframe\">\n  <thead>\n    <tr style=\"text-align: right;\">\n      <th></th>\n      <th>Mouse</th>\n      <th>Human</th>\n    </tr>\n  </thead>\n  <tbody>\n    <tr>\n      <th>0</th>\n      <td>Adora2b</td>\n      <td>ADORA2B</td>\n    </tr>\n    <tr>\n      <th>1</th>\n      <td>Adora2a</td>\n      <td>ADORA2A</td>\n    </tr>\n    <tr>\n      <th>4</th>\n      <td>Rrp1</td>\n      <td>RRP1</td>\n    </tr>\n    <tr>\n      <th>5</th>\n      <td>Fam50a</td>\n      <td>FAM50A</td>\n    </tr>\n    <tr>\n      <th>7</th>\n      <td>Vps35</td>\n      <td>VPS35</td>\n    </tr>\n  </tbody>\n</table>\n</div>"
     },
     "execution_count": 138,
     "metadata": {},
     "output_type": "execute_result"
    }
   ],
   "source": [
    "# breakdown mouse_to_human Human column into multiple rows if there are multiple human genes\n",
    "mouse_to_human['Human'] = mouse_to_human['Human'].str.split(', ')\n",
    "mouse_to_human = mouse_to_human.explode('Human')\n",
    "# Remove [ and ] from mouse_to_human Human column\n",
    "mouse_to_human['Human'] = mouse_to_human['Human'].str.replace('[', '').str.replace(']', '')\n",
    "mouse_to_human.head()"
   ],
   "metadata": {
    "collapsed": false,
    "ExecuteTime": {
     "end_time": "2023-07-12T17:35:34.747314302Z",
     "start_time": "2023-07-12T17:35:34.600052217Z"
    }
   }
  },
  {
   "cell_type": "code",
   "execution_count": 139,
   "outputs": [
    {
     "data": {
      "text/plain": "(3307,)"
     },
     "execution_count": 139,
     "metadata": {},
     "output_type": "execute_result"
    }
   ],
   "source": [
    "# Add into array symbol and targetsymbol of priors column\n",
    "priors_symbol = priors['symbol'].values\n",
    "priors_targetsymbol = priors['targetSymbol'].values\n",
    "\n",
    "# Merge priors_symbol and priors_targetsymbol into single array\n",
    "priors_symbol = np.concatenate((priors_symbol, priors_targetsymbol), axis=0)\n",
    "priors_symbol = np.unique(priors_symbol)\n",
    "priors_symbol.shape\n",
    "# 3307 unique symbol in priors_file"
   ],
   "metadata": {
    "collapsed": false,
    "ExecuteTime": {
     "end_time": "2023-07-12T17:35:34.747713334Z",
     "start_time": "2023-07-12T17:35:34.658639410Z"
    }
   }
  },
  {
   "cell_type": "code",
   "execution_count": 140,
   "outputs": [
    {
     "data": {
      "text/plain": "(2936, 2)"
     },
     "execution_count": 140,
     "metadata": {},
     "output_type": "execute_result"
    }
   ],
   "source": [
    "mouse_to_human = mouse_to_human[mouse_to_human['Human'].isin(priors_symbol)]\n",
    "mouse_to_human.shape"
   ],
   "metadata": {
    "collapsed": false,
    "ExecuteTime": {
     "end_time": "2023-07-12T17:35:34.747941735Z",
     "start_time": "2023-07-12T17:35:34.659036258Z"
    }
   }
  },
  {
   "cell_type": "code",
   "execution_count": 141,
   "outputs": [
    {
     "data": {
      "text/plain": "(2792, 2)"
     },
     "execution_count": 141,
     "metadata": {},
     "output_type": "execute_result"
    }
   ],
   "source": [
    "# Remove one to multiple mappings from mouse_to_human\n",
    "mouse_to_human = mouse_to_human[~mouse_to_human['Mouse'].duplicated(keep=False)]\n",
    "mouse_to_human.shape"
   ],
   "metadata": {
    "collapsed": false,
    "ExecuteTime": {
     "end_time": "2023-07-12T17:35:34.748085047Z",
     "start_time": "2023-07-12T17:35:34.659350101Z"
    }
   }
  },
  {
   "cell_type": "code",
   "execution_count": 142,
   "outputs": [
    {
     "data": {
      "text/plain": "(2680, 2)"
     },
     "execution_count": 142,
     "metadata": {},
     "output_type": "execute_result"
    }
   ],
   "source": [
    "# Remove multiple to one mapping from mouse_to_human\n",
    "mouse_to_human = mouse_to_human[~mouse_to_human['Human'].duplicated(keep=False)]\n",
    "mouse_to_human.shape"
   ],
   "metadata": {
    "collapsed": false,
    "ExecuteTime": {
     "end_time": "2023-07-12T17:35:34.748263263Z",
     "start_time": "2023-07-12T17:35:34.659671710Z"
    }
   }
  },
  {
   "cell_type": "code",
   "execution_count": 143,
   "outputs": [],
   "source": [
    "# Get the rows for each Mouse symbol from normalized_data and add to new dataframe\n",
    "mouse_to_human_normalized = pd.DataFrame()\n",
    "for mouse_symbol in mouse_to_human['Mouse'].values:\n",
    "    mouse_to_human_normalized = mouse_to_human_normalized.append(normalized_data.loc[mouse_symbol])\n",
    "mouse_to_human_normalized.index = mouse_to_human['Human'].values\n",
    "\n",
    "# Drop rows with all 0s\n",
    "mouse_to_human_normalized = mouse_to_human_normalized.loc[~(mouse_to_human_normalized==0).all(axis=1)]\n",
    "\n",
    "# Export mouse_to_human_normalized to tsv\n",
    "mouse_to_human_normalized.to_csv('../../data/mouse_to_human_normalized5k.tsv', sep='\\t')"
   ],
   "metadata": {
    "collapsed": false,
    "ExecuteTime": {
     "end_time": "2023-07-12T17:36:05.967735266Z",
     "start_time": "2023-07-12T17:35:34.659967677Z"
    }
   }
  },
  {
   "cell_type": "code",
   "execution_count": 143,
   "outputs": [],
   "source": [],
   "metadata": {
    "collapsed": false,
    "ExecuteTime": {
     "end_time": "2023-07-12T17:36:05.968085007Z",
     "start_time": "2023-07-12T17:36:05.866608753Z"
    }
   }
  }
 ],
 "metadata": {
  "kernelspec": {
   "display_name": "Python 3",
   "language": "python",
   "name": "python3"
  },
  "language_info": {
   "codemirror_mode": {
    "name": "ipython",
    "version": 2
   },
   "file_extension": ".py",
   "mimetype": "text/x-python",
   "name": "python",
   "nbconvert_exporter": "python",
   "pygments_lexer": "ipython2",
   "version": "2.7.6"
  }
 },
 "nbformat": 4,
 "nbformat_minor": 0
}
