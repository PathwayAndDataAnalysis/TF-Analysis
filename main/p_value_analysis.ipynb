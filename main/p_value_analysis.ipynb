{
 "cells": [
  {
   "cell_type": "code",
   "execution_count": 1,
   "metadata": {
    "collapsed": true,
    "ExecuteTime": {
     "end_time": "2023-07-13T17:34:28.957101437Z",
     "start_time": "2023-07-13T17:34:28.631657836Z"
    }
   },
   "outputs": [],
   "source": [
    "import numpy as np\n",
    "import pandas as pd\n",
    "import statsmodels.stats.multitest as smm"
   ]
  },
  {
   "cell_type": "markdown",
   "source": [
    "### P Value Analysis of Slow Method"
   ],
   "metadata": {
    "collapsed": false
   }
  },
  {
   "cell_type": "code",
   "execution_count": 2,
   "outputs": [
    {
     "data": {
      "text/plain": "                             AATF  ABCA1  ABCA3   ABCB1    ABL1  ACTL6A  \\\nmidpoint_AAACCTGCACCCAGTG-1   0.0    0.0    0.0  0.0000  0.0000  0.0000   \nmidpoint_AAACCTGCAGCTTAAC-1   0.0    0.0    0.0  0.0000  0.0000  0.0000   \nmidpoint_AAACCTGGTGTGCGTC-1   0.0    0.0    0.0  0.0376  0.0000  0.8233   \nmidpoint_AAACCTGGTTGAACTC-1   0.0    0.0    0.0  0.6227  0.9659  0.1421   \nmidpoint_AAACGGGAGGATGGTC-1   0.0    0.0    0.0  0.5908  0.0000  0.0000   \n\n                             ADH1B    AGO1    AGO2    AGO3  ...  ZFHX3  ZFP36  \\\nmidpoint_AAACCTGCACCCAGTG-1    0.0  0.0000  0.0000  0.0000  ...    0.0    0.0   \nmidpoint_AAACCTGCAGCTTAAC-1    0.0  0.0000  0.0000  0.0000  ...    0.0    0.0   \nmidpoint_AAACCTGGTGTGCGTC-1    0.0  0.0000  0.0000  0.0000  ...    0.0    0.0   \nmidpoint_AAACCTGGTTGAACTC-1    0.0  0.2415  0.2415  0.2415  ...    0.0    0.0   \nmidpoint_AAACGGGAGGATGGTC-1    0.0  0.0000  0.0000  0.0000  ...    0.0    0.0   \n\n                             ZHX2    ZIC1  ZNF148  ZNF175  ZNF24  ZNF300  \\\nmidpoint_AAACCTGCACCCAGTG-1   0.0  0.0000     0.0     0.0    0.0     0.0   \nmidpoint_AAACCTGCAGCTTAAC-1   0.0  0.0000     0.0     0.0    0.0     0.0   \nmidpoint_AAACCTGGTGTGCGTC-1   0.0  0.4763     0.0     0.0    0.0     0.0   \nmidpoint_AAACCTGGTTGAACTC-1   0.0  0.0000     0.0     0.0    0.0     0.0   \nmidpoint_AAACGGGAGGATGGTC-1   0.0  0.8794     0.0     0.0    0.0     0.0   \n\n                             ZNF350  ZNF382  \nmidpoint_AAACCTGCACCCAGTG-1     0.0  0.0000  \nmidpoint_AAACCTGCAGCTTAAC-1     0.0  0.5801  \nmidpoint_AAACCTGGTGTGCGTC-1     0.0  0.0000  \nmidpoint_AAACCTGGTTGAACTC-1     0.0  0.0763  \nmidpoint_AAACGGGAGGATGGTC-1     0.0  0.1324  \n\n[5 rows x 684 columns]",
      "text/html": "<div>\n<style scoped>\n    .dataframe tbody tr th:only-of-type {\n        vertical-align: middle;\n    }\n\n    .dataframe tbody tr th {\n        vertical-align: top;\n    }\n\n    .dataframe thead th {\n        text-align: right;\n    }\n</style>\n<table border=\"1\" class=\"dataframe\">\n  <thead>\n    <tr style=\"text-align: right;\">\n      <th></th>\n      <th>AATF</th>\n      <th>ABCA1</th>\n      <th>ABCA3</th>\n      <th>ABCB1</th>\n      <th>ABL1</th>\n      <th>ACTL6A</th>\n      <th>ADH1B</th>\n      <th>AGO1</th>\n      <th>AGO2</th>\n      <th>AGO3</th>\n      <th>...</th>\n      <th>ZFHX3</th>\n      <th>ZFP36</th>\n      <th>ZHX2</th>\n      <th>ZIC1</th>\n      <th>ZNF148</th>\n      <th>ZNF175</th>\n      <th>ZNF24</th>\n      <th>ZNF300</th>\n      <th>ZNF350</th>\n      <th>ZNF382</th>\n    </tr>\n  </thead>\n  <tbody>\n    <tr>\n      <th>midpoint_AAACCTGCACCCAGTG-1</th>\n      <td>0.0</td>\n      <td>0.0</td>\n      <td>0.0</td>\n      <td>0.0000</td>\n      <td>0.0000</td>\n      <td>0.0000</td>\n      <td>0.0</td>\n      <td>0.0000</td>\n      <td>0.0000</td>\n      <td>0.0000</td>\n      <td>...</td>\n      <td>0.0</td>\n      <td>0.0</td>\n      <td>0.0</td>\n      <td>0.0000</td>\n      <td>0.0</td>\n      <td>0.0</td>\n      <td>0.0</td>\n      <td>0.0</td>\n      <td>0.0</td>\n      <td>0.0000</td>\n    </tr>\n    <tr>\n      <th>midpoint_AAACCTGCAGCTTAAC-1</th>\n      <td>0.0</td>\n      <td>0.0</td>\n      <td>0.0</td>\n      <td>0.0000</td>\n      <td>0.0000</td>\n      <td>0.0000</td>\n      <td>0.0</td>\n      <td>0.0000</td>\n      <td>0.0000</td>\n      <td>0.0000</td>\n      <td>...</td>\n      <td>0.0</td>\n      <td>0.0</td>\n      <td>0.0</td>\n      <td>0.0000</td>\n      <td>0.0</td>\n      <td>0.0</td>\n      <td>0.0</td>\n      <td>0.0</td>\n      <td>0.0</td>\n      <td>0.5801</td>\n    </tr>\n    <tr>\n      <th>midpoint_AAACCTGGTGTGCGTC-1</th>\n      <td>0.0</td>\n      <td>0.0</td>\n      <td>0.0</td>\n      <td>0.0376</td>\n      <td>0.0000</td>\n      <td>0.8233</td>\n      <td>0.0</td>\n      <td>0.0000</td>\n      <td>0.0000</td>\n      <td>0.0000</td>\n      <td>...</td>\n      <td>0.0</td>\n      <td>0.0</td>\n      <td>0.0</td>\n      <td>0.4763</td>\n      <td>0.0</td>\n      <td>0.0</td>\n      <td>0.0</td>\n      <td>0.0</td>\n      <td>0.0</td>\n      <td>0.0000</td>\n    </tr>\n    <tr>\n      <th>midpoint_AAACCTGGTTGAACTC-1</th>\n      <td>0.0</td>\n      <td>0.0</td>\n      <td>0.0</td>\n      <td>0.6227</td>\n      <td>0.9659</td>\n      <td>0.1421</td>\n      <td>0.0</td>\n      <td>0.2415</td>\n      <td>0.2415</td>\n      <td>0.2415</td>\n      <td>...</td>\n      <td>0.0</td>\n      <td>0.0</td>\n      <td>0.0</td>\n      <td>0.0000</td>\n      <td>0.0</td>\n      <td>0.0</td>\n      <td>0.0</td>\n      <td>0.0</td>\n      <td>0.0</td>\n      <td>0.0763</td>\n    </tr>\n    <tr>\n      <th>midpoint_AAACGGGAGGATGGTC-1</th>\n      <td>0.0</td>\n      <td>0.0</td>\n      <td>0.0</td>\n      <td>0.5908</td>\n      <td>0.0000</td>\n      <td>0.0000</td>\n      <td>0.0</td>\n      <td>0.0000</td>\n      <td>0.0000</td>\n      <td>0.0000</td>\n      <td>...</td>\n      <td>0.0</td>\n      <td>0.0</td>\n      <td>0.0</td>\n      <td>0.8794</td>\n      <td>0.0</td>\n      <td>0.0</td>\n      <td>0.0</td>\n      <td>0.0</td>\n      <td>0.0</td>\n      <td>0.1324</td>\n    </tr>\n  </tbody>\n</table>\n<p>5 rows × 684 columns</p>\n</div>"
     },
     "execution_count": 2,
     "metadata": {},
     "output_type": "execute_result"
    }
   ],
   "source": [
    "pValFile = '../output/pValSlw5k.tsv'\n",
    "pValDf = pd.read_csv(pValFile, sep='\\t', index_col=0)\n",
    "pValDf = np.abs(pValDf)\n",
    "pValDf.head()"
   ],
   "metadata": {
    "collapsed": false,
    "ExecuteTime": {
     "end_time": "2023-07-13T17:34:29.980633336Z",
     "start_time": "2023-07-13T17:34:29.527932728Z"
    }
   }
  },
  {
   "cell_type": "code",
   "execution_count": 3,
   "outputs": [],
   "source": [
    "adjustedPVals = pd.DataFrame(columns=pValDf.columns, index=pValDf.index)\n",
    "actRej = pd.DataFrame(columns=pValDf.columns, index=pValDf.index)\n",
    "\n",
    "\n",
    "for (tf, pVals) in pValDf.iteritems():\n",
    "    pVals = pVals.dropna()\n",
    "    pV_df = pd.DataFrame(index=pVals.index, columns=['pVal'], data=pVals.values)\n",
    "    pV_df.sort_values(by='pVal', inplace=True)\n",
    "\n",
    "    reject, adj_p_val = smm.fdrcorrection(pV_df['pVal'].values, method='i', is_sorted=True, alpha=0.1)\n",
    "    pV_df[tf] = adj_p_val\n",
    "\n",
    "    # Insert pV_df into adjustedPVals by column by index\n",
    "    adjustedPVals.loc[pV_df.index.values, tf] = pV_df[tf].values\n",
    "    actRej.loc[pV_df.index.values, tf] = reject\n",
    "\n",
    "adjustedPVals.to_csv('../output/adjustedPValsSlw5k.tsv', sep='\\t')\n",
    "actRej.to_csv('../output/actRejSlw5k.tsv', sep='\\t')"
   ],
   "metadata": {
    "collapsed": false,
    "ExecuteTime": {
     "end_time": "2023-07-13T17:34:34.645305629Z",
     "start_time": "2023-07-13T17:34:30.494242130Z"
    }
   }
  },
  {
   "cell_type": "code",
   "execution_count": 4,
   "outputs": [],
   "source": [
    "aRS_df = pd.read_csv('../output/actRejSlw5k.tsv', sep='\\t', index_col=0)\n",
    "hashSX0 = aRS_df.sum(axis=0)\n",
    "hashSX1 = aRS_df.sum(axis=1).to_frame()"
   ],
   "metadata": {
    "collapsed": false,
    "ExecuteTime": {
     "end_time": "2023-07-13T17:34:34.951257669Z",
     "start_time": "2023-07-13T17:34:34.632218486Z"
    }
   }
  },
  {
   "cell_type": "markdown",
   "source": [
    "### p-value Analysis of Fast Method"
   ],
   "metadata": {
    "collapsed": false
   }
  },
  {
   "cell_type": "code",
   "execution_count": 69,
   "outputs": [],
   "source": [
    "pValFile = '../output/pValFst.tsv'\n",
    "\n",
    "pValDf = pd.read_csv(pValFile, sep='\\t', index_col=0)\n",
    "pValDf.head()\n",
    "\n",
    "adjustedPVals = pd.DataFrame(columns=pValDf.columns, index=pValDf.index)\n",
    "actRej = pd.DataFrame(columns=pValDf.columns, index=pValDf.index)\n",
    "\n",
    "for (tf, pVals) in pValDf.iteritems():\n",
    "    pV_df = pd.DataFrame(index=pVals.index, columns=['pVal'], data=np.abs(pVals.values))\n",
    "    pV_df.sort_values(by='pVal', inplace=True)\n",
    "\n",
    "    reject, adj_p_val = smm.fdrcorrection(pV_df['pVal'].values, method='i', is_sorted=True, alpha=0.1)\n",
    "    pV_df[tf] = adj_p_val\n",
    "\n",
    "    # Insert pV_df into adjustedPVals by column by index\n",
    "    adjustedPVals.loc[pV_df.index.values, tf] = pV_df[tf].values\n",
    "    actRej.loc[pV_df.index.values, tf] = reject\n",
    "\n",
    "adjustedPVals.to_csv('../output/adjustedPValsFst.tsv', sep='\\t')\n",
    "actRej.to_csv('../output/actRejFst.tsv', sep='\\t')"
   ],
   "metadata": {
    "collapsed": false,
    "ExecuteTime": {
     "end_time": "2023-06-20T17:50:38.122260367Z",
     "start_time": "2023-06-20T17:50:31.809904223Z"
    }
   }
  },
  {
   "cell_type": "code",
   "execution_count": 70,
   "outputs": [],
   "source": [
    "aRF_df = pd.read_csv('../output/actRejFst.tsv', sep='\\t', index_col=0)\n",
    "hashFX0 = aRF_df.sum(axis=0)\n",
    "hashFX1 = aRF_df.sum(axis=1).to_frame()"
   ],
   "metadata": {
    "collapsed": false,
    "ExecuteTime": {
     "end_time": "2023-06-20T17:50:42.083315562Z",
     "start_time": "2023-06-20T17:50:41.747230511Z"
    }
   }
  },
  {
   "cell_type": "code",
   "execution_count": null,
   "outputs": [],
   "source": [],
   "metadata": {
    "collapsed": false
   }
  },
  {
   "cell_type": "markdown",
   "source": [
    "## -------------------------------------------"
   ],
   "metadata": {
    "collapsed": false
   }
  },
  {
   "cell_type": "code",
   "execution_count": null,
   "outputs": [],
   "source": [
    "df = pd.DataFrame(index=['C1', 'C2', 'C3'],\n",
    "                  columns=['Gene1 pVal', 'Gene2 pVal', 'Gene3 pVal', 'Gene4 pVal', 'Gene5 pVal', 'Gene6 pVal'],\n",
    "                  data=[[0.021, 0.005, 0.073, 0.001, 0.034, 0.018], [0.23, 0.03, 0.003, 0.001, 0.034, 0.018],\n",
    "                        [0.021, 0.005, 0.73, 0.10, 0.34, 0.4]])\n",
    "df.head()"
   ],
   "metadata": {
    "collapsed": false
   }
  },
  {
   "cell_type": "code",
   "execution_count": null,
   "outputs": [],
   "source": [
    "\n",
    "# Example DataFrame\n",
    "df = pd.DataFrame(index=['C1', 'C2', 'C3'],\n",
    "                  columns=['Gene1 pVal', 'Gene2 pVal', 'Gene3 pVal', 'Gene4 pVal', 'Gene5 pVal', 'Gene6 pVal'],\n",
    "                  data=[[0.021, 0.005, 0.073, 0.001, 0.034, 0.018], [0.23, 0.03, 0.003, 0.001, 0.034, 0.018],\n",
    "                        [0.021, 0.005, 0.73, 0.10, 0.34, 0.4]])\n",
    "\n",
    "# Iterate over the cells and apply Benjamini-Hochberg procedure\n",
    "adjusted_dfs = {}\n",
    "for cell in df.index:\n",
    "    # Get the p-values for the current cell\n",
    "    p_values = df.loc[cell].values\n",
    "\n",
    "    # Perform Benjamini-Hochberg procedure\n",
    "    reject, adjusted_p_values, _, _ = smm.multipletests(p_values, method='fdr_bh')\n",
    "\n",
    "    # Create a new DataFrame with the adjusted p-values\n",
    "    adjusted_df = pd.DataFrame(index=[cell], columns=df.columns, data=[adjusted_p_values])\n",
    "\n",
    "    # Store the adjusted DataFrame for the current cell\n",
    "    adjusted_dfs[cell] = adjusted_df\n",
    "\n",
    "# Concatenate the adjusted DataFrames for all cells\n",
    "adjusted_combined = pd.concat(adjusted_dfs.values())\n",
    "\n",
    "# Print the original DataFrame and the adjusted DataFrames for each cell\n",
    "print(\"Original DataFrame:\")\n",
    "print(df)\n",
    "print(\"\\nAdjusted DataFrames:\")\n",
    "for cell, adjusted_df in adjusted_dfs.items():\n",
    "    print(f\"\\nCell {cell}:\")\n",
    "    print(adjusted_df)\n",
    "print(\"\\nCombined Adjusted DataFrame:\")\n",
    "print(adjusted_combined)\n"
   ],
   "metadata": {
    "collapsed": false
   }
  },
  {
   "cell_type": "code",
   "execution_count": 4,
   "outputs": [
    {
     "data": {
      "text/plain": "                        Unnamed: 0  AATF  ABCA1  ABCA3    ABCB1     ABL1  \\\n0  BPK.12x.4NQO_AAACCTGCACCCAGTG.1   NaN    NaN    NaN      NaN      NaN   \n1  BPK.12x.4NQO_AAACCTGCAGCTTAAC.1   NaN    NaN    NaN      NaN      NaN   \n2  BPK.12x.4NQO_AAACCTGGTGTGCGTC.1   NaN    NaN    NaN  0.85533      NaN   \n3  BPK.12x.4NQO_AAACCTGGTTGAACTC.1   NaN    NaN    NaN  0.13155 -0.39036   \n4  BPK.12x.4NQO_AAACGGGAGGATGGTC.1   NaN    NaN    NaN -0.08332      NaN   \n\n    ACTL6A  ADH1B     AGO1     AGO2  ...  ZFHX3  ZFP36  ZHX2     ZIC1  ZNF148  \\\n0      NaN    NaN      NaN      NaN  ...    NaN    NaN   NaN      NaN     NaN   \n1      NaN    NaN      NaN      NaN  ...    NaN    NaN   NaN      NaN     NaN   \n2 -0.96227    NaN      NaN      NaN  ...    NaN    NaN   NaN -0.71356     NaN   \n3 -0.78387    NaN -0.90361 -0.90361  ...    NaN    NaN   NaN      NaN     NaN   \n4      NaN    NaN      NaN      NaN  ...    NaN    NaN   NaN -0.69834     NaN   \n\n   ZNF175  ZNF24  ZNF300  ZNF350   ZNF382  \n0     NaN    NaN     NaN     NaN      NaN  \n1     NaN    NaN     NaN     NaN -0.62987  \n2     NaN    NaN     NaN     NaN      NaN  \n3     NaN    NaN     NaN     NaN -0.78761  \n4     NaN    NaN     NaN     NaN  0.00181  \n\n[5 rows x 691 columns]",
      "text/html": "<div>\n<style scoped>\n    .dataframe tbody tr th:only-of-type {\n        vertical-align: middle;\n    }\n\n    .dataframe tbody tr th {\n        vertical-align: top;\n    }\n\n    .dataframe thead th {\n        text-align: right;\n    }\n</style>\n<table border=\"1\" class=\"dataframe\">\n  <thead>\n    <tr style=\"text-align: right;\">\n      <th></th>\n      <th>Unnamed: 0</th>\n      <th>AATF</th>\n      <th>ABCA1</th>\n      <th>ABCA3</th>\n      <th>ABCB1</th>\n      <th>ABL1</th>\n      <th>ACTL6A</th>\n      <th>ADH1B</th>\n      <th>AGO1</th>\n      <th>AGO2</th>\n      <th>...</th>\n      <th>ZFHX3</th>\n      <th>ZFP36</th>\n      <th>ZHX2</th>\n      <th>ZIC1</th>\n      <th>ZNF148</th>\n      <th>ZNF175</th>\n      <th>ZNF24</th>\n      <th>ZNF300</th>\n      <th>ZNF350</th>\n      <th>ZNF382</th>\n    </tr>\n  </thead>\n  <tbody>\n    <tr>\n      <th>0</th>\n      <td>BPK.12x.4NQO_AAACCTGCACCCAGTG.1</td>\n      <td>NaN</td>\n      <td>NaN</td>\n      <td>NaN</td>\n      <td>NaN</td>\n      <td>NaN</td>\n      <td>NaN</td>\n      <td>NaN</td>\n      <td>NaN</td>\n      <td>NaN</td>\n      <td>...</td>\n      <td>NaN</td>\n      <td>NaN</td>\n      <td>NaN</td>\n      <td>NaN</td>\n      <td>NaN</td>\n      <td>NaN</td>\n      <td>NaN</td>\n      <td>NaN</td>\n      <td>NaN</td>\n      <td>NaN</td>\n    </tr>\n    <tr>\n      <th>1</th>\n      <td>BPK.12x.4NQO_AAACCTGCAGCTTAAC.1</td>\n      <td>NaN</td>\n      <td>NaN</td>\n      <td>NaN</td>\n      <td>NaN</td>\n      <td>NaN</td>\n      <td>NaN</td>\n      <td>NaN</td>\n      <td>NaN</td>\n      <td>NaN</td>\n      <td>...</td>\n      <td>NaN</td>\n      <td>NaN</td>\n      <td>NaN</td>\n      <td>NaN</td>\n      <td>NaN</td>\n      <td>NaN</td>\n      <td>NaN</td>\n      <td>NaN</td>\n      <td>NaN</td>\n      <td>-0.62987</td>\n    </tr>\n    <tr>\n      <th>2</th>\n      <td>BPK.12x.4NQO_AAACCTGGTGTGCGTC.1</td>\n      <td>NaN</td>\n      <td>NaN</td>\n      <td>NaN</td>\n      <td>0.85533</td>\n      <td>NaN</td>\n      <td>-0.96227</td>\n      <td>NaN</td>\n      <td>NaN</td>\n      <td>NaN</td>\n      <td>...</td>\n      <td>NaN</td>\n      <td>NaN</td>\n      <td>NaN</td>\n      <td>-0.71356</td>\n      <td>NaN</td>\n      <td>NaN</td>\n      <td>NaN</td>\n      <td>NaN</td>\n      <td>NaN</td>\n      <td>NaN</td>\n    </tr>\n    <tr>\n      <th>3</th>\n      <td>BPK.12x.4NQO_AAACCTGGTTGAACTC.1</td>\n      <td>NaN</td>\n      <td>NaN</td>\n      <td>NaN</td>\n      <td>0.13155</td>\n      <td>-0.39036</td>\n      <td>-0.78387</td>\n      <td>NaN</td>\n      <td>-0.90361</td>\n      <td>-0.90361</td>\n      <td>...</td>\n      <td>NaN</td>\n      <td>NaN</td>\n      <td>NaN</td>\n      <td>NaN</td>\n      <td>NaN</td>\n      <td>NaN</td>\n      <td>NaN</td>\n      <td>NaN</td>\n      <td>NaN</td>\n      <td>-0.78761</td>\n    </tr>\n    <tr>\n      <th>4</th>\n      <td>BPK.12x.4NQO_AAACGGGAGGATGGTC.1</td>\n      <td>NaN</td>\n      <td>NaN</td>\n      <td>NaN</td>\n      <td>-0.08332</td>\n      <td>NaN</td>\n      <td>NaN</td>\n      <td>NaN</td>\n      <td>NaN</td>\n      <td>NaN</td>\n      <td>...</td>\n      <td>NaN</td>\n      <td>NaN</td>\n      <td>NaN</td>\n      <td>-0.69834</td>\n      <td>NaN</td>\n      <td>NaN</td>\n      <td>NaN</td>\n      <td>NaN</td>\n      <td>NaN</td>\n      <td>0.00181</td>\n    </tr>\n  </tbody>\n</table>\n<p>5 rows × 691 columns</p>\n</div>"
     },
     "execution_count": 4,
     "metadata": {},
     "output_type": "execute_result"
    }
   ],
   "source": [
    "pVal = pd.read_csv('../output/pValSlw.tsv', sep='\\t')\n",
    "pVal.head()"
   ],
   "metadata": {
    "collapsed": false,
    "ExecuteTime": {
     "end_time": "2023-06-16T17:45:19.106149914Z",
     "start_time": "2023-06-16T17:45:18.726986576Z"
    }
   }
  },
  {
   "cell_type": "code",
   "execution_count": 5,
   "outputs": [
    {
     "data": {
      "text/plain": "(9089, 691)"
     },
     "execution_count": 5,
     "metadata": {},
     "output_type": "execute_result"
    }
   ],
   "source": [
    "\n",
    "adPVal = pd.read_csv('../output/adjustedPValsSlw.tsv', sep='\\t')\n",
    "adPVal.shape"
   ],
   "metadata": {
    "collapsed": false,
    "ExecuteTime": {
     "end_time": "2023-06-16T17:45:20.588480870Z",
     "start_time": "2023-06-16T17:45:20.173478459Z"
    }
   }
  },
  {
   "cell_type": "code",
   "execution_count": 6,
   "outputs": [
    {
     "data": {
      "text/plain": "0      -0.82671\n1      -0.18315\n2      -0.03682\n3      -0.51154\n4      -0.27977\n         ...   \n9084   -0.69335\n9085    0.25115\n9086    0.36448\n9087    0.22080\n9088    0.85992\nName: ARNT, Length: 9081, dtype: float64"
     },
     "execution_count": 6,
     "metadata": {},
     "output_type": "execute_result"
    }
   ],
   "source": [
    "arnt = pVal['ARNT']\n",
    "arnt.dropna(inplace=True, axis=0)\n",
    "arnt"
   ],
   "metadata": {
    "collapsed": false,
    "ExecuteTime": {
     "end_time": "2023-06-16T17:45:21.259866328Z",
     "start_time": "2023-06-16T17:45:21.243229010Z"
    }
   }
  },
  {
   "cell_type": "code",
   "execution_count": 7,
   "outputs": [
    {
     "data": {
      "text/plain": "0       0.946250\n1       0.809159\n2       0.407523\n3       0.924526\n4       0.854643\n          ...   \n9084    0.889178\n9085    0.981146\n9086    0.784459\n9087    0.711414\n9088    0.933149\nName: ARNT, Length: 9081, dtype: float64"
     },
     "execution_count": 7,
     "metadata": {},
     "output_type": "execute_result"
    }
   ],
   "source": [
    "arnt_ad = adPVal['ARNT']\n",
    "arnt_ad.dropna(inplace=True, axis=0)\n",
    "arnt_ad"
   ],
   "metadata": {
    "collapsed": false,
    "ExecuteTime": {
     "end_time": "2023-06-16T17:45:21.934614694Z",
     "start_time": "2023-06-16T17:45:21.919629294Z"
    }
   }
  },
  {
   "cell_type": "code",
   "execution_count": 9,
   "outputs": [
    {
     "data": {
      "text/plain": "<Figure size 432x288 with 1 Axes>",
      "image/png": "[encoded data removed]"
     },
     "metadata": {
      "needs_background": "light"
     },
     "output_type": "display_data"
    }
   ],
   "source": [
    "from matplotlib import pyplot as plt\n",
    "%matplotlib inline\n",
    "\n",
    "plt.scatter(np.abs(arnt), arnt_ad)\n",
    "plt.show()"
   ],
   "metadata": {
    "collapsed": false,
    "ExecuteTime": {
     "end_time": "2023-06-16T17:46:21.933056787Z",
     "start_time": "2023-06-16T17:46:21.852767175Z"
    }
   }
  },
  {
   "cell_type": "code",
   "execution_count": 18,
   "outputs": [
    {
     "data": {
      "text/plain": "(9081, 2)"
     },
     "execution_count": 18,
     "metadata": {},
     "output_type": "execute_result"
    }
   ],
   "source": [
    "pp = pd.DataFrame(data=[list(np.abs(arnt.values)), list(arnt_ad.values)]).T\n",
    "pp.shape"
   ],
   "metadata": {
    "collapsed": false,
    "ExecuteTime": {
     "end_time": "2023-06-16T17:52:13.060649370Z",
     "start_time": "2023-06-16T17:52:12.962940432Z"
    }
   }
  },
  {
   "cell_type": "code",
   "execution_count": 19,
   "outputs": [
    {
     "data": {
      "text/plain": "         p      ad_p\n0  0.82671  0.946250\n1  0.18315  0.809159\n2  0.03682  0.407523\n3  0.51154  0.924526\n4  0.27977  0.854643",
      "text/html": "<div>\n<style scoped>\n    .dataframe tbody tr th:only-of-type {\n        vertical-align: middle;\n    }\n\n    .dataframe tbody tr th {\n        vertical-align: top;\n    }\n\n    .dataframe thead th {\n        text-align: right;\n    }\n</style>\n<table border=\"1\" class=\"dataframe\">\n  <thead>\n    <tr style=\"text-align: right;\">\n      <th></th>\n      <th>p</th>\n      <th>ad_p</th>\n    </tr>\n  </thead>\n  <tbody>\n    <tr>\n      <th>0</th>\n      <td>0.82671</td>\n      <td>0.946250</td>\n    </tr>\n    <tr>\n      <th>1</th>\n      <td>0.18315</td>\n      <td>0.809159</td>\n    </tr>\n    <tr>\n      <th>2</th>\n      <td>0.03682</td>\n      <td>0.407523</td>\n    </tr>\n    <tr>\n      <th>3</th>\n      <td>0.51154</td>\n      <td>0.924526</td>\n    </tr>\n    <tr>\n      <th>4</th>\n      <td>0.27977</td>\n      <td>0.854643</td>\n    </tr>\n  </tbody>\n</table>\n</div>"
     },
     "execution_count": 19,
     "metadata": {},
     "output_type": "execute_result"
    }
   ],
   "source": [
    "pp.columns = ['p', 'ad_p']\n",
    "pp.head()"
   ],
   "metadata": {
    "collapsed": false,
    "ExecuteTime": {
     "end_time": "2023-06-16T17:52:45.368560791Z",
     "start_time": "2023-06-16T17:52:45.363689158Z"
    }
   }
  },
  {
   "cell_type": "code",
   "execution_count": 20,
   "outputs": [
    {
     "data": {
      "text/plain": "            p     ad_p\n8023  0.00001  0.00129\n187   0.00001  0.00128\n4033  0.00001  0.00361\n8142  0.00002  0.00182\n8111  0.00002  0.00250",
      "text/html": "<div>\n<style scoped>\n    .dataframe tbody tr th:only-of-type {\n        vertical-align: middle;\n    }\n\n    .dataframe tbody tr th {\n        vertical-align: top;\n    }\n\n    .dataframe thead th {\n        text-align: right;\n    }\n</style>\n<table border=\"1\" class=\"dataframe\">\n  <thead>\n    <tr style=\"text-align: right;\">\n      <th></th>\n      <th>p</th>\n      <th>ad_p</th>\n    </tr>\n  </thead>\n  <tbody>\n    <tr>\n      <th>8023</th>\n      <td>0.00001</td>\n      <td>0.00129</td>\n    </tr>\n    <tr>\n      <th>187</th>\n      <td>0.00001</td>\n      <td>0.00128</td>\n    </tr>\n    <tr>\n      <th>4033</th>\n      <td>0.00001</td>\n      <td>0.00361</td>\n    </tr>\n    <tr>\n      <th>8142</th>\n      <td>0.00002</td>\n      <td>0.00182</td>\n    </tr>\n    <tr>\n      <th>8111</th>\n      <td>0.00002</td>\n      <td>0.00250</td>\n    </tr>\n  </tbody>\n</table>\n</div>"
     },
     "execution_count": 20,
     "metadata": {},
     "output_type": "execute_result"
    }
   ],
   "source": [
    "pp.sort_values(by=['p'], inplace=True)\n",
    "pp.head()"
   ],
   "metadata": {
    "collapsed": false,
    "ExecuteTime": {
     "end_time": "2023-06-16T17:53:40.025990491Z",
     "start_time": "2023-06-16T17:53:39.997546230Z"
    }
   }
  },
  {
   "cell_type": "code",
   "execution_count": 21,
   "outputs": [],
   "source": [
    "pp.to_csv(\"../output/pValueComp.tsv\", index=False)"
   ],
   "metadata": {
    "collapsed": false,
    "ExecuteTime": {
     "end_time": "2023-06-16T17:54:28.472512473Z",
     "start_time": "2023-06-16T17:54:28.291980024Z"
    }
   }
  },
  {
   "cell_type": "code",
   "execution_count": 27,
   "outputs": [
    {
     "data": {
      "text/plain": "         p     ad_p  new_ad_p  acpt\n0  0.00001  0.00129  0.030270  True\n1  0.00001  0.00128  0.030270  True\n2  0.00001  0.00361  0.030270  True\n3  0.00002  0.00182  0.036324  True\n4  0.00002  0.00250  0.036324  True",
      "text/html": "<div>\n<style scoped>\n    .dataframe tbody tr th:only-of-type {\n        vertical-align: middle;\n    }\n\n    .dataframe tbody tr th {\n        vertical-align: top;\n    }\n\n    .dataframe thead th {\n        text-align: right;\n    }\n</style>\n<table border=\"1\" class=\"dataframe\">\n  <thead>\n    <tr style=\"text-align: right;\">\n      <th></th>\n      <th>p</th>\n      <th>ad_p</th>\n      <th>new_ad_p</th>\n      <th>acpt</th>\n    </tr>\n  </thead>\n  <tbody>\n    <tr>\n      <th>0</th>\n      <td>0.00001</td>\n      <td>0.00129</td>\n      <td>0.030270</td>\n      <td>True</td>\n    </tr>\n    <tr>\n      <th>1</th>\n      <td>0.00001</td>\n      <td>0.00128</td>\n      <td>0.030270</td>\n      <td>True</td>\n    </tr>\n    <tr>\n      <th>2</th>\n      <td>0.00001</td>\n      <td>0.00361</td>\n      <td>0.030270</td>\n      <td>True</td>\n    </tr>\n    <tr>\n      <th>3</th>\n      <td>0.00002</td>\n      <td>0.00182</td>\n      <td>0.036324</td>\n      <td>True</td>\n    </tr>\n    <tr>\n      <th>4</th>\n      <td>0.00002</td>\n      <td>0.00250</td>\n      <td>0.036324</td>\n      <td>True</td>\n    </tr>\n  </tbody>\n</table>\n</div>"
     },
     "execution_count": 27,
     "metadata": {},
     "output_type": "execute_result"
    }
   ],
   "source": [
    "pp.reset_index(inplace=True)\n",
    "pp = pp[['p', 'ad_p']]\n",
    "\n",
    "rj, sd_p_v, _, _ = smm.multipletests(pp['p'], method='fdr_bh', is_sorted='True')\n",
    "\n",
    "pp['new_ad_p'] = sd_p_v\n",
    "pp['acpt'] = rj\n",
    "\n",
    "pp.head()"
   ],
   "metadata": {
    "collapsed": false,
    "ExecuteTime": {
     "end_time": "2023-06-16T19:24:02.658789524Z",
     "start_time": "2023-06-16T19:24:02.605982293Z"
    }
   }
  },
  {
   "cell_type": "code",
   "execution_count": 29,
   "outputs": [],
   "source": [
    "pp.to_csv('../output/pValueComp2.tsv', index=False)"
   ],
   "metadata": {
    "collapsed": false,
    "ExecuteTime": {
     "end_time": "2023-06-16T19:29:11.356652381Z",
     "start_time": "2023-06-16T19:29:11.297756531Z"
    }
   }
  },
  {
   "cell_type": "code",
   "execution_count": 17,
   "outputs": [],
   "source": [
    "pV = pd.read_csv('../output/pValSlw.tsv', sep='\\t', index_col=0)\n",
    "tt = np.sign(pV)\n",
    "pV = np.sign(pV) * -np.log(np.abs(pV))\n",
    "pV.fillna(0, inplace=True)\n",
    "pV.to_csv('../output/tf_scores_t2.tsv', sep='\\t')"
   ],
   "metadata": {
    "collapsed": false,
    "ExecuteTime": {
     "end_time": "2023-06-22T19:50:01.834070290Z",
     "start_time": "2023-06-22T19:49:58.372542314Z"
    }
   }
  },
  {
   "cell_type": "code",
   "execution_count": 11,
   "outputs": [
    {
     "data": {
      "text/plain": "                                    AATF  ABCA1  ABCA3     ABCB1      ABL1  \\\nBPK.12x.4NQO_AAACCTGCACCCAGTG.1      NaN    NaN    NaN       NaN       NaN   \nBPK.12x.4NQO_AAACCTGCAGCTTAAC.1      NaN    NaN    NaN       NaN       NaN   \nBPK.12x.4NQO_AAACCTGGTGTGCGTC.1      NaN    NaN    NaN  0.156268       NaN   \nBPK.12x.4NQO_AAACCTGGTTGAACTC.1      NaN    NaN    NaN  2.028368  0.940686   \nBPK.12x.4NQO_AAACGGGAGGATGGTC.1      NaN    NaN    NaN  2.485067       NaN   \n...                                  ...    ...    ...       ...       ...   \nBPK.12x.vehicle_TTTGTCAGTTCTGAAC.1   NaN    NaN    NaN       NaN       NaN   \nBPK.12x.vehicle_TTTGTCATCAGGATCT.1   NaN    NaN    NaN  1.360978       NaN   \nBPK.12x.vehicle_TTTGTCATCATCATTC.1   NaN    NaN    NaN  1.324785       NaN   \nBPK.12x.vehicle_TTTGTCATCATGCATG.1   NaN    NaN    NaN  0.464960       NaN   \nBPK.12x.vehicle_TTTGTCATCTTGCATT.1   NaN    NaN    NaN  1.101958  0.936621   \n\n                                      ACTL6A  ADH1B      AGO1      AGO2  \\\nBPK.12x.4NQO_AAACCTGCACCCAGTG.1          NaN    NaN       NaN       NaN   \nBPK.12x.4NQO_AAACCTGCAGCTTAAC.1          NaN    NaN       NaN       NaN   \nBPK.12x.4NQO_AAACCTGGTGTGCGTC.1     0.038460    NaN       NaN       NaN   \nBPK.12x.4NQO_AAACCTGGTTGAACTC.1     0.243512    NaN  0.101357  0.101357   \nBPK.12x.4NQO_AAACGGGAGGATGGTC.1          NaN    NaN       NaN       NaN   \n...                                      ...    ...       ...       ...   \nBPK.12x.vehicle_TTTGTCAGTTCTGAAC.1  1.223699    NaN       NaN       NaN   \nBPK.12x.vehicle_TTTGTCATCAGGATCT.1  0.320536    NaN  0.211388  0.211388   \nBPK.12x.vehicle_TTTGTCATCATCATTC.1  3.432069    NaN       NaN       NaN   \nBPK.12x.vehicle_TTTGTCATCATGCATG.1  1.161712    NaN       NaN       NaN   \nBPK.12x.vehicle_TTTGTCATCTTGCATT.1  0.366321    NaN  1.686751  2.045311   \n\n                                        AGO3  ...  ZFHX3  ZFP36  ZHX2  \\\nBPK.12x.4NQO_AAACCTGCACCCAGTG.1          NaN  ...    NaN    NaN   NaN   \nBPK.12x.4NQO_AAACCTGCAGCTTAAC.1          NaN  ...    NaN    NaN   NaN   \nBPK.12x.4NQO_AAACCTGGTGTGCGTC.1          NaN  ...    NaN    NaN   NaN   \nBPK.12x.4NQO_AAACCTGGTTGAACTC.1     0.101357  ...    NaN    NaN   NaN   \nBPK.12x.4NQO_AAACGGGAGGATGGTC.1          NaN  ...    NaN    NaN   NaN   \n...                                      ...  ...    ...    ...   ...   \nBPK.12x.vehicle_TTTGTCAGTTCTGAAC.1       NaN  ...    NaN    NaN   NaN   \nBPK.12x.vehicle_TTTGTCATCAGGATCT.1  0.211388  ...    NaN    NaN   NaN   \nBPK.12x.vehicle_TTTGTCATCATCATTC.1       NaN  ...    NaN    NaN   NaN   \nBPK.12x.vehicle_TTTGTCATCATGCATG.1       NaN  ...    NaN    NaN   NaN   \nBPK.12x.vehicle_TTTGTCATCTTGCATT.1  1.686751  ...    NaN    NaN   NaN   \n\n                                        ZIC1  ZNF148  ZNF175     ZNF24  \\\nBPK.12x.4NQO_AAACCTGCACCCAGTG.1          NaN     NaN     NaN       NaN   \nBPK.12x.4NQO_AAACCTGCAGCTTAAC.1          NaN     NaN     NaN       NaN   \nBPK.12x.4NQO_AAACCTGGTGTGCGTC.1     0.337489     NaN     NaN       NaN   \nBPK.12x.4NQO_AAACCTGGTTGAACTC.1          NaN     NaN     NaN       NaN   \nBPK.12x.4NQO_AAACGGGAGGATGGTC.1     0.359049     NaN     NaN       NaN   \n...                                      ...     ...     ...       ...   \nBPK.12x.vehicle_TTTGTCAGTTCTGAAC.1       NaN     NaN     NaN       NaN   \nBPK.12x.vehicle_TTTGTCATCAGGATCT.1       NaN     NaN     NaN  0.215647   \nBPK.12x.vehicle_TTTGTCATCATCATTC.1       NaN     NaN     NaN       NaN   \nBPK.12x.vehicle_TTTGTCATCATGCATG.1       NaN     NaN     NaN  0.984222   \nBPK.12x.vehicle_TTTGTCATCTTGCATT.1       NaN     NaN     NaN       NaN   \n\n                                    ZNF300  ZNF350    ZNF382  \nBPK.12x.4NQO_AAACCTGCACCCAGTG.1        NaN     NaN       NaN  \nBPK.12x.4NQO_AAACCTGCAGCTTAAC.1        NaN     NaN  0.462242  \nBPK.12x.4NQO_AAACCTGGTGTGCGTC.1        NaN     NaN       NaN  \nBPK.12x.4NQO_AAACCTGGTTGAACTC.1        NaN     NaN  0.238752  \nBPK.12x.4NQO_AAACGGGAGGATGGTC.1        NaN     NaN  6.314428  \n...                                    ...     ...       ...  \nBPK.12x.vehicle_TTTGTCAGTTCTGAAC.1     NaN     NaN       NaN  \nBPK.12x.vehicle_TTTGTCATCAGGATCT.1     NaN     NaN  1.586992  \nBPK.12x.vehicle_TTTGTCATCATCATTC.1     NaN     NaN       NaN  \nBPK.12x.vehicle_TTTGTCATCATGCATG.1     NaN     NaN       NaN  \nBPK.12x.vehicle_TTTGTCATCTTGCATT.1     NaN     NaN  0.232121  \n\n[9089 rows x 690 columns]",
      "text/html": "<div>\n<style scoped>\n    .dataframe tbody tr th:only-of-type {\n        vertical-align: middle;\n    }\n\n    .dataframe tbody tr th {\n        vertical-align: top;\n    }\n\n    .dataframe thead th {\n        text-align: right;\n    }\n</style>\n<table border=\"1\" class=\"dataframe\">\n  <thead>\n    <tr style=\"text-align: right;\">\n      <th></th>\n      <th>AATF</th>\n      <th>ABCA1</th>\n      <th>ABCA3</th>\n      <th>ABCB1</th>\n      <th>ABL1</th>\n      <th>ACTL6A</th>\n      <th>ADH1B</th>\n      <th>AGO1</th>\n      <th>AGO2</th>\n      <th>AGO3</th>\n      <th>...</th>\n      <th>ZFHX3</th>\n      <th>ZFP36</th>\n      <th>ZHX2</th>\n      <th>ZIC1</th>\n      <th>ZNF148</th>\n      <th>ZNF175</th>\n      <th>ZNF24</th>\n      <th>ZNF300</th>\n      <th>ZNF350</th>\n      <th>ZNF382</th>\n    </tr>\n  </thead>\n  <tbody>\n    <tr>\n      <th>BPK.12x.4NQO_AAACCTGCACCCAGTG.1</th>\n      <td>NaN</td>\n      <td>NaN</td>\n      <td>NaN</td>\n      <td>NaN</td>\n      <td>NaN</td>\n      <td>NaN</td>\n      <td>NaN</td>\n      <td>NaN</td>\n      <td>NaN</td>\n      <td>NaN</td>\n      <td>...</td>\n      <td>NaN</td>\n      <td>NaN</td>\n      <td>NaN</td>\n      <td>NaN</td>\n      <td>NaN</td>\n      <td>NaN</td>\n      <td>NaN</td>\n      <td>NaN</td>\n      <td>NaN</td>\n      <td>NaN</td>\n    </tr>\n    <tr>\n      <th>BPK.12x.4NQO_AAACCTGCAGCTTAAC.1</th>\n      <td>NaN</td>\n      <td>NaN</td>\n      <td>NaN</td>\n      <td>NaN</td>\n      <td>NaN</td>\n      <td>NaN</td>\n      <td>NaN</td>\n      <td>NaN</td>\n      <td>NaN</td>\n      <td>NaN</td>\n      <td>...</td>\n      <td>NaN</td>\n      <td>NaN</td>\n      <td>NaN</td>\n      <td>NaN</td>\n      <td>NaN</td>\n      <td>NaN</td>\n      <td>NaN</td>\n      <td>NaN</td>\n      <td>NaN</td>\n      <td>0.462242</td>\n    </tr>\n    <tr>\n      <th>BPK.12x.4NQO_AAACCTGGTGTGCGTC.1</th>\n      <td>NaN</td>\n      <td>NaN</td>\n      <td>NaN</td>\n      <td>0.156268</td>\n      <td>NaN</td>\n      <td>0.038460</td>\n      <td>NaN</td>\n      <td>NaN</td>\n      <td>NaN</td>\n      <td>NaN</td>\n      <td>...</td>\n      <td>NaN</td>\n      <td>NaN</td>\n      <td>NaN</td>\n      <td>0.337489</td>\n      <td>NaN</td>\n      <td>NaN</td>\n      <td>NaN</td>\n      <td>NaN</td>\n      <td>NaN</td>\n      <td>NaN</td>\n    </tr>\n    <tr>\n      <th>BPK.12x.4NQO_AAACCTGGTTGAACTC.1</th>\n      <td>NaN</td>\n      <td>NaN</td>\n      <td>NaN</td>\n      <td>2.028368</td>\n      <td>0.940686</td>\n      <td>0.243512</td>\n      <td>NaN</td>\n      <td>0.101357</td>\n      <td>0.101357</td>\n      <td>0.101357</td>\n      <td>...</td>\n      <td>NaN</td>\n      <td>NaN</td>\n      <td>NaN</td>\n      <td>NaN</td>\n      <td>NaN</td>\n      <td>NaN</td>\n      <td>NaN</td>\n      <td>NaN</td>\n      <td>NaN</td>\n      <td>0.238752</td>\n    </tr>\n    <tr>\n      <th>BPK.12x.4NQO_AAACGGGAGGATGGTC.1</th>\n      <td>NaN</td>\n      <td>NaN</td>\n      <td>NaN</td>\n      <td>2.485067</td>\n      <td>NaN</td>\n      <td>NaN</td>\n      <td>NaN</td>\n      <td>NaN</td>\n      <td>NaN</td>\n      <td>NaN</td>\n      <td>...</td>\n      <td>NaN</td>\n      <td>NaN</td>\n      <td>NaN</td>\n      <td>0.359049</td>\n      <td>NaN</td>\n      <td>NaN</td>\n      <td>NaN</td>\n      <td>NaN</td>\n      <td>NaN</td>\n      <td>6.314428</td>\n    </tr>\n    <tr>\n      <th>...</th>\n      <td>...</td>\n      <td>...</td>\n      <td>...</td>\n      <td>...</td>\n      <td>...</td>\n      <td>...</td>\n      <td>...</td>\n      <td>...</td>\n      <td>...</td>\n      <td>...</td>\n      <td>...</td>\n      <td>...</td>\n      <td>...</td>\n      <td>...</td>\n      <td>...</td>\n      <td>...</td>\n      <td>...</td>\n      <td>...</td>\n      <td>...</td>\n      <td>...</td>\n      <td>...</td>\n    </tr>\n    <tr>\n      <th>BPK.12x.vehicle_TTTGTCAGTTCTGAAC.1</th>\n      <td>NaN</td>\n      <td>NaN</td>\n      <td>NaN</td>\n      <td>NaN</td>\n      <td>NaN</td>\n      <td>1.223699</td>\n      <td>NaN</td>\n      <td>NaN</td>\n      <td>NaN</td>\n      <td>NaN</td>\n      <td>...</td>\n      <td>NaN</td>\n      <td>NaN</td>\n      <td>NaN</td>\n      <td>NaN</td>\n      <td>NaN</td>\n      <td>NaN</td>\n      <td>NaN</td>\n      <td>NaN</td>\n      <td>NaN</td>\n      <td>NaN</td>\n    </tr>\n    <tr>\n      <th>BPK.12x.vehicle_TTTGTCATCAGGATCT.1</th>\n      <td>NaN</td>\n      <td>NaN</td>\n      <td>NaN</td>\n      <td>1.360978</td>\n      <td>NaN</td>\n      <td>0.320536</td>\n      <td>NaN</td>\n      <td>0.211388</td>\n      <td>0.211388</td>\n      <td>0.211388</td>\n      <td>...</td>\n      <td>NaN</td>\n      <td>NaN</td>\n      <td>NaN</td>\n      <td>NaN</td>\n      <td>NaN</td>\n      <td>NaN</td>\n      <td>0.215647</td>\n      <td>NaN</td>\n      <td>NaN</td>\n      <td>1.586992</td>\n    </tr>\n    <tr>\n      <th>BPK.12x.vehicle_TTTGTCATCATCATTC.1</th>\n      <td>NaN</td>\n      <td>NaN</td>\n      <td>NaN</td>\n      <td>1.324785</td>\n      <td>NaN</td>\n      <td>3.432069</td>\n      <td>NaN</td>\n      <td>NaN</td>\n      <td>NaN</td>\n      <td>NaN</td>\n      <td>...</td>\n      <td>NaN</td>\n      <td>NaN</td>\n      <td>NaN</td>\n      <td>NaN</td>\n      <td>NaN</td>\n      <td>NaN</td>\n      <td>NaN</td>\n      <td>NaN</td>\n      <td>NaN</td>\n      <td>NaN</td>\n    </tr>\n    <tr>\n      <th>BPK.12x.vehicle_TTTGTCATCATGCATG.1</th>\n      <td>NaN</td>\n      <td>NaN</td>\n      <td>NaN</td>\n      <td>0.464960</td>\n      <td>NaN</td>\n      <td>1.161712</td>\n      <td>NaN</td>\n      <td>NaN</td>\n      <td>NaN</td>\n      <td>NaN</td>\n      <td>...</td>\n      <td>NaN</td>\n      <td>NaN</td>\n      <td>NaN</td>\n      <td>NaN</td>\n      <td>NaN</td>\n      <td>NaN</td>\n      <td>0.984222</td>\n      <td>NaN</td>\n      <td>NaN</td>\n      <td>NaN</td>\n    </tr>\n    <tr>\n      <th>BPK.12x.vehicle_TTTGTCATCTTGCATT.1</th>\n      <td>NaN</td>\n      <td>NaN</td>\n      <td>NaN</td>\n      <td>1.101958</td>\n      <td>0.936621</td>\n      <td>0.366321</td>\n      <td>NaN</td>\n      <td>1.686751</td>\n      <td>2.045311</td>\n      <td>1.686751</td>\n      <td>...</td>\n      <td>NaN</td>\n      <td>NaN</td>\n      <td>NaN</td>\n      <td>NaN</td>\n      <td>NaN</td>\n      <td>NaN</td>\n      <td>NaN</td>\n      <td>NaN</td>\n      <td>NaN</td>\n      <td>0.232121</td>\n    </tr>\n  </tbody>\n</table>\n<p>9089 rows × 690 columns</p>\n</div>"
     },
     "execution_count": 11,
     "metadata": {},
     "output_type": "execute_result"
    }
   ],
   "source": [
    "lg = -np.log(np.abs(pV))\n",
    "lg"
   ],
   "metadata": {
    "collapsed": false,
    "ExecuteTime": {
     "end_time": "2023-06-22T19:45:39.482694457Z",
     "start_time": "2023-06-22T19:45:39.381354091Z"
    }
   }
  },
  {
   "cell_type": "code",
   "execution_count": 12,
   "outputs": [
    {
     "data": {
      "text/plain": "                                    AATF  ABCA1  ABCA3     ABCB1      ABL1  \\\nBPK.12x.4NQO_AAACCTGCACCCAGTG.1      NaN    NaN    NaN       NaN       NaN   \nBPK.12x.4NQO_AAACCTGCAGCTTAAC.1      NaN    NaN    NaN       NaN       NaN   \nBPK.12x.4NQO_AAACCTGGTGTGCGTC.1      NaN    NaN    NaN  0.156268       NaN   \nBPK.12x.4NQO_AAACCTGGTTGAACTC.1      NaN    NaN    NaN  2.028368 -0.940686   \nBPK.12x.4NQO_AAACGGGAGGATGGTC.1      NaN    NaN    NaN -2.485067       NaN   \n...                                  ...    ...    ...       ...       ...   \nBPK.12x.vehicle_TTTGTCAGTTCTGAAC.1   NaN    NaN    NaN       NaN       NaN   \nBPK.12x.vehicle_TTTGTCATCAGGATCT.1   NaN    NaN    NaN -1.360978       NaN   \nBPK.12x.vehicle_TTTGTCATCATCATTC.1   NaN    NaN    NaN -1.324785       NaN   \nBPK.12x.vehicle_TTTGTCATCATGCATG.1   NaN    NaN    NaN  0.464960       NaN   \nBPK.12x.vehicle_TTTGTCATCTTGCATT.1   NaN    NaN    NaN -1.101958 -0.936621   \n\n                                      ACTL6A  ADH1B      AGO1      AGO2  \\\nBPK.12x.4NQO_AAACCTGCACCCAGTG.1          NaN    NaN       NaN       NaN   \nBPK.12x.4NQO_AAACCTGCAGCTTAAC.1          NaN    NaN       NaN       NaN   \nBPK.12x.4NQO_AAACCTGGTGTGCGTC.1    -0.038460    NaN       NaN       NaN   \nBPK.12x.4NQO_AAACCTGGTTGAACTC.1    -0.243512    NaN -0.101357 -0.101357   \nBPK.12x.4NQO_AAACGGGAGGATGGTC.1          NaN    NaN       NaN       NaN   \n...                                      ...    ...       ...       ...   \nBPK.12x.vehicle_TTTGTCAGTTCTGAAC.1  1.223699    NaN       NaN       NaN   \nBPK.12x.vehicle_TTTGTCATCAGGATCT.1 -0.320536    NaN -0.211388 -0.211388   \nBPK.12x.vehicle_TTTGTCATCATCATTC.1 -3.432069    NaN       NaN       NaN   \nBPK.12x.vehicle_TTTGTCATCATGCATG.1 -1.161712    NaN       NaN       NaN   \nBPK.12x.vehicle_TTTGTCATCTTGCATT.1 -0.366321    NaN -1.686751 -2.045311   \n\n                                        AGO3  ...  ZFHX3  ZFP36  ZHX2  \\\nBPK.12x.4NQO_AAACCTGCACCCAGTG.1          NaN  ...    NaN    NaN   NaN   \nBPK.12x.4NQO_AAACCTGCAGCTTAAC.1          NaN  ...    NaN    NaN   NaN   \nBPK.12x.4NQO_AAACCTGGTGTGCGTC.1          NaN  ...    NaN    NaN   NaN   \nBPK.12x.4NQO_AAACCTGGTTGAACTC.1    -0.101357  ...    NaN    NaN   NaN   \nBPK.12x.4NQO_AAACGGGAGGATGGTC.1          NaN  ...    NaN    NaN   NaN   \n...                                      ...  ...    ...    ...   ...   \nBPK.12x.vehicle_TTTGTCAGTTCTGAAC.1       NaN  ...    NaN    NaN   NaN   \nBPK.12x.vehicle_TTTGTCATCAGGATCT.1 -0.211388  ...    NaN    NaN   NaN   \nBPK.12x.vehicle_TTTGTCATCATCATTC.1       NaN  ...    NaN    NaN   NaN   \nBPK.12x.vehicle_TTTGTCATCATGCATG.1       NaN  ...    NaN    NaN   NaN   \nBPK.12x.vehicle_TTTGTCATCTTGCATT.1 -1.686751  ...    NaN    NaN   NaN   \n\n                                        ZIC1  ZNF148  ZNF175     ZNF24  \\\nBPK.12x.4NQO_AAACCTGCACCCAGTG.1          NaN     NaN     NaN       NaN   \nBPK.12x.4NQO_AAACCTGCAGCTTAAC.1          NaN     NaN     NaN       NaN   \nBPK.12x.4NQO_AAACCTGGTGTGCGTC.1    -0.337489     NaN     NaN       NaN   \nBPK.12x.4NQO_AAACCTGGTTGAACTC.1          NaN     NaN     NaN       NaN   \nBPK.12x.4NQO_AAACGGGAGGATGGTC.1    -0.359049     NaN     NaN       NaN   \n...                                      ...     ...     ...       ...   \nBPK.12x.vehicle_TTTGTCAGTTCTGAAC.1       NaN     NaN     NaN       NaN   \nBPK.12x.vehicle_TTTGTCATCAGGATCT.1       NaN     NaN     NaN -0.215647   \nBPK.12x.vehicle_TTTGTCATCATCATTC.1       NaN     NaN     NaN       NaN   \nBPK.12x.vehicle_TTTGTCATCATGCATG.1       NaN     NaN     NaN -0.984222   \nBPK.12x.vehicle_TTTGTCATCTTGCATT.1       NaN     NaN     NaN       NaN   \n\n                                    ZNF300  ZNF350    ZNF382  \nBPK.12x.4NQO_AAACCTGCACCCAGTG.1        NaN     NaN       NaN  \nBPK.12x.4NQO_AAACCTGCAGCTTAAC.1        NaN     NaN -0.462242  \nBPK.12x.4NQO_AAACCTGGTGTGCGTC.1        NaN     NaN       NaN  \nBPK.12x.4NQO_AAACCTGGTTGAACTC.1        NaN     NaN -0.238752  \nBPK.12x.4NQO_AAACGGGAGGATGGTC.1        NaN     NaN  6.314428  \n...                                    ...     ...       ...  \nBPK.12x.vehicle_TTTGTCAGTTCTGAAC.1     NaN     NaN       NaN  \nBPK.12x.vehicle_TTTGTCATCAGGATCT.1     NaN     NaN  1.586992  \nBPK.12x.vehicle_TTTGTCATCATCATTC.1     NaN     NaN       NaN  \nBPK.12x.vehicle_TTTGTCATCATGCATG.1     NaN     NaN       NaN  \nBPK.12x.vehicle_TTTGTCATCTTGCATT.1     NaN     NaN  0.232121  \n\n[9089 rows x 690 columns]",
      "text/html": "<div>\n<style scoped>\n    .dataframe tbody tr th:only-of-type {\n        vertical-align: middle;\n    }\n\n    .dataframe tbody tr th {\n        vertical-align: top;\n    }\n\n    .dataframe thead th {\n        text-align: right;\n    }\n</style>\n<table border=\"1\" class=\"dataframe\">\n  <thead>\n    <tr style=\"text-align: right;\">\n      <th></th>\n      <th>AATF</th>\n      <th>ABCA1</th>\n      <th>ABCA3</th>\n      <th>ABCB1</th>\n      <th>ABL1</th>\n      <th>ACTL6A</th>\n      <th>ADH1B</th>\n      <th>AGO1</th>\n      <th>AGO2</th>\n      <th>AGO3</th>\n      <th>...</th>\n      <th>ZFHX3</th>\n      <th>ZFP36</th>\n      <th>ZHX2</th>\n      <th>ZIC1</th>\n      <th>ZNF148</th>\n      <th>ZNF175</th>\n      <th>ZNF24</th>\n      <th>ZNF300</th>\n      <th>ZNF350</th>\n      <th>ZNF382</th>\n    </tr>\n  </thead>\n  <tbody>\n    <tr>\n      <th>BPK.12x.4NQO_AAACCTGCACCCAGTG.1</th>\n      <td>NaN</td>\n      <td>NaN</td>\n      <td>NaN</td>\n      <td>NaN</td>\n      <td>NaN</td>\n      <td>NaN</td>\n      <td>NaN</td>\n      <td>NaN</td>\n      <td>NaN</td>\n      <td>NaN</td>\n      <td>...</td>\n      <td>NaN</td>\n      <td>NaN</td>\n      <td>NaN</td>\n      <td>NaN</td>\n      <td>NaN</td>\n      <td>NaN</td>\n      <td>NaN</td>\n      <td>NaN</td>\n      <td>NaN</td>\n      <td>NaN</td>\n    </tr>\n    <tr>\n      <th>BPK.12x.4NQO_AAACCTGCAGCTTAAC.1</th>\n      <td>NaN</td>\n      <td>NaN</td>\n      <td>NaN</td>\n      <td>NaN</td>\n      <td>NaN</td>\n      <td>NaN</td>\n      <td>NaN</td>\n      <td>NaN</td>\n      <td>NaN</td>\n      <td>NaN</td>\n      <td>...</td>\n      <td>NaN</td>\n      <td>NaN</td>\n      <td>NaN</td>\n      <td>NaN</td>\n      <td>NaN</td>\n      <td>NaN</td>\n      <td>NaN</td>\n      <td>NaN</td>\n      <td>NaN</td>\n      <td>-0.462242</td>\n    </tr>\n    <tr>\n      <th>BPK.12x.4NQO_AAACCTGGTGTGCGTC.1</th>\n      <td>NaN</td>\n      <td>NaN</td>\n      <td>NaN</td>\n      <td>0.156268</td>\n      <td>NaN</td>\n      <td>-0.038460</td>\n      <td>NaN</td>\n      <td>NaN</td>\n      <td>NaN</td>\n      <td>NaN</td>\n      <td>...</td>\n      <td>NaN</td>\n      <td>NaN</td>\n      <td>NaN</td>\n      <td>-0.337489</td>\n      <td>NaN</td>\n      <td>NaN</td>\n      <td>NaN</td>\n      <td>NaN</td>\n      <td>NaN</td>\n      <td>NaN</td>\n    </tr>\n    <tr>\n      <th>BPK.12x.4NQO_AAACCTGGTTGAACTC.1</th>\n      <td>NaN</td>\n      <td>NaN</td>\n      <td>NaN</td>\n      <td>2.028368</td>\n      <td>-0.940686</td>\n      <td>-0.243512</td>\n      <td>NaN</td>\n      <td>-0.101357</td>\n      <td>-0.101357</td>\n      <td>-0.101357</td>\n      <td>...</td>\n      <td>NaN</td>\n      <td>NaN</td>\n      <td>NaN</td>\n      <td>NaN</td>\n      <td>NaN</td>\n      <td>NaN</td>\n      <td>NaN</td>\n      <td>NaN</td>\n      <td>NaN</td>\n      <td>-0.238752</td>\n    </tr>\n    <tr>\n      <th>BPK.12x.4NQO_AAACGGGAGGATGGTC.1</th>\n      <td>NaN</td>\n      <td>NaN</td>\n      <td>NaN</td>\n      <td>-2.485067</td>\n      <td>NaN</td>\n      <td>NaN</td>\n      <td>NaN</td>\n      <td>NaN</td>\n      <td>NaN</td>\n      <td>NaN</td>\n      <td>...</td>\n      <td>NaN</td>\n      <td>NaN</td>\n      <td>NaN</td>\n      <td>-0.359049</td>\n      <td>NaN</td>\n      <td>NaN</td>\n      <td>NaN</td>\n      <td>NaN</td>\n      <td>NaN</td>\n      <td>6.314428</td>\n    </tr>\n    <tr>\n      <th>...</th>\n      <td>...</td>\n      <td>...</td>\n      <td>...</td>\n      <td>...</td>\n      <td>...</td>\n      <td>...</td>\n      <td>...</td>\n      <td>...</td>\n      <td>...</td>\n      <td>...</td>\n      <td>...</td>\n      <td>...</td>\n      <td>...</td>\n      <td>...</td>\n      <td>...</td>\n      <td>...</td>\n      <td>...</td>\n      <td>...</td>\n      <td>...</td>\n      <td>...</td>\n      <td>...</td>\n    </tr>\n    <tr>\n      <th>BPK.12x.vehicle_TTTGTCAGTTCTGAAC.1</th>\n      <td>NaN</td>\n      <td>NaN</td>\n      <td>NaN</td>\n      <td>NaN</td>\n      <td>NaN</td>\n      <td>1.223699</td>\n      <td>NaN</td>\n      <td>NaN</td>\n      <td>NaN</td>\n      <td>NaN</td>\n      <td>...</td>\n      <td>NaN</td>\n      <td>NaN</td>\n      <td>NaN</td>\n      <td>NaN</td>\n      <td>NaN</td>\n      <td>NaN</td>\n      <td>NaN</td>\n      <td>NaN</td>\n      <td>NaN</td>\n      <td>NaN</td>\n    </tr>\n    <tr>\n      <th>BPK.12x.vehicle_TTTGTCATCAGGATCT.1</th>\n      <td>NaN</td>\n      <td>NaN</td>\n      <td>NaN</td>\n      <td>-1.360978</td>\n      <td>NaN</td>\n      <td>-0.320536</td>\n      <td>NaN</td>\n      <td>-0.211388</td>\n      <td>-0.211388</td>\n      <td>-0.211388</td>\n      <td>...</td>\n      <td>NaN</td>\n      <td>NaN</td>\n      <td>NaN</td>\n      <td>NaN</td>\n      <td>NaN</td>\n      <td>NaN</td>\n      <td>-0.215647</td>\n      <td>NaN</td>\n      <td>NaN</td>\n      <td>1.586992</td>\n    </tr>\n    <tr>\n      <th>BPK.12x.vehicle_TTTGTCATCATCATTC.1</th>\n      <td>NaN</td>\n      <td>NaN</td>\n      <td>NaN</td>\n      <td>-1.324785</td>\n      <td>NaN</td>\n      <td>-3.432069</td>\n      <td>NaN</td>\n      <td>NaN</td>\n      <td>NaN</td>\n      <td>NaN</td>\n      <td>...</td>\n      <td>NaN</td>\n      <td>NaN</td>\n      <td>NaN</td>\n      <td>NaN</td>\n      <td>NaN</td>\n      <td>NaN</td>\n      <td>NaN</td>\n      <td>NaN</td>\n      <td>NaN</td>\n      <td>NaN</td>\n    </tr>\n    <tr>\n      <th>BPK.12x.vehicle_TTTGTCATCATGCATG.1</th>\n      <td>NaN</td>\n      <td>NaN</td>\n      <td>NaN</td>\n      <td>0.464960</td>\n      <td>NaN</td>\n      <td>-1.161712</td>\n      <td>NaN</td>\n      <td>NaN</td>\n      <td>NaN</td>\n      <td>NaN</td>\n      <td>...</td>\n      <td>NaN</td>\n      <td>NaN</td>\n      <td>NaN</td>\n      <td>NaN</td>\n      <td>NaN</td>\n      <td>NaN</td>\n      <td>-0.984222</td>\n      <td>NaN</td>\n      <td>NaN</td>\n      <td>NaN</td>\n    </tr>\n    <tr>\n      <th>BPK.12x.vehicle_TTTGTCATCTTGCATT.1</th>\n      <td>NaN</td>\n      <td>NaN</td>\n      <td>NaN</td>\n      <td>-1.101958</td>\n      <td>-0.936621</td>\n      <td>-0.366321</td>\n      <td>NaN</td>\n      <td>-1.686751</td>\n      <td>-2.045311</td>\n      <td>-1.686751</td>\n      <td>...</td>\n      <td>NaN</td>\n      <td>NaN</td>\n      <td>NaN</td>\n      <td>NaN</td>\n      <td>NaN</td>\n      <td>NaN</td>\n      <td>NaN</td>\n      <td>NaN</td>\n      <td>NaN</td>\n      <td>0.232121</td>\n    </tr>\n  </tbody>\n</table>\n<p>9089 rows × 690 columns</p>\n</div>"
     },
     "execution_count": 12,
     "metadata": {},
     "output_type": "execute_result"
    }
   ],
   "source": [
    "yy = lg * tt\n",
    "yy"
   ],
   "metadata": {
    "collapsed": false,
    "ExecuteTime": {
     "end_time": "2023-06-22T19:45:51.571434707Z",
     "start_time": "2023-06-22T19:45:51.510587170Z"
    }
   }
  },
  {
   "cell_type": "code",
   "execution_count": null,
   "outputs": [],
   "source": [],
   "metadata": {
    "collapsed": false
   }
  }
 ],
 "metadata": {
  "kernelspec": {
   "display_name": "Python 3",
   "language": "python",
   "name": "python3"
  },
  "language_info": {
   "codemirror_mode": {
    "name": "ipython",
    "version": 3
   },
   "file_extension": ".py",
   "mimetype": "text/x-python",
   "name": "python",
   "nbconvert_exporter": "python",
   "pygments_lexer": "ipython3",
   "version": "3.10.8"
  }
 },
 "nbformat": 4,
 "nbformat_minor": 0
}
