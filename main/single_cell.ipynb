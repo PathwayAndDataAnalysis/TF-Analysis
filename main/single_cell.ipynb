{
 "cells": [
  {
   "cell_type": "code",
   "execution_count": 70,
   "outputs": [],
   "source": [
    "import sys\n",
    "from timeit import default_timer as timer\n",
    "import numpy as np\n",
    "import pandas as pd\n",
    "from scipy.stats import zscore"
   ],
   "metadata": {
    "collapsed": false,
    "ExecuteTime": {
     "end_time": "2023-06-01T18:48:08.766537497Z",
     "start_time": "2023-06-01T18:48:08.752470913Z"
    }
   }
  },
  {
   "cell_type": "code",
   "execution_count": 71,
   "outputs": [],
   "source": [
    "def read_file(file_name: str):\n",
    "    \"\"\"\n",
    "    :param file_name: File path of causal-priors or differential-exp file\n",
    "    :return: Dataframe of causal-priors or differential-exp file\n",
    "    \"\"\"\n",
    "    try:\n",
    "        # Read the file in transposed form\n",
    "        df = pd.read_csv(file_name, sep='\\t', header=0, index_col=0).T\n",
    "        # df = pd.read_csv(file_name, sep='\\t')\n",
    "        return df\n",
    "    except Exception as e:\n",
    "        print(f'Error in reading file {file_name}')\n",
    "        print(e)\n",
    "        sys.exit(1)\n"
   ],
   "metadata": {
    "collapsed": false,
    "ExecuteTime": {
     "end_time": "2023-06-01T18:48:11.967347362Z",
     "start_time": "2023-06-01T18:48:11.954635996Z"
    }
   }
  },
  {
   "cell_type": "code",
   "execution_count": 72,
   "outputs": [
    {
     "data": {
      "text/plain": "                                 Xkr4  Sox17  Mrpl15    Lypla1  Tcea1  Rgs20  \\\nBPK.12x.4NQO_AAACCTGCACCCAGTG.1   0.0    0.0     0.0  0.000000    0.0    0.0   \nBPK.12x.4NQO_AAACCTGCAGCTTAAC.1   0.0    0.0     0.0  0.000000    0.0    0.0   \nBPK.12x.4NQO_AAACCTGGTGTGCGTC.1   0.0    0.0     0.0  0.777323    0.0    0.0   \nBPK.12x.4NQO_AAACCTGGTTGAACTC.1   0.0    0.0     0.0  0.000000    0.0    0.0   \nBPK.12x.4NQO_AAACGGGAGGATGGTC.1   0.0    0.0     0.0  1.202458    0.0    0.0   \n\n                                  Atp6v1h    Rb1cc1  4732440D04Rik    Pcmtd1  \\\nBPK.12x.4NQO_AAACCTGCACCCAGTG.1  0.000000  0.000000            0.0  0.000000   \nBPK.12x.4NQO_AAACCTGCAGCTTAAC.1  0.000000  0.000000            0.0  0.000000   \nBPK.12x.4NQO_AAACCTGGTGTGCGTC.1  0.777323  0.000000            0.0  0.000000   \nBPK.12x.4NQO_AAACCTGGTTGAACTC.1  0.000000  0.000000            0.0  0.794018   \nBPK.12x.4NQO_AAACGGGAGGATGGTC.1  0.000000  1.202458            0.0  0.000000   \n\n                                 ...  Gm27151  D930032P07Rik  Cnnm1  Pkd2l1  \\\nBPK.12x.4NQO_AAACCTGCACCCAGTG.1  ...      0.0            0.0    0.0     0.0   \nBPK.12x.4NQO_AAACCTGCAGCTTAAC.1  ...      0.0            0.0    0.0     0.0   \nBPK.12x.4NQO_AAACCTGGTGTGCGTC.1  ...      0.0            0.0    0.0     0.0   \nBPK.12x.4NQO_AAACCTGGTTGAACTC.1  ...      0.0            0.0    0.0     0.0   \nBPK.12x.4NQO_AAACGGGAGGATGGTC.1  ...      0.0            0.0    0.0     0.0   \n\n                                 Scd4  Elovl3  Sorcs3  Nrap  Pnliprp1  Eno4  \nBPK.12x.4NQO_AAACCTGCACCCAGTG.1   0.0     0.0     0.0   0.0       0.0   0.0  \nBPK.12x.4NQO_AAACCTGCAGCTTAAC.1   0.0     0.0     0.0   0.0       0.0   0.0  \nBPK.12x.4NQO_AAACCTGGTGTGCGTC.1   0.0     0.0     0.0   0.0       0.0   0.0  \nBPK.12x.4NQO_AAACCTGGTTGAACTC.1   0.0     0.0     0.0   0.0       0.0   0.0  \nBPK.12x.4NQO_AAACGGGAGGATGGTC.1   0.0     0.0     0.0   0.0       0.0   0.0  \n\n[5 rows x 17506 columns]",
      "text/html": "<div>\n<style scoped>\n    .dataframe tbody tr th:only-of-type {\n        vertical-align: middle;\n    }\n\n    .dataframe tbody tr th {\n        vertical-align: top;\n    }\n\n    .dataframe thead th {\n        text-align: right;\n    }\n</style>\n<table border=\"1\" class=\"dataframe\">\n  <thead>\n    <tr style=\"text-align: right;\">\n      <th></th>\n      <th>Xkr4</th>\n      <th>Sox17</th>\n      <th>Mrpl15</th>\n      <th>Lypla1</th>\n      <th>Tcea1</th>\n      <th>Rgs20</th>\n      <th>Atp6v1h</th>\n      <th>Rb1cc1</th>\n      <th>4732440D04Rik</th>\n      <th>Pcmtd1</th>\n      <th>...</th>\n      <th>Gm27151</th>\n      <th>D930032P07Rik</th>\n      <th>Cnnm1</th>\n      <th>Pkd2l1</th>\n      <th>Scd4</th>\n      <th>Elovl3</th>\n      <th>Sorcs3</th>\n      <th>Nrap</th>\n      <th>Pnliprp1</th>\n      <th>Eno4</th>\n    </tr>\n  </thead>\n  <tbody>\n    <tr>\n      <th>BPK.12x.4NQO_AAACCTGCACCCAGTG.1</th>\n      <td>0.0</td>\n      <td>0.0</td>\n      <td>0.0</td>\n      <td>0.000000</td>\n      <td>0.0</td>\n      <td>0.0</td>\n      <td>0.000000</td>\n      <td>0.000000</td>\n      <td>0.0</td>\n      <td>0.000000</td>\n      <td>...</td>\n      <td>0.0</td>\n      <td>0.0</td>\n      <td>0.0</td>\n      <td>0.0</td>\n      <td>0.0</td>\n      <td>0.0</td>\n      <td>0.0</td>\n      <td>0.0</td>\n      <td>0.0</td>\n      <td>0.0</td>\n    </tr>\n    <tr>\n      <th>BPK.12x.4NQO_AAACCTGCAGCTTAAC.1</th>\n      <td>0.0</td>\n      <td>0.0</td>\n      <td>0.0</td>\n      <td>0.000000</td>\n      <td>0.0</td>\n      <td>0.0</td>\n      <td>0.000000</td>\n      <td>0.000000</td>\n      <td>0.0</td>\n      <td>0.000000</td>\n      <td>...</td>\n      <td>0.0</td>\n      <td>0.0</td>\n      <td>0.0</td>\n      <td>0.0</td>\n      <td>0.0</td>\n      <td>0.0</td>\n      <td>0.0</td>\n      <td>0.0</td>\n      <td>0.0</td>\n      <td>0.0</td>\n    </tr>\n    <tr>\n      <th>BPK.12x.4NQO_AAACCTGGTGTGCGTC.1</th>\n      <td>0.0</td>\n      <td>0.0</td>\n      <td>0.0</td>\n      <td>0.777323</td>\n      <td>0.0</td>\n      <td>0.0</td>\n      <td>0.777323</td>\n      <td>0.000000</td>\n      <td>0.0</td>\n      <td>0.000000</td>\n      <td>...</td>\n      <td>0.0</td>\n      <td>0.0</td>\n      <td>0.0</td>\n      <td>0.0</td>\n      <td>0.0</td>\n      <td>0.0</td>\n      <td>0.0</td>\n      <td>0.0</td>\n      <td>0.0</td>\n      <td>0.0</td>\n    </tr>\n    <tr>\n      <th>BPK.12x.4NQO_AAACCTGGTTGAACTC.1</th>\n      <td>0.0</td>\n      <td>0.0</td>\n      <td>0.0</td>\n      <td>0.000000</td>\n      <td>0.0</td>\n      <td>0.0</td>\n      <td>0.000000</td>\n      <td>0.000000</td>\n      <td>0.0</td>\n      <td>0.794018</td>\n      <td>...</td>\n      <td>0.0</td>\n      <td>0.0</td>\n      <td>0.0</td>\n      <td>0.0</td>\n      <td>0.0</td>\n      <td>0.0</td>\n      <td>0.0</td>\n      <td>0.0</td>\n      <td>0.0</td>\n      <td>0.0</td>\n    </tr>\n    <tr>\n      <th>BPK.12x.4NQO_AAACGGGAGGATGGTC.1</th>\n      <td>0.0</td>\n      <td>0.0</td>\n      <td>0.0</td>\n      <td>1.202458</td>\n      <td>0.0</td>\n      <td>0.0</td>\n      <td>0.000000</td>\n      <td>1.202458</td>\n      <td>0.0</td>\n      <td>0.000000</td>\n      <td>...</td>\n      <td>0.0</td>\n      <td>0.0</td>\n      <td>0.0</td>\n      <td>0.0</td>\n      <td>0.0</td>\n      <td>0.0</td>\n      <td>0.0</td>\n      <td>0.0</td>\n      <td>0.0</td>\n      <td>0.0</td>\n    </tr>\n  </tbody>\n</table>\n<p>5 rows × 17506 columns</p>\n</div>"
     },
     "execution_count": 72,
     "metadata": {},
     "output_type": "execute_result"
    }
   ],
   "source": [
    "single_cell_file = '../data/normalized_mat.tsv'\n",
    "main_df = read_file(single_cell_file)\n",
    "\n",
    "main_df.head()"
   ],
   "metadata": {
    "collapsed": false,
    "ExecuteTime": {
     "end_time": "2023-06-01T18:48:41.264533130Z",
     "start_time": "2023-06-01T18:48:14.656692154Z"
    }
   }
  },
  {
   "cell_type": "code",
   "execution_count": 115,
   "outputs": [
    {
     "data": {
      "text/plain": "(9089, 17506)"
     },
     "execution_count": 115,
     "metadata": {},
     "output_type": "execute_result"
    }
   ],
   "source": [
    "single_df = main_df.copy()\n",
    "single_df.shape"
   ],
   "metadata": {
    "collapsed": false,
    "ExecuteTime": {
     "end_time": "2023-06-01T19:07:02.317192833Z",
     "start_time": "2023-06-01T19:07:01.797899912Z"
    }
   }
  },
  {
   "cell_type": "code",
   "execution_count": 116,
   "outputs": [],
   "source": [
    "# Replace 0 with NaN\n",
    "single_df = single_df.replace(0, np.NaN)\n",
    "\n",
    "z_single_df = single_df.apply(zscore, axis=0, nan_policy='omit')"
   ],
   "metadata": {
    "collapsed": false,
    "ExecuteTime": {
     "end_time": "2023-06-01T19:07:22.407226664Z",
     "start_time": "2023-06-01T19:07:05.192207337Z"
    }
   }
  },
  {
   "cell_type": "code",
   "execution_count": 117,
   "outputs": [
    {
     "data": {
      "text/plain": "                                 Xkr4  Sox17    Mrpl15    Lypla1     Tcea1  \\\nBPK.12x.4NQO_AAACCTGCACCCAGTG.1   NaN    NaN       NaN       NaN       NaN   \nBPK.12x.4NQO_AAACCTGCAGCTTAAC.1   NaN    NaN       NaN       NaN       NaN   \nBPK.12x.4NQO_AAACCTGGTGTGCGTC.1   NaN    NaN       NaN  0.124920       NaN   \nBPK.12x.4NQO_AAACCTGGTTGAACTC.1   NaN    NaN       NaN       NaN       NaN   \nBPK.12x.4NQO_AAACGGGAGGATGGTC.1   NaN    NaN       NaN  1.250153       NaN   \nBPK.12x.4NQO_AAACGGGAGGGCTCTC.1   NaN    NaN       NaN       NaN       NaN   \nBPK.12x.4NQO_AAACGGGAGTAACCCT.1   NaN    NaN  0.502048       NaN       NaN   \nBPK.12x.4NQO_AAACGGGCATGGGACA.1   NaN    NaN       NaN       NaN       NaN   \nBPK.12x.4NQO_AAACGGGGTCTGCAAT.1   NaN    NaN       NaN       NaN  0.475916   \nBPK.12x.4NQO_AAACGGGTCAATCTCT.1   NaN    NaN       NaN       NaN  0.396412   \n\n                                 Rgs20   Atp6v1h   Rb1cc1  4732440D04Rik  \\\nBPK.12x.4NQO_AAACCTGCACCCAGTG.1    NaN       NaN      NaN            NaN   \nBPK.12x.4NQO_AAACCTGCAGCTTAAC.1    NaN       NaN      NaN            NaN   \nBPK.12x.4NQO_AAACCTGGTGTGCGTC.1    NaN  0.134734      NaN            NaN   \nBPK.12x.4NQO_AAACCTGGTTGAACTC.1    NaN       NaN      NaN            NaN   \nBPK.12x.4NQO_AAACGGGAGGATGGTC.1    NaN       NaN  0.86804            NaN   \nBPK.12x.4NQO_AAACGGGAGGGCTCTC.1    NaN       NaN      NaN            NaN   \nBPK.12x.4NQO_AAACGGGAGTAACCCT.1    NaN       NaN      NaN            NaN   \nBPK.12x.4NQO_AAACGGGCATGGGACA.1    NaN       NaN      NaN            NaN   \nBPK.12x.4NQO_AAACGGGGTCTGCAAT.1    NaN       NaN      NaN            NaN   \nBPK.12x.4NQO_AAACGGGTCAATCTCT.1    NaN       NaN -0.41347            NaN   \n\n                                   Pcmtd1  ...  Gm27151  D930032P07Rik  Cnnm1  \\\nBPK.12x.4NQO_AAACCTGCACCCAGTG.1       NaN  ...      NaN            NaN    NaN   \nBPK.12x.4NQO_AAACCTGCAGCTTAAC.1       NaN  ...      NaN            NaN    NaN   \nBPK.12x.4NQO_AAACCTGGTGTGCGTC.1       NaN  ...      NaN            NaN    NaN   \nBPK.12x.4NQO_AAACCTGGTTGAACTC.1 -0.048023  ...      NaN            NaN    NaN   \nBPK.12x.4NQO_AAACGGGAGGATGGTC.1       NaN  ...      NaN            NaN    NaN   \nBPK.12x.4NQO_AAACGGGAGGGCTCTC.1       NaN  ...      NaN            NaN    NaN   \nBPK.12x.4NQO_AAACGGGAGTAACCCT.1       NaN  ...      NaN            NaN    NaN   \nBPK.12x.4NQO_AAACGGGCATGGGACA.1       NaN  ...      NaN            NaN    NaN   \nBPK.12x.4NQO_AAACGGGGTCTGCAAT.1       NaN  ...      NaN            NaN    NaN   \nBPK.12x.4NQO_AAACGGGTCAATCTCT.1       NaN  ...      NaN            NaN    NaN   \n\n                                 Pkd2l1  Scd4  Elovl3  Sorcs3  Nrap  Pnliprp1  \\\nBPK.12x.4NQO_AAACCTGCACCCAGTG.1     NaN   NaN     NaN     NaN   NaN       NaN   \nBPK.12x.4NQO_AAACCTGCAGCTTAAC.1     NaN   NaN     NaN     NaN   NaN       NaN   \nBPK.12x.4NQO_AAACCTGGTGTGCGTC.1     NaN   NaN     NaN     NaN   NaN       NaN   \nBPK.12x.4NQO_AAACCTGGTTGAACTC.1     NaN   NaN     NaN     NaN   NaN       NaN   \nBPK.12x.4NQO_AAACGGGAGGATGGTC.1     NaN   NaN     NaN     NaN   NaN       NaN   \nBPK.12x.4NQO_AAACGGGAGGGCTCTC.1     NaN   NaN     NaN     NaN   NaN       NaN   \nBPK.12x.4NQO_AAACGGGAGTAACCCT.1     NaN   NaN     NaN     NaN   NaN       NaN   \nBPK.12x.4NQO_AAACGGGCATGGGACA.1     NaN   NaN     NaN     NaN   NaN       NaN   \nBPK.12x.4NQO_AAACGGGGTCTGCAAT.1     NaN   NaN     NaN     NaN   NaN       NaN   \nBPK.12x.4NQO_AAACGGGTCAATCTCT.1     NaN   NaN     NaN     NaN   NaN       NaN   \n\n                                 Eno4  \nBPK.12x.4NQO_AAACCTGCACCCAGTG.1   NaN  \nBPK.12x.4NQO_AAACCTGCAGCTTAAC.1   NaN  \nBPK.12x.4NQO_AAACCTGGTGTGCGTC.1   NaN  \nBPK.12x.4NQO_AAACCTGGTTGAACTC.1   NaN  \nBPK.12x.4NQO_AAACGGGAGGATGGTC.1   NaN  \nBPK.12x.4NQO_AAACGGGAGGGCTCTC.1   NaN  \nBPK.12x.4NQO_AAACGGGAGTAACCCT.1   NaN  \nBPK.12x.4NQO_AAACGGGCATGGGACA.1   NaN  \nBPK.12x.4NQO_AAACGGGGTCTGCAAT.1   NaN  \nBPK.12x.4NQO_AAACGGGTCAATCTCT.1   NaN  \n\n[10 rows x 17506 columns]",
      "text/html": "<div>\n<style scoped>\n    .dataframe tbody tr th:only-of-type {\n        vertical-align: middle;\n    }\n\n    .dataframe tbody tr th {\n        vertical-align: top;\n    }\n\n    .dataframe thead th {\n        text-align: right;\n    }\n</style>\n<table border=\"1\" class=\"dataframe\">\n  <thead>\n    <tr style=\"text-align: right;\">\n      <th></th>\n      <th>Xkr4</th>\n      <th>Sox17</th>\n      <th>Mrpl15</th>\n      <th>Lypla1</th>\n      <th>Tcea1</th>\n      <th>Rgs20</th>\n      <th>Atp6v1h</th>\n      <th>Rb1cc1</th>\n      <th>4732440D04Rik</th>\n      <th>Pcmtd1</th>\n      <th>...</th>\n      <th>Gm27151</th>\n      <th>D930032P07Rik</th>\n      <th>Cnnm1</th>\n      <th>Pkd2l1</th>\n      <th>Scd4</th>\n      <th>Elovl3</th>\n      <th>Sorcs3</th>\n      <th>Nrap</th>\n      <th>Pnliprp1</th>\n      <th>Eno4</th>\n    </tr>\n  </thead>\n  <tbody>\n    <tr>\n      <th>BPK.12x.4NQO_AAACCTGCACCCAGTG.1</th>\n      <td>NaN</td>\n      <td>NaN</td>\n      <td>NaN</td>\n      <td>NaN</td>\n      <td>NaN</td>\n      <td>NaN</td>\n      <td>NaN</td>\n      <td>NaN</td>\n      <td>NaN</td>\n      <td>NaN</td>\n      <td>...</td>\n      <td>NaN</td>\n      <td>NaN</td>\n      <td>NaN</td>\n      <td>NaN</td>\n      <td>NaN</td>\n      <td>NaN</td>\n      <td>NaN</td>\n      <td>NaN</td>\n      <td>NaN</td>\n      <td>NaN</td>\n    </tr>\n    <tr>\n      <th>BPK.12x.4NQO_AAACCTGCAGCTTAAC.1</th>\n      <td>NaN</td>\n      <td>NaN</td>\n      <td>NaN</td>\n      <td>NaN</td>\n      <td>NaN</td>\n      <td>NaN</td>\n      <td>NaN</td>\n      <td>NaN</td>\n      <td>NaN</td>\n      <td>NaN</td>\n      <td>...</td>\n      <td>NaN</td>\n      <td>NaN</td>\n      <td>NaN</td>\n      <td>NaN</td>\n      <td>NaN</td>\n      <td>NaN</td>\n      <td>NaN</td>\n      <td>NaN</td>\n      <td>NaN</td>\n      <td>NaN</td>\n    </tr>\n    <tr>\n      <th>BPK.12x.4NQO_AAACCTGGTGTGCGTC.1</th>\n      <td>NaN</td>\n      <td>NaN</td>\n      <td>NaN</td>\n      <td>0.124920</td>\n      <td>NaN</td>\n      <td>NaN</td>\n      <td>0.134734</td>\n      <td>NaN</td>\n      <td>NaN</td>\n      <td>NaN</td>\n      <td>...</td>\n      <td>NaN</td>\n      <td>NaN</td>\n      <td>NaN</td>\n      <td>NaN</td>\n      <td>NaN</td>\n      <td>NaN</td>\n      <td>NaN</td>\n      <td>NaN</td>\n      <td>NaN</td>\n      <td>NaN</td>\n    </tr>\n    <tr>\n      <th>BPK.12x.4NQO_AAACCTGGTTGAACTC.1</th>\n      <td>NaN</td>\n      <td>NaN</td>\n      <td>NaN</td>\n      <td>NaN</td>\n      <td>NaN</td>\n      <td>NaN</td>\n      <td>NaN</td>\n      <td>NaN</td>\n      <td>NaN</td>\n      <td>-0.048023</td>\n      <td>...</td>\n      <td>NaN</td>\n      <td>NaN</td>\n      <td>NaN</td>\n      <td>NaN</td>\n      <td>NaN</td>\n      <td>NaN</td>\n      <td>NaN</td>\n      <td>NaN</td>\n      <td>NaN</td>\n      <td>NaN</td>\n    </tr>\n    <tr>\n      <th>BPK.12x.4NQO_AAACGGGAGGATGGTC.1</th>\n      <td>NaN</td>\n      <td>NaN</td>\n      <td>NaN</td>\n      <td>1.250153</td>\n      <td>NaN</td>\n      <td>NaN</td>\n      <td>NaN</td>\n      <td>0.86804</td>\n      <td>NaN</td>\n      <td>NaN</td>\n      <td>...</td>\n      <td>NaN</td>\n      <td>NaN</td>\n      <td>NaN</td>\n      <td>NaN</td>\n      <td>NaN</td>\n      <td>NaN</td>\n      <td>NaN</td>\n      <td>NaN</td>\n      <td>NaN</td>\n      <td>NaN</td>\n    </tr>\n    <tr>\n      <th>BPK.12x.4NQO_AAACGGGAGGGCTCTC.1</th>\n      <td>NaN</td>\n      <td>NaN</td>\n      <td>NaN</td>\n      <td>NaN</td>\n      <td>NaN</td>\n      <td>NaN</td>\n      <td>NaN</td>\n      <td>NaN</td>\n      <td>NaN</td>\n      <td>NaN</td>\n      <td>...</td>\n      <td>NaN</td>\n      <td>NaN</td>\n      <td>NaN</td>\n      <td>NaN</td>\n      <td>NaN</td>\n      <td>NaN</td>\n      <td>NaN</td>\n      <td>NaN</td>\n      <td>NaN</td>\n      <td>NaN</td>\n    </tr>\n    <tr>\n      <th>BPK.12x.4NQO_AAACGGGAGTAACCCT.1</th>\n      <td>NaN</td>\n      <td>NaN</td>\n      <td>0.502048</td>\n      <td>NaN</td>\n      <td>NaN</td>\n      <td>NaN</td>\n      <td>NaN</td>\n      <td>NaN</td>\n      <td>NaN</td>\n      <td>NaN</td>\n      <td>...</td>\n      <td>NaN</td>\n      <td>NaN</td>\n      <td>NaN</td>\n      <td>NaN</td>\n      <td>NaN</td>\n      <td>NaN</td>\n      <td>NaN</td>\n      <td>NaN</td>\n      <td>NaN</td>\n      <td>NaN</td>\n    </tr>\n    <tr>\n      <th>BPK.12x.4NQO_AAACGGGCATGGGACA.1</th>\n      <td>NaN</td>\n      <td>NaN</td>\n      <td>NaN</td>\n      <td>NaN</td>\n      <td>NaN</td>\n      <td>NaN</td>\n      <td>NaN</td>\n      <td>NaN</td>\n      <td>NaN</td>\n      <td>NaN</td>\n      <td>...</td>\n      <td>NaN</td>\n      <td>NaN</td>\n      <td>NaN</td>\n      <td>NaN</td>\n      <td>NaN</td>\n      <td>NaN</td>\n      <td>NaN</td>\n      <td>NaN</td>\n      <td>NaN</td>\n      <td>NaN</td>\n    </tr>\n    <tr>\n      <th>BPK.12x.4NQO_AAACGGGGTCTGCAAT.1</th>\n      <td>NaN</td>\n      <td>NaN</td>\n      <td>NaN</td>\n      <td>NaN</td>\n      <td>0.475916</td>\n      <td>NaN</td>\n      <td>NaN</td>\n      <td>NaN</td>\n      <td>NaN</td>\n      <td>NaN</td>\n      <td>...</td>\n      <td>NaN</td>\n      <td>NaN</td>\n      <td>NaN</td>\n      <td>NaN</td>\n      <td>NaN</td>\n      <td>NaN</td>\n      <td>NaN</td>\n      <td>NaN</td>\n      <td>NaN</td>\n      <td>NaN</td>\n    </tr>\n    <tr>\n      <th>BPK.12x.4NQO_AAACGGGTCAATCTCT.1</th>\n      <td>NaN</td>\n      <td>NaN</td>\n      <td>NaN</td>\n      <td>NaN</td>\n      <td>0.396412</td>\n      <td>NaN</td>\n      <td>NaN</td>\n      <td>-0.41347</td>\n      <td>NaN</td>\n      <td>NaN</td>\n      <td>...</td>\n      <td>NaN</td>\n      <td>NaN</td>\n      <td>NaN</td>\n      <td>NaN</td>\n      <td>NaN</td>\n      <td>NaN</td>\n      <td>NaN</td>\n      <td>NaN</td>\n      <td>NaN</td>\n      <td>NaN</td>\n    </tr>\n  </tbody>\n</table>\n<p>10 rows × 17506 columns</p>\n</div>"
     },
     "execution_count": 117,
     "metadata": {},
     "output_type": "execute_result"
    }
   ],
   "source": [
    "z_single_df.head(10)"
   ],
   "metadata": {
    "collapsed": false,
    "ExecuteTime": {
     "end_time": "2023-06-01T19:07:32.870338358Z",
     "start_time": "2023-06-01T19:07:32.827441526Z"
    }
   }
  },
  {
   "cell_type": "code",
   "execution_count": 120,
   "outputs": [
    {
     "data": {
      "text/plain": "(1042,)"
     },
     "execution_count": 120,
     "metadata": {},
     "output_type": "execute_result"
    }
   ],
   "source": [
    "# Get the first row\n",
    "first_row = single_df.iloc[0, :]\n",
    "\n",
    "# Remove NaN\n",
    "first_row = first_row.dropna()\n",
    "\n",
    "first_row.shape"
   ],
   "metadata": {
    "collapsed": false,
    "ExecuteTime": {
     "end_time": "2023-06-01T19:09:39.451273012Z",
     "start_time": "2023-06-01T19:09:39.443413965Z"
    }
   }
  },
  {
   "cell_type": "code",
   "execution_count": 123,
   "outputs": [
    {
     "name": "stdout",
     "output_type": "stream",
     "text": [
      "BPK.12x.4NQO_AAACCTGCACCCAGTG.1\n",
      "Snhg6      1.879656\n",
      "Arfgef1    2.143150\n",
      "Rpl7       1.023823\n",
      "Fam135a    2.847266\n",
      "Phf3       1.834056\n",
      "             ...   \n",
      "mt-Nd3     1.271309\n",
      "mt-Nd4l    1.046616\n",
      "mt-Nd4     0.998091\n",
      "mt-Nd5     0.575517\n",
      "mt-Cytb   -0.270252\n",
      "Name: BPK.12x.4NQO_AAACCTGCACCCAGTG.1, Length: 1042, dtype: float64\n"
     ]
    }
   ],
   "source": [
    "for idx, row in z_single_df.iterrows():\n",
    "    print(idx)\n",
    "    # drop NaN\n",
    "    row = row.dropna()\n",
    "    print(row)\n",
    "    break"
   ],
   "metadata": {
    "collapsed": false,
    "ExecuteTime": {
     "end_time": "2023-06-01T19:22:55.126307909Z",
     "start_time": "2023-06-01T19:22:55.083988463Z"
    }
   }
  },
  {
   "cell_type": "code",
   "execution_count": 111,
   "outputs": [
    {
     "data": {
      "text/plain": "                                 Xkr4  Sox17    Mrpl15    Lypla1     Tcea1  \\\nBPK.12x.4NQO_AAACCTGCACCCAGTG.1   NaN    NaN       NaN       NaN       NaN   \nBPK.12x.4NQO_AAACCTGCAGCTTAAC.1   NaN    NaN       NaN       NaN       NaN   \nBPK.12x.4NQO_AAACCTGGTGTGCGTC.1   NaN    NaN       NaN  0.777323       NaN   \nBPK.12x.4NQO_AAACCTGGTTGAACTC.1   NaN    NaN       NaN       NaN       NaN   \nBPK.12x.4NQO_AAACGGGAGGATGGTC.1   NaN    NaN       NaN  1.202458       NaN   \nBPK.12x.4NQO_AAACGGGAGGGCTCTC.1   NaN    NaN       NaN       NaN       NaN   \nBPK.12x.4NQO_AAACGGGAGTAACCCT.1   NaN    NaN  1.003354       NaN       NaN   \nBPK.12x.4NQO_AAACGGGCATGGGACA.1   NaN    NaN       NaN       NaN       NaN   \nBPK.12x.4NQO_AAACGGGGTCTGCAAT.1   NaN    NaN       NaN       NaN  1.091070   \nBPK.12x.4NQO_AAACGGGTCAATCTCT.1   NaN    NaN       NaN       NaN  1.058914   \n\n                                 Rgs20   Atp6v1h    Rb1cc1  4732440D04Rik  \\\nBPK.12x.4NQO_AAACCTGCACCCAGTG.1    NaN       NaN       NaN            NaN   \nBPK.12x.4NQO_AAACCTGCAGCTTAAC.1    NaN       NaN       NaN            NaN   \nBPK.12x.4NQO_AAACCTGGTGTGCGTC.1    NaN  0.777323       NaN            NaN   \nBPK.12x.4NQO_AAACCTGGTTGAACTC.1    NaN       NaN       NaN            NaN   \nBPK.12x.4NQO_AAACGGGAGGATGGTC.1    NaN       NaN  1.202458            NaN   \nBPK.12x.4NQO_AAACGGGAGGGCTCTC.1    NaN       NaN       NaN            NaN   \nBPK.12x.4NQO_AAACGGGAGTAACCCT.1    NaN       NaN       NaN            NaN   \nBPK.12x.4NQO_AAACGGGCATGGGACA.1    NaN       NaN       NaN            NaN   \nBPK.12x.4NQO_AAACGGGGTCTGCAAT.1    NaN       NaN       NaN            NaN   \nBPK.12x.4NQO_AAACGGGTCAATCTCT.1    NaN       NaN  0.663522            NaN   \n\n                                   Pcmtd1  ...  Gm27151  D930032P07Rik  Cnnm1  \\\nBPK.12x.4NQO_AAACCTGCACCCAGTG.1       NaN  ...      NaN            NaN    NaN   \nBPK.12x.4NQO_AAACCTGCAGCTTAAC.1       NaN  ...      NaN            NaN    NaN   \nBPK.12x.4NQO_AAACCTGGTGTGCGTC.1       NaN  ...      NaN            NaN    NaN   \nBPK.12x.4NQO_AAACCTGGTTGAACTC.1  0.794018  ...      NaN            NaN    NaN   \nBPK.12x.4NQO_AAACGGGAGGATGGTC.1       NaN  ...      NaN            NaN    NaN   \nBPK.12x.4NQO_AAACGGGAGGGCTCTC.1       NaN  ...      NaN            NaN    NaN   \nBPK.12x.4NQO_AAACGGGAGTAACCCT.1       NaN  ...      NaN            NaN    NaN   \nBPK.12x.4NQO_AAACGGGCATGGGACA.1       NaN  ...      NaN            NaN    NaN   \nBPK.12x.4NQO_AAACGGGGTCTGCAAT.1       NaN  ...      NaN            NaN    NaN   \nBPK.12x.4NQO_AAACGGGTCAATCTCT.1       NaN  ...      NaN            NaN    NaN   \n\n                                 Pkd2l1  Scd4  Elovl3  Sorcs3  Nrap  Pnliprp1  \\\nBPK.12x.4NQO_AAACCTGCACCCAGTG.1     NaN   NaN     NaN     NaN   NaN       NaN   \nBPK.12x.4NQO_AAACCTGCAGCTTAAC.1     NaN   NaN     NaN     NaN   NaN       NaN   \nBPK.12x.4NQO_AAACCTGGTGTGCGTC.1     NaN   NaN     NaN     NaN   NaN       NaN   \nBPK.12x.4NQO_AAACCTGGTTGAACTC.1     NaN   NaN     NaN     NaN   NaN       NaN   \nBPK.12x.4NQO_AAACGGGAGGATGGTC.1     NaN   NaN     NaN     NaN   NaN       NaN   \nBPK.12x.4NQO_AAACGGGAGGGCTCTC.1     NaN   NaN     NaN     NaN   NaN       NaN   \nBPK.12x.4NQO_AAACGGGAGTAACCCT.1     NaN   NaN     NaN     NaN   NaN       NaN   \nBPK.12x.4NQO_AAACGGGCATGGGACA.1     NaN   NaN     NaN     NaN   NaN       NaN   \nBPK.12x.4NQO_AAACGGGGTCTGCAAT.1     NaN   NaN     NaN     NaN   NaN       NaN   \nBPK.12x.4NQO_AAACGGGTCAATCTCT.1     NaN   NaN     NaN     NaN   NaN       NaN   \n\n                                 Eno4  \nBPK.12x.4NQO_AAACCTGCACCCAGTG.1   NaN  \nBPK.12x.4NQO_AAACCTGCAGCTTAAC.1   NaN  \nBPK.12x.4NQO_AAACCTGGTGTGCGTC.1   NaN  \nBPK.12x.4NQO_AAACCTGGTTGAACTC.1   NaN  \nBPK.12x.4NQO_AAACGGGAGGATGGTC.1   NaN  \nBPK.12x.4NQO_AAACGGGAGGGCTCTC.1   NaN  \nBPK.12x.4NQO_AAACGGGAGTAACCCT.1   NaN  \nBPK.12x.4NQO_AAACGGGCATGGGACA.1   NaN  \nBPK.12x.4NQO_AAACGGGGTCTGCAAT.1   NaN  \nBPK.12x.4NQO_AAACGGGTCAATCTCT.1   NaN  \n\n[10 rows x 17506 columns]",
      "text/html": "<div>\n<style scoped>\n    .dataframe tbody tr th:only-of-type {\n        vertical-align: middle;\n    }\n\n    .dataframe tbody tr th {\n        vertical-align: top;\n    }\n\n    .dataframe thead th {\n        text-align: right;\n    }\n</style>\n<table border=\"1\" class=\"dataframe\">\n  <thead>\n    <tr style=\"text-align: right;\">\n      <th></th>\n      <th>Xkr4</th>\n      <th>Sox17</th>\n      <th>Mrpl15</th>\n      <th>Lypla1</th>\n      <th>Tcea1</th>\n      <th>Rgs20</th>\n      <th>Atp6v1h</th>\n      <th>Rb1cc1</th>\n      <th>4732440D04Rik</th>\n      <th>Pcmtd1</th>\n      <th>...</th>\n      <th>Gm27151</th>\n      <th>D930032P07Rik</th>\n      <th>Cnnm1</th>\n      <th>Pkd2l1</th>\n      <th>Scd4</th>\n      <th>Elovl3</th>\n      <th>Sorcs3</th>\n      <th>Nrap</th>\n      <th>Pnliprp1</th>\n      <th>Eno4</th>\n    </tr>\n  </thead>\n  <tbody>\n    <tr>\n      <th>BPK.12x.4NQO_AAACCTGCACCCAGTG.1</th>\n      <td>NaN</td>\n      <td>NaN</td>\n      <td>NaN</td>\n      <td>NaN</td>\n      <td>NaN</td>\n      <td>NaN</td>\n      <td>NaN</td>\n      <td>NaN</td>\n      <td>NaN</td>\n      <td>NaN</td>\n      <td>...</td>\n      <td>NaN</td>\n      <td>NaN</td>\n      <td>NaN</td>\n      <td>NaN</td>\n      <td>NaN</td>\n      <td>NaN</td>\n      <td>NaN</td>\n      <td>NaN</td>\n      <td>NaN</td>\n      <td>NaN</td>\n    </tr>\n    <tr>\n      <th>BPK.12x.4NQO_AAACCTGCAGCTTAAC.1</th>\n      <td>NaN</td>\n      <td>NaN</td>\n      <td>NaN</td>\n      <td>NaN</td>\n      <td>NaN</td>\n      <td>NaN</td>\n      <td>NaN</td>\n      <td>NaN</td>\n      <td>NaN</td>\n      <td>NaN</td>\n      <td>...</td>\n      <td>NaN</td>\n      <td>NaN</td>\n      <td>NaN</td>\n      <td>NaN</td>\n      <td>NaN</td>\n      <td>NaN</td>\n      <td>NaN</td>\n      <td>NaN</td>\n      <td>NaN</td>\n      <td>NaN</td>\n    </tr>\n    <tr>\n      <th>BPK.12x.4NQO_AAACCTGGTGTGCGTC.1</th>\n      <td>NaN</td>\n      <td>NaN</td>\n      <td>NaN</td>\n      <td>0.777323</td>\n      <td>NaN</td>\n      <td>NaN</td>\n      <td>0.777323</td>\n      <td>NaN</td>\n      <td>NaN</td>\n      <td>NaN</td>\n      <td>...</td>\n      <td>NaN</td>\n      <td>NaN</td>\n      <td>NaN</td>\n      <td>NaN</td>\n      <td>NaN</td>\n      <td>NaN</td>\n      <td>NaN</td>\n      <td>NaN</td>\n      <td>NaN</td>\n      <td>NaN</td>\n    </tr>\n    <tr>\n      <th>BPK.12x.4NQO_AAACCTGGTTGAACTC.1</th>\n      <td>NaN</td>\n      <td>NaN</td>\n      <td>NaN</td>\n      <td>NaN</td>\n      <td>NaN</td>\n      <td>NaN</td>\n      <td>NaN</td>\n      <td>NaN</td>\n      <td>NaN</td>\n      <td>0.794018</td>\n      <td>...</td>\n      <td>NaN</td>\n      <td>NaN</td>\n      <td>NaN</td>\n      <td>NaN</td>\n      <td>NaN</td>\n      <td>NaN</td>\n      <td>NaN</td>\n      <td>NaN</td>\n      <td>NaN</td>\n      <td>NaN</td>\n    </tr>\n    <tr>\n      <th>BPK.12x.4NQO_AAACGGGAGGATGGTC.1</th>\n      <td>NaN</td>\n      <td>NaN</td>\n      <td>NaN</td>\n      <td>1.202458</td>\n      <td>NaN</td>\n      <td>NaN</td>\n      <td>NaN</td>\n      <td>1.202458</td>\n      <td>NaN</td>\n      <td>NaN</td>\n      <td>...</td>\n      <td>NaN</td>\n      <td>NaN</td>\n      <td>NaN</td>\n      <td>NaN</td>\n      <td>NaN</td>\n      <td>NaN</td>\n      <td>NaN</td>\n      <td>NaN</td>\n      <td>NaN</td>\n      <td>NaN</td>\n    </tr>\n    <tr>\n      <th>BPK.12x.4NQO_AAACGGGAGGGCTCTC.1</th>\n      <td>NaN</td>\n      <td>NaN</td>\n      <td>NaN</td>\n      <td>NaN</td>\n      <td>NaN</td>\n      <td>NaN</td>\n      <td>NaN</td>\n      <td>NaN</td>\n      <td>NaN</td>\n      <td>NaN</td>\n      <td>...</td>\n      <td>NaN</td>\n      <td>NaN</td>\n      <td>NaN</td>\n      <td>NaN</td>\n      <td>NaN</td>\n      <td>NaN</td>\n      <td>NaN</td>\n      <td>NaN</td>\n      <td>NaN</td>\n      <td>NaN</td>\n    </tr>\n    <tr>\n      <th>BPK.12x.4NQO_AAACGGGAGTAACCCT.1</th>\n      <td>NaN</td>\n      <td>NaN</td>\n      <td>1.003354</td>\n      <td>NaN</td>\n      <td>NaN</td>\n      <td>NaN</td>\n      <td>NaN</td>\n      <td>NaN</td>\n      <td>NaN</td>\n      <td>NaN</td>\n      <td>...</td>\n      <td>NaN</td>\n      <td>NaN</td>\n      <td>NaN</td>\n      <td>NaN</td>\n      <td>NaN</td>\n      <td>NaN</td>\n      <td>NaN</td>\n      <td>NaN</td>\n      <td>NaN</td>\n      <td>NaN</td>\n    </tr>\n    <tr>\n      <th>BPK.12x.4NQO_AAACGGGCATGGGACA.1</th>\n      <td>NaN</td>\n      <td>NaN</td>\n      <td>NaN</td>\n      <td>NaN</td>\n      <td>NaN</td>\n      <td>NaN</td>\n      <td>NaN</td>\n      <td>NaN</td>\n      <td>NaN</td>\n      <td>NaN</td>\n      <td>...</td>\n      <td>NaN</td>\n      <td>NaN</td>\n      <td>NaN</td>\n      <td>NaN</td>\n      <td>NaN</td>\n      <td>NaN</td>\n      <td>NaN</td>\n      <td>NaN</td>\n      <td>NaN</td>\n      <td>NaN</td>\n    </tr>\n    <tr>\n      <th>BPK.12x.4NQO_AAACGGGGTCTGCAAT.1</th>\n      <td>NaN</td>\n      <td>NaN</td>\n      <td>NaN</td>\n      <td>NaN</td>\n      <td>1.091070</td>\n      <td>NaN</td>\n      <td>NaN</td>\n      <td>NaN</td>\n      <td>NaN</td>\n      <td>NaN</td>\n      <td>...</td>\n      <td>NaN</td>\n      <td>NaN</td>\n      <td>NaN</td>\n      <td>NaN</td>\n      <td>NaN</td>\n      <td>NaN</td>\n      <td>NaN</td>\n      <td>NaN</td>\n      <td>NaN</td>\n      <td>NaN</td>\n    </tr>\n    <tr>\n      <th>BPK.12x.4NQO_AAACGGGTCAATCTCT.1</th>\n      <td>NaN</td>\n      <td>NaN</td>\n      <td>NaN</td>\n      <td>NaN</td>\n      <td>1.058914</td>\n      <td>NaN</td>\n      <td>NaN</td>\n      <td>0.663522</td>\n      <td>NaN</td>\n      <td>NaN</td>\n      <td>...</td>\n      <td>NaN</td>\n      <td>NaN</td>\n      <td>NaN</td>\n      <td>NaN</td>\n      <td>NaN</td>\n      <td>NaN</td>\n      <td>NaN</td>\n      <td>NaN</td>\n      <td>NaN</td>\n      <td>NaN</td>\n    </tr>\n  </tbody>\n</table>\n<p>10 rows × 17506 columns</p>\n</div>"
     },
     "execution_count": 111,
     "metadata": {},
     "output_type": "execute_result"
    }
   ],
   "source": [
    "# Get first 10 rows\n",
    "first_10 = single_df.iloc[:10, :]\n",
    "first_10 = first_10.replace(0, np.NaN)\n",
    "first_10.head(11)"
   ],
   "metadata": {
    "collapsed": false,
    "ExecuteTime": {
     "end_time": "2023-06-01T19:04:52.448930863Z",
     "start_time": "2023-06-01T19:04:52.416566471Z"
    }
   }
  },
  {
   "cell_type": "code",
   "execution_count": 112,
   "outputs": [
    {
     "data": {
      "text/plain": "                                 Xkr4  Sox17  Mrpl15  Lypla1  Tcea1  Rgs20  \\\nBPK.12x.4NQO_AAACCTGCACCCAGTG.1   NaN    NaN     NaN     NaN    NaN    NaN   \nBPK.12x.4NQO_AAACCTGCAGCTTAAC.1   NaN    NaN     NaN     NaN    NaN    NaN   \nBPK.12x.4NQO_AAACCTGGTGTGCGTC.1   NaN    NaN     NaN    -1.0    NaN    NaN   \nBPK.12x.4NQO_AAACCTGGTTGAACTC.1   NaN    NaN     NaN     NaN    NaN    NaN   \nBPK.12x.4NQO_AAACGGGAGGATGGTC.1   NaN    NaN     NaN     1.0    NaN    NaN   \nBPK.12x.4NQO_AAACGGGAGGGCTCTC.1   NaN    NaN     NaN     NaN    NaN    NaN   \nBPK.12x.4NQO_AAACGGGAGTAACCCT.1   NaN    NaN     NaN     NaN    NaN    NaN   \nBPK.12x.4NQO_AAACGGGCATGGGACA.1   NaN    NaN     NaN     NaN    NaN    NaN   \nBPK.12x.4NQO_AAACGGGGTCTGCAAT.1   NaN    NaN     NaN     NaN    1.0    NaN   \nBPK.12x.4NQO_AAACGGGTCAATCTCT.1   NaN    NaN     NaN     NaN   -1.0    NaN   \n\n                                 Atp6v1h  Rb1cc1  4732440D04Rik  Pcmtd1  ...  \\\nBPK.12x.4NQO_AAACCTGCACCCAGTG.1      NaN     NaN            NaN     NaN  ...   \nBPK.12x.4NQO_AAACCTGCAGCTTAAC.1      NaN     NaN            NaN     NaN  ...   \nBPK.12x.4NQO_AAACCTGGTGTGCGTC.1      NaN     NaN            NaN     NaN  ...   \nBPK.12x.4NQO_AAACCTGGTTGAACTC.1      NaN     NaN            NaN     NaN  ...   \nBPK.12x.4NQO_AAACGGGAGGATGGTC.1      NaN     1.0            NaN     NaN  ...   \nBPK.12x.4NQO_AAACGGGAGGGCTCTC.1      NaN     NaN            NaN     NaN  ...   \nBPK.12x.4NQO_AAACGGGAGTAACCCT.1      NaN     NaN            NaN     NaN  ...   \nBPK.12x.4NQO_AAACGGGCATGGGACA.1      NaN     NaN            NaN     NaN  ...   \nBPK.12x.4NQO_AAACGGGGTCTGCAAT.1      NaN     NaN            NaN     NaN  ...   \nBPK.12x.4NQO_AAACGGGTCAATCTCT.1      NaN    -1.0            NaN     NaN  ...   \n\n                                 Gm27151  D930032P07Rik  Cnnm1  Pkd2l1  Scd4  \\\nBPK.12x.4NQO_AAACCTGCACCCAGTG.1      NaN            NaN    NaN     NaN   NaN   \nBPK.12x.4NQO_AAACCTGCAGCTTAAC.1      NaN            NaN    NaN     NaN   NaN   \nBPK.12x.4NQO_AAACCTGGTGTGCGTC.1      NaN            NaN    NaN     NaN   NaN   \nBPK.12x.4NQO_AAACCTGGTTGAACTC.1      NaN            NaN    NaN     NaN   NaN   \nBPK.12x.4NQO_AAACGGGAGGATGGTC.1      NaN            NaN    NaN     NaN   NaN   \nBPK.12x.4NQO_AAACGGGAGGGCTCTC.1      NaN            NaN    NaN     NaN   NaN   \nBPK.12x.4NQO_AAACGGGAGTAACCCT.1      NaN            NaN    NaN     NaN   NaN   \nBPK.12x.4NQO_AAACGGGCATGGGACA.1      NaN            NaN    NaN     NaN   NaN   \nBPK.12x.4NQO_AAACGGGGTCTGCAAT.1      NaN            NaN    NaN     NaN   NaN   \nBPK.12x.4NQO_AAACGGGTCAATCTCT.1      NaN            NaN    NaN     NaN   NaN   \n\n                                 Elovl3  Sorcs3  Nrap  Pnliprp1  Eno4  \nBPK.12x.4NQO_AAACCTGCACCCAGTG.1     NaN     NaN   NaN       NaN   NaN  \nBPK.12x.4NQO_AAACCTGCAGCTTAAC.1     NaN     NaN   NaN       NaN   NaN  \nBPK.12x.4NQO_AAACCTGGTGTGCGTC.1     NaN     NaN   NaN       NaN   NaN  \nBPK.12x.4NQO_AAACCTGGTTGAACTC.1     NaN     NaN   NaN       NaN   NaN  \nBPK.12x.4NQO_AAACGGGAGGATGGTC.1     NaN     NaN   NaN       NaN   NaN  \nBPK.12x.4NQO_AAACGGGAGGGCTCTC.1     NaN     NaN   NaN       NaN   NaN  \nBPK.12x.4NQO_AAACGGGAGTAACCCT.1     NaN     NaN   NaN       NaN   NaN  \nBPK.12x.4NQO_AAACGGGCATGGGACA.1     NaN     NaN   NaN       NaN   NaN  \nBPK.12x.4NQO_AAACGGGGTCTGCAAT.1     NaN     NaN   NaN       NaN   NaN  \nBPK.12x.4NQO_AAACGGGTCAATCTCT.1     NaN     NaN   NaN       NaN   NaN  \n\n[10 rows x 17506 columns]",
      "text/html": "<div>\n<style scoped>\n    .dataframe tbody tr th:only-of-type {\n        vertical-align: middle;\n    }\n\n    .dataframe tbody tr th {\n        vertical-align: top;\n    }\n\n    .dataframe thead th {\n        text-align: right;\n    }\n</style>\n<table border=\"1\" class=\"dataframe\">\n  <thead>\n    <tr style=\"text-align: right;\">\n      <th></th>\n      <th>Xkr4</th>\n      <th>Sox17</th>\n      <th>Mrpl15</th>\n      <th>Lypla1</th>\n      <th>Tcea1</th>\n      <th>Rgs20</th>\n      <th>Atp6v1h</th>\n      <th>Rb1cc1</th>\n      <th>4732440D04Rik</th>\n      <th>Pcmtd1</th>\n      <th>...</th>\n      <th>Gm27151</th>\n      <th>D930032P07Rik</th>\n      <th>Cnnm1</th>\n      <th>Pkd2l1</th>\n      <th>Scd4</th>\n      <th>Elovl3</th>\n      <th>Sorcs3</th>\n      <th>Nrap</th>\n      <th>Pnliprp1</th>\n      <th>Eno4</th>\n    </tr>\n  </thead>\n  <tbody>\n    <tr>\n      <th>BPK.12x.4NQO_AAACCTGCACCCAGTG.1</th>\n      <td>NaN</td>\n      <td>NaN</td>\n      <td>NaN</td>\n      <td>NaN</td>\n      <td>NaN</td>\n      <td>NaN</td>\n      <td>NaN</td>\n      <td>NaN</td>\n      <td>NaN</td>\n      <td>NaN</td>\n      <td>...</td>\n      <td>NaN</td>\n      <td>NaN</td>\n      <td>NaN</td>\n      <td>NaN</td>\n      <td>NaN</td>\n      <td>NaN</td>\n      <td>NaN</td>\n      <td>NaN</td>\n      <td>NaN</td>\n      <td>NaN</td>\n    </tr>\n    <tr>\n      <th>BPK.12x.4NQO_AAACCTGCAGCTTAAC.1</th>\n      <td>NaN</td>\n      <td>NaN</td>\n      <td>NaN</td>\n      <td>NaN</td>\n      <td>NaN</td>\n      <td>NaN</td>\n      <td>NaN</td>\n      <td>NaN</td>\n      <td>NaN</td>\n      <td>NaN</td>\n      <td>...</td>\n      <td>NaN</td>\n      <td>NaN</td>\n      <td>NaN</td>\n      <td>NaN</td>\n      <td>NaN</td>\n      <td>NaN</td>\n      <td>NaN</td>\n      <td>NaN</td>\n      <td>NaN</td>\n      <td>NaN</td>\n    </tr>\n    <tr>\n      <th>BPK.12x.4NQO_AAACCTGGTGTGCGTC.1</th>\n      <td>NaN</td>\n      <td>NaN</td>\n      <td>NaN</td>\n      <td>-1.0</td>\n      <td>NaN</td>\n      <td>NaN</td>\n      <td>NaN</td>\n      <td>NaN</td>\n      <td>NaN</td>\n      <td>NaN</td>\n      <td>...</td>\n      <td>NaN</td>\n      <td>NaN</td>\n      <td>NaN</td>\n      <td>NaN</td>\n      <td>NaN</td>\n      <td>NaN</td>\n      <td>NaN</td>\n      <td>NaN</td>\n      <td>NaN</td>\n      <td>NaN</td>\n    </tr>\n    <tr>\n      <th>BPK.12x.4NQO_AAACCTGGTTGAACTC.1</th>\n      <td>NaN</td>\n      <td>NaN</td>\n      <td>NaN</td>\n      <td>NaN</td>\n      <td>NaN</td>\n      <td>NaN</td>\n      <td>NaN</td>\n      <td>NaN</td>\n      <td>NaN</td>\n      <td>NaN</td>\n      <td>...</td>\n      <td>NaN</td>\n      <td>NaN</td>\n      <td>NaN</td>\n      <td>NaN</td>\n      <td>NaN</td>\n      <td>NaN</td>\n      <td>NaN</td>\n      <td>NaN</td>\n      <td>NaN</td>\n      <td>NaN</td>\n    </tr>\n    <tr>\n      <th>BPK.12x.4NQO_AAACGGGAGGATGGTC.1</th>\n      <td>NaN</td>\n      <td>NaN</td>\n      <td>NaN</td>\n      <td>1.0</td>\n      <td>NaN</td>\n      <td>NaN</td>\n      <td>NaN</td>\n      <td>1.0</td>\n      <td>NaN</td>\n      <td>NaN</td>\n      <td>...</td>\n      <td>NaN</td>\n      <td>NaN</td>\n      <td>NaN</td>\n      <td>NaN</td>\n      <td>NaN</td>\n      <td>NaN</td>\n      <td>NaN</td>\n      <td>NaN</td>\n      <td>NaN</td>\n      <td>NaN</td>\n    </tr>\n    <tr>\n      <th>BPK.12x.4NQO_AAACGGGAGGGCTCTC.1</th>\n      <td>NaN</td>\n      <td>NaN</td>\n      <td>NaN</td>\n      <td>NaN</td>\n      <td>NaN</td>\n      <td>NaN</td>\n      <td>NaN</td>\n      <td>NaN</td>\n      <td>NaN</td>\n      <td>NaN</td>\n      <td>...</td>\n      <td>NaN</td>\n      <td>NaN</td>\n      <td>NaN</td>\n      <td>NaN</td>\n      <td>NaN</td>\n      <td>NaN</td>\n      <td>NaN</td>\n      <td>NaN</td>\n      <td>NaN</td>\n      <td>NaN</td>\n    </tr>\n    <tr>\n      <th>BPK.12x.4NQO_AAACGGGAGTAACCCT.1</th>\n      <td>NaN</td>\n      <td>NaN</td>\n      <td>NaN</td>\n      <td>NaN</td>\n      <td>NaN</td>\n      <td>NaN</td>\n      <td>NaN</td>\n      <td>NaN</td>\n      <td>NaN</td>\n      <td>NaN</td>\n      <td>...</td>\n      <td>NaN</td>\n      <td>NaN</td>\n      <td>NaN</td>\n      <td>NaN</td>\n      <td>NaN</td>\n      <td>NaN</td>\n      <td>NaN</td>\n      <td>NaN</td>\n      <td>NaN</td>\n      <td>NaN</td>\n    </tr>\n    <tr>\n      <th>BPK.12x.4NQO_AAACGGGCATGGGACA.1</th>\n      <td>NaN</td>\n      <td>NaN</td>\n      <td>NaN</td>\n      <td>NaN</td>\n      <td>NaN</td>\n      <td>NaN</td>\n      <td>NaN</td>\n      <td>NaN</td>\n      <td>NaN</td>\n      <td>NaN</td>\n      <td>...</td>\n      <td>NaN</td>\n      <td>NaN</td>\n      <td>NaN</td>\n      <td>NaN</td>\n      <td>NaN</td>\n      <td>NaN</td>\n      <td>NaN</td>\n      <td>NaN</td>\n      <td>NaN</td>\n      <td>NaN</td>\n    </tr>\n    <tr>\n      <th>BPK.12x.4NQO_AAACGGGGTCTGCAAT.1</th>\n      <td>NaN</td>\n      <td>NaN</td>\n      <td>NaN</td>\n      <td>NaN</td>\n      <td>1.0</td>\n      <td>NaN</td>\n      <td>NaN</td>\n      <td>NaN</td>\n      <td>NaN</td>\n      <td>NaN</td>\n      <td>...</td>\n      <td>NaN</td>\n      <td>NaN</td>\n      <td>NaN</td>\n      <td>NaN</td>\n      <td>NaN</td>\n      <td>NaN</td>\n      <td>NaN</td>\n      <td>NaN</td>\n      <td>NaN</td>\n      <td>NaN</td>\n    </tr>\n    <tr>\n      <th>BPK.12x.4NQO_AAACGGGTCAATCTCT.1</th>\n      <td>NaN</td>\n      <td>NaN</td>\n      <td>NaN</td>\n      <td>NaN</td>\n      <td>-1.0</td>\n      <td>NaN</td>\n      <td>NaN</td>\n      <td>-1.0</td>\n      <td>NaN</td>\n      <td>NaN</td>\n      <td>...</td>\n      <td>NaN</td>\n      <td>NaN</td>\n      <td>NaN</td>\n      <td>NaN</td>\n      <td>NaN</td>\n      <td>NaN</td>\n      <td>NaN</td>\n      <td>NaN</td>\n      <td>NaN</td>\n      <td>NaN</td>\n    </tr>\n  </tbody>\n</table>\n<p>10 rows × 17506 columns</p>\n</div>"
     },
     "execution_count": 112,
     "metadata": {},
     "output_type": "execute_result"
    }
   ],
   "source": [
    "# Apply zscore omitting NaN\n",
    "first_10 = first_10.apply(zscore, axis=0, nan_policy='omit')\n",
    "first_10.head(11)"
   ],
   "metadata": {
    "collapsed": false,
    "ExecuteTime": {
     "end_time": "2023-06-01T19:05:10.063136665Z",
     "start_time": "2023-06-01T19:05:09.895766975Z"
    }
   }
  },
  {
   "cell_type": "code",
   "execution_count": 114,
   "outputs": [
    {
     "data": {
      "text/plain": "array([-1.0641758 , -0.27453927,  1.33871507,         nan,         nan,\n               nan,         nan,         nan,         nan,         nan])"
     },
     "execution_count": 114,
     "metadata": {},
     "output_type": "execute_result"
    }
   ],
   "source": [
    "ar = np.array([1.208354, 1.493988, 2.077548, np.NaN, np.NaN, np.NaN, np.NaN, np.NaN, np.NaN, np.NaN])\n",
    "\n",
    "zscore(ar, nan_policy='omit', axis=0)"
   ],
   "metadata": {
    "collapsed": false,
    "ExecuteTime": {
     "end_time": "2023-06-01T19:05:48.264713189Z",
     "start_time": "2023-06-01T19:05:48.258689309Z"
    }
   }
  },
  {
   "cell_type": "code",
   "execution_count": 126,
   "outputs": [
    {
     "data": {
      "text/plain": "(9089, 17506)"
     },
     "execution_count": 126,
     "metadata": {},
     "output_type": "execute_result"
    }
   ],
   "source": [
    "single_df.shape"
   ],
   "metadata": {
    "collapsed": false,
    "ExecuteTime": {
     "end_time": "2023-06-01T21:01:17.605578603Z",
     "start_time": "2023-06-01T21:01:17.602266903Z"
    }
   }
  },
  {
   "cell_type": "code",
   "execution_count": 128,
   "outputs": [
    {
     "data": {
      "text/plain": "                                 Xkr4  Sox17  Mrpl15  Lypla1  Tcea1  Rgs20  \\\nBPK.12x.4NQO_AAACCTGCACCCAGTG.1   NaN    NaN     NaN     NaN    NaN    NaN   \nBPK.12x.4NQO_AAACCTGCAGCTTAAC.1   NaN    NaN     NaN     NaN    NaN    NaN   \nBPK.12x.4NQO_AAACCTGGTGTGCGTC.1   NaN    NaN     NaN     NaN    NaN    NaN   \nBPK.12x.4NQO_AAACCTGGTTGAACTC.1   NaN    NaN     NaN     NaN    NaN    NaN   \nBPK.12x.4NQO_AAACGGGAGGATGGTC.1   NaN    NaN     NaN     NaN    NaN    NaN   \n\n                                 Atp6v1h  Rb1cc1  4732440D04Rik  Pcmtd1  ...  \\\nBPK.12x.4NQO_AAACCTGCACCCAGTG.1      NaN     NaN            NaN     NaN  ...   \nBPK.12x.4NQO_AAACCTGCAGCTTAAC.1      NaN     NaN            NaN     NaN  ...   \nBPK.12x.4NQO_AAACCTGGTGTGCGTC.1      NaN     NaN            NaN     NaN  ...   \nBPK.12x.4NQO_AAACCTGGTTGAACTC.1      NaN     NaN            NaN     NaN  ...   \nBPK.12x.4NQO_AAACGGGAGGATGGTC.1      NaN     NaN            NaN     NaN  ...   \n\n                                 Gm27151  D930032P07Rik  Cnnm1  Pkd2l1  Scd4  \\\nBPK.12x.4NQO_AAACCTGCACCCAGTG.1      NaN            NaN    NaN     NaN   NaN   \nBPK.12x.4NQO_AAACCTGCAGCTTAAC.1      NaN            NaN    NaN     NaN   NaN   \nBPK.12x.4NQO_AAACCTGGTGTGCGTC.1      NaN            NaN    NaN     NaN   NaN   \nBPK.12x.4NQO_AAACCTGGTTGAACTC.1      NaN            NaN    NaN     NaN   NaN   \nBPK.12x.4NQO_AAACGGGAGGATGGTC.1      NaN            NaN    NaN     NaN   NaN   \n\n                                 Elovl3  Sorcs3  Nrap  Pnliprp1  Eno4  \nBPK.12x.4NQO_AAACCTGCACCCAGTG.1     NaN     NaN   NaN       NaN   NaN  \nBPK.12x.4NQO_AAACCTGCAGCTTAAC.1     NaN     NaN   NaN       NaN   NaN  \nBPK.12x.4NQO_AAACCTGGTGTGCGTC.1     NaN     NaN   NaN       NaN   NaN  \nBPK.12x.4NQO_AAACCTGGTTGAACTC.1     NaN     NaN   NaN       NaN   NaN  \nBPK.12x.4NQO_AAACGGGAGGATGGTC.1     NaN     NaN   NaN       NaN   NaN  \n\n[5 rows x 17506 columns]",
      "text/html": "<div>\n<style scoped>\n    .dataframe tbody tr th:only-of-type {\n        vertical-align: middle;\n    }\n\n    .dataframe tbody tr th {\n        vertical-align: top;\n    }\n\n    .dataframe thead th {\n        text-align: right;\n    }\n</style>\n<table border=\"1\" class=\"dataframe\">\n  <thead>\n    <tr style=\"text-align: right;\">\n      <th></th>\n      <th>Xkr4</th>\n      <th>Sox17</th>\n      <th>Mrpl15</th>\n      <th>Lypla1</th>\n      <th>Tcea1</th>\n      <th>Rgs20</th>\n      <th>Atp6v1h</th>\n      <th>Rb1cc1</th>\n      <th>4732440D04Rik</th>\n      <th>Pcmtd1</th>\n      <th>...</th>\n      <th>Gm27151</th>\n      <th>D930032P07Rik</th>\n      <th>Cnnm1</th>\n      <th>Pkd2l1</th>\n      <th>Scd4</th>\n      <th>Elovl3</th>\n      <th>Sorcs3</th>\n      <th>Nrap</th>\n      <th>Pnliprp1</th>\n      <th>Eno4</th>\n    </tr>\n  </thead>\n  <tbody>\n    <tr>\n      <th>BPK.12x.4NQO_AAACCTGCACCCAGTG.1</th>\n      <td>NaN</td>\n      <td>NaN</td>\n      <td>NaN</td>\n      <td>NaN</td>\n      <td>NaN</td>\n      <td>NaN</td>\n      <td>NaN</td>\n      <td>NaN</td>\n      <td>NaN</td>\n      <td>NaN</td>\n      <td>...</td>\n      <td>NaN</td>\n      <td>NaN</td>\n      <td>NaN</td>\n      <td>NaN</td>\n      <td>NaN</td>\n      <td>NaN</td>\n      <td>NaN</td>\n      <td>NaN</td>\n      <td>NaN</td>\n      <td>NaN</td>\n    </tr>\n    <tr>\n      <th>BPK.12x.4NQO_AAACCTGCAGCTTAAC.1</th>\n      <td>NaN</td>\n      <td>NaN</td>\n      <td>NaN</td>\n      <td>NaN</td>\n      <td>NaN</td>\n      <td>NaN</td>\n      <td>NaN</td>\n      <td>NaN</td>\n      <td>NaN</td>\n      <td>NaN</td>\n      <td>...</td>\n      <td>NaN</td>\n      <td>NaN</td>\n      <td>NaN</td>\n      <td>NaN</td>\n      <td>NaN</td>\n      <td>NaN</td>\n      <td>NaN</td>\n      <td>NaN</td>\n      <td>NaN</td>\n      <td>NaN</td>\n    </tr>\n    <tr>\n      <th>BPK.12x.4NQO_AAACCTGGTGTGCGTC.1</th>\n      <td>NaN</td>\n      <td>NaN</td>\n      <td>NaN</td>\n      <td>NaN</td>\n      <td>NaN</td>\n      <td>NaN</td>\n      <td>NaN</td>\n      <td>NaN</td>\n      <td>NaN</td>\n      <td>NaN</td>\n      <td>...</td>\n      <td>NaN</td>\n      <td>NaN</td>\n      <td>NaN</td>\n      <td>NaN</td>\n      <td>NaN</td>\n      <td>NaN</td>\n      <td>NaN</td>\n      <td>NaN</td>\n      <td>NaN</td>\n      <td>NaN</td>\n    </tr>\n    <tr>\n      <th>BPK.12x.4NQO_AAACCTGGTTGAACTC.1</th>\n      <td>NaN</td>\n      <td>NaN</td>\n      <td>NaN</td>\n      <td>NaN</td>\n      <td>NaN</td>\n      <td>NaN</td>\n      <td>NaN</td>\n      <td>NaN</td>\n      <td>NaN</td>\n      <td>NaN</td>\n      <td>...</td>\n      <td>NaN</td>\n      <td>NaN</td>\n      <td>NaN</td>\n      <td>NaN</td>\n      <td>NaN</td>\n      <td>NaN</td>\n      <td>NaN</td>\n      <td>NaN</td>\n      <td>NaN</td>\n      <td>NaN</td>\n    </tr>\n    <tr>\n      <th>BPK.12x.4NQO_AAACGGGAGGATGGTC.1</th>\n      <td>NaN</td>\n      <td>NaN</td>\n      <td>NaN</td>\n      <td>NaN</td>\n      <td>NaN</td>\n      <td>NaN</td>\n      <td>NaN</td>\n      <td>NaN</td>\n      <td>NaN</td>\n      <td>NaN</td>\n      <td>...</td>\n      <td>NaN</td>\n      <td>NaN</td>\n      <td>NaN</td>\n      <td>NaN</td>\n      <td>NaN</td>\n      <td>NaN</td>\n      <td>NaN</td>\n      <td>NaN</td>\n      <td>NaN</td>\n      <td>NaN</td>\n    </tr>\n  </tbody>\n</table>\n<p>5 rows × 17506 columns</p>\n</div>"
     },
     "execution_count": 128,
     "metadata": {},
     "output_type": "execute_result"
    }
   ],
   "source": [
    "newdf = single_df.copy()\n",
    "\n",
    "# set all values to NaN\n",
    "newdf.iloc[:, :] = np.NaN\n",
    "newdf.head()"
   ],
   "metadata": {
    "collapsed": false,
    "ExecuteTime": {
     "end_time": "2023-06-01T21:02:23.837240518Z",
     "start_time": "2023-06-01T21:02:23.312795438Z"
    }
   }
  }
 ],
 "metadata": {
  "kernelspec": {
   "display_name": "Python 3",
   "language": "python",
   "name": "python3"
  },
  "language_info": {
   "codemirror_mode": {
    "name": "ipython",
    "version": 2
   },
   "file_extension": ".py",
   "mimetype": "text/x-python",
   "name": "python",
   "nbconvert_exporter": "python",
   "pygments_lexer": "ipython2",
   "version": "2.7.6"
  }
 },
 "nbformat": 4,
 "nbformat_minor": 0
}
