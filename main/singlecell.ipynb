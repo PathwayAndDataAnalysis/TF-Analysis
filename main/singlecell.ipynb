{
 "cells": [
  {
   "cell_type": "code",
   "execution_count": 27,
   "metadata": {
    "collapsed": true,
    "ExecuteTime": {
     "end_time": "2023-06-13T19:33:32.624428396Z",
     "start_time": "2023-06-13T19:33:32.613407904Z"
    }
   },
   "outputs": [],
   "source": [
    "import sys\n",
    "from timeit import default_timer as timer\n",
    "\n",
    "import numpy as np\n",
    "import pandas as pd\n",
    "import statsmodels.stats.multitest as smm\n"
   ]
  },
  {
   "cell_type": "code",
   "execution_count": 28,
   "outputs": [
    {
     "data": {
      "text/plain": "        pVal\nARNT -0.8222\nATF2  0.0828\nATF4  0.1898\nATF6  0.9257\nBCL6  0.9139",
      "text/html": "<div>\n<style scoped>\n    .dataframe tbody tr th:only-of-type {\n        vertical-align: middle;\n    }\n\n    .dataframe tbody tr th {\n        vertical-align: top;\n    }\n\n    .dataframe thead th {\n        text-align: right;\n    }\n</style>\n<table border=\"1\" class=\"dataframe\">\n  <thead>\n    <tr style=\"text-align: right;\">\n      <th></th>\n      <th>pVal</th>\n    </tr>\n  </thead>\n  <tbody>\n    <tr>\n      <th>ARNT</th>\n      <td>-0.8222</td>\n    </tr>\n    <tr>\n      <th>ATF2</th>\n      <td>0.0828</td>\n    </tr>\n    <tr>\n      <th>ATF4</th>\n      <td>0.1898</td>\n    </tr>\n    <tr>\n      <th>ATF6</th>\n      <td>0.9257</td>\n    </tr>\n    <tr>\n      <th>BCL6</th>\n      <td>0.9139</td>\n    </tr>\n  </tbody>\n</table>\n</div>"
     },
     "execution_count": 28,
     "metadata": {},
     "output_type": "execute_result"
    }
   ],
   "source": [
    "pValFile = '../output/pValueArraySlow.tsv'\n",
    "\n",
    "pValDf = pd.read_csv(pValFile, sep='\\t')\n",
    "\n",
    "# Get the first row as df\n",
    "pValDf = pValDf.iloc[0:1, 1:]\n",
    "pValDf = pValDf.T\n",
    "pValDf.columns = ['pVal']\n",
    "# Remove rows with 0.0 pVal\n",
    "pValDf = pValDf[pValDf['pVal'] != 0.0]\n",
    "pValDf.head()\n"
   ],
   "metadata": {
    "collapsed": false,
    "ExecuteTime": {
     "end_time": "2023-06-13T19:33:33.110214653Z",
     "start_time": "2023-06-13T19:33:32.622420975Z"
    }
   }
  },
  {
   "cell_type": "code",
   "execution_count": 29,
   "outputs": [
    {
     "data": {
      "text/plain": "        pVal  rank\nSP3   0.0126     1\nATF2  0.0828     2\nJUN   0.1071     3\nESR1  0.1093     4\nMYB   0.1188     5",
      "text/html": "<div>\n<style scoped>\n    .dataframe tbody tr th:only-of-type {\n        vertical-align: middle;\n    }\n\n    .dataframe tbody tr th {\n        vertical-align: top;\n    }\n\n    .dataframe thead th {\n        text-align: right;\n    }\n</style>\n<table border=\"1\" class=\"dataframe\">\n  <thead>\n    <tr style=\"text-align: right;\">\n      <th></th>\n      <th>pVal</th>\n      <th>rank</th>\n    </tr>\n  </thead>\n  <tbody>\n    <tr>\n      <th>SP3</th>\n      <td>0.0126</td>\n      <td>1</td>\n    </tr>\n    <tr>\n      <th>ATF2</th>\n      <td>0.0828</td>\n      <td>2</td>\n    </tr>\n    <tr>\n      <th>JUN</th>\n      <td>0.1071</td>\n      <td>3</td>\n    </tr>\n    <tr>\n      <th>ESR1</th>\n      <td>0.1093</td>\n      <td>4</td>\n    </tr>\n    <tr>\n      <th>MYB</th>\n      <td>0.1188</td>\n      <td>5</td>\n    </tr>\n  </tbody>\n</table>\n</div>"
     },
     "execution_count": 29,
     "metadata": {},
     "output_type": "execute_result"
    }
   ],
   "source": [
    "#Sort by pVal\n",
    "pValDf['pVal'] = np.abs(pValDf['pVal'])\n",
    "pValDf = pValDf.sort_values(by='pVal', ascending=True)\n",
    "m = len(pValDf)\n",
    "pValDf['rank'] = np.arange(1, m + 1)\n",
    "pValDf.head()"
   ],
   "metadata": {
    "collapsed": false,
    "ExecuteTime": {
     "end_time": "2023-06-13T19:33:33.111126626Z",
     "start_time": "2023-06-13T19:33:33.102193104Z"
    }
   }
  },
  {
   "cell_type": "code",
   "execution_count": 30,
   "outputs": [
    {
     "data": {
      "text/plain": "         pVal  rank       fdr\nSP3    0.0126     1  0.000633\nATF2   0.0828     2  0.001266\nJUN    0.1071     3  0.001899\nESR1   0.1093     4  0.002532\nMYB    0.1188     5  0.003165\nRELA   0.1453     6  0.003797\nATF4   0.1898     7  0.004430\nNFKB1  0.2016     8  0.005063\nMAML1  0.2104     9  0.005696\nSTAT3  0.2558    10  0.006329",
      "text/html": "<div>\n<style scoped>\n    .dataframe tbody tr th:only-of-type {\n        vertical-align: middle;\n    }\n\n    .dataframe tbody tr th {\n        vertical-align: top;\n    }\n\n    .dataframe thead th {\n        text-align: right;\n    }\n</style>\n<table border=\"1\" class=\"dataframe\">\n  <thead>\n    <tr style=\"text-align: right;\">\n      <th></th>\n      <th>pVal</th>\n      <th>rank</th>\n      <th>fdr</th>\n    </tr>\n  </thead>\n  <tbody>\n    <tr>\n      <th>SP3</th>\n      <td>0.0126</td>\n      <td>1</td>\n      <td>0.000633</td>\n    </tr>\n    <tr>\n      <th>ATF2</th>\n      <td>0.0828</td>\n      <td>2</td>\n      <td>0.001266</td>\n    </tr>\n    <tr>\n      <th>JUN</th>\n      <td>0.1071</td>\n      <td>3</td>\n      <td>0.001899</td>\n    </tr>\n    <tr>\n      <th>ESR1</th>\n      <td>0.1093</td>\n      <td>4</td>\n      <td>0.002532</td>\n    </tr>\n    <tr>\n      <th>MYB</th>\n      <td>0.1188</td>\n      <td>5</td>\n      <td>0.003165</td>\n    </tr>\n    <tr>\n      <th>RELA</th>\n      <td>0.1453</td>\n      <td>6</td>\n      <td>0.003797</td>\n    </tr>\n    <tr>\n      <th>ATF4</th>\n      <td>0.1898</td>\n      <td>7</td>\n      <td>0.004430</td>\n    </tr>\n    <tr>\n      <th>NFKB1</th>\n      <td>0.2016</td>\n      <td>8</td>\n      <td>0.005063</td>\n    </tr>\n    <tr>\n      <th>MAML1</th>\n      <td>0.2104</td>\n      <td>9</td>\n      <td>0.005696</td>\n    </tr>\n    <tr>\n      <th>STAT3</th>\n      <td>0.2558</td>\n      <td>10</td>\n      <td>0.006329</td>\n    </tr>\n  </tbody>\n</table>\n</div>"
     },
     "execution_count": 30,
     "metadata": {},
     "output_type": "execute_result"
    }
   ],
   "source": [
    "Q = 0.05\n",
    "\n",
    "pValDf['fdr'] = (pValDf['rank'] / m) * Q\n",
    "pValDf.head(10)"
   ],
   "metadata": {
    "collapsed": false,
    "ExecuteTime": {
     "end_time": "2023-06-13T19:33:33.129130696Z",
     "start_time": "2023-06-13T19:33:33.123258610Z"
    }
   }
  },
  {
   "cell_type": "code",
   "execution_count": 31,
   "outputs": [],
   "source": [
    "pValDf.to_csv('../output/pValFdr.tsv', sep='\\t')"
   ],
   "metadata": {
    "collapsed": false,
    "ExecuteTime": {
     "end_time": "2023-06-13T19:33:33.147960100Z",
     "start_time": "2023-06-13T19:33:33.129731937Z"
    }
   }
  }
 ],
 "metadata": {
  "kernelspec": {
   "display_name": "Python 3",
   "language": "python",
   "name": "python3"
  },
  "language_info": {
   "codemirror_mode": {
    "name": "ipython",
    "version": 3
   },
   "file_extension": ".py",
   "mimetype": "text/x-python",
   "name": "python",
   "nbconvert_exporter": "python",
   "pygments_lexer": "ipython3",
   "version": "3.10.8"
  }
 },
 "nbformat": 4,
 "nbformat_minor": 0
}
