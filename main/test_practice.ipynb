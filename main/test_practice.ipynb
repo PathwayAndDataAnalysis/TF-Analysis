{
 "cells": [
  {
   "cell_type": "code",
   "execution_count": 1,
   "metadata": {
    "collapsed": true,
    "ExecuteTime": {
     "start_time": "2023-04-18T18:23:39.442556Z",
     "end_time": "2023-04-18T18:23:40.221586Z"
    }
   },
   "outputs": [],
   "source": [
    "import numpy as np"
   ]
  },
  {
   "cell_type": "code",
   "execution_count": 56,
   "outputs": [
    {
     "name": "stdout",
     "output_type": "stream",
     "text": [
      "[4 5 1 9 9]\n",
      "[16 15 19 11 11]\n",
      "cumSum\n",
      "[ 4  9 10 19 28]\n",
      "[72 56 41 22 11] \n",
      "\n",
      "p_view  [4 5] [19]\n",
      "28\n",
      "n_view  [16 15] [1]\n",
      "32\n",
      "Min:  28\n",
      "p_view  [4 5 1] [11]\n",
      "21\n",
      "n_view  [16 15 19] [9]\n",
      "59\n",
      "Min:  21\n"
     ]
    }
   ],
   "source": [
    "random_array = np.random.randint(low=0, high=20, size=5)\n",
    "negative_array = 20 - random_array\n",
    "# random_array = np.array([8,1,9,4])\n",
    "# negative_array = 10 - random_array\n",
    "print(random_array)\n",
    "print(negative_array)\n",
    "\n",
    "print(\"cumSum\")\n",
    "random_array_cumsum = random_array.cumsum()\n",
    "print(random_array_cumsum)\n",
    "negative_array_cumsum = negative_array[::-1].cumsum()[::-1]\n",
    "print(negative_array_cumsum, \"\\n\")\n",
    "\n",
    "tups = [(2, 1), (3, 1)]\n",
    "\n",
    "for tup in tups:\n",
    "    p_view = sum(random_array[:tup[0]]) + sum(negative_array[tup[0]:tup[0] + tup[1]])\n",
    "    print(\"p_view \", random_array[:tup[0]], negative_array[tup[0]:tup[0] + tup[1]])\n",
    "    print(p_view)\n",
    "    n_view = sum(negative_array[:tup[0]]) + sum(random_array[tup[0]:tup[0] + tup[1]])\n",
    "    print(\"n_view \", negative_array[:tup[0]], random_array[tup[0]:tup[0] + tup[1]])\n",
    "    print(n_view)\n",
    "    print(\"Min: \", min(p_view, n_view))\n"
   ],
   "metadata": {
    "collapsed": false,
    "ExecuteTime": {
     "start_time": "2023-04-18T18:44:20.029164Z",
     "end_time": "2023-04-18T18:44:20.040991Z"
    }
   }
  },
  {
   "cell_type": "code",
   "execution_count": 5,
   "outputs": [
    {
     "name": "stdout",
     "output_type": "stream",
     "text": [
      "[ 1  8  9 14 20]\n"
     ]
    }
   ],
   "source": [],
   "metadata": {
    "collapsed": false,
    "ExecuteTime": {
     "start_time": "2023-04-18T18:24:44.643403Z",
     "end_time": "2023-04-18T18:24:44.645216Z"
    }
   }
  }
 ],
 "metadata": {
  "kernelspec": {
   "display_name": "Python 3",
   "language": "python",
   "name": "python3"
  },
  "language_info": {
   "codemirror_mode": {
    "name": "ipython",
    "version": 2
   },
   "file_extension": ".py",
   "mimetype": "text/x-python",
   "name": "python",
   "nbconvert_exporter": "python",
   "pygments_lexer": "ipython2",
   "version": "2.7.6"
  }
 },
 "nbformat": 4,
 "nbformat_minor": 0
}
