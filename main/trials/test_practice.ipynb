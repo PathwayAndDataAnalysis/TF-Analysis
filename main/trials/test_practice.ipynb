{
 "cells": [
  {
   "cell_type": "code",
   "execution_count": 1,
   "metadata": {
    "collapsed": true,
    "ExecuteTime": {
     "start_time": "2023-04-25T20:55:17.305291Z",
     "end_time": "2023-04-25T20:55:18.198492Z"
    }
   },
   "outputs": [],
   "source": [
    "import numpy as np"
   ]
  },
  {
   "cell_type": "code",
   "execution_count": 28,
   "outputs": [
    {
     "name": "stdout",
     "output_type": "stream",
     "text": [
      "Positive numbers:  [ 7  5 11 14  9  8  1  6 13 15]\n",
      "Negative numbers:  [13 15  9  6 11 12 19 14  7  5]\n",
      "Cumulative sum of positive numbers:  [ 7 12 23 37 46 54 55 61 74 89]\n",
      "Cumulative sum of negative numbers:  [ 13  28  37  43  54  66  85  99 106 111]\n",
      "Minimum cumulative sum:  [ 7 12 23 37 46 54 55 61 74 89]\n",
      "Choices:  [8 9 9 3 5 5 5 7 6 5]\n",
      "cs_ranks [61, 74, 74, 23, 46, 46, 46, 55, 54, 46]\n",
      "ranks    [61, 74, 74, 23, 46, 46, 46, 55, 54, 46]\n",
      "b_ranks  [61, 74, 74, 23, 46, 46, 46, 55, 54, 46]\n"
     ]
    }
   ],
   "source": [
    "pos = np.random.choice(20, 10, replace=False)\n",
    "rev = 20 - pos\n",
    "\n",
    "print(\"Positive numbers: \", pos)\n",
    "print(\"Negative numbers: \", rev)\n",
    "\n",
    "cs_pos = np.cumsum(pos)\n",
    "cs_rev = np.cumsum(rev)\n",
    "print(\"Cumulative sum of positive numbers: \", cs_pos)\n",
    "print(\"Cumulative sum of negative numbers: \", cs_rev)\n",
    "\n",
    "min_cs = np.minimum(cs_pos, cs_rev)\n",
    "print(\"Minimum cumulative sum: \", min_cs)\n",
    "\n",
    "choices = np.random.randint(3, 10, 10)\n",
    "print(\"Choices: \", choices)\n",
    "\n",
    "cs_ranks = []\n",
    "ranks = []\n",
    "b_ranks = []\n",
    "for i in choices:\n",
    "    rank = min(cs_pos[i - 1], cs_rev[i - 1])\n",
    "    cs_ranks.append(rank)\n",
    "\n",
    "    # Normal way\n",
    "    rank = min(\n",
    "        sum(pos[:i]),\n",
    "        sum(rev[:i])\n",
    "    )\n",
    "    ranks.append(rank)\n",
    "\n",
    "    # Brilliant way\n",
    "    rank = min_cs[i - 1]\n",
    "    b_ranks.append(rank)\n",
    "\n",
    "print(\"cs_ranks\", cs_ranks)\n",
    "print(\"ranks   \", ranks)\n",
    "print(\"b_ranks \", b_ranks)\n"
   ],
   "metadata": {
    "collapsed": false,
    "ExecuteTime": {
     "start_time": "2023-04-25T21:05:56.868969Z",
     "end_time": "2023-04-25T21:05:56.871721Z"
    }
   }
  },
  {
   "cell_type": "code",
   "execution_count": 4,
   "outputs": [
    {
     "name": "stdout",
     "output_type": "stream",
     "text": [
      "Loop took 0.27842108299955726 seconds\n",
      "Time taken:  2.9773218340124004\n"
     ]
    }
   ],
   "source": [
    "import sys\n",
    "from timeit import default_timer as timer\n",
    "\n",
    "import numpy as np\n",
    "import pandas as pd\n",
    "\n",
    "\n",
    "def main(cp_file: str, de_file: str, iters: int):\n",
    "    \"\"\"\n",
    "    :param cp_file: File path of causal-priors file\n",
    "    :param de_file: File path of differential-exp file\n",
    "    :param iters: Number of iterations\n",
    "    :return:\n",
    "    \"\"\"\n",
    "    if cp_file is None or de_file is None:\n",
    "        print('Please provide causal-priors and differential-exp file path')\n",
    "        sys.exit(1)\n",
    "\n",
    "    if not isinstance(cp_file, str) or not isinstance(de_file, str):\n",
    "        print('Please provide causal-priors and differential-exp file path as string')\n",
    "        sys.exit(1)\n",
    "\n",
    "    try:\n",
    "        cp_df = pd.read_csv(cp_file, sep='\\t', header=None)\n",
    "        cp_df.columns = ['Symbols', 'action', 'targetSymbol', 'reference', 'residual']\n",
    "        cp_df = cp_df.drop(['reference', 'residual'], axis=1)\n",
    "        cp_df = cp_df[cp_df['action'].isin(['upregulates-expression', 'downregulates-expression'])]\n",
    "        cp_df = cp_df.reset_index(drop=True)\n",
    "\n",
    "        de_df = pd.read_csv(de_file, sep='\\t')\n",
    "\n",
    "        # Create a new column named updown based on positive\n",
    "        # and negative values of SignedP column of de_df dataframe\n",
    "        de_df['updown'] = np.where(de_df['SignedP'] > 0, '1', '-1')\n",
    "\n",
    "        # Sort SignedP column in ascending order if updown column is 1\n",
    "        # and sort absolute values of SignedP column in ascending order if updown column is -1\n",
    "        de_df = de_df.sort_values(by=['updown', 'SignedP'], ascending=[False, True])\n",
    "\n",
    "        # Remove rows of cp_df dataframe if targetSymbol is not present in Symbols column of rank_df dataframe\n",
    "        cp_df = cp_df[cp_df['targetSymbol'].isin(de_df['Symbols'])]\n",
    "        # Reset index\n",
    "        cp_df = cp_df.reset_index(drop=True)\n",
    "\n",
    "        # Find the max rank\n",
    "        max_rank = len(de_df) - 1\n",
    "        de_df['rank'] = np.arange(max_rank + 1)\n",
    "        de_df['reverse_rank'] = max_rank - de_df['rank']\n",
    "\n",
    "        # Represent upregulates-expression as 1 and downregulates-expression as -1\n",
    "        cp_df['isUp'] = np.where(cp_df['action'] == 'upregulates-expression', 1, -1)\n",
    "        cp_df.drop(['action'], axis=1, inplace=True)\n",
    "\n",
    "        # Find the rank and reverse rank of targetSymbols\n",
    "        cp_df['rank'] = cp_df['targetSymbol'].apply(lambda x: de_df[de_df['Symbols'] == x]['rank'].values[0])\n",
    "        cp_df['revRank'] = max_rank - cp_df['rank']\n",
    "\n",
    "        # Calculate the actual rank sum of each Symbol for positive and negative ranks\n",
    "        rank_sum_df = cp_df.groupby('Symbols').apply(\n",
    "            lambda x: x[x['isUp'] == 1]['rank'].sum() + x[x['isUp'] == -1][\n",
    "                'revRank'].sum()).reset_index(name='posRS')\n",
    "        rank_sum_df['negRS'] = cp_df.groupby('Symbols').apply(\n",
    "            lambda x: x[x['isUp'] == 1]['revRank'].sum() + x[x['isUp'] == -1][\n",
    "                'rank'].sum()).reset_index(name='negRS')['negRS']\n",
    "\n",
    "        # Chose value between column posRS and negRS and also find column choosed and store it in a new column\n",
    "        rank_sum_df['RS'] = np.where(rank_sum_df['posRS'] < rank_sum_df['negRS'], rank_sum_df['posRS'],\n",
    "                                     rank_sum_df['negRS'])\n",
    "        rank_sum_df['whichRS'] = np.where(rank_sum_df['posRS'] < rank_sum_df['negRS'], 'posRS', 'negRS')\n",
    "\n",
    "        # Create a new dataframe with key: Symbols and value: List of 1's and -1's\n",
    "        output_df = cp_df.groupby('Symbols')['isUp'].apply(list).reset_index(name='upDownList')\n",
    "        # Count the number of 1's and -1's in upDownList column and store it in a new column\n",
    "        output_df['upDownCount'] = output_df['upDownList'].apply(lambda x: len(x))\n",
    "        # Remove rows from output_df dataframe if upDownCount is less than 3\n",
    "        output_df = output_df[output_df['upDownCount'] >= 3]\n",
    "\n",
    "        # Find column RS, whichRS from rank_sum_df and merge it with output_df dataframe\n",
    "        output_df = output_df.merge(rank_sum_df[['Symbols', 'RS', 'whichRS']], on='Symbols', how='left')\n",
    "\n",
    "        # Find maximum number of targets for a Symbol\n",
    "        max_target = np.max(output_df['upDownCount'])\n",
    "\n",
    "        output_df['rankLessThanActual'] = 0\n",
    "        uniqueUpDowns = output_df['upDownCount'].unique()\n",
    "\n",
    "        # Initialize the array to store results\n",
    "        result = np.zeros((len(uniqueUpDowns), iters))\n",
    "\n",
    "        loop_start = timer()\n",
    "        for i in range(iters):\n",
    "            # Draw a random number from 0 to max_rank+1\n",
    "            drawn_list = np.random.choice(max_rank + 1, max_target, replace=False)\n",
    "            reverse_drawn_list = max_rank - drawn_list\n",
    "            min_rank_sum = np.minimum(np.cumsum(drawn_list), np.cumsum(reverse_drawn_list))\n",
    "            result[:, i] = [min_rank_sum[x - 1] for x in uniqueUpDowns]\n",
    "\n",
    "        loop_end = timer()\n",
    "        print(f'Loop took {loop_end - loop_start} seconds')\n",
    "\n",
    "        # Merge all columns of results_array into a list of values\n",
    "        result = pd.DataFrame(result).apply(lambda x: x.values.tolist(), axis=1)\n",
    "        df_result = pd.concat([pd.DataFrame(uniqueUpDowns), result], axis=1)\n",
    "        df_result.columns = ['totalCount', 'rank_sum_list']\n",
    "\n",
    "        # Merge output_df and df_result dataframe\n",
    "        output_df['RSList'] = output_df['upDownCount'].apply(\n",
    "            lambda x: df_result[df_result['totalCount'] == x]['rank_sum_list'].values[0])\n",
    "\n",
    "        # Count the number of times RS is less than RSList\n",
    "        output_df['rankLessThanActual'] = output_df.apply(lambda x: np.sum(np.array(x['RSList']) < x['RS']), axis=1)\n",
    "        output_df['rankLessThanActual'] = 1 + output_df['rankLessThanActual']\n",
    "        output_df.drop(['RSList'], axis=1, inplace=True)\n",
    "\n",
    "        # Calculate the p-value\n",
    "        output_df['pValue'] = output_df['rankLessThanActual'] / iters\n",
    "\n",
    "        # Save the output dataframe to a file\n",
    "        output_df.to_csv('../output/ultimate_output.tsv', sep='\\t', index=False)\n",
    "\n",
    "    except FileNotFoundError:\n",
    "        print('File not found: ', cp_file)\n",
    "        sys.exit(1)\n",
    "\n",
    "    except Exception as e:\n",
    "        print(e)\n",
    "        sys.exit(1)\n",
    "\n",
    "\n",
    "if __name__ == '__main__':\n",
    "    priors_file = '../data/causal-priors.txt'\n",
    "    diff_file = '../data/differential-exp.tsv'\n",
    "    # diff_file = '../data/rslp_vs_lum.tsv'\n",
    "\n",
    "    start = timer()\n",
    "    main(priors_file, diff_file, iters=5_000)\n",
    "    end = timer()\n",
    "    print(\"Time taken: \", end - start)\n"
   ],
   "metadata": {
    "collapsed": false,
    "ExecuteTime": {
     "start_time": "2023-04-27T11:10:03.481614Z",
     "end_time": "2023-04-27T11:10:06.463547Z"
    }
   }
  },
  {
   "cell_type": "code",
   "execution_count": 77,
   "outputs": [
    {
     "data": {
      "text/plain": "<Figure size 640x480 with 1 Axes>",
      "image/png": "[encoded data removed]"
     },
     "metadata": {},
     "output_type": "display_data"
    }
   ],
   "source": [
    "import matplotlib.pyplot as plt\n",
    "\n",
    "df = pd.read_csv('../output/ultimate_output.tsv', sep='\\t')\n",
    "\n",
    "pValues = df['pValue']\n",
    "\n",
    "# Sort p-values in ascending order\n",
    "pValues = np.sort(pValues)\n",
    "\n",
    "# Plot p-value distribution\n",
    "plt.plot(pValues)\n",
    "plt.xlabel('p-value')\n",
    "plt.ylabel('Frequency')\n",
    "plt.title('p-value distribution')\n",
    "plt.grid(True)\n",
    "plt.show()\n"
   ],
   "metadata": {
    "collapsed": false,
    "ExecuteTime": {
     "start_time": "2023-04-26T22:35:55.438252Z",
     "end_time": "2023-04-26T22:35:55.537889Z"
    }
   }
  },
  {
   "cell_type": "code",
   "execution_count": 4,
   "outputs": [
    {
     "name": "stdout",
     "output_type": "stream",
     "text": [
      "[1 2 3 4 5]\n"
     ]
    }
   ],
   "source": [
    "import numpy as np\n",
    "\n",
    "a = [1,2,3]\n",
    "b = [4,5]\n",
    "\n",
    "c = np.concatenate((a,b))\n",
    "\n",
    "print(c)"
   ],
   "metadata": {
    "collapsed": false,
    "ExecuteTime": {
     "end_time": "2023-05-07T20:09:58.071577Z",
     "start_time": "2023-05-07T20:09:58.064599Z"
    }
   }
  },
  {
   "cell_type": "code",
   "execution_count": 2,
   "outputs": [
    {
     "data": {
      "text/plain": "array([0.17208747, 0.02942356, 0.68779811, 0.19981303, 0.94164931,\n       0.62411261, 0.38648211, 0.85975074, 0.05945706, 0.37306923,\n       0.93838873, 0.7544772 , 0.50671711, 0.74196987, 0.21939959,\n       0.24348819, 0.86464994, 0.59082455, 0.27045048, 0.11027186,\n       0.16683168, 0.31762014, 0.72198751, 0.81169965, 0.5252285 ,\n       0.22590772, 0.96454932, 0.58380668, 0.18808184, 0.45426328,\n       0.92075774, 0.26146417, 0.19603822, 0.30761814, 0.8084049 ,\n       0.40080963, 0.43673722, 0.92346999, 0.84942175, 0.94302334,\n       0.63124892, 0.8687741 , 0.01137181, 0.11680462, 0.77050416,\n       0.1513501 , 0.72437899, 0.13662179, 0.82193443, 0.74557943,\n       0.23746772, 0.2580905 , 0.99927806, 0.69117257, 0.46788413,\n       0.79813545, 0.89809763, 0.61029341, 0.39439079, 0.55600967,\n       0.2103519 , 0.751231  , 0.85795062, 0.10025538, 0.4131031 ,\n       0.61935464, 0.6314928 , 0.70459173, 0.7323075 , 0.92606709,\n       0.4387646 , 0.90012647, 0.24175518, 0.63601269, 0.64629201,\n       0.72091707, 0.68382791, 0.83206468, 0.0706643 , 0.30492471,\n       0.47002012, 0.6325618 , 0.49351995, 0.53323764, 0.66260271,\n       0.79069042, 0.29917328, 0.17509736, 0.89971441, 0.42321256,\n       0.57564608, 0.0726612 , 0.2954669 , 0.58099318, 0.11910196,\n       0.05892901, 0.76227898, 0.7114042 , 0.8929725 , 0.1930517 ])"
     },
     "execution_count": 2,
     "metadata": {},
     "output_type": "execute_result"
    }
   ],
   "source": [
    "# Generate 10000 x and y random coordinates\\\n",
    "import numpy as np\n",
    "x = np.random.rand(100)\n",
    "y = np.random.rand(100)\n",
    "\n",
    "x"
   ],
   "metadata": {
    "collapsed": false,
    "ExecuteTime": {
     "end_time": "2023-06-27T18:11:32.264789508Z",
     "start_time": "2023-06-27T18:11:32.187292579Z"
    }
   }
  },
  {
   "cell_type": "code",
   "execution_count": null,
   "outputs": [],
   "source": [],
   "metadata": {
    "collapsed": false
   }
  }
 ],
 "metadata": {
  "kernelspec": {
   "display_name": "Python 3",
   "language": "python",
   "name": "python3"
  },
  "language_info": {
   "codemirror_mode": {
    "name": "ipython",
    "version": 2
   },
   "file_extension": ".py",
   "mimetype": "text/x-python",
   "name": "python",
   "nbconvert_exporter": "python",
   "pygments_lexer": "ipython2",
   "version": "2.7.6"
  }
 },
 "nbformat": 4,
 "nbformat_minor": 0
}
